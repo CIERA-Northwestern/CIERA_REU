{
 "cells": [
  {
   "cell_type": "markdown",
   "metadata": {},
   "source": [
    "# Example Analysis with Zooniverse Milky Way Project Data"
   ]
  },
  {
   "cell_type": "markdown",
   "metadata": {},
   "source": [
    "[![alt text][2]][1]\n",
    "\n",
    "  [1]: http://apod.nasa.gov/apod/ap150131.html\n",
    "  [2]: http://apod.nasa.gov/apod/image/1501/sig15-02spitzerW33.jpg (Milky Way Project Bubbles)"
   ]
  },
  {
   "cell_type": "markdown",
   "metadata": {},
   "source": [
    "# Step 1. Play with Plots\n",
    "## Goal: Learn how to make an x, y scatter plot using matplotlib.pyplot, and fit a curve to the data"
   ]
  },
  {
   "cell_type": "markdown",
   "metadata": {},
   "source": [
    "### Part A. Plot your Data"
   ]
  },
  {
   "cell_type": "markdown",
   "metadata": {},
   "source": [
    "#### Let's first look at some of the code you are going to be working with to make a plot."
   ]
  },
  {
   "cell_type": "code",
   "execution_count": null,
   "metadata": {
    "collapsed": false
   },
   "outputs": [],
   "source": [
    "\"\"\"First let's import the libraries that will provide you with some useful functions.\n",
    "We'll start by importing the matplotlib, numpy, and curve_fit libraries\"\"\"\n",
    "%matplotlib inline\n",
    "import matplotlib.pyplot as plt\n",
    "import numpy as np\n",
    "from scipy.optimize import curve_fit\n",
    "\n",
    "#Run the cell (shortcut=shift+enter) to make sure you've imported all of the libraries"
   ]
  },
  {
   "cell_type": "markdown",
   "metadata": {},
   "source": [
    "## Here's the sample data you will be using: \n",
    "* x-values = 1,2,3,4,5,6,7,8\n",
    "* y-values = 2,5,6,9,15,16,20,22\n",
    "* error value = 0.2"
   ]
  },
  {
   "cell_type": "markdown",
   "metadata": {},
   "source": [
    "### Important terms to know:\n",
    "* A VARIABLE stores a piece of data and gives it a name. For example: my_variable = 10. The piece of data is \"10\" and the name assigned to the data is \"my_variable\"\n",
    "* A STRING stores characters and is enclosed by quotation marks. For example: \"Hello World\"\n",
    "* A LIST holds an ordered collection of values. For example: my_list = [1, 2, 3, 4]"
   ]
  },
  {
   "cell_type": "code",
   "execution_count": null,
   "metadata": {
    "collapsed": true
   },
   "outputs": [],
   "source": [
    "\"\"\"Now we are going to create some variables to hold our data\"\"\"\n",
    "# Create a list that contains your x-values\n",
    "# Hint: the values should be seperated by commas and enclosed by brackets\n",
    "x =\n",
    "\n",
    "# Create a list that contains your y-values\n",
    "y =\n",
    "\n",
    "# Create a variable called \"errorVal\" that contains the error value we provided\n",
    "\n",
    "# Now let's graph the data!\n",
    "# Plot the data as red circles (that's what 'ro' refers to) with vertical errorbars\n",
    "# Replace the dashes with your variables, x and y, respectively\n",
    "plt.errorbar(---, ---, yerr = errorVal, fmt='ro', markersize=3)\n",
    "\n",
    "# Set the axes range to be from 0 to 10 for the x-axis and 0 to 25 for the y-axis\n",
    "# Replace x1 with 0, x2 with 10, y1 with 0, and y2 with 25\n",
    "plt.axis([x1, x2, y1, y2])\n",
    "\n",
    "# Label the plot with your own titles, make sure they are strings (enclosed in quotation marks)\n",
    "plt.title(\"This is an example of a string\")\n",
    "plt.xlabel()\n",
    "plt.ylabel()\n",
    "\n",
    "# Hit Run (shortcut=shift+enter) and let's see what happens!"
   ]
  },
  {
   "cell_type": "markdown",
   "metadata": {},
   "source": [
    "### If everything went smoothly there should be a scatterplot above populated with your sample data! "
   ]
  },
  {
   "cell_type": "markdown",
   "metadata": {},
   "source": [
    "### Part B. Now we are going to create a line of best-fit for this data."
   ]
  },
  {
   "cell_type": "markdown",
   "metadata": {},
   "source": [
    "First you'll set up the function (i.e., the model) to fit to your data. The choice of function takes some initial guessing on your part. Is it linear, exponential, sinusoidal, etc.? \n",
    "\n",
    "If you think the plot you made above looks like it could be fit with a straight line, you're right! Here it's pretty clear we should fit the data with a linear function (y = ax + b)"
   ]
  },
  {
   "cell_type": "code",
   "execution_count": null,
   "metadata": {
    "collapsed": true
   },
   "outputs": [],
   "source": [
    "# Define the function (i.e., the model) you'll fit to your data\n",
    "# In this case it's a linear fit, so we'll use y = a x + b\n",
    "def fitFunc(x, a, b):\n",
    "    return a*x + b\n",
    "\n",
    "# In the step above you defined fitFunc to be y = a x + b"
   ]
  },
  {
   "cell_type": "code",
   "execution_count": null,
   "metadata": {
    "collapsed": true
   },
   "outputs": [],
   "source": [
    "\"\"\"Curve_fit is a function that helps you find the best values for 'a' and 'b' \n",
    "that make the best match between your data (x & y) and the fitFunc model.\"\"\"\n",
    "fitCoeffs, fitCovariances = curve_fit(fitFunc, x, y)\n",
    "\n",
    "# Pick out the best-fit for the 'a' value and best-fit for the 'b' value\n",
    "bestfit_a = fitCoeffs[0]\n",
    "bestfit_b = fitCoeffs[1]\n",
    "\n",
    "print 'best-fit value for \\'a\\': ', bestfit_a\n",
    "print 'best-fit value for \\'b\\': ', bestfit_b\n",
    "\n",
    "# Plot your data as red circles with error bars\n",
    "plt.errorbar(x, y, yerr = errorVal, fmt='ro', markersize=3)\n",
    "plt.axis([0, 10, 0, 25])\n",
    "plt.title('X-values versus Y-values')\n",
    "plt.xlabel('X')\n",
    "plt.ylabel('Y')\n",
    "\n",
    "# Define the best-fit line x-values\n",
    "bestfit_x = np.linspace(0,14,50) #an array from 0-13, with 50 linearly spaced points\n",
    "\n",
    "# Define the y-values for the best-fit line, using the fitFunc function you defined above\n",
    "bestfit_y = fitFunc(bestfit_x, bestfit_a, bestfit_b)\n",
    "\n",
    "# Overplot the best-fit line in blue (default color)\n",
    "plt.plot(bestfit_x, bestfit_y)"
   ]
  },
  {
   "cell_type": "markdown",
   "metadata": {},
   "source": [
    "#Step 2: Using data from Bubbles in the Milky Way"
   ]
  },
  {
   "cell_type": "markdown",
   "metadata": {},
   "source": [
    "<img src=\"http://www.spitzer.caltech.edu/uploaded_files/images/0008/5977/sig12-002_Med.jpg\" width = \"800x\">"
   ]
  },
  {
   "cell_type": "markdown",
   "metadata": {},
   "source": [
    "Today you will be looking at “bubbles” in the Milky Way that have been classified thanks to citizen scientists as part of the Zooniverse project. \n",
    "\n",
    "What are these “bubbles”? \n",
    "\n",
    "“They are regions around young massive stars that are so bright that their light has caused a shock wave to affect the cloud around them and blown a bubble which we can see in infrared light. The dark interior is where the shock has already passed by and the bright red/pink ring around it is where the shock is currently impacting the gas cloud. Most of the circular features (bubbles) in these images are produced by hot young stars, as winds and radiation from these young stars sweep up the surrounding gas and dust from which they formed (like a snowplow that compresses the snow in its path.) Sometimes, the swept-up material becomes dense enough for gravity to pull it together to form new stars.” -- Zooniverse Milky Way\n",
    "\n",
    "So what are you going to do?....\n",
    "\n",
    "Let's visualize where the <a href=\"https://www.milkywayproject.org/\">Zooniverse MilkyWay Project</a> Bubbles are located in our <a href=\"http://i.space.com/images/i/000/001/163/i02/050816_milky_way_02.jpg?1292263533\">Milky Way Galaxy</a>. \n",
    "\n",
    "In your data folder is <a href=\"data/MWbubbles.fits\">MWbubbles.fits</a>. This file has the classification results for all the large bubbles discovered through the MilkyWay Project. \n",
    "\n",
    "For each of the 3744 bubbles, MWbubbles.fits provides the Galactic longitude and latitude (see figure below), radius, thickness, eccentricity, position angle, hit rate, dispersion on position, and hierarchy flag. \n",
    "\n",
    "We'll first focus on visualizing the Bubbles' Galactic latitude and longitude. If you choose the MilkyWay project for your research project, you'll learn all about the other values listed above. "
   ]
  },
  {
   "cell_type": "markdown",
   "metadata": {},
   "source": [
    "#### What is Galactic Latitude and Longitude?\n",
    "* On the left is an image showing Earth-based longitude and latitude. \n",
    "* On the right is Galactic longitude and latitude. Same idea, but for our whole Galaxy. "
   ]
  },
  {
   "cell_type": "markdown",
   "metadata": {},
   "source": [
    "<img style=\"float: left\" src=\"http://upload.wikimedia.org/wikipedia/commons/6/62/Latitude_and_Longitude_of_the_Earth.svg\" width = 440> <img style=\"float: right\" src=\"http://burro.case.edu/Academics/Astr306/Coords/galactic.jpg\" width = 440>"
   ]
  },
  {
   "cell_type": "markdown",
   "metadata": {},
   "source": [
    "### Part A. Read in your Data"
   ]
  },
  {
   "cell_type": "code",
   "execution_count": null,
   "metadata": {
    "collapsed": false
   },
   "outputs": [],
   "source": [
    "# Import needed astropy library to read the fits file\n",
    "import astropy.io.fits as fits\n",
    "\n",
    "# Read in *.fits data file\n",
    "Bubbles = fits.open('data/MWbubbles.fits')\n",
    "\n",
    "# Assign Bubbles_data to contain all the data in this table\n",
    "Bubbles_data = Bubbles[1].data\n",
    "\n",
    "# Print the names of each column in this table\n",
    "print(Bubbles[1].columns.names)"
   ]
  },
  {
   "cell_type": "markdown",
   "metadata": {},
   "source": [
    "### Here's a brief description of what each column name refers to:\n",
    "\n",
    "* MWP = Milky Way Project Catalog ID\n",
    "* ONames = Other names given each object in the catalog\n",
    "* GLON = Galactic Longitude\n",
    "* GLAT = Galactic Latitude\n",
    "* iXdiam = Inner X Diameter\n",
    "* iYdiam = Inner Y Diameter\n",
    "* oXdiam = Outer X Diamter\n",
    "* Reff = Effective Radius\n",
    "* Thick = Effective Thickness\n",
    "* Ecc = Eccentricity\n",
    "* PA = Ellipse Position Angle\n",
    "* Hit = Hit Rate (indicates the fraction of people who identified this bubble)\n",
    "* Disp = Dispersion on the position\n",
    "* Flag = Hierarchy flags (indicates whether the bubble is associated with other bubbles)\n",
    "\n",
    "<a href=\"https://vault.it.northwestern.edu/let412/Adler/PythonZoo/articles/MWproject_Simpson_2012_2442.full.pdf\">Science research article with additional information on each of these.</a>\n"
   ]
  },
  {
   "cell_type": "markdown",
   "metadata": {},
   "source": [
    "### To do: In the cell below, change the column name to a different one to see what type of data is in that column. "
   ]
  },
  {
   "cell_type": "code",
   "execution_count": null,
   "metadata": {
    "collapsed": false
   },
   "outputs": [],
   "source": [
    "# Print the first three and last three of the values in this particular column of the data table\n",
    "print Bubbles_data['GLON']\n",
    "\n",
    "# The reason 'print' doesn't print all 3744 values to your screen is because that would be annoying.\n",
    "# Instead 'print' just gives a snapshot (through the first 3 and last 3 values)"
   ]
  },
  {
   "cell_type": "markdown",
   "metadata": {},
   "source": [
    "### Part B. Now let's make a scatter plot of the Bubble's longitude vs latitude using what you learned above"
   ]
  },
  {
   "cell_type": "code",
   "execution_count": null,
   "metadata": {
    "collapsed": false
   },
   "outputs": [],
   "source": [
    "# Fill in the dashes to create arrays for longitude and latitude\n",
    "Longitude = Bubbles_data[---]\n",
    "Latitude = Bubbles_data[---]\n",
    "errorVal = 0.001\n",
    "\n",
    "# Plot the data \n",
    "plt.errorbar(Longitude, Latitude, yerr = errorVal, fmt='ro', markersize=3)\n",
    "\n",
    "# Replace x1,x2,y1,y2 to set the axes range to be from 0 to 400 for the x-axis \n",
    "# and -2 to 2 for the y-axis\n",
    "plt.axis([x1, x2, y1, y2])\n",
    "\n",
    "# Label the plot\n",
    "plt.title(\"\")\n",
    "plt.xlabel(\"\")\n",
    "plt.ylabel(\"\")"
   ]
  },
  {
   "cell_type": "markdown",
   "metadata": {},
   "source": [
    "## What?! Yes, your plot is missing everything in the middle.<br> Why does the Longitude vs. Latitude Plot Look so Funny? "
   ]
  },
  {
   "cell_type": "markdown",
   "metadata": {},
   "source": [
    "### The image below is the area the MilkyWay Project looked at in the disk of our galaxy. \n",
    "* Do you notice how Longitude = 0 is at the Galactic Center? \n",
    "* Do you notice how the numbers increase to the left (0->60) and decrease to the right (360->300)? "
   ]
  },
  {
   "cell_type": "markdown",
   "metadata": {},
   "source": [
    "<img src=\"http://faculty.wcas.northwestern.edu/aaron-geller/myimages/ssc2014-02a1_ExLrg-v2.jpg\" width=1000>"
   ]
  },
  {
   "cell_type": "markdown",
   "metadata": {},
   "source": [
    "### The image below is an artist's representation of the same thing. \n",
    "* Looking from our Sun straight towards the Galactic Center means looking at Longitude = 0. \n",
    "* Looking to the left means looking from 0->60 degrees and looking to the right means looking from 360->300 degrees."
   ]
  },
  {
   "cell_type": "markdown",
   "metadata": {},
   "source": [
    "<img src=\"http://faculty.wcas.northwestern.edu/aaron-geller/myimages/050816_milky_way_02.jpg\" width = \"400x\" >"
   ]
  },
  {
   "cell_type": "markdown",
   "metadata": {},
   "source": [
    "### Part C. Let's fix our Visualization of the Bubbles' Galactic Latitude and Longitude"
   ]
  },
  {
   "cell_type": "markdown",
   "metadata": {},
   "source": [
    "To fix your plot of Latitude versus Longitude, let's flip all the Longitude > 180 values so our longitude values decrease smoothly from left to right on our x-axis. <br>\n",
    "\n",
    "We're going to use the 'where' function. This is a function that will definitely come in handy in your projects."
   ]
  },
  {
   "cell_type": "code",
   "execution_count": null,
   "metadata": {
    "collapsed": false
   },
   "outputs": [],
   "source": [
    "#Create a new array that's the same as the original Longitude array\n",
    "import copy   #import useful library to make a copy of an array\n",
    "Longitude_new = copy.copy(Longitude)\n",
    "\n",
    "#Use the 'where' function to identify all the Longitude values > 180\n",
    "#The 'where' function gives the indices of values that satisfy a given condition\n",
    "#In this case, we get the indices for all Longitude values greater than 180\n",
    "toShift = np.where(Longitude > 180)[0]\n",
    "\n",
    "#Subtract 360 from all chosen \"toShift\" Longitude values\n",
    "Longitude_shifted = Longitude[toShift]-360\n",
    "\n",
    "#Replace the old \"toShift\" Longitude values with these new Longitude values\n",
    "Longitude_new[toShift] = Longitude_shifted"
   ]
  },
  {
   "cell_type": "markdown",
   "metadata": {},
   "source": [
    "Now let's plot these new Bubble Longitude vs Latitude values."
   ]
  },
  {
   "cell_type": "code",
   "execution_count": null,
   "metadata": {
    "collapsed": false
   },
   "outputs": [],
   "source": [
    "#Plot Longitude_new versus Latitude\n",
    "plt.plot(Longitude_new, Latitude,'ro',markersize=3)\n",
    "\n",
    "#Switch the order of the X-axis range, so it goes from 80 to -80.\n",
    "#Keep the y-axis range as -2 to 2.\n",
    "plt.axis([--, --, --, --])\n",
    "\n",
    "#Label plot\n",
    "plt.title('Bubbles Latitude and Longitude')\n",
    "plt.xlabel('Longitude')\n",
    "plt.ylabel('Latitude')"
   ]
  },
  {
   "cell_type": "markdown",
   "metadata": {},
   "source": [
    "### Part D. Now let's fit a line to these data using what you learned from 'play with plots'"
   ]
  },
  {
   "cell_type": "code",
   "execution_count": null,
   "metadata": {
    "collapsed": false
   },
   "outputs": [],
   "source": [
    "# Define the function (i.e., the model) you'll fit to your data\n",
    "# Here we use a linear fit again (but you have to make the function!)\n",
    "#Fill in the dashes with the correct input, based on what you learned from 'play with plots'\n",
    "def fitFunc -- :\n",
    "    return --\n",
    "\n",
    "-- = curve_fit(---, Longitude_new, Latitude)\n",
    "print ' fit coefficients:\\n', --\n",
    "\n",
    "# Plot your data\n",
    "#Fill in the dashes with the correct input\n",
    "plt.errorbar(Longitude_new, ---, yerr = ---, fmt='ro', --- =3)\n",
    "plt.axis([---,---,---,---])\n",
    "plt.title('Bubbles in the Milky Way')\n",
    "plt.xlabel('---')\n",
    "plt.ylabel('Latitude')\n",
    "\n",
    "# Define the x-values for the best-fit line\n",
    "bestfit_x = np.linspace(-100,100,200) #an array from -100 to 100, with 200 linearly spaced points\n",
    "\n",
    "# Define the y-values for the best-fit line, using the fitFunc function you defined above\n",
    "#Fill in the dashes with the correct input, based on what you learned from 'play with plots'\n",
    "bestfit_y = fitFunc(---, --, --)\n",
    "\n",
    "# Overplot the best-fit line in blue (default color)\n",
    "plt.plot(bestfit_x, bestfit_y)"
   ]
  },
  {
   "cell_type": "markdown",
   "metadata": {},
   "source": [
    " ### Question: Does your result make sense?\n",
    " * Why might the best-fit go through Latitude = 0?\n",
    " * What does Latitude = 0 coincide with in our galaxy?"
   ]
  },
  {
   "cell_type": "markdown",
   "metadata": {},
   "source": [
    "## Step 3: Find the Biggest Bubbles in the MilkyWay Project"
   ]
  },
  {
   "cell_type": "code",
   "execution_count": null,
   "metadata": {
    "collapsed": false
   },
   "outputs": [],
   "source": [
    "#Identify the array with the radius for all the bubbles\n",
    "#Note: Reff = effective radius for the MW Project Bubbles\n",
    "radius = Bubbles_data['Reff']\n",
    "print radius"
   ]
  },
  {
   "cell_type": "markdown",
   "metadata": {},
   "source": [
    "### To do: Find the maximum radius value"
   ]
  },
  {
   "cell_type": "markdown",
   "metadata": {},
   "source": [
    "Use the max command to find the maximum value of the 'radius' array. \n",
    "\n",
    "Remember, first insert a new cell below, type in your code, and then 'run the cell' by typing 'shift-enter'."
   ]
  },
  {
   "cell_type": "code",
   "execution_count": null,
   "metadata": {
    "collapsed": false
   },
   "outputs": [],
   "source": [
    "print max(radius)"
   ]
  },
  {
   "cell_type": "markdown",
   "metadata": {},
   "source": [
    "### Identify the longitude/latitude values for the largest bubbles in the catalog"
   ]
  },
  {
   "cell_type": "code",
   "execution_count": null,
   "metadata": {
    "collapsed": false
   },
   "outputs": [],
   "source": [
    "#Use the 'where' function to identify which bubbles have radii greater than 10.\n",
    "#The 'where' function gives the Latitude/Longitude values that satisfy this condiion\n",
    "bigLon = Longitude[np.where(radius > 10)[0]]\n",
    "bigLat = Latitude[np.where(radius > 10)[0]]\n",
    "\n",
    "#The 'len' command is short for 'length', telling you how many sources are in the big_lon array\n",
    "print '# of bubbles with radius > 10: ',len(bigLon)\n",
    "\n",
    "#Print the Latitude/Longitude values for the bubbles of interest\n",
    "#Use a for loop to print the values as a pair for each bubble\n",
    "for i,j in enumerate(bigLon):\n",
    "    print 'Longitude, Latitude: ',bigLon[i],',',bigLat[i]"
   ]
  },
  {
   "cell_type": "markdown",
   "metadata": {},
   "source": [
    "# Congratulations! You've completed Part 2!"
   ]
  },
  {
   "cell_type": "markdown",
   "metadata": {},
   "source": [
    "## Extension Activities:\n",
    "* Look for trends in the number of bubbles for a given latitude. Does your result make sense?<br>\n",
    "* Look for trends in bubble radius, thickness, longitude, and/or latitude. Do your results make sense?"
   ]
  },
  {
   "cell_type": "code",
   "execution_count": null,
   "metadata": {
    "collapsed": true
   },
   "outputs": [],
   "source": []
  }
 ],
 "metadata": {
  "kernelspec": {
   "display_name": "Python 2",
   "language": "python",
   "name": "python2"
  },
  "language_info": {
   "codemirror_mode": {
    "name": "ipython",
    "version": 2
   },
   "file_extension": ".py",
   "mimetype": "text/x-python",
   "name": "python",
   "nbconvert_exporter": "python",
   "pygments_lexer": "ipython2",
   "version": "2.7.13"
  }
 },
 "nbformat": 4,
 "nbformat_minor": 0
}
