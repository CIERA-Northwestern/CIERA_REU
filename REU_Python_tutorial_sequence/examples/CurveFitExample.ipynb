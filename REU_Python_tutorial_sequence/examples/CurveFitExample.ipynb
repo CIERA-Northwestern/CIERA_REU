{
 "cells": [
  {
   "cell_type": "markdown",
   "metadata": {},
   "source": [
    "# Fitting a Model to your Data"
   ]
  },
  {
   "cell_type": "markdown",
   "metadata": {},
   "source": [
    "## Step 1: Plot your Data"
   ]
  },
  {
   "cell_type": "code",
   "execution_count": 45,
   "metadata": {
    "collapsed": false
   },
   "outputs": [
    {
     "data": {
      "text/plain": [
       "<matplotlib.text.Text at 0x10b3a10d0>"
      ]
     },
     "execution_count": 45,
     "metadata": {},
     "output_type": "execute_result"
    },
    {
     "data": {
      "image/png": "[encoded data removed]",
      "text/plain": [
       "<matplotlib.figure.Figure at 0x10aa39090>"
      ]
     },
     "metadata": {},
     "output_type": "display_data"
    }
   ],
   "source": [
    "# Libraries you'll need\n",
    "%matplotlib inline\n",
    "import matplotlib.pyplot as plt\n",
    "\n",
    "# Our Data\n",
    "xvals=[1,2,3,4,6]\n",
    "yvals=[4,6,7,10,13]\n",
    "\n",
    "# Plot the data as red circles\n",
    "# Note: 'ro' = red circles and markersize is the size of the circles\n",
    "plt.plot(xvals, yvals, 'ro', markersize=5)\n",
    "\n",
    "# Set the axes ranges to be xrange = 0 to 7 and yrange = 1 to 14\n",
    "plt.axis([0, 7, 1, 14])\n",
    "\n",
    "# Label the plot\n",
    "plt.title('Xvals versus Yvals')\n",
    "plt.xlabel('Xvals')\n",
    "plt.ylabel('Yvals')"
   ]
  },
  {
   "cell_type": "markdown",
   "metadata": {},
   "source": [
    "## Step 2: Plot your Data and the Uncertainty on your Data"
   ]
  },
  {
   "cell_type": "code",
   "execution_count": 54,
   "metadata": {
    "collapsed": false
   },
   "outputs": [
    {
     "data": {
      "text/plain": [
       "<matplotlib.text.Text at 0x10c17fb10>"
      ]
     },
     "execution_count": 54,
     "metadata": {},
     "output_type": "execute_result"
    },
    {
     "data": {
      "image/png": "[encoded data removed]",
      "text/plain": [
       "<matplotlib.figure.Figure at 0x10b60bcd0>"
      ]
     },
     "metadata": {},
     "output_type": "display_data"
    }
   ],
   "source": [
    "# Libraries you'll need\n",
    "import numpy as np\n",
    "\n",
    "# Uncertainty on your y-values \n",
    "errorVal = 0.5\n",
    "\n",
    "# Plot the data as red circles with vertical errorbars\n",
    "plt.errorbar(xvals, yvals, yerr = errorVal, fmt='ro', markersize=5)\n",
    "\n",
    "# Set the axes ranges to be xrange = 0 to 7 and yrange = 1 to 14\n",
    "plt.axis([0, 7, 1, 14])\n",
    "\n",
    "# Label the plot\n",
    "plt.title('Xvals versus Yvals')\n",
    "plt.xlabel('Xvals')\n",
    "plt.ylabel('Yvals')"
   ]
  },
  {
   "cell_type": "markdown",
   "metadata": {},
   "source": [
    "## Step 3: Define the Function you'll use to Fit to your Data"
   ]
  },
  {
   "cell_type": "markdown",
   "metadata": {},
   "source": [
    "Set up the function that you'll fit to your data. The choice of function takes some initial guessing on your part. Is it linear, exponential, sinusoidal, etc.? \n",
    "\n",
    "Here it's pretty clear we should fit the data with a linear function (y = ax + b)"
   ]
  },
  {
   "cell_type": "code",
   "execution_count": 47,
   "metadata": {
    "collapsed": true
   },
   "outputs": [],
   "source": [
    "# Define the function you'll use to fit to your data\n",
    "# In this case it's a linear fit, so we'll use y = a x + b\n",
    "def fitFunc(x, a, b):\n",
    "    return a*x + b"
   ]
  },
  {
   "cell_type": "markdown",
   "metadata": {},
   "source": [
    "## Step 4: Find the Best-Fit Parameters for your Model fit to your Data"
   ]
  },
  {
   "cell_type": "markdown",
   "metadata": {},
   "source": [
    "To find the best-fit parameters, you'll use a Python function called 'curve_fit'. \n",
    "\n",
    "You input into curve_fit:\n",
    "* Your data (i.e., xvals versus yvals)\n",
    "* Your model for your data (i.e., the model you defined using fitFunc; y = a x + b)\n",
    "\n",
    "Curve_fit then outputs:\n",
    "* the best values for 'a' and 'b' that make the best match between your data (xvals & yvals) and the fitFunc model."
   ]
  },
  {
   "cell_type": "code",
   "execution_count": 48,
   "metadata": {
    "collapsed": true
   },
   "outputs": [],
   "source": [
    "# Libraries you'll need\n",
    "from scipy.optimize import curve_fit"
   ]
  },
  {
   "cell_type": "code",
   "execution_count": 49,
   "metadata": {
    "collapsed": false
   },
   "outputs": [
    {
     "name": "stdout",
     "output_type": "stream",
     "text": [
      "best-fit value for 'a':  1.82432432499\n",
      "best-fit value for 'b':  2.16216215899\n"
     ]
    }
   ],
   "source": [
    "# Find the best-fit parameters fitting the function to your data\n",
    "\n",
    "# In the step above you defined fitFunc to be y = a x + b\n",
    "\n",
    "# Here, curve_fit is a function that helps you find the best values \n",
    "# for 'a' and 'b' that make the best match between \n",
    "# your data (xvals & yvals) and the fitFunc model.\n",
    "\n",
    "fitCoeffs, fitCovariances = curve_fit(fitFunc, xvals, yvals)\n",
    "\n",
    "# Pick out the best-fit for the 'a' value and best-fit for the 'b' value\n",
    "bestfit_a = fitCoeffs[0]\n",
    "bestfit_b = fitCoeffs[1]\n",
    "\n",
    "print 'best-fit value for \\'a\\': ', bestfit_a\n",
    "print 'best-fit value for \\'b\\': ', bestfit_b"
   ]
  },
  {
   "cell_type": "markdown",
   "metadata": {},
   "source": [
    "Note: You may have noticed in the code above 'fitCovariances'. This is the covariance matrix that curve_fit creates. We'll use it in determining the uncertainty on our best fit in Step 6.  "
   ]
  },
  {
   "cell_type": "markdown",
   "metadata": {},
   "source": [
    "## Step 5: Overplot the Best-Fit Curve on your Data"
   ]
  },
  {
   "cell_type": "code",
   "execution_count": 50,
   "metadata": {
    "collapsed": false
   },
   "outputs": [
    {
     "data": {
      "text/plain": [
       "[<matplotlib.lines.Line2D at 0x10b601550>]"
      ]
     },
     "execution_count": 50,
     "metadata": {},
     "output_type": "execute_result"
    },
    {
     "data": {
      "image/png": "[encoded data removed]",
      "text/plain": [
       "<matplotlib.figure.Figure at 0x10b601390>"
      ]
     },
     "metadata": {},
     "output_type": "display_data"
    }
   ],
   "source": [
    "# Plot your data as red circles with error bars\n",
    "plt.errorbar(xvals, yvals, yerr = errorVal, fmt='ro', markersize=5)\n",
    "plt.axis([0, 7, 1, 14])\n",
    "plt.title('Xvals versus Yvals')\n",
    "plt.xlabel('Xvals')\n",
    "plt.ylabel('Yvals')\n",
    "\n",
    "# Define the best-fit line x-values\n",
    "bestfit_xvals = np.linspace(0,14,50) #an array from 0-13, with 50 linearly spaced points\n",
    "\n",
    "# Define the y-values for the best-fit line, using the fitFunc function you defined above\n",
    "bestfit_yvals = fitFunc(bestfit_xvals, bestfit_a, bestfit_b)\n",
    "\n",
    "# Overplot the best-fit line in blue (default color)\n",
    "plt.plot(bestfit_xvals, bestfit_yvals)"
   ]
  },
  {
   "cell_type": "markdown",
   "metadata": {
    "collapsed": true
   },
   "source": [
    "## Step 6: Determine the Uncertainty in the Model Fit"
   ]
  },
  {
   "cell_type": "markdown",
   "metadata": {},
   "source": [
    "curve_fit not only gives you the best-fit values for your model parameters ('a' and 'b'), but also <a href=\"http://en.wikipedia.org/wiki/Covariance_matrix\">'fitCovariances'</a> which tells you what the uncertainty is on those values. \n",
    "\n",
    "In other words, 'fitCovariances' quantifies how well you trust your model's fit to the data. "
   ]
  },
  {
   "cell_type": "code",
   "execution_count": 51,
   "metadata": {
    "collapsed": false
   },
   "outputs": [
    {
     "name": "stdout",
     "output_type": "stream",
     "text": [
      " Covariance matrix:\n",
      "[[ 0.01673971 -0.05356708]\n",
      " [-0.05356708  0.22096421]]\n"
     ]
    }
   ],
   "source": [
    "# First see what fitCovariances looks like\n",
    "print ' Covariance matrix:\\n', fitCovariances"
   ]
  },
  {
   "cell_type": "markdown",
   "metadata": {},
   "source": [
    "What do these numbers mean? The upper-left value (0.0167) and the lower-right value (0.22096) will help give you a sense for the uncertainty on how well your model fits the data.\n",
    "\n",
    "<a href=\"http://en.wikipedia.org/wiki/Standard_deviation\">Sigma or standard deviation</a> are the names we give this 'sense for the uncertainty'. It's a way of quantifying how much we trust our answer."
   ]
  },
  {
   "cell_type": "code",
   "execution_count": 52,
   "metadata": {
    "collapsed": false
   },
   "outputs": [
    {
     "name": "stdout",
     "output_type": "stream",
     "text": [
      "'a' +/- sigma_a:  1.82432432499  +/-  0.129382042257\n",
      "'b' +/- sigma_b:  2.16216215899  +/-  0.470068300127\n"
     ]
    }
   ],
   "source": [
    "# Determine the sigma values for 'a' and 'b'\n",
    "# Note: np.sqrt = taking the square-root of the value\n",
    "\n",
    "# sigma_a = the square-root of the upper-left value in the covariance matrix\n",
    "# sigma_b = the square-root of the lower-right value in the covariance matrix\n",
    "sigma_a = np.sqrt(fitCovariances[0,0])\n",
    "sigma_b = np.sqrt(fitCovariances[1,1])\n",
    "\n",
    "print '\\'a\\' +/- sigma_a: ', bestfit_a,' +/- ',sigma_a\n",
    "print '\\'b\\' +/- sigma_b: ', bestfit_b,' +/- ',sigma_b"
   ]
  },
  {
   "cell_type": "code",
   "execution_count": 53,
   "metadata": {
    "collapsed": false
   },
   "outputs": [
    {
     "data": {
      "text/plain": [
       "[<matplotlib.lines.Line2D at 0x10c2610d0>]"
      ]
     },
     "execution_count": 53,
     "metadata": {},
     "output_type": "execute_result"
    },
    {
     "data": {
      "image/png": "[encoded data removed]",
      "text/plain": [
       "<matplotlib.figure.Figure at 0x10b734450>"
      ]
     },
     "metadata": {},
     "output_type": "display_data"
    }
   ],
   "source": [
    "# Plot your data, the best-fit, and the uncertainty on this best-fit\n",
    "\n",
    "# Plot your data as red circles with error bars\n",
    "plt.errorbar(xvals, yvals, yerr = errorVal, fmt='ro', markersize=5)\n",
    "plt.axis([0, 7, 1, 14])\n",
    "plt.title('Xvals versus Yvals')\n",
    "plt.xlabel('Xvals')\n",
    "plt.ylabel('Yvals')\n",
    "\n",
    "# Overplot the best-fit line in blue (default color)\n",
    "plt.plot(bestfit_xvals, bestfit_yvals)\n",
    "\n",
    "# Define the y-values for the upper best-fit line\n",
    "upper_yvals = fitFunc(bestfit_xvals, bestfit_a + sigma_a, bestfit_b - sigma_b)\n",
    "\n",
    "# Define the y-values for the lower best-fit line\n",
    "lower_yvals = fitFunc(bestfit_xvals, bestfit_a - sigma_a, bestfit_b + sigma_b)\n",
    "\n",
    "# Overplot the upper and lower best-fit lines\n",
    "#(green is the default color for 1st overplot, red is default color for 2nd)\n",
    "plt.plot(bestfit_xvals, upper_yvals)\n",
    "plt.plot(bestfit_xvals, lower_yvals)"
   ]
  },
  {
   "cell_type": "markdown",
   "metadata": {},
   "source": [
    "### The green and the red lines (showing the sigma) give a sense for how uncertain your best-fit is to your data. In this case, you can see that the fit is pretty good."
   ]
  },
  {
   "cell_type": "markdown",
   "metadata": {},
   "source": [
    "For additional information and examples of fitting using different functions, check out this <a href=\"http://nbviewer.ipython.org/url/media.usm.maine.edu/~pauln/ScipyScriptRepo/CurveFitting.ipynb\">tutorial</a> and then this <a href=\"http://www.walkingrandomly.com/images/python/least_squares/Python_nonlinear_least_squares.pdf\">tutorial</a>."
   ]
  }
 ],
 "metadata": {
  "kernelspec": {
   "display_name": "Python 2",
   "language": "python",
   "name": "python2"
  },
  "language_info": {
   "codemirror_mode": {
    "name": "ipython",
    "version": 2
   },
   "file_extension": ".py",
   "mimetype": "text/x-python",
   "name": "python",
   "nbconvert_exporter": "python",
   "pygments_lexer": "ipython2",
   "version": "2.7.10"
  }
 },
 "nbformat": 4,
 "nbformat_minor": 0
}
