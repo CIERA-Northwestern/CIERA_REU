{
 "cells": [
  {
   "cell_type": "markdown",
   "metadata": {},
   "source": [
    "# Fitting Models to Data: Star Cluster Case Study"
   ]
  },
  {
   "cell_type": "markdown",
   "metadata": {},
   "source": [
    "## Finding the Ages of Star Clusters"
   ]
  },
  {
   "cell_type": "markdown",
   "metadata": {},
   "source": [
    "# Step 1, Warm-Up : Where are our Milky Way's Star Clusters?"
   ]
  },
  {
   "cell_type": "markdown",
   "metadata": {},
   "source": [
    "NGC 6535:\n",
    "<img src=\"http://www.nasa.gov/sites/default/files/thumbnails/image/potw1452a.jpg\" width=700>"
   ]
  },
  {
   "cell_type": "markdown",
   "metadata": {},
   "source": [
    "Let's first visualize where Globular Clusters (GCs) and Open Clusters (OCs) are located in our Milky Way Galaxy. <br>\n",
    "\n",
    "<a href=\"http://www.nasa.gov/content/goddard/hubble-sees-an-ancient-globular-cluster/#.VPUlj7PF-5I\">Globular Clusters</a> are gravitationally bound clusters of 100,000s of stars. Because they formed early in the formation of our Milky Way Galaxy, <a href=\"http://starchild.gsfc.nasa.gov/docs/StarChild/questions/question28.html\">Globular Clusters are used to provide a lower limit on the age of our Universe</a>. \n",
    "\n",
    "<a href=\"https://en.wikipedia.org/wiki/Open_cluster\">Open Clusters</a> are contain many fewer stars than globular clusters, usually 100s - 1000s.  They are constantly forming (and evaporating) in our Galaxy, and therefore have a range in ages. \n",
    "\n",
    "Later in this activity you'll determine the ages of a cluster of your choice. \n",
    "\n",
    "First we'll investigate the spatial distribution of these star clusters using the data sets : <a href=\"data/GlobularClusters_clean.tab\">GlobularClusters_clean.tab</a> and <a href=\"data/OpenClusters_clean.tab\">OpenClusters_clean.tab</a>, in your data folder. \n",
    "\n",
    "(The GC table is a cleaned up version of the <a href=\"http://spider.seds.org/spider/MWGC/mwgc.html\">original data table from SEDs</a>, and the OC table is a cleaned up version of <a href=\"https://www.univie.ac.at/webda/tadross.html\">this one</a>.)\n",
    "\n",
    "Both tables contain the <a href=\"http://astro.unl.edu/classaction/animations/coordsmotion/radecdemo.html\">RA and DEC location</a>, distance from our sun and from the galactic center in kilolightyears (kly), <a href=\"http://lcogt.net/spacebook/what-apparent-magnitude\">apparent magnitude</a> in the V-band, and <a href=\"https://lcogt.net/spacebook/using-angles-describe-positions-and-apparent-sizes-objects/\">angular size</a> of the Globular Clusters in our Milky Way galaxy."
   ]
  },
  {
   "cell_type": "markdown",
   "metadata": {},
   "source": [
    "### Import python libraries"
   ]
  },
  {
   "cell_type": "code",
   "execution_count": null,
   "metadata": {
    "collapsed": false
   },
   "outputs": [],
   "source": [
    "#Set up astropy \n",
    "from astropy.table import Table,Column\n",
    "from astropy.coordinates import SkyCoord, Distance\n",
    "from astropy import units as u\n",
    "from astropy.io import ascii\n",
    "\n",
    "#Set up plotting libraries\n",
    "import matplotlib\n",
    "import matplotlib.pyplot as plt\n",
    "%matplotlib inline"
   ]
  },
  {
   "cell_type": "markdown",
   "metadata": {},
   "source": [
    "### Read datafiles use ascii.read"
   ]
  },
  {
   "cell_type": "code",
   "execution_count": null,
   "metadata": {
    "collapsed": false
   },
   "outputs": [],
   "source": [
    "#for the globular cluster data in data/GlobularClusters_clean.tab\n",
    "GCs = ---\n",
    "GCs"
   ]
  },
  {
   "cell_type": "code",
   "execution_count": null,
   "metadata": {
    "collapsed": false
   },
   "outputs": [],
   "source": [
    "#Now the open cluster data in data/OpenClusters_clean.tab\n",
    "OCs = ---\n",
    "OCs"
   ]
  },
  {
   "cell_type": "markdown",
   "metadata": {},
   "source": [
    "### To Do: Make a simple scatter plot of the Globular and Open Clusters' RA and DEC. "
   ]
  },
  {
   "cell_type": "markdown",
   "metadata": {},
   "source": [
    "* For suggestions, check out <a href=\"../examples/CurveFitExample.ipynb\">step 1 of this tutorial</a>.\n",
    "\n",
    "* For additional information/examples, check out <a href=\"http://nbviewer.ipython.org/github/AJRenold/ipython/blob/1.x/examples/notebooks/Part%203%20-%20Plotting%20with%20Matplotlib.ipynb\">this useful reference</a> and <a href=\"http://matplotlib.org/1.4.1/users/pyplot_tutorial.html\">this one</a>.\n",
    "<br> \n",
    "\n",
    "\n",
    "* Remember, first insert a new cell below, type in your code, and then 'run the cell' by clicking 'shift-enter'. \n",
    "* Remember to include at the beginning:<br>\n",
    "%matplotlib inline\n",
    "* be sure to label the plot and include a legend (and give the GCs and Ocs different colors)"
   ]
  },
  {
   "cell_type": "code",
   "execution_count": null,
   "metadata": {
    "collapsed": false
   },
   "outputs": [],
   "source": [
    "\n",
    "plt.scatter(---)\n",
    "plt.scatter(---)\n",
    "plt.legend()\n",
    "plt.xlabel(\"RA\")\n",
    "plt.ylabel(\"Dec\")"
   ]
  },
  {
   "cell_type": "markdown",
   "metadata": {},
   "source": [
    "### Plot a More Useful Projection, and include the Distances and Diameters, of the Star Clusters in our Milky Way Galaxy"
   ]
  },
  {
   "cell_type": "markdown",
   "metadata": {},
   "source": [
    "To locate an object in 3D space we use three numbers. Our data table provides RA, DEC, and distSun. RA and DEC tell us the star clusters' locations on the sky, and distSun tells us their distances from our Sun.  "
   ]
  },
  {
   "cell_type": "markdown",
   "metadata": {},
   "source": [
    "First, it is useful to create an Astropy Coordinate Object:"
   ]
  },
  {
   "cell_type": "code",
   "execution_count": null,
   "metadata": {
    "collapsed": false
   },
   "outputs": [],
   "source": [
    "GC_Coords=SkyCoord(GCs['RA'],GCs['DEC'],unit=(u.degree, u.degree),\\\n",
    "                   distance=Distance(GCs['distSun(kly)']/3.26,u.kpc),frame='icrs')\n",
    "OC_Coords=SkyCoord(OCs['RA'],OCs['DEC'],unit=(u.degree, u.degree),\\\n",
    "                   distance=Distance(OCs['distSun(kly)']/3.26,u.kpc),frame='icrs')"
   ]
  },
  {
   "cell_type": "markdown",
   "metadata": {},
   "source": [
    "Next, plot the star clusters on the sky in the <a href='http://en.wikipedia.org/wiki/Mollweide_projection'>Mollweide projection</a>. Scale the point sizes according to the angular diameter (i.e., size of the star cluster on the sky) and color them according to distance (with the \"cool\" color table, blue is close and pink is far)."
   ]
  },
  {
   "cell_type": "code",
   "execution_count": null,
   "metadata": {
    "collapsed": false
   },
   "outputs": [],
   "source": [
    "#Create your plot\n",
    "plt.figure (figsize=(13,7))\n",
    "plt.subplot(projection=\"mollweide\")\n",
    "\n",
    "plt.grid(True)\n",
    "\n",
    "#GCs\n",
    "plt.scatter(GC_Coords.ra.wrap_at(180.*u.degree).radian,GC_Coords.dec.radian,c=---, s=---, cmap='cool')\n",
    "\n",
    "#OCs\n",
    "plt.scatter(OC_Coords.ra.wrap_at(180.*u.degree).radian,OC_Coords.dec.radian,c=---, s=---, cmap='autumn')\n",
    "\n",
    "#Label your plot\n",
    "plt.title(\"Star Clusters\",fontsize=24)\n",
    "plt.xlabel(\"RA\",fontsize=16)\n",
    "plt.ylabel(\"DEC\",fontsize=16)"
   ]
  },
  {
   "cell_type": "markdown",
   "metadata": {},
   "source": [
    "Questions:\n",
    "\n",
    "- Considering the GCs, why are the biggest points mostly light blue and the pink points all small?\n",
    "    \n",
    "- Why are the are the GCs centered/clumped around a particulat RA/DEC? \n",
    "\n"
   ]
  },
  {
   "cell_type": "markdown",
   "metadata": {},
   "source": [
    "### Plot the Clusters in Galactic Coordinates"
   ]
  },
  {
   "cell_type": "markdown",
   "metadata": {},
   "source": [
    "Here we'll make the same plot but ransformed to Galactic Coordinates (l,b). In Galactic coordinates the center of the Galaxy is at (0.0,0.0)"
   ]
  },
  {
   "cell_type": "code",
   "execution_count": null,
   "metadata": {
    "collapsed": false
   },
   "outputs": [],
   "source": [
    "#Create your plot.  This will be nearly identical to above, except here you want to plot (l,b), rather than (RA,Dec)\n",
    "---\n",
    "---\n",
    "---\n",
    "\n",
    "\n",
    "#GCs\n",
    "plt.scatter(---, cmap='cool')\n",
    "\n",
    "#OCs\n",
    "plt.scatter(---, cmap='autumn')\n",
    "\n",
    "#Label your plot\n",
    "plt.title(\"Star Clusters\",fontsize=24)\n",
    "plt.xlabel(\"l\",fontsize=16)\n",
    "plt.ylabel(\"b\",fontsize=16)"
   ]
  },
  {
   "cell_type": "markdown",
   "metadata": {},
   "source": [
    "Questions:\n",
    "\n",
    "- Why do the OCs all live in roughly the same line in this projection, at b=0?    \n",
    "\n",
    "- Why to the GC and OCs have different spatial distributions in our Galaxy? \n",
    "    \n",
    "### In this projection, you can see why the GCs were important to the historic <a href=\"http://apod.nasa.gov/htmltest/gifcity/cs_why.html\"> \"Great Debate\"</a> between Shapley and Curtis in the early 1900s, about the size of the Universe and our place within it.\n"
   ]
  },
  {
   "cell_type": "markdown",
   "metadata": {},
   "source": [
    "# Step 2: Determining the Age of the Open Star Cluster M67"
   ]
  },
  {
   "cell_type": "markdown",
   "metadata": {},
   "source": [
    "### Part A.  Plot the Observed Color Magnitude Diagram for your Star Cluster"
   ]
  },
  {
   "cell_type": "markdown",
   "metadata": {},
   "source": [
    "Astronomers <a href=\"https://www.e-education.psu.edu/astro801/content/l7_p6.html\">determine star cluster ages by finding the isochrone that best matches the observed star cluster data</a>.\n",
    "\n",
    "We will use the M67 data in your 'data' folder that I grabbed from the internet (but there is an extension activity below where you can grab your own data on a different open cluster).\n",
    "* <a href=\"data/m67.tab\">m67.tab</a>, the observed data\n",
    "* <a href=\"data/m67_isochrones.dat\">m67_isochrones.dat</a>, a table of isochrones."
   ]
  },
  {
   "cell_type": "markdown",
   "metadata": {},
   "source": [
    "### First, let's look at the observations. Read in your Observed Data Table"
   ]
  },
  {
   "cell_type": "code",
   "execution_count": null,
   "metadata": {
    "collapsed": false
   },
   "outputs": [],
   "source": [
    "# Here we read in the M67 Observed Data Table from data/m67.tab using ascii (as above)\n",
    "\n",
    "obs_data = ---\n",
    "obs_data"
   ]
  },
  {
   "cell_type": "markdown",
   "metadata": {},
   "source": [
    "### Plot the Color Magnitude Diagram for your Star Cluster"
   ]
  },
  {
   "cell_type": "code",
   "execution_count": null,
   "metadata": {
    "collapsed": false
   },
   "outputs": [],
   "source": [
    "#Plot B-V color on the x-axis and apparent V magnitude on the y-axis\n",
    "plt.figure (figsize=(---))\n",
    "plt.scatter(---)\n",
    "\n",
    "#Label your Plot\n",
    "plt.title(---,fontsize=24)\n",
    "plt.xlabel(---)\n",
    "plt.ylabel(---)\n",
    "plt.ylim([18,8])\n",
    "\n",
    "#Note: color-magnitude diagrams flip the y-axis \n",
    "# because the larger a star's V-mag, the fainter the star"
   ]
  },
  {
   "cell_type": "markdown",
   "metadata": {},
   "source": [
    "### Part B. Now, let's look at the isochrones. \n"
   ]
  },
  {
   "cell_type": "markdown",
   "metadata": {},
   "source": [
    "### Read in your Isochrones Data Table"
   ]
  },
  {
   "cell_type": "code",
   "execution_count": null,
   "metadata": {
    "collapsed": false
   },
   "outputs": [],
   "source": [
    "#Here we read in the M67 Isochrones Data Table from data/m67_isochrones.dat, using ascii\n",
    "\n",
    "iso_data = ---\n",
    "iso_data\n"
   ]
  },
  {
   "cell_type": "code",
   "execution_count": null,
   "metadata": {
    "collapsed": false
   },
   "outputs": [],
   "source": [
    "# Print the ages of your isochrone models\n",
    "\n",
    "#import needed numpy library\n",
    "import numpy as np\n",
    "\n",
    "# Unique allows you to pick out just the unique values in an array\n",
    "ages = np.unique(---)\n",
    "print ages"
   ]
  },
  {
   "cell_type": "code",
   "execution_count": null,
   "metadata": {
    "collapsed": false
   },
   "outputs": [],
   "source": [
    "#let's pick an age and plot one of these isochrones to see what it looks like\n",
    "plt.figure (figsize=(12,10))\n",
    "\n",
    "# Plot the isochrone model at a chosen age in B,V (like the observed data), use numpy.where\n",
    "inage = np.where(--- == ---)[0]\n",
    "plt.plot(---)\n",
    "\n",
    "#Label the Plot\n",
    "plt.title(\"Isochrone\",fontsize=24)\n",
    "plt.xlabel(\"B-V\")\n",
    "plt.ylabel(\"V\")\n",
    "plt.ylim(4,-1)\n",
    "plt.xlim(0,1.5)\n"
   ]
  },
  {
   "cell_type": "markdown",
   "metadata": {},
   "source": [
    "### Part C. Overplot the Isochrone and Observations on a Color-Magnitude Diagram\n"
   ]
  },
  {
   "cell_type": "markdown",
   "metadata": {},
   "source": [
    "### Convert the Isochrone Data to Match Observed Data Units"
   ]
  },
  {
   "cell_type": "markdown",
   "metadata": {},
   "source": [
    "Notice that the isochrone and observations cover very different \"x\" and \"y\" regions on the plots we made above.  This is because the isochrone modeled outputs Absolute Magnitudes, without interstellar redenning and at a distance of zero.  <br/>\n",
    "\n",
    "Of course in reality there is dust between us and the cluster, so we need to add redenning to the isochrone.  Also the real cluster is far away, so the stars are fainter; we add the \"distance modulus\" to shift the isochrone. <br/>\n",
    "\n",
    "Now, convert your isochrones' absolute magnitudes into apparent magnitudes. \n"
   ]
  },
  {
   "cell_type": "code",
   "execution_count": null,
   "metadata": {
    "collapsed": true
   },
   "outputs": [],
   "source": [
    "#the M67 physical constants are listed here.\n",
    "reddening = 0.01\n",
    "distMod = 9.6\n",
    "\n",
    "#apparent V magnitude\n",
    "iso_V = iso_data['V'] +  distMod\n",
    "\n",
    "#observed B-V color \n",
    "iso_BminV = iso_data['B'] - iso_data['V'] + reddening"
   ]
  },
  {
   "cell_type": "markdown",
   "metadata": {},
   "source": [
    "### Plot the Observed Data and Isochrone Data Together"
   ]
  },
  {
   "cell_type": "code",
   "execution_count": null,
   "metadata": {
    "collapsed": false
   },
   "outputs": [],
   "source": [
    "#Set up the plot\n",
    "plt.figure (figsize=(12,10))\n",
    "\n",
    "# Plot the observed data\n",
    "plt.scatter(---, c='yellow',s=20)\n",
    "\n",
    "# Plot the isochrone models\n",
    "#first set the colors (feel free to choose a different color scheme)\n",
    "cm_subsection = np.linspace(0.0, 1.0, len(ages)) \n",
    "colors = [matplotlib.cm.jet(x) for x in cm_subsection ]\n",
    "\n",
    "for t,c in zip(ages,colors):\n",
    "    inage = ---\n",
    "    plt.plot(---, label=t, color=c)\n",
    "\n",
    "#Label the Plot\n",
    "plt.title(\"Color Magnitude Diagram with Isochrones Overplotted\",fontsize=24)\n",
    "plt.xlabel(\"B-V\")\n",
    "plt.ylabel(\"V\")\n",
    "plt.ylim([18,8])\n",
    "plt.legend()"
   ]
  },
  {
   "cell_type": "markdown",
   "metadata": {},
   "source": [
    "### Which of your isochrone models (which age) looks to be the best-fit with your star cluster's observed data? "
   ]
  },
  {
   "cell_type": "markdown",
   "metadata": {},
   "source": [
    "In general, you could determine the redenning, distance modulus, and cluster age (and metallicity) from fitting an isochrone to the observations.  Let's assume here that we know everything but the cluster age (e.g., from different observations), and we just want to find the cluster age here."
   ]
  },
  {
   "cell_type": "code",
   "execution_count": null,
   "metadata": {
    "collapsed": false
   },
   "outputs": [],
   "source": [
    "#Plot the best fit by eye over the data \n",
    "plt.figure(figsize=(12,10))\n",
    "\n",
    "# Plot the observed data\n",
    "plt.scatter(---)\n",
    "# Plot the isochrone models\n",
    "\n",
    "inage = ---\n",
    "plt.plot(---)\n",
    "\n",
    "#Label the Plot\n",
    "plt.title(\"Color Magnitude Diagram with Isochrone Overplotted\",fontsize=24)\n",
    "plt.xlabel(\"B-V\")\n",
    "plt.ylabel(\"V\")\n",
    "plt.ylim([18,8])"
   ]
  },
  {
   "cell_type": "markdown",
   "metadata": {},
   "source": [
    "This \"chi-by-eye\" may work fairly well, but remember, we already knew the redenning and distance modulus.  And also what about the uncertainties on our age fit by eye?  And what would we do if we wanted to fit isochrones to hundreds of clusters?"
   ]
  },
  {
   "cell_type": "markdown",
   "metadata": {},
   "source": [
    "## Part C. Parameter Estimation: Automating the Fit"
   ]
  },
  {
   "cell_type": "markdown",
   "metadata": {},
   "source": [
    "## In the above, you determined your star cluster's age by Eye. Let's automate the process."
   ]
  },
  {
   "cell_type": "markdown",
   "metadata": {},
   "source": [
    "We will try to find the isochrone that minimizes the distance that all observed points fall from the isochrone line.  Recall for a more usual type of curve fitting to data (e.g., a straight line), we might try to minimize the <a href=\"https://en.wikipedia.org/wiki/Pearson%27s_chi-squared_test\">$\\chi^2$ value</a>.  We'll do something similar here, but for simplicity only take the numerator in that equation (which assumes that the errors on our observations are all the same).\n",
    "\n",
    "First, notice that there are many stars away from the predictions of the isochrone.  Some of these are non-members but others are exotic stars (e.g., \"blue stragglers\", \"yellow giants\" \"sub-subgiants\" -- ask Aaron about these :).  However, none of these non-members or exotic stars are modelled by the isocrones, so we should probably not try to fit to them.  Let's cut out some of these bright stars."
   ]
  },
  {
   "cell_type": "code",
   "execution_count": null,
   "metadata": {
    "collapsed": false
   },
   "outputs": [],
   "source": [
    "#choose some minimum V value to fit to (leave this alone for now, but come back later to refine the fit)\n",
    "minVfit = -100.\n",
    "maxVfit = 100.\n",
    "minBVfit = -100.\n",
    "maxBVfit = 100.\n"
   ]
  },
  {
   "cell_type": "code",
   "execution_count": null,
   "metadata": {
    "collapsed": false
   },
   "outputs": [],
   "source": [
    "print '#log(t/yr) chi^2'\n",
    "    \n",
    "# create and empty list to hold the chi^2 values that we will calculate below\n",
    "chi2 = []\n",
    "\n",
    "#a normalization since differences in B-V are much smaller than in V\n",
    "normV = 10.\n",
    "\n",
    "#loop through all of the ages and calculate a chi^2 value for each\n",
    "for t in ages:\n",
    "#find the isochrone with this log(age/yr) == t\n",
    "    inage = ---\n",
    "    print '%4.2f' % t,\n",
    "#calculate a modified chi^2 value based on the distance of the observation from the isochrone\n",
    "    c2 = 0.\n",
    "#loop through the observed BV and V values to sum up the chi^2\n",
    "    for (BVo, Vo) in zip(---):\n",
    "#if this star is within our V and (B-V) limits (set above) then \n",
    "#  find the distances to the all of the isochrone points at this age\n",
    "        if (Vo > --- and ---):\n",
    "            d2 = [( (BVo - x)**2. + ((Vo - y)/normV)**2.) for (x,y) in ---]\n",
    "            c2 += min(d2)\n",
    "            \n",
    "#append c2 to our chi2 list            \n",
    "    ---.---(---)\n",
    "    print c2"
   ]
  },
  {
   "cell_type": "code",
   "execution_count": null,
   "metadata": {
    "collapsed": false
   },
   "outputs": [],
   "source": [
    "# identify the age at the minimum chi^2 value \n",
    "# numpy.argmin is a function that gives the index of the value at the minimum value of an array.  \n",
    "#    Use that here.\n",
    "pos1 = ---(---)\n",
    "\n",
    "# print the ages at these two different minima values\n",
    "print 'best fit log(age/yr): ',---\n",
    "print 'best fit age [Gyr]: ',10.**---/1.e9\n"
   ]
  },
  {
   "cell_type": "code",
   "execution_count": null,
   "metadata": {
    "collapsed": false
   },
   "outputs": [],
   "source": [
    "# Plot the chi^2 minima vs. age\n",
    "plt.figure (figsize=(10,10))\n",
    "\n",
    "# plot all the chi^2 values\n",
    "plt.---\n",
    "\n",
    "# overplot a line indicating the  chi^2 minimum\n",
    "plt.---\n",
    "\n",
    "#Label the plot\n",
    "plt.xlabel('log(t/yr)')\n",
    "plt.ylabel(r'modified $\\chi^2$') #NOTE: you can use latex syntax to get Greek symbols in plots\n",
    "\n",
    "#set axes limits (if necessary)\n",
    "plt.x---\n",
    "plt.y---"
   ]
  },
  {
   "cell_type": "code",
   "execution_count": null,
   "metadata": {
    "collapsed": false,
    "scrolled": false
   },
   "outputs": [],
   "source": [
    "# Plot the best-fit isochorone over the observed data \n",
    "plt.figure(figsize=(10,12))\n",
    "\n",
    "# Label the plot\n",
    "plt.x---\n",
    "plt.y---\n",
    "\n",
    "# Set the axes limits\n",
    "plt.x---\n",
    "plt.y---\n",
    "\n",
    "# Plot the observed data\n",
    "plt.---\n",
    "\n",
    "# Plot the best-fit isochrone\n",
    "bestfit_iso = ---\n",
    "plt.---\n",
    "\n",
    "# Highlight the region that is included from the fit \n",
    "plt.fill_between([minBVfit,maxBVfit],[minVfit, minVfit], [maxVfit,maxVfit] ,color='gray', alpha=0.3)\n"
   ]
  },
  {
   "cell_type": "markdown",
   "metadata": {},
   "source": [
    "## Google the age of your star cluster. How close is your best-fit to your fit by eye (and to the accepted age in the literature)? \n",
    "\n",
    "#### If you're not satisfied with our automated fit, go back and improve the code so that it works more reliably (for instance, modify the V and BV limits we set above)"
   ]
  },
  {
   "cell_type": "markdown",
   "metadata": {},
   "source": [
    "### Some \"food for thought\" to think about and discuss:\n",
    "\n",
    "- What are the limitations to the approach used above? \n",
    "\n",
    "     \n",
    "- Which fit do you trust more, the \"chi-by-eye\" or our automated fit?\n",
    "\n",
    "\n",
    "- What other information might you want for each star to improve your fit?\n",
    "\n",
    "\n",
    "- How can we improve this automated fit with the data that we have?  Give that a try!\n",
    "\n",
    " \n",
    "\n",
    "### Remember that star clusters form an import rung on the cosmic distance ladder AND are critical tests for our theory of stellar evolution (which underpins just about all of astrophysics).  So we really want to have reliable isochrone fits to observations like these.  <a href=\"http://arxiv.org/abs/1501.01303\"> Some people spend years developing these methods!</a>"
   ]
  },
  {
   "cell_type": "markdown",
   "metadata": {},
   "source": [
    "# Congratulations! You've completed Part 5!"
   ]
  },
  {
   "cell_type": "markdown",
   "metadata": {},
   "source": [
    "## Extension Activity: Download your own Data and fit an isochrone!."
   ]
  },
  {
   "cell_type": "markdown",
   "metadata": {},
   "source": [
    "## How to Download Observed Star Cluster Data"
   ]
  },
  {
   "cell_type": "markdown",
   "metadata": {},
   "source": [
    "Go to http://www.univie.ac.at/webda/navigation.html\n",
    "\n",
    "This site allows you to download data from pretty much any open star cluster in our galaxy that might be of interest to you. For the full list of clusters included in this site, click <a href=\"http://www.univie.ac.at/webda/complete_ad.html\">here</a>. Pick one that interests you. For additional information about each cluster, look it up in <a href=\"http://ned.ipac.caltech.edu/forms/byname.html\">NED (the NASA Extragalactic Database)</a>.\n",
    "\n",
    "- Type the name for any star cluster of your choice (for example, M67) in the box labelled 'Display the Page of the Cluster'. Hit enter.\n",
    "- Make a note of the value for this cluster's ‘Reddening’ and the ‘Distance Modulus’, listed under ‘Basic Parameters’.\n",
    "- Under ‘Query’, click 'selections on data'.\n",
    "    - Note: If it doesn't say UBV at the top, then click on 'UBV' (at the left).\n",
    "- In the 'V' boxes, type 0 in 'Lower' and 20 in 'Upper'. Hit enter.\n",
    "    - A list of stars and their apparent magnitudes should appear.\n",
    "- In your data folder in yourProjectDirectory, open a new text file using emacs.\n",
    "- Copy your star cluster data into this text file. These (and the isochrone data below) are the data you'll use to determine the age of your star cluster.\n",
    "- Explore the site. What other data can you download about each cluster (i.e., positions, other filter magnitudes, etc.)?\n",
    "\n",
    "<a href=\"http://www.univie.ac.at/webda/description.html#base_level\">General information about the history and use of WEBDA</a>."
   ]
  },
  {
   "cell_type": "markdown",
   "metadata": {},
   "source": [
    "## How to Download the Isochrone Model Data"
   ]
  },
  {
   "cell_type": "markdown",
   "metadata": {
    "collapsed": true
   },
   "source": [
    "\n",
    "Next, go to http://stev.oapd.inaf.it/cgi-bin/cmd\n",
    "\n",
    "- Use the default values under “Evolutionary Tracks”.\n",
    "- Make sure the photometric system is appropriate for your data (i.e., if you’re using UBV data, then choose the one that starts with UBV).\n",
    "- Keep the default values for “Dust”,”Extinction”, “Initial Mass Function”\n",
    "- Under Ages, select: Sequence of isochrones of constant metallicity...\n",
    "    - Change Z=0.008 to Z=0.019 (this is the value for solar metallicity)\n",
    "    - Change the age range to log(t/yr) = 8.0 to 10.0  (i.e., ages ranging from 100 million years to 10 billion years)\n",
    "- Keep the default selection for 'Output' on Isochrone Tables\n",
    "- Click submit and download the linked file named ‘outputxxx.dat’\n",
    "- Rename this file to something meaningful and place it in your data folder in yourProjectDirectory.\n",
    "- Look at the table you generated using Emacs. \n",
    "    - Find the rows separating the isochrone of one age from the isochrone of the next age (i.e., log[age/years] = 8 to log[age/years] = 8.5). \n",
    "    - Note how this single file contains the full set of isochrones."
   ]
  },
  {
   "cell_type": "code",
   "execution_count": null,
   "metadata": {
    "collapsed": true
   },
   "outputs": [],
   "source": []
  }
 ],
 "metadata": {
  "kernelspec": {
   "display_name": "Python 2",
   "language": "python",
   "name": "python2"
  },
  "language_info": {
   "codemirror_mode": {
    "name": "ipython",
    "version": 2
   },
   "file_extension": ".py",
   "mimetype": "text/x-python",
   "name": "python",
   "nbconvert_exporter": "python",
   "pygments_lexer": "ipython2",
   "version": "2.7.10"
  }
 },
 "nbformat": 4,
 "nbformat_minor": 0
}
