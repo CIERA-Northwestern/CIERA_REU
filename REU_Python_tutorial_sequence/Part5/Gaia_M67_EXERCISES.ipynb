{
 "cells": [
  {
   "cell_type": "markdown",
   "metadata": {},
   "source": [
    "# Gaia Data for M67\n",
    "\n",
    "*[Gaia](http://sci.esa.int/gaia/) is an [ESA](http://www.esa.int/ESA) satellite aiming to chart a three-dimensional map of our Galaxy, the Milky Way.  On 25 April 2018, Gaia had a data release, [DR2](https://www.cosmos.esa.int/web/gaia/dr2), that contains positions and velocities for over a billion stars.  We will use a subset of these data here, for a specific [open star cluster](https://en.wikipedia.org/wiki/Open_cluster) [M67](https://en.wikipedia.org/wiki/Messier_67)*\n",
    "\n",
    "*This workshop builds off of the tutorial here: http://gea.esac.esa.int/archive-help/tutorials/python_cluster/index.html *\n",
    "\n",
    "\n",
    "*Author: Aaron Geller* <br/> *June 2018*\n"
   ]
  },
  {
   "cell_type": "markdown",
   "metadata": {},
   "source": [
    "*First, we import all the required python modules:*"
   ]
  },
  {
   "cell_type": "code",
   "execution_count": null,
   "metadata": {},
   "outputs": [],
   "source": [
    "import astropy.units as u\n",
    "from astropy.coordinates.sky_coordinate import SkyCoord\n",
    "from astropy.units import Quantity\n",
    "from astroquery.gaia import Gaia\n",
    "import numpy as np\n",
    "from functools import reduce\n",
    "from scipy import stats\n",
    "from astropy.modeling import models, fitting"
   ]
  },
  {
   "cell_type": "code",
   "execution_count": null,
   "metadata": {},
   "outputs": [],
   "source": [
    "%matplotlib inline\n",
    "import matplotlib as mpl\n",
    "import matplotlib.pyplot as plt\n",
    "from matplotlib import gridspec\n",
    "import matplotlib.cm as cm"
   ]
  },
  {
   "cell_type": "code",
   "execution_count": null,
   "metadata": {},
   "outputs": [],
   "source": [
    "# Suppress warnings. Comment this out if you wish to see the warning messages\n",
    "import warnings\n",
    "warnings.filterwarnings('ignore')"
   ]
  },
  {
   "cell_type": "markdown",
   "metadata": {},
   "source": [
    "*Do the following to load and look at the available Gaia table names:*\n",
    "\n",
    "*Note: The main table is gaiadr2.gaia_source, and [here](http://gea.esac.esa.int/archive/documentation/GDR2/Gaia_archive/chap_datamodel/sec_dm_main_tables/ssec_dm_gaia_source.html) is the description of the columns*"
   ]
  },
  {
   "cell_type": "code",
   "execution_count": null,
   "metadata": {
    "scrolled": true
   },
   "outputs": [],
   "source": [
    "tables = Gaia.load_tables(only_names=True)\n",
    "for table in (tables):\n",
    "    print (table.get_qualified_name())"
   ]
  },
  {
   "cell_type": "code",
   "execution_count": null,
   "metadata": {},
   "outputs": [],
   "source": [
    "gaiadr2_table = Gaia.load_table('gaiadr2.gaia_source')\n",
    "for column in (gaiadr2_table.get_columns()):\n",
    "    print(column.get_name())"
   ]
  },
  {
   "cell_type": "markdown",
   "metadata": {},
   "source": [
    "*Next, we retrieve all the available data in the region of interest. *\n",
    "\n",
    "*To do this we perform an asynchronous query (asynchronous rather than synchronous queries should be performed when retrieving more than 2000 rows) centred on the M67 (coordinates: RA = 132.825 deg, +11.8167) with a search radius of 1 degrees*\n",
    "\n",
    "*We'll also require that the proper motion errors are small, and the data is well behaved*\n",
    "\n",
    "*Note: The query to the archive is with ADQL (Astronomical Data Query Language). For a description of ADQL and more examples see the Gaia DR1 ADQL cookbook: https://gaia.ac.uk/data/gaia-data-release-1/adql-cookbook *"
   ]
  },
  {
   "cell_type": "code",
   "execution_count": null,
   "metadata": {},
   "outputs": [],
   "source": [
    "cmd = \"SELECT * FROM gaiadr2.gaia_source \\\n",
    "    WHERE CONTAINS(POINT('ICRS',gaiadr2.gaia_source.ra, gaiadr2.gaia_source.dec),\\\n",
    "    CIRCLE('ICRS', 132.825, 11.8167, 1))=1\\\n",
    "    AND abs(pmra_error)<5 \\\n",
    "    AND abs(pmdec_error)<5 \\\n",
    "    AND pmra IS NOT NULL AND abs(pmra)>0 \\\n",
    "    AND pmdec IS NOT NULL AND abs(pmdec)>0;\"\n",
    "\n",
    "job = Gaia.launch_job_async(cmd, dump_to_file=False) #could save this to a file\n",
    "\n",
    "print (job)"
   ]
  },
  {
   "cell_type": "markdown",
   "metadata": {},
   "source": [
    "*Inspect the output table and number of rows (Note: if we didn't supress the warnings, there would be a lot of them here).*"
   ]
  },
  {
   "cell_type": "code",
   "execution_count": null,
   "metadata": {},
   "outputs": [],
   "source": [
    "r = job.get_results()\n",
    "print(len(r))\n",
    "print(r)"
   ]
  },
  {
   "cell_type": "markdown",
   "metadata": {},
   "source": [
    "*Plot the color-magnitude diagram (CMD), using the \"BP\" and \"RP\" magnitudes*"
   ]
  },
  {
   "cell_type": "code",
   "execution_count": null,
   "metadata": {},
   "outputs": [],
   "source": []
  },
  {
   "cell_type": "markdown",
   "metadata": {},
   "source": [
    "## Identify the cluster members"
   ]
  },
  {
   "cell_type": "markdown",
   "metadata": {},
   "source": [
    "### The first thing we might want to look at is the radial velocities.  \n",
    "\n",
    "*The [radial velocity](https://en.wikipedia.org/wiki/Radial_velocity) is the speed at which an object is moving toward or away from us.  For a star cluster, all the stars will move with a similar radial-velocity, while the field stars will have a much broader distribution*\n"
   ]
  },
  {
   "cell_type": "markdown",
   "metadata": {},
   "source": [
    "*Plot a histogram of the radial velocities (the key from the catalog is \"radial_velocity\") from our M67 Gaia catalog.*"
   ]
  },
  {
   "cell_type": "code",
   "execution_count": null,
   "metadata": {},
   "outputs": [],
   "source": []
  },
  {
   "cell_type": "markdown",
   "metadata": {},
   "source": [
    "*$\\texttt{astropy}$ has some really great fitting features.  See [this documention about modeling](http://docs.astropy.org/en/stable/modeling/).  For the radial velocities, we want to fit two [1D Gaussians](http://docs.astropy.org/en/stable/api/astropy.modeling.functional_models.Gaussian1D.html) to the data, using $\\texttt{astropy}$.  The first Gaussian is for the cluster (that narrow, peaked distribution).  The second is for the field.*\n",
    "\n",
    "*We will do this below.  You will probably want to supply initial guesses for the parameters.  When you have the fit, plot the fit on top of the radial-velocity histogram.*\n"
   ]
  },
  {
   "cell_type": "code",
   "execution_count": null,
   "metadata": {},
   "outputs": [],
   "source": [
    "#fit\n",
    "p_init = models.Gaussian1D(_, _, _) + models.Gaussian1D(_, _, _)\n",
    "fit_p = fitting.LevMarLSQFitter()\n",
    "rvG1D = fit_p(p_init, brv[:-1], hrv)\n",
    "print(rvG1D)\n",
    "\n",
    "#plot\n"
   ]
  },
  {
   "cell_type": "markdown",
   "metadata": {},
   "source": [
    "*Now we can calculate formal membership probabilities with the following formula*\n",
    "\n",
    "$$\n",
    "P\\left(v\\right) = \\frac{F_\\mathrm{cluster}\\left(v\\right)}{F_\\mathrm{cluster}\\left(v\\right) + F_\\mathrm{field}\\left(v\\right)}\n",
    "$$\n",
    "\n",
    "*Use this formula below.  Then plot a histogram of the $P\\left(v\\right)$ distribution. Stars with $P\\left(v\\right) \\sim 1$ are high-probability members, while those with $P\\left(v\\right) \\sim 0$ are non-members.  You will want to pick some cutoff to select the members. Then use $\\texttt{numpy.where}$ to get the indices of these radial-velocity members.  You may also want to plot a CMD to look at them.*"
   ]
  },
  {
   "cell_type": "code",
   "execution_count": null,
   "metadata": {},
   "outputs": [],
   "source": [
    "#membership calculation\n",
    "\n",
    "#plot\n",
    "\n",
    "#where statement\n"
   ]
  },
  {
   "cell_type": "markdown",
   "metadata": {},
   "source": [
    "### Now let's check the parallaxes.\n",
    "\n",
    "*[Parallax](https://en.wikipedia.org/wiki/Parallax) is a displacement of an object, with respect to background objects, when viewed from different positions.  Parallax can be used to measure the distance to an object.  Once again, $\\texttt{astropy}$ has a great utility for this.*\n",
    "\n",
    "*Plot a histogram of the distances.*"
   ]
  },
  {
   "cell_type": "code",
   "execution_count": null,
   "metadata": {
    "scrolled": false
   },
   "outputs": [],
   "source": [
    "dist = (r['parallax']).to(u.parsec, equivalencies=u.parallax())\n",
    "\n",
    "#plot"
   ]
  },
  {
   "cell_type": "markdown",
   "metadata": {},
   "source": [
    "*Now we want to fit the data again, so that we can derive cluster memberships based on distance.  Formally, there is no reason to think the cluster should be a Guassian distribution. (It should be fit with a \"[King model](http://adsabs.harvard.edu/abs/1962AJ.....67..471K)\".)  But let's approximate this by a 1D Gaussian.  Then we can fit the rest of the field with a simple polynomial.*\n",
    "\n",
    "*Perform this fit to the distance, using $\\texttt{astropy}$.  I suggest using a polynomail of degree 6. Plot the fit on top of the histogram of distances.*"
   ]
  },
  {
   "cell_type": "code",
   "execution_count": null,
   "metadata": {},
   "outputs": [],
   "source": [
    "#fit\n",
    "\n",
    "#plot\n"
   ]
  },
  {
   "cell_type": "markdown",
   "metadata": {},
   "source": [
    "*Do another membership calculation, using the same formula written above.  Plot a histogram of your membership probabilities.  Pick some cutoff to define the cluster members, and create another $\\texttt{numpy.where}$ statement to hold the members you find from parallax.*"
   ]
  },
  {
   "cell_type": "code",
   "execution_count": null,
   "metadata": {},
   "outputs": [],
   "source": [
    "#membership calculation\n",
    "\n",
    "#plot\n",
    "\n",
    "\n",
    "#where statement\n",
    "\n"
   ]
  },
  {
   "cell_type": "markdown",
   "metadata": {},
   "source": [
    "### Now let's look at the proper motions.\n",
    "\n",
    "*The [proper motion](https://en.wikipedia.org/wiki/Proper_motion) is the velocity that an objects moves along the plane of the sky (perpedicular to the radial velocity).  Proper motions are usually measured in mas / yr, which can be converted to km/s if you know the distance.*"
   ]
  },
  {
   "cell_type": "markdown",
   "metadata": {},
   "source": [
    "*Let's start by plotting the proper motion in RA (\"pmra\") versus proper motion in DEC (\"pmdec\"). *"
   ]
  },
  {
   "cell_type": "code",
   "execution_count": null,
   "metadata": {},
   "outputs": [],
   "source": []
  },
  {
   "cell_type": "markdown",
   "metadata": {},
   "source": [
    "*Usually we like to show $\\mathrm{RA} \\cos(\\mathrm{Dec})$, because these are coordinates on a sphere.*\n",
    "\n",
    "*Plot this as a 2D histogram (aka heatmap).  I recommend using $\\texttt{pyplot.hist2d}$.  Also make plots of the histograms of each of the proper motion directions. (Hint: you may want to define a method to do this, because you'll need to replot this all again below when you perform the fit.)*"
   ]
  },
  {
   "cell_type": "code",
   "execution_count": null,
   "metadata": {},
   "outputs": [],
   "source": []
  },
  {
   "cell_type": "markdown",
   "metadata": {},
   "source": [
    "*For the proper motions, we will fit two [2D Gaussians](http://docs.astropy.org/en/stable/api/astropy.modeling.functional_models.Gaussian2D.html) to the data, using $\\texttt{astropy}$*\n",
    "\n",
    "*Perform this fit and plot it on top of your 2D histogram, as well as your 1D histograms.*"
   ]
  },
  {
   "cell_type": "code",
   "execution_count": null,
   "metadata": {},
   "outputs": [],
   "source": [
    "#fit\n",
    "\n",
    "\n",
    "#plots\n"
   ]
  },
  {
   "cell_type": "markdown",
   "metadata": {},
   "source": [
    "*Calculate formal membership probabilities, using the same formula as above.  Plot a histogram of these proper-motion membership probabilities. Then write another $\\texttt{numpy.where}$ statement to identify the indices of the proper-motion members.*\n"
   ]
  },
  {
   "cell_type": "code",
   "execution_count": null,
   "metadata": {},
   "outputs": [],
   "source": [
    "#membership probabilities\n",
    "\n",
    "#plot\n",
    "\n",
    "\n",
    "#where statement\n"
   ]
  },
  {
   "cell_type": "markdown",
   "metadata": {},
   "source": [
    "### Now, get a final list of members and plot the CMD\n",
    "\n",
    "*Let's combine all of these different membership lists to get the intersection -- the stars that are members by radial velocity, parallax, and proper motion.  We can do this with $\\texttt{numpy.intersect1d}$ and $\\texttt{reduce}$; see [here](https://docs.scipy.org/doc/numpy-1.14.0/reference/generated/numpy.intersect1d.html).*\n",
    "\n",
    "*After you create this member list, plot the CMD, showing* \n",
    "* *All the stars in the catalog,*\n",
    "* *The stars identified as proper-motion members*\n",
    "* *The stars identified as radial-velocity members*\n",
    "* *The stars identified as members from parallax*\n",
    "* *The final list of members*\n",
    "\n",
    "*I suggest that you make more than one plot, so that you can see the different samples.*\n",
    "\n",
    "*Also, note that, for M67, the radial velocities are only available for the brightest stars.  If a star does not have a radial-velocity it can still be considered a member from the other methods, and, if so, should be included in the final member list.*\n"
   ]
  },
  {
   "cell_type": "code",
   "execution_count": null,
   "metadata": {},
   "outputs": [],
   "source": [
    "#intersection for all members\n",
    "members = reduce(np.intersect1d, (_, _, _))\n",
    "\n",
    "#the plots\n"
   ]
  },
  {
   "cell_type": "markdown",
   "metadata": {},
   "source": [
    "## Pull this together to create a Class\n",
    "\n",
    "*You can find information about Python Classes [here](https://docs.python.org/3/tutorial/classes.html).  In general, a Class allows you to bundle a lot of functionality together to clean up your code. *\n",
    "\n",
    "*Let's create a class that will take a star cluster's RA and DEC, and return all the members. I will set up the outline, and you should copy your code from above into the appropriate spots.*\n",
    "\n",
    "*This should work for M67, but we'll see if it is general enough to work with any random star cluster.  Creating a code that has more general functionality is a goal of good coding practice.*"
   ]
  },
  {
   "cell_type": "code",
   "execution_count": null,
   "metadata": {},
   "outputs": [],
   "source": [
    "class GaiaClusterMembers(object):\n",
    "    '''\n",
    "    This Class will grab data from the Gaia archive, and attempt to determine members using the \n",
    "    proper motions, radial velocities and parallaxes.  \n",
    "    \n",
    "    The user must provide the RA and Dec values, and the Class will return the full catalog and \n",
    "    the indices of the members.\n",
    "    \n",
    "    '''\n",
    "    \n",
    "    def __init__(self, *args,**kwargs):\n",
    "    \n",
    "        #required inputs\n",
    "        self.RA = None\n",
    "        self.Dec = None\n",
    "\n",
    "        #outputs\n",
    "        self.catalog = None\n",
    "        self.members = None\n",
    "        \n",
    "        #feel free to include more values in here.  These are like global variables that will \n",
    "        #available to any method you write below.\n",
    "        \n",
    "    def getGaiaData(self):\n",
    "        #this should execute the query to retreive the data\n",
    "    \n",
    "    def getRVMembers(self):\n",
    "        #this should calculate the radial-velocity memberships and identify those members\n",
    "\n",
    "    def getParallaxMembers(self):\n",
    "        #this should calculate the memberships based on parallax and identify those members\n",
    "         \n",
    "    def getPMMembers(self):\n",
    "        #this should calculate the proper-motion memberships and identify those members\n",
    "     \n",
    "    def plotCMD(self):\n",
    "        #maybe you want a method to plot the CMD, with the members\n",
    "        \n",
    "    def runAll(self):\n",
    "        #this can run everything \n",
    "        self.getGaiaData()\n",
    "        self.getRVMembers()\n",
    "        self.getParallaxMembers()\n",
    "        self.getPMMembers()\n",
    "        self.plotCMD()\n"
   ]
  },
  {
   "cell_type": "markdown",
   "metadata": {},
   "source": [
    "*Test this with M67*"
   ]
  },
  {
   "cell_type": "code",
   "execution_count": null,
   "metadata": {},
   "outputs": [],
   "source": [
    "#M67\n"
   ]
  },
  {
   "cell_type": "markdown",
   "metadata": {},
   "source": [
    "*Try using this Class for the open cluster [Pleiades](https://en.wikipedia.org/wiki/Pleiades).*"
   ]
  },
  {
   "cell_type": "code",
   "execution_count": null,
   "metadata": {},
   "outputs": [],
   "source": [
    "#The Pleiades\n"
   ]
  },
  {
   "cell_type": "markdown",
   "metadata": {},
   "source": [
    "*Try using this Class for the open cluster <a href=\"https://en.wikipedia.org/wiki/Hyades_(star_cluster)\">Hyades</a>.  This cluster is close, but much more spread out on the sky.  If your code doesn't work, see if you can make it work.*"
   ]
  },
  {
   "cell_type": "code",
   "execution_count": null,
   "metadata": {
    "scrolled": false
   },
   "outputs": [],
   "source": [
    "#the Hyades\n"
   ]
  },
  {
   "cell_type": "markdown",
   "metadata": {},
   "source": [
    "*Try using this Class for the open cluster [NGC 188](https://en.wikipedia.org/wiki/NGC_188).  This cluster is much farther away.  If your code doesn't work, see if you can make it work.*"
   ]
  },
  {
   "cell_type": "code",
   "execution_count": null,
   "metadata": {},
   "outputs": [],
   "source": [
    "#NGC 188\n",
    "\n"
   ]
  }
 ],
 "metadata": {
  "anaconda-cloud": {},
  "kernelspec": {
   "display_name": "Python 3",
   "language": "python",
   "name": "python3"
  },
  "language_info": {
   "codemirror_mode": {
    "name": "ipython",
    "version": 3
   },
   "file_extension": ".py",
   "mimetype": "text/x-python",
   "name": "python",
   "nbconvert_exporter": "python",
   "pygments_lexer": "ipython3",
   "version": "3.6.4"
  }
 },
 "nbformat": 4,
 "nbformat_minor": 1
}
