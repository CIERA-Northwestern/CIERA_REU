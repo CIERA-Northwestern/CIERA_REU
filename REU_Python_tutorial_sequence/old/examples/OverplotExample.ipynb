{
 "cells": [
  {
   "cell_type": "code",
   "execution_count": 1,
   "metadata": {
    "collapsed": false
   },
   "outputs": [],
   "source": [
    "#import needed numpy library\n",
    "import numpy as np\n",
    "\n",
    "#create X array, from 0-9\n",
    "x = np.arange(10)\n",
    "\n",
    "#create Y and Z array (x^2 and x^3)\n",
    "y = x**2\n",
    "z = x**3"
   ]
  },
  {
   "cell_type": "code",
   "execution_count": 4,
   "metadata": {
    "collapsed": false
   },
   "outputs": [
    {
     "data": {
      "text/plain": [
       "<matplotlib.text.Text at 0x108acdd90>"
      ]
     },
     "execution_count": 4,
     "metadata": {},
     "output_type": "execute_result"
    },
    {
     "data": {
      "image/png": "[encoded data removed]",
      "text/plain": [
       "<matplotlib.figure.Figure at 0x1052c1f10>"
      ]
     },
     "metadata": {},
     "output_type": "display_data"
    }
   ],
   "source": [
    "#import needed plotting libraries\n",
    "%matplotlib inline\n",
    "import matplotlib.pyplot as plt\n",
    "\n",
    "#Create the first plot\n",
    "plt.plot(x,y,'g^',markersize=10,label='Y-values')\n",
    "#Overplot the second plot\n",
    "plt.plot(x,z,'ro',markersize=5,label='Z-values')\n",
    "\n",
    "#label your plot\n",
    "plt.legend()\n",
    "plt.title('Test Overplot')\n",
    "plt.xlabel('X')\n",
    "plt.ylabel('Y and Z')"
   ]
  },
  {
   "cell_type": "code",
   "execution_count": 6,
   "metadata": {
    "collapsed": false
   },
   "outputs": [],
   "source": []
  },
  {
   "cell_type": "code",
   "execution_count": null,
   "metadata": {
    "collapsed": false
   },
   "outputs": [],
   "source": []
  }
 ],
 "metadata": {
  "kernelspec": {
   "display_name": "Python 2",
   "language": "python",
   "name": "python2"
  },
  "language_info": {
   "codemirror_mode": {
    "name": "ipython",
    "version": 2
   },
   "file_extension": ".py",
   "mimetype": "text/x-python",
   "name": "python",
   "nbconvert_exporter": "python",
   "pygments_lexer": "ipython2",
   "version": "2.7.9"
  }
 },
 "nbformat": 4,
 "nbformat_minor": 0
}
