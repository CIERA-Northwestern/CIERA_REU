{
 "cells": [
  {
   "cell_type": "markdown",
   "metadata": {},
   "source": [
    "# Example Analysis with Zooniverse Snapshot Serengeti Data"
   ]
  },
  {
   "cell_type": "markdown",
   "metadata": {},
   "source": [
    "<img src=\"http://publicradio1.wpengine.netdna-cdn.com/daily-circuit/files/2013/08/SLP-cheetah-with-cubs.jpg\">"
   ]
  },
  {
   "cell_type": "markdown",
   "metadata": {},
   "source": [
    "### Step 1: Lions and tigers and impala, oh my!"
   ]
  },
  {
   "cell_type": "markdown",
   "metadata": {},
   "source": [
    "What different animals co-exist in the Serengeti Desert? Let's find out.\n",
    "\n",
    "<a href=\"data/Serengeti_data.txt\">Serengeti_data.txt</a> is the data file we'll work with (it's in your data folder). The file has the classification results for the Snapshot Serengeti animals (i.e., for a given date, what lions, tigers, zebra, wildabeast, etc. are there, where are they, and what are they doing). "
   ]
  },
  {
   "cell_type": "markdown",
   "metadata": {},
   "source": [
    "# Make a data table"
   ]
  },
  {
   "cell_type": "markdown",
   "metadata": {},
   "source": [
    "The best way to visualize all the data that has been collected is using a data table. The code below will help us create a data table.\n",
    "\n",
    "Notice how we use the command 'ascii.read' to read in this Serengeti_data.txt data table. This is different from what we did in  <a href=\"../Workshop1/Part_2.ipynb\">Part 2</a>, where you used the command 'fits.open' to open the MWbubbles.fits data table. You use a different command depending on what type of data file you're working with."
   ]
  },
  {
   "cell_type": "code",
   "execution_count": null,
   "metadata": {
    "collapsed": false
   },
   "outputs": [],
   "source": [
    "#Import needed astropy library\n",
    "from astropy.table import Table,Column\n",
    "from astropy.io import ascii\n",
    "\n",
    "#Print out the data table\n",
    "ascii.read('data/Serengeti_data.txt')\n",
    "\n",
    "#Run this cell (shortcut=shift+enter) to read in your data table."
   ]
  },
  {
   "cell_type": "markdown",
   "metadata": {},
   "source": [
    "For a description of what each column is referring to, see <a href=\"data/SnapshotSerengetiDataFields.pdf\">here</a>. "
   ]
  },
  {
   "cell_type": "markdown",
   "metadata": {},
   "source": [
    "### Great, we've printed out the data table to the screen so we can see what's in it. \n",
    "\n",
    "### Now we are going to store the data table as the word \"Animals\". That will let us work with the data table by simply typing \"Animals\"."
   ]
  },
  {
   "cell_type": "code",
   "execution_count": null,
   "metadata": {
    "collapsed": true
   },
   "outputs": [],
   "source": [
    "#Make Animals equal to ascii.read('data/Serengeti_data.txt') by filling in the blank\n",
    "Animals =\n",
    "\n",
    "#Run this cell"
   ]
  },
  {
   "cell_type": "markdown",
   "metadata": {},
   "source": [
    "### Identify all Species Seen at Least Once in all the Snapshot Serengeti Images"
   ]
  },
  {
   "cell_type": "markdown",
   "metadata": {},
   "source": [
    "We are going to create a function that allows us to go through all of the data and create a list that contains all of the species' names. In Python we can use a \"for loop\" to do this. It allows us to go through large data sets and repeatedly do a function."
   ]
  },
  {
   "cell_type": "code",
   "execution_count": null,
   "metadata": {
    "collapsed": true
   },
   "outputs": [],
   "source": [
    "def getUniqueSpecies(data_type): #creates a function with the input 'data_type'\n",
    "    \n",
    "    #create an empty list to store the names of the species\n",
    "    -- = []   # fill in the blank by calling this empty list unique\n",
    "    \n",
    "    #loop through each animal in the list\n",
    "    for -- in --: #fill in the blanks with animal and data_type\n",
    "        if animal not in unique: #if the animal has not already been added to the list\n",
    "            unique.append(animal) #add the animal to the list using the .append() function\n",
    "    return sorted(unique) #returns an alphabetical version of the list using the sorted() function"
   ]
  },
  {
   "cell_type": "markdown",
   "metadata": {},
   "source": [
    "Now we are going to use the uniqueSpecies function we just created to identify all the unique species in our \"Animals\" data table."
   ]
  },
  {
   "cell_type": "code",
   "execution_count": null,
   "metadata": {
    "collapsed": true
   },
   "outputs": [],
   "source": [
    "uniqueSpecies = getUniqueSpecies(Animals['species']) #store the entire function in uniqueSpecies for use later\n",
    "\n",
    "print uniqueSpecies #print the list\n",
    "\n",
    "#Run this cell"
   ]
  },
  {
   "cell_type": "markdown",
   "metadata": {},
   "source": [
    "Here's a <a href=\"data/SnapshotSerengetiCommonSpecies.pdf\">page with images</a> of the different species found in the Serengeti Desert."
   ]
  },
  {
   "cell_type": "markdown",
   "metadata": {},
   "source": [
    "### Make a pi chart showing how common (or uncommon) each species is."
   ]
  },
  {
   "cell_type": "markdown",
   "metadata": {},
   "source": [
    "###### First determine the number of times an example of each species was seen. <br>Then populate a dictionary that assigns a key to the number of times the animal was seen. \n",
    "\n",
    "A dictionary allows us to access values by calling on the assigned key. Examples of what dictionaries look like are:\n",
    "* my_dict = {key1: value1, key2: value2, key3: value3} \n",
    "* usernames_passwords = {jdoe: password, jsmith: 1234} \n",
    "\n",
    "Using dictionaries helps us better organize large sets of data. You can access the \"value\" by using my_dict[key].\n",
    "* For example, my_dict[key1] = value1. \n",
    "\n",
    "We are going to create a dictionary that assigns the number of times a species was seen to the name of the species. Our dictionary will look something like this: \n",
    "* totNum = {aardvark: 218, aardwolf: 73, baboon: 797}"
   ]
  },
  {
   "cell_type": "code",
   "execution_count": null,
   "metadata": {
    "collapsed": true
   },
   "outputs": [],
   "source": [
    "import numpy as np\n",
    "\n",
    "#Here you should call the empty dictionary totNum\n",
    "-- = {}  #fill in the blank with totNum\n",
    "\n",
    "#Now we loop through each species and determine how many times that species was seen in Snapshot Serengeti\n",
    "#Make a for loop that goes through every \"animal\" in \"uniqueSpecies\"\n",
    "for -- in --:  #fill in blanks with animal and uniqueSpecies\n",
    "    totNum[animal] = len(np.where(Animals['species'] == animal)[0]) \n",
    "    #fills the dictionary we made earlier by assigning every species name to the number of times it was seen \n",
    "    \n",
    "#Print to screen how many images each species has been seen in\n",
    "for animal in uniqueSpecies:\n",
    "    print animal, 'was seen in', totNum[animal], 'images'\n",
    "    \n",
    "print #print a blank line\n",
    "print 'this is the whole dictionary: ', totNum #print the dictionary\n",
    "\n",
    "#Run the cell"
   ]
  },
  {
   "cell_type": "markdown",
   "metadata": {},
   "source": [
    "Above you should now see a printed list with each species and how many images it was seen in. Below that list, you should be able to see that we have a dictionary where every animal is the key in the dictionary, and the number of times it was seen is the value. We will use this dictionary to create a pie chart. "
   ]
  },
  {
   "cell_type": "markdown",
   "metadata": {},
   "source": [
    "## *Important*: To access the keys in our dictionary, you must use totNum.keys(), and to access the values, you must use totNum.values()."
   ]
  },
  {
   "cell_type": "code",
   "execution_count": null,
   "metadata": {
    "collapsed": true
   },
   "outputs": [],
   "source": [
    "#print out the keys and the values\n",
    "print totNum.keys()    #the names of the animals  \n",
    "print totNum.values()  #how many images the animals were seen in\n",
    "\n",
    "#Run the cell"
   ]
  },
  {
   "cell_type": "markdown",
   "metadata": {},
   "source": [
    "## Now we can make a pie chart by using our dictionary"
   ]
  },
  {
   "cell_type": "code",
   "execution_count": null,
   "metadata": {
    "collapsed": true
   },
   "outputs": [],
   "source": [
    "#http://matplotlib.org/examples/pie_and_polar_charts/pie_demo_features.html\n",
    "\n",
    "#Have plot appear within the notebook\n",
    "%matplotlib inline\n",
    "#import the needed matplotlib libraries\n",
    "import matplotlib.pyplot as plt\n",
    "from matplotlib import cm\n",
    "\n",
    "#Set the figure size to larger\n",
    "#Try changing the numbers to see what will happen!\n",
    "plt.figure(figsize = (12,12))\n",
    "\n",
    "#Create the pie chart that represents the number of species\n",
    "#Fill in the blank with the values from our totNum dictionary (see above for help)\n",
    "plt.pie(--, colors = cm.Set1(np.arange(len(uniqueSpecies))/float(len(uniqueSpecies))))\n",
    "\n",
    "#Create a legend for the chart that contains the names of the species\n",
    "#Fill in the blank with the keys from our totNum dictionary (see above for help)\n",
    "plt.legend(--, loc = 9, bbox_to_anchor=(1.25, 1))\n",
    "\n",
    "# Set aspect ratio to be equal so that pie is drawn as a circle.\n",
    "plt.axis('equal')\n",
    "\n",
    "#Run the cell"
   ]
  },
  {
   "cell_type": "markdown",
   "metadata": {},
   "source": [
    "### If you want to make a pie chart with the default settings, use the following code:"
   ]
  },
  {
   "cell_type": "code",
   "execution_count": null,
   "metadata": {
    "collapsed": false
   },
   "outputs": [],
   "source": [
    "#http://matplotlib.org/examples/pie_and_polar_charts/pie_demo_features.html\n",
    "\n",
    "#Set the figure size to larger\n",
    "plt.figure(figsize = (9,9))\n",
    "\n",
    "#Create the pie chart\n",
    "plt.pie(totNum.values() , labels = totNum.keys())\n",
    "\n",
    "# Set aspect ratio to be equal so that pie is drawn as a circle.\n",
    "plt.axis('equal')\n",
    "\n",
    "#Run the cell"
   ]
  },
  {
   "cell_type": "markdown",
   "metadata": {},
   "source": [
    "### Step 2: Where are all the animals?"
   ]
  },
  {
   "cell_type": "markdown",
   "metadata": {},
   "source": [
    "Let's visualize where the animals live in the serengeti. We can do this by using the longitude and latitude values from the Snapshot Serengeti data table and plotting them on an x-y axis. To make the plot, reuse the matplotlib.pyplot commands you used in <a href=\"../Workshop1/Part_2.ipynb\">Part 2</a>."
   ]
  },
  {
   "cell_type": "code",
   "execution_count": null,
   "metadata": {
    "collapsed": true
   },
   "outputs": [],
   "source": [
    "#Identify the Longitude and Latitude arrays in our data table the\n",
    "#lon corresponds to the x values on your plot\n",
    "#lat corresponds to the y values on your plot\n",
    "lon = Animals['longitude']\n",
    "lat = Animals['latitude']"
   ]
  },
  {
   "cell_type": "markdown",
   "metadata": {},
   "source": [
    "Create your latitude versus longitude plot using commands you learned in <a href=\"../Workshop1/Part_2.ipynb\">Part 2</a>."
   ]
  },
  {
   "cell_type": "code",
   "execution_count": null,
   "metadata": {
    "collapsed": true
   },
   "outputs": [],
   "source": [
    "#Import the needed libraries\n",
    "%matplotlib inline\n",
    "import matplotlib.pyplot as plt\n",
    "\n",
    "# Fill in the blank lines below to create your labeled plot\n",
    "---\n",
    "---\n",
    "---\n",
    "---\n",
    "\n",
    "#Run the cell"
   ]
  },
  {
   "cell_type": "markdown",
   "metadata": {},
   "source": [
    "Your plot should map out something like the image below, which also shows where the rivers cut through the Serengeti. The red oval is just pointing out a particular river system.\n",
    "<img src=\"https://snapshotserengeti.files.wordpress.com/2013/05/slide1.jpg\" width=\"500\">"
   ]
  },
  {
   "cell_type": "markdown",
   "metadata": {},
   "source": [
    "### Now let's just plot the cheetah."
   ]
  },
  {
   "cell_type": "markdown",
   "metadata": {},
   "source": [
    "The \"where\" function allows you to pick out the locations in an array (the index values) that have a specific value you're interested in. "
   ]
  },
  {
   "cell_type": "code",
   "execution_count": null,
   "metadata": {
    "collapsed": false
   },
   "outputs": [],
   "source": [
    "#import the needed numpy library\n",
    "import numpy as np\n",
    "\n",
    "x = np.array([1, 0, 2, 0, 1, 0, 5, 6, 0]) #create an array\n",
    "print np.where(x == 0)[0] #use the 'where' function to pick out the index values where x equals zero\n",
    "\n",
    "#Run the cell"
   ]
  },
  {
   "cell_type": "markdown",
   "metadata": {},
   "source": [
    "The new array shows where the number zero was located in the original array.<br>\n",
    "Remember computer programmers start counting at zero! \n",
    "\n",
    "Now, create an array with the indices for just the cheetah."
   ]
  },
  {
   "cell_type": "code",
   "execution_count": null,
   "metadata": {
    "collapsed": true
   },
   "outputs": [],
   "source": [
    "#import the needed numpy library\n",
    "import numpy as np\n",
    "\n",
    "#Use the 'where' function to identify all the cheetah in your data table.\n",
    "#The 'where' function gives the indices of values that satisfy a given condition\n",
    "#In this case, we get the indices for all cheetah in our data table.\n",
    "#Fill in the blank with 'cheetah'\n",
    "cheetah_ind = np.where(Animals['species'] == '-----')[0]\n",
    "\n",
    "#Run the cell"
   ]
  },
  {
   "cell_type": "markdown",
   "metadata": {},
   "source": [
    "### Plot the location of the cheetah."
   ]
  },
  {
   "cell_type": "code",
   "execution_count": null,
   "metadata": {
    "collapsed": true
   },
   "outputs": [],
   "source": [
    "#Create your plot using the same plotting commands you used above\n",
    "#Make your x values lon[cheetah_ind]\n",
    "#Make your y values lat[cheetah_ind]\n",
    "\n",
    "\n",
    "#Remember to label your plot\n",
    "#Run the cell"
   ]
  },
  {
   "cell_type": "markdown",
   "metadata": {},
   "source": [
    "### Step 3: Now let's compare where impala tend to live with where cheetahs live. "
   ]
  },
  {
   "cell_type": "markdown",
   "metadata": {},
   "source": [
    "<img src=\"https://snapshotserengeti.files.wordpress.com/2015/02/tommie.jpg?w=479&h=336\">"
   ]
  },
  {
   "cell_type": "markdown",
   "metadata": {},
   "source": [
    "First, what do you think you'll see? Will cheetahs and impalas live near each other? Can you think of why impala might choose to live in different parts of the Serengeti than cheetahs?"
   ]
  },
  {
   "cell_type": "markdown",
   "metadata": {},
   "source": [
    "### To do: Pick out the impala, plot their location, and compare their location with cheetahs'.\n"
   ]
  },
  {
   "cell_type": "markdown",
   "metadata": {},
   "source": [
    "To do this, reuse commands used above for the cheetah and add another 'plt.plot(x,y)' command. Check out <a href=\"../examples/overplotExample.ipynb\">this page</a> for hints on overplotting."
   ]
  },
  {
   "cell_type": "code",
   "execution_count": null,
   "metadata": {
    "collapsed": true
   },
   "outputs": [],
   "source": [
    "#Identify index positions of impala in the original Animals directory\n",
    "#Fill in the blank with 'impala'\n",
    "impala_ind = np.where(Animals['species'] == --)[0]\n",
    "\n",
    "#Plot the impala \n",
    "#Remember to use the impala indices to find the longitude and latitudes of only the impala\n",
    "plt.plot()\n",
    "\n",
    "#Overplot the cheetah, using a smaller marker size\n",
    "plt.plot()\n",
    "\n",
    "#label your plot\n",
    "plt.legend()\n",
    "plt.title()\n",
    "plt.xlabel()\n",
    "plt.ylabel()"
   ]
  },
  {
   "cell_type": "markdown",
   "metadata": {},
   "source": [
    "# Congratulations! You've finished Part 3!"
   ]
  },
  {
   "cell_type": "markdown",
   "metadata": {},
   "source": [
    "## Extension Activity: "
   ]
  },
  {
   "cell_type": "markdown",
   "metadata": {},
   "source": [
    " Extension \\#1: The final column in the data table is 'vegetation'. Do you expect hyenas to prefer open grassland while giraffes might prefer treed grassland? Find out what type of vegetation each species seems to prefer. "
   ]
  },
  {
   "cell_type": "markdown",
   "metadata": {},
   "source": [
    "Extension \\#2: Look for other trends in the data. Do your results make sense?"
   ]
  },
  {
   "cell_type": "code",
   "execution_count": null,
   "metadata": {
    "collapsed": true
   },
   "outputs": [],
   "source": []
  }
 ],
 "metadata": {
  "kernelspec": {
   "display_name": "Python 2",
   "language": "python",
   "name": "python2"
  },
  "language_info": {
   "codemirror_mode": {
    "name": "ipython",
    "version": 2
   },
   "file_extension": ".py",
   "mimetype": "text/x-python",
   "name": "python",
   "nbconvert_exporter": "python",
   "pygments_lexer": "ipython2",
   "version": "2.7.13"
  }
 },
 "nbformat": 4,
 "nbformat_minor": 0
}
