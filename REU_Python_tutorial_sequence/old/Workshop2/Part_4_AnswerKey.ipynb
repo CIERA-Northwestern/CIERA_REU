{
 "cells": [
  {
   "cell_type": "markdown",
   "metadata": {},
   "source": [
    "# Example Analysis with Zooniverse GalaxyZoo Data"
   ]
  },
  {
   "cell_type": "markdown",
   "metadata": {},
   "source": [
    "<img src=\"http://jmcolberg.com/weblog/archives/GalaxyZoo.jpg\" width = \"600x\">"
   ]
  },
  {
   "cell_type": "markdown",
   "metadata": {},
   "source": [
    "## Step 1: Where are all the galaxies?"
   ]
  },
  {
   "cell_type": "markdown",
   "metadata": {},
   "source": [
    "Let's see where in the universe our <a href=\"http://www.galaxyzoo.org\"> GalaxyZoo</a> galaxies are located.\n",
    "\n",
    "You will be using the data file <a href=\"data/GZ_class_mags.dat\">GZ_data.dat</a> which contains all of the classification results for the GalaxyZoo galaxies. Let's see what data is contained in this file. (To read in this data file, we will use 'ascii.read', which is a little different than the fits.open command you used in <a href=\"../WOrksho2/Part_2.ipynb\">Part 2</a> because they are different types of data files).  "
   ]
  },
  {
   "cell_type": "code",
   "execution_count": 1,
   "metadata": {
    "collapsed": false
   },
   "outputs": [
    {
     "name": "stderr",
     "output_type": "stream",
     "text": [
      "/opt/local/Library/Frameworks/Python.framework/Versions/2.7/lib/python2.7/site-packages/IPython/kernel/__init__.py:13: ShimWarning: The `IPython.kernel` package has been deprecated. You should import from ipykernel or jupyter_client instead.\n",
      "  \"You should import from ipykernel or jupyter_client instead.\", ShimWarning)\n"
     ]
    },
    {
     "data": {
      "text/html": [
       "&lt;Table masked=False length=667944&gt;\n",
       "<table id=\"table4414163984\">\n",
       "<thead><tr><th>ObjID</th><th>NVOTE</th><th>RA</th><th>DEC</th><th>P_EL</th><th>P_CW</th><th>P_ACW</th><th>P_EDGE</th><th>P_DK</th><th>P_MG</th><th>P_CS</th><th>P_EL_DEBIASED</th><th>P_CS_DEBIASED</th><th>Spiral</th><th>Elliptical</th><th>Uncertain</th><th>u_mag</th><th>g_mag</th><th>r_mag</th><th>i_mag</th><th>z_mag</th></tr></thead>\n",
       "<thead><tr><th>int64</th><th>int64</th><th>float64</th><th>float64</th><th>float64</th><th>float64</th><th>float64</th><th>float64</th><th>float64</th><th>float64</th><th>float64</th><th>float64</th><th>float64</th><th>int64</th><th>int64</th><th>int64</th><th>float64</th><th>float64</th><th>float64</th><th>float64</th><th>float64</th></tr></thead>\n",
       "<tr><td>587727178986356823</td><td>59</td><td>0.00170833333333</td><td>-10.3738055556</td><td>0.61</td><td>0.034</td><td>0.0</td><td>0.153</td><td>0.153</td><td>0.051</td><td>0.186</td><td>0.61</td><td>0.186</td><td>0</td><td>0</td><td>1</td><td>20.149</td><td>18.3143</td><td>17.1948</td><td>16.7245</td><td>16.3791</td></tr>\n",
       "<tr><td>587727227300741210</td><td>18</td><td>0.00308333333333</td><td>-9.22227777778</td><td>0.611</td><td>0.0</td><td>0.167</td><td>0.222</td><td>0.0</td><td>0.0</td><td>0.389</td><td>0.203</td><td>0.797</td><td>1</td><td>0</td><td>0</td><td>19.3589</td><td>18.0247</td><td>17.2514</td><td>16.8384</td><td>16.568</td></tr>\n",
       "<tr><td>587727225153257596</td><td>68</td><td>0.00429166666667</td><td>-10.9466666667</td><td>0.735</td><td>0.029</td><td>0.0</td><td>0.147</td><td>0.074</td><td>0.015</td><td>0.176</td><td>0.432</td><td>0.428</td><td>0</td><td>0</td><td>1</td><td>20.8264</td><td>18.8566</td><td>17.7259</td><td>17.2402</td><td>16.8672</td></tr>\n",
       "<tr><td>587730774962536596</td><td>52</td><td>0.00575</td><td>15.5098055556</td><td>0.885</td><td>0.019</td><td>0.0</td><td>0.058</td><td>0.019</td><td>0.019</td><td>0.077</td><td>0.885</td><td>0.077</td><td>0</td><td>1</td><td>0</td><td>19.8579</td><td>17.9098</td><td>16.6356</td><td>16.1118</td><td>15.7562</td></tr>\n",
       "<tr><td>587731186203885750</td><td>59</td><td>0.00645833333333</td><td>-0.0925833333333</td><td>0.712</td><td>0.0</td><td>0.0</td><td>0.22</td><td>0.068</td><td>0.0</td><td>0.22</td><td>0.64</td><td>0.29</td><td>0</td><td>0</td><td>1</td><td>19.6768</td><td>17.9106</td><td>17.0197</td><td>16.6269</td><td>16.3108</td></tr>\n",
       "<tr><td>587727180060098638</td><td>28</td><td>0.00654166666667</td><td>-9.49452777778</td><td>0.857</td><td>0.0</td><td>0.036</td><td>0.0</td><td>0.107</td><td>0.0</td><td>0.036</td><td>0.83</td><td>0.06</td><td>0</td><td>0</td><td>1</td><td>20.4954</td><td>18.7364</td><td>17.4411</td><td>16.9182</td><td>16.5427</td></tr>\n",
       "<tr><td>587731187277627676</td><td>38</td><td>0.00775</td><td>0.71925</td><td>0.5</td><td>0.0</td><td>0.053</td><td>0.289</td><td>0.105</td><td>0.053</td><td>0.342</td><td>0.351</td><td>0.473</td><td>0</td><td>0</td><td>1</td><td>20.1882</td><td>18.1929</td><td>17.2486</td><td>16.8214</td><td>16.501</td></tr>\n",
       "<tr><td>587727223024189605</td><td>26</td><td>0.00833333333333</td><td>15.6971666667</td><td>0.423</td><td>0.0</td><td>0.0</td><td>0.577</td><td>0.0</td><td>0.0</td><td>0.577</td><td>0.143</td><td>0.857</td><td>1</td><td>0</td><td>0</td><td>20.2543</td><td>18.4574</td><td>17.5094</td><td>17.0128</td><td>16.6355</td></tr>\n",
       "<tr><td>587730775499407375</td><td>62</td><td>0.00875</td><td>15.8817222222</td><td>0.355</td><td>0.016</td><td>0.21</td><td>0.323</td><td>0.0</td><td>0.097</td><td>0.548</td><td>0.355</td><td>0.548</td><td>0</td><td>0</td><td>1</td><td>16.6171</td><td>15.4672</td><td>14.9073</td><td>14.6428</td><td>14.4127</td></tr>\n",
       "<tr><td>587727221950382424</td><td>31</td><td>0.0100416666667</td><td>14.8219444444</td><td>0.484</td><td>0.129</td><td>0.065</td><td>0.258</td><td>0.065</td><td>0.0</td><td>0.452</td><td>0.109</td><td>0.789</td><td>1</td><td>0</td><td>0</td><td>20.6231</td><td>18.8939</td><td>17.7181</td><td>17.2256</td><td>16.8493</td></tr>\n",
       "<tr><td>...</td><td>...</td><td>...</td><td>...</td><td>...</td><td>...</td><td>...</td><td>...</td><td>...</td><td>...</td><td>...</td><td>...</td><td>...</td><td>...</td><td>...</td><td>...</td><td>...</td><td>...</td><td>...</td><td>...</td><td>...</td></tr>\n",
       "<tr><td>587727225153257594</td><td>27</td><td>359.990375</td><td>-10.9115277778</td><td>0.111</td><td>0.0</td><td>0.037</td><td>0.852</td><td>0.0</td><td>0.0</td><td>0.889</td><td>0.1</td><td>0.9</td><td>1</td><td>0</td><td>0</td><td>20.1343</td><td>18.2342</td><td>17.2887</td><td>16.8832</td><td>16.5715</td></tr>\n",
       "<tr><td>587730774962536576</td><td>36</td><td>359.991166667</td><td>15.52475</td><td>0.917</td><td>0.0</td><td>0.0</td><td>0.028</td><td>0.028</td><td>0.028</td><td>0.028</td><td>0.887</td><td>0.056</td><td>0</td><td>0</td><td>1</td><td>19.8734</td><td>17.9323</td><td>16.9397</td><td>16.4904</td><td>16.1326</td></tr>\n",
       "<tr><td>587727180596969561</td><td>57</td><td>359.993583333</td><td>-9.10061111111</td><td>0.175</td><td>0.474</td><td>0.035</td><td>0.088</td><td>0.018</td><td>0.211</td><td>0.596</td><td>0.175</td><td>0.596</td><td>0</td><td>0</td><td>1</td><td>19.006</td><td>17.427</td><td>16.4523</td><td>15.9704</td><td>15.6</td></tr>\n",
       "<tr><td>587727227837612104</td><td>48</td><td>359.993875</td><td>-8.72211111111</td><td>0.083</td><td>0.021</td><td>0.688</td><td>0.167</td><td>0.021</td><td>0.021</td><td>0.875</td><td>0.029</td><td>0.928</td><td>1</td><td>0</td><td>0</td><td>18.5814</td><td>17.3904</td><td>16.9725</td><td>16.6993</td><td>16.4735</td></tr>\n",
       "<tr><td>587730774962536585</td><td>28</td><td>359.994625</td><td>15.378</td><td>0.679</td><td>0.071</td><td>0.0</td><td>0.214</td><td>0.036</td><td>0.0</td><td>0.286</td><td>0.225</td><td>0.705</td><td>1</td><td>0</td><td>0</td><td>19.7286</td><td>18.5547</td><td>17.7405</td><td>17.3091</td><td>17.0258</td></tr>\n",
       "<tr><td>587727226763870322</td><td>35</td><td>359.994833333</td><td>-9.69297222222</td><td>0.171</td><td>0.8</td><td>0.0</td><td>0.029</td><td>0.0</td><td>0.0</td><td>0.829</td><td>0.057</td><td>0.943</td><td>1</td><td>0</td><td>0</td><td>18.1967</td><td>17.0918</td><td>16.5409</td><td>16.1747</td><td>15.9862</td></tr>\n",
       "<tr><td>587730775499407475</td><td>21</td><td>359.994916667</td><td>15.8170277778</td><td>0.81</td><td>0.048</td><td>0.0</td><td>0.095</td><td>0.048</td><td>0.0</td><td>0.143</td><td>0.758</td><td>0.193</td><td>0</td><td>0</td><td>1</td><td>19.7946</td><td>18.1072</td><td>17.1043</td><td>16.6367</td><td>16.2607</td></tr>\n",
       "<tr><td>587727223024124280</td><td>28</td><td>359.995041667</td><td>15.6637222222</td><td>0.286</td><td>0.0</td><td>0.071</td><td>0.393</td><td>0.179</td><td>0.071</td><td>0.464</td><td>0.099</td><td>0.603</td><td>0</td><td>0</td><td>1</td><td>19.8317</td><td>18.3083</td><td>17.6857</td><td>17.3393</td><td>17.1453</td></tr>\n",
       "<tr><td>587730774425600239</td><td>23</td><td>359.995916667</td><td>15.1552222222</td><td>0.391</td><td>0.0</td><td>0.043</td><td>0.0</td><td>0.13</td><td>0.435</td><td>0.043</td><td>0.39</td><td>0.045</td><td>0</td><td>0</td><td>1</td><td>19.8726</td><td>17.887</td><td>16.8409</td><td>16.4149</td><td>16.0964</td></tr>\n",
       "<tr><td>587727177912615023</td><td>54</td><td>359.997375</td><td>-11.1920833333</td><td>0.556</td><td>0.0</td><td>0.037</td><td>0.333</td><td>0.074</td><td>0.0</td><td>0.37</td><td>0.153</td><td>0.722</td><td>1</td><td>0</td><td>0</td><td>20.0398</td><td>18.2517</td><td>17.2495</td><td>16.8049</td><td>16.4402</td></tr>\n",
       "</table>"
      ],
      "text/plain": [
       "<Table masked=False length=667944>\n",
       "      ObjID        NVOTE        RA        ...  r_mag   i_mag   z_mag \n",
       "      int64        int64     float64      ... float64 float64 float64\n",
       "------------------ ----- ---------------- ... ------- ------- -------\n",
       "587727178986356823    59 0.00170833333333 ... 17.1948 16.7245 16.3791\n",
       "587727227300741210    18 0.00308333333333 ... 17.2514 16.8384  16.568\n",
       "587727225153257596    68 0.00429166666667 ... 17.7259 17.2402 16.8672\n",
       "587730774962536596    52          0.00575 ... 16.6356 16.1118 15.7562\n",
       "587731186203885750    59 0.00645833333333 ... 17.0197 16.6269 16.3108\n",
       "587727180060098638    28 0.00654166666667 ... 17.4411 16.9182 16.5427\n",
       "587731187277627676    38          0.00775 ... 17.2486 16.8214  16.501\n",
       "587727223024189605    26 0.00833333333333 ... 17.5094 17.0128 16.6355\n",
       "587730775499407375    62          0.00875 ... 14.9073 14.6428 14.4127\n",
       "587727221950382424    31  0.0100416666667 ... 17.7181 17.2256 16.8493\n",
       "               ...   ...              ... ...     ...     ...     ...\n",
       "587727225153257594    27       359.990375 ... 17.2887 16.8832 16.5715\n",
       "587730774962536576    36    359.991166667 ... 16.9397 16.4904 16.1326\n",
       "587727180596969561    57    359.993583333 ... 16.4523 15.9704    15.6\n",
       "587727227837612104    48       359.993875 ... 16.9725 16.6993 16.4735\n",
       "587730774962536585    28       359.994625 ... 17.7405 17.3091 17.0258\n",
       "587727226763870322    35    359.994833333 ... 16.5409 16.1747 15.9862\n",
       "587730775499407475    21    359.994916667 ... 17.1043 16.6367 16.2607\n",
       "587727223024124280    28    359.995041667 ... 17.6857 17.3393 17.1453\n",
       "587730774425600239    23    359.995916667 ... 16.8409 16.4149 16.0964\n",
       "587727177912615023    54       359.997375 ... 17.2495 16.8049 16.4402"
      ]
     },
     "execution_count": 1,
     "metadata": {},
     "output_type": "execute_result"
    }
   ],
   "source": [
    "#Import needed astropy library\n",
    "from astropy.table import Table,Column\n",
    "from astropy.io import ascii\n",
    "\n",
    "#Read in data table\n",
    "#Fill in the blank with the ascii.read function as you did in Part 3\n",
    "Galaxies = ascii.read('data/GZ_class_mags.dat')\n",
    "Galaxies\n",
    "\n",
    "#Run this cell (shortcut=shift+enter) to read in your data table.\n",
    "#Note: Be patient. This is a large file and may take a minute or so to load."
   ]
  },
  {
   "cell_type": "markdown",
   "metadata": {},
   "source": [
    "In order to determine the <i> location </i> of the galaxies, we will use the galactic latitude and longitude of the galaxies. These are called the <a href=\"http://astro.unl.edu/classaction/animations/coordsmotion/radecdemo.html\">RA and DEC</a> values, and are located in columns three and four. Use these values to create a plot of the location of each galaxy in the sky."
   ]
  },
  {
   "cell_type": "markdown",
   "metadata": {},
   "source": [
    "## Make a plot using the commands you learned in <a href=\"../Workshop1/Part_2.ipynb\">Part 2</a>."
   ]
  },
  {
   "cell_type": "code",
   "execution_count": 2,
   "metadata": {
    "collapsed": true
   },
   "outputs": [],
   "source": [
    "\"\"\"\"First create two variables, RA and DEC, that contain the RA and DEC values from the table.\"\"\"\n",
    "#Access the 'RA' and 'DEC' values from the Galaxies index and assign those values to RA and DEC, respectively\n",
    "#If you need a refresher, look back at how you accessed GLON and GLAT data in Part 2\n",
    "\n",
    "RA = Galaxies[\"RA\"]\n",
    "DEC = Galaxies[\"DEC\"]"
   ]
  },
  {
   "cell_type": "markdown",
   "metadata": {},
   "source": [
    "#### Now make a plot of RA vs Dec\n",
    "\n",
    "Reuse the matplotlib.pyplot commands you used in <a href=\"../Workshop1/Part_2.ipynb\">Part 2</a>.\n",
    "* Remember, first insert a new cell below, type in your code, and then 'run the cell' by pressing the play button in the top menu.\n",
    "* Remember to include any needed libraries"
   ]
  },
  {
   "cell_type": "code",
   "execution_count": 3,
   "metadata": {
    "collapsed": false
   },
   "outputs": [
    {
     "data": {
      "text/plain": [
       "<matplotlib.text.Text at 0x10771ec10>"
      ]
     },
     "execution_count": 3,
     "metadata": {},
     "output_type": "execute_result"
    },
    {
     "data": {
      "image/png": "[encoded data removed]",
      "text/plain": [
       "<matplotlib.figure.Figure at 0x1074972d0>"
      ]
     },
     "metadata": {},
     "output_type": "display_data"
    }
   ],
   "source": [
    "import matplotlib.pyplot as plt\n",
    "import numpy as np\n",
    "%matplotlib inline\n",
    "\n",
    "plt.plot(RA, DEC, 'ro', markersize = .001)\n",
    "plt.title('RA vs DEC')\n",
    "plt.xlabel('RA')\n",
    "plt.ylabel('DEC')"
   ]
  },
  {
   "cell_type": "markdown",
   "metadata": {},
   "source": [
    "Your plot of RA vs Dec for all the Galaxy Zoo galaxies will look something like the image below (though doesn't need to be in this same projection). \n",
    "\n",
    "The right-hand image shows with a yellow-green squiggle where the disk of our Milky Way galaxy lives. The disk of our Milky Way blocks our view of distant galaxies in that part of our sky. \n",
    "\n",
    "<img style=\"float: left\" src=\"http://classic.sdss.org/dr7/dr7photo_big.gif\" width=\"400x\">\n",
    "\n",
    "<img style=\"float: right\" src=\"http://farm2.static.flickr.com/1055/4724975807_79f8722a8d_b.jpg\" width = \"500x\">"
   ]
  },
  {
   "cell_type": "markdown",
   "metadata": {},
   "source": [
    "### Step 2: What Color are Typical Spiral Galaxies?"
   ]
  },
  {
   "cell_type": "markdown",
   "metadata": {},
   "source": [
    "Subtracting a galaxy's i-band brightness from its g-band brightness can tell you how much bluer or redder the galaxy is. Smaller values of g-i mean the galaxy is bluer, larger values of g-i means that it's redder."
   ]
  },
  {
   "cell_type": "markdown",
   "metadata": {},
   "source": [
    "<img src=\"http://faculty.wcas.northwestern.edu/aaron-geller/myimages/sequence-de-hubble-galaxies.jpg\" width = \"600x\">\n",
    "<img src=\"http://faculty.wcas.northwestern.edu/aaron-geller/myimages/plot_sdss_filters_1.png\" width = \"600x\">\n",
    "\n"
   ]
  },
  {
   "cell_type": "markdown",
   "metadata": {},
   "source": [
    "### We will need to use the numpy functions np.array and np.subtract to create a new array of corrected color numbers."
   ]
  },
  {
   "cell_type": "markdown",
   "metadata": {},
   "source": [
    "#### 'np.array' creates an array of numbers from a data set. See the example below:"
   ]
  },
  {
   "cell_type": "code",
   "execution_count": 4,
   "metadata": {
    "collapsed": false
   },
   "outputs": [
    {
     "name": "stdout",
     "output_type": "stream",
     "text": [
      "[1 2 3 4]\n"
     ]
    }
   ],
   "source": [
    "#Import needed numpy library\n",
    "import numpy as np\n",
    "\n",
    "my_array = np.array([1, 2, 3, 4])\n",
    "print my_array"
   ]
  },
  {
   "cell_type": "markdown",
   "metadata": {},
   "source": [
    "#### 'np.subtract' subtracts one number from another. See the example below:"
   ]
  },
  {
   "cell_type": "code",
   "execution_count": 7,
   "metadata": {
    "collapsed": false
   },
   "outputs": [
    {
     "name": "stdout",
     "output_type": "stream",
     "text": [
      "4\n"
     ]
    }
   ],
   "source": [
    "#Import needed numpy library\n",
    "import numpy as np\n",
    "\n",
    "new_number = np.subtract(7, 3)\n",
    "print new_number"
   ]
  },
  {
   "cell_type": "markdown",
   "metadata": {},
   "source": [
    "### You are going to create arrays called gmag and imag that have the data from the g_mag and i_mag columns in the galaxies data set. <br> <br> Then you will subtract imag from gmag"
   ]
  },
  {
   "cell_type": "code",
   "execution_count": 8,
   "metadata": {
    "collapsed": false
   },
   "outputs": [
    {
     "name": "stdout",
     "output_type": "stream",
     "text": [
      "[ 1.5898  1.1863  1.6164  1.798   1.2837  1.8182  1.3715  1.4446  0.8244\n",
      "  1.6683]\n",
      "min/max color: -10015.3137 10017.4529\n"
     ]
    }
   ],
   "source": [
    "#Create your gmag array using np.array and Galaxies['g_mag']\n",
    "gmag = np.array(Galaxies['g_mag'])\n",
    "\n",
    "#Create your imag array using np.array and Galaxies['i_mag']\n",
    "imag = np.array(Galaxies['i_mag'])\n",
    "\n",
    "#Use np.subtract to subtract the imag array from the gmag array\n",
    "color = np.subtract(gmag, imag)\n",
    "\n",
    "#As a test, print the color values for the first ten galaxies\n",
    "print color[0:10]\n",
    "\n",
    "#Print the minimum and maximum color value\n",
    "print 'min/max color:',min(color),max(color)"
   ]
  },
  {
   "cell_type": "markdown",
   "metadata": {},
   "source": [
    "Do you notice how the color values for the first ten galaxies are all around '1', but the min & max color values are really high and really low? \n",
    "\n",
    "These very high/low values are because there are some sources for which the telescope was unable to get a good value for magnitude or brightness. In the table, the magnitudes for these sources have been set to -999, as a flag to indicate that they're bad values. \n",
    "\n",
    "Often when working with data, you'll need to be aware of 'bad' values and make sure you filter them out."
   ]
  },
  {
   "cell_type": "markdown",
   "metadata": {},
   "source": [
    "## To Flag bad color values: Use np.where to pick out the indices with values greater than 99 or less than -99."
   ]
  },
  {
   "cell_type": "markdown",
   "metadata": {},
   "source": [
    "Use np.where and identify the index values where color < -99 or color > 99. (If you need a refresher on how to use the 'where' function, look back at <a href=\"Part_3.ipynb\">Part 3</a>.)."
   ]
  },
  {
   "cell_type": "code",
   "execution_count": 9,
   "metadata": {
    "collapsed": true
   },
   "outputs": [],
   "source": [
    "#Make x equal to the values where color < -99\n",
    "x = np.where(color < -99)[0]\n",
    "#Make y equal to the values where color > 99\n",
    "y = np.where(color > 99)[0]\n",
    "\n",
    "#Set the color values for these bad spots to NAN (not a finite number)\n",
    "#This will ensure the bad data points don't end up in your histogram\n",
    "color[x] = np.nan\n",
    "color[y] = np.nan"
   ]
  },
  {
   "cell_type": "code",
   "execution_count": 10,
   "metadata": {
    "collapsed": false
   },
   "outputs": [
    {
     "data": {
      "text/plain": [
       "(array([  3.00000000e+00,   4.00000000e+00,   5.60000000e+01,\n",
       "          1.05000000e+02,   5.81150000e+04,   6.09463000e+05,\n",
       "          1.41000000e+02,   4.40000000e+01,   4.00000000e+00,\n",
       "          7.00000000e+00]),\n",
       " array([-13.9721, -11.0243,  -8.0765,  -5.1287,  -2.1809,   0.7669,\n",
       "          3.7147,   6.6625,   9.6103,  12.5581,  15.5059]),\n",
       " <a list of 10 Patch objects>)"
      ]
     },
     "execution_count": 10,
     "metadata": {},
     "output_type": "execute_result"
    },
    {
     "data": {
      "image/png": "[encoded data removed]",
      "text/plain": [
       "<matplotlib.figure.Figure at 0x10897a190>"
      ]
     },
     "metadata": {},
     "output_type": "display_data"
    }
   ],
   "source": [
    "%matplotlib inline\n",
    "import matplotlib.pyplot as plt\n",
    "\n",
    "#Plot a histogram of the finite values in the color array\n",
    "#note, there are no more color < -99 or color > 99 values\n",
    "#notice how we use the np.isfinite to pick out just the finite color values\n",
    "plt.hist(color[np.isfinite(color)],facecolor='yellow')"
   ]
  },
  {
   "cell_type": "markdown",
   "metadata": {},
   "source": [
    "Above you should have created a histogram that gives you the colors for the galaxies in GalaxyZoo"
   ]
  },
  {
   "cell_type": "markdown",
   "metadata": {},
   "source": [
    "## Now let's analyze the data provided by GalaxyZoo and see the differences and similarities between the colors of the Elliptical and Spiral galaxies"
   ]
  },
  {
   "cell_type": "markdown",
   "metadata": {},
   "source": [
    "##### Part A: Make an array of the indices for spiral galaxies"
   ]
  },
  {
   "cell_type": "code",
   "execution_count": 11,
   "metadata": {
    "collapsed": false
   },
   "outputs": [
    {
     "name": "stdout",
     "output_type": "stream",
     "text": [
      "[ 1  7  9 13 18 34 35 36 42 44]\n"
     ]
    }
   ],
   "source": [
    "#Use the 'where' function to identify all the Spiral galaxies.\n",
    "#Fill in the blank with the identifier for spiral galaxies: 'Spiral'\n",
    "spirals_ind = np.where(Galaxies['Spiral'] == 1)[0]\n",
    "\n",
    "#Just to see that these are indices of the array, print the first 10 values\n",
    "print spirals_ind[0:10]"
   ]
  },
  {
   "cell_type": "markdown",
   "metadata": {},
   "source": [
    "Look at the indices printed above and compare with where you see the Spiral column equal '1' in the data table. Does this make sense? <br>\n",
    "Note: in Python, you start counting with '0' as your first number."
   ]
  },
  {
   "cell_type": "markdown",
   "metadata": {},
   "source": [
    "##### Part B: Make an array with the colors just for Spiral galaxies:"
   ]
  },
  {
   "cell_type": "code",
   "execution_count": 13,
   "metadata": {
    "collapsed": false
   },
   "outputs": [
    {
     "name": "stdout",
     "output_type": "stream",
     "text": [
      "[ 1.1863  1.4446  1.6683  1.6858  0.5735  1.9207  1.4939  1.7262  1.8113\n",
      "  1.4265]\n",
      "-6.7818 9.0222\n"
     ]
    }
   ],
   "source": [
    "#Pick out the subset of color values associated with the spiral galaxy indices\n",
    "#Fill in the blank with spirals_ind\n",
    "spirals_color = color[spirals_ind]\n",
    "\n",
    "print spirals_color[0:10]\n",
    "print min(spirals_color),max(spirals_color)"
   ]
  },
  {
   "cell_type": "markdown",
   "metadata": {},
   "source": [
    "### Now repeat Parts A and B for elliptical galaxies"
   ]
  },
  {
   "cell_type": "code",
   "execution_count": 15,
   "metadata": {
    "collapsed": false
   },
   "outputs": [],
   "source": [
    "#Use the 'where' function to identify all the Elliptical galaxies.\n",
    "ellipticals_ind = np.where(Galaxies['Elliptical'] == 1)[0]\n",
    "\n",
    "#Pick out the subset of color values associated with the elliptical galaxy indices\n",
    "ellipticals_color = color[ellipticals_ind]"
   ]
  },
  {
   "cell_type": "markdown",
   "metadata": {},
   "source": [
    "## Now let's make a plot of the Spiral Galaxies' color vs. the number of galaxies that are that color (i.e., a histogram)."
   ]
  },
  {
   "cell_type": "code",
   "execution_count": 16,
   "metadata": {
    "collapsed": false
   },
   "outputs": [
    {
     "data": {
      "text/plain": [
       "(0, 3)"
      ]
     },
     "execution_count": 16,
     "metadata": {},
     "output_type": "execute_result"
    },
    {
     "data": {
      "image/png": "[encoded data removed]",
      "text/plain": [
       "<matplotlib.figure.Figure at 0x10897a950>"
      ]
     },
     "metadata": {},
     "output_type": "display_data"
    }
   ],
   "source": [
    "import matplotlib.pyplot as plt\n",
    "import matplotlib.mlab as mlab\n",
    "import numpy as np\n",
    "\n",
    "#Plot a histogram for the spirals' color\n",
    "#notice how we use the np.isfinite to pick out just the finite color values\n",
    "plt.hist(spirals_color[np.isfinite(spirals_color)],bins=50,facecolor='blue')\n",
    "\n",
    "#Label the plot\n",
    "plt.xlabel('Color')\n",
    "plt.ylabel('Number of Galaxies')\n",
    "plt.title('Spiral Galaxies')\n",
    "plt.xlim(xmin=0,xmax=3)"
   ]
  },
  {
   "cell_type": "markdown",
   "metadata": {},
   "source": [
    "## Make the same histogram plot, but for the Elliptical Galaxies' color."
   ]
  },
  {
   "cell_type": "code",
   "execution_count": 18,
   "metadata": {
    "collapsed": false
   },
   "outputs": [
    {
     "data": {
      "text/plain": [
       "(0, 3)"
      ]
     },
     "execution_count": 18,
     "metadata": {},
     "output_type": "execute_result"
    },
    {
     "data": {
      "image/png": "[encoded data removed]",
      "text/plain": [
       "<matplotlib.figure.Figure at 0x10ae5bcd0>"
      ]
     },
     "metadata": {},
     "output_type": "display_data"
    }
   ],
   "source": [
    "plt.hist(ellipticals_color[np.isfinite(ellipticals_color)],bins=50,facecolor='blue')\n",
    "plt.xlabel('Color')\n",
    "plt.ylabel('Number of Galaxies')\n",
    "plt.title('Elliptical Galaxies')\n",
    "plt.xlim(xmin=0,xmax=3)"
   ]
  },
  {
   "cell_type": "markdown",
   "metadata": {},
   "source": [
    "# Now overplot the Spiral color histogram over the Elliptical color histogram"
   ]
  },
  {
   "cell_type": "markdown",
   "metadata": {},
   "source": [
    "For suggestions on how to overplot in a histogram plot, go <a href=\"../examples/MultipleHistogramsExample.ipynb\">here</a>.\n",
    "\n",
    "<!--- a http://matplotlib.org/1.2.1/examples/pylab_examples/histogram_demo.html http://www.bertplot.com/visualization/?p=229\n",
    "      \"-->"
   ]
  },
  {
   "cell_type": "code",
   "execution_count": 19,
   "metadata": {
    "collapsed": false
   },
   "outputs": [
    {
     "data": {
      "text/plain": [
       "(0, 3)"
      ]
     },
     "execution_count": 19,
     "metadata": {},
     "output_type": "execute_result"
    },
    {
     "data": {
      "image/png": "[encoded data removed]",
      "text/plain": [
       "<matplotlib.figure.Figure at 0x10aded150>"
      ]
     },
     "metadata": {},
     "output_type": "display_data"
    }
   ],
   "source": [
    "#Plot the spirals_color histogram\n",
    "plt.hist(spirals_color[np.isfinite(spirals_color)],bins=50, facecolor='blue',label='Spirals',)\n",
    "\n",
    "#Overplot the ellipticals_color histogram\n",
    "plt.hist(ellipticals_color[np.isfinite(ellipticals_color)],bins=50, facecolor='red',label='Ellipticals')\n",
    "\n",
    "plt.legend()\n",
    "plt.xlabel('Color')\n",
    "plt.ylabel('Fraction of Galaxies')\n",
    "plt.title('Galaxy Color')\n",
    "plt.xlim(xmin=0,xmax=3)"
   ]
  },
  {
   "cell_type": "markdown",
   "metadata": {},
   "source": [
    "What do you notice about the color of the Spiral Galaxies? Do you see how most are bluer in color? Remember, the lower the value for 'g-i' color, the bluer the galaxy. The bluer color indicates that the galaxy is currently making new stars (i.e., has active star formation). \n",
    "\n",
    "The result (that spiral galaxies tend to be bluer) makes sense. The figure below shows a typical example of a blue, actively star forming, spiral galaxy."
   ]
  },
  {
   "cell_type": "markdown",
   "metadata": {},
   "source": [
    "<img src=\"http://i.space.com/images/i/000/044/763/i02/area-around-andromeda-galaxy.jpg?1420653454\">"
   ]
  },
  {
   "cell_type": "markdown",
   "metadata": {},
   "source": [
    "However, also notice the exceptions. In your histogram, you see that a number of spiral galaxies are redder in color (have higher 'g-i' color values). These are galaxies where classifiers saw they had spiral arms, but their color tells us that they have no active star formation happening. <a href=\"http://www.sciencedaily.com/releases/2008/11/081124194936.htm\">A special process has shut off star formation in these galaxies.</a> \n",
    "\n",
    "Finding this intriguing result was possible because of the huge numbers of galaxies in GalaxyZoo!"
   ]
  },
  {
   "cell_type": "markdown",
   "metadata": {},
   "source": [
    "### Step 3: Looking at individual galaxies of interest."
   ]
  },
  {
   "cell_type": "markdown",
   "metadata": {},
   "source": [
    "If you identify a subset of galaxies in the GalaxyZoo data table that you'd like to look at individually in more detail, you can do the following:"
   ]
  },
  {
   "cell_type": "code",
   "execution_count": 20,
   "metadata": {
    "collapsed": false
   },
   "outputs": [
    {
     "name": "stdout",
     "output_type": "stream",
     "text": [
      "# of Red Spirals:  20\n",
      "10.3735416667 13.8214166667\n",
      "11.0037083333 -10.1454722222\n",
      "33.5283333333 14.0545277778\n",
      "112.463458333 43.1997222222\n",
      "118.928291667 33.1065277778\n",
      "130.72725 30.0555\n",
      "149.356041667 25.5977222222\n",
      "151.625541667 12.2164444444\n",
      "177.328708333 14.0585833333\n",
      "195.904 53.6451666667\n",
      "203.014416667 -2.33183333333\n",
      "204.711666667 65.611\n",
      "210.088708333 28.5246944444\n",
      "217.383083333 34.6303333333\n",
      "220.08425 18.2596111111\n",
      "227.840458333 30.8816944444\n",
      "229.559666667 11.0393888889\n",
      "313.762958333 -0.0913611111111\n",
      "342.803125 0.917111111111\n",
      "346.412916667 13.8288611111\n"
     ]
    },
    {
     "name": "stderr",
     "output_type": "stream",
     "text": [
      "/anaconda/lib/python2.7/site-packages/IPython/kernel/__main__.py:5: RuntimeWarning: invalid value encountered in greater\n",
      "/anaconda/lib/python2.7/site-packages/IPython/kernel/__main__.py:5: RuntimeWarning: invalid value encountered in less\n"
     ]
    }
   ],
   "source": [
    "#Select particular galaxies of interest, for example, red spirals\n",
    "\n",
    "# np.where picks out sources that have \n",
    "# 1.9 < color > 1.91 AND they are spiral galaxies\n",
    "redSpirals = np.where((color > 1.9) & (color < 1.91) & (Galaxies['Spiral'] == 1))[0]\n",
    "\n",
    "#The 'len' command is short for 'length'\n",
    "#It tells you how many sources are in the RedSpirals array\n",
    "print '# of Red Spirals: ',len(redSpirals)\n",
    "\n",
    "#Print the RA, Dec values for the galaxies of interest\n",
    "#Use a for loop to print the RA,DEC values as a pair for each galaxy\n",
    "for j in redSpirals:\n",
    "    print Galaxies['RA'][j],Galaxies['DEC'][j]"
   ]
  },
  {
   "cell_type": "markdown",
   "metadata": {},
   "source": [
    "### Visualize these Red Spirals"
   ]
  },
  {
   "cell_type": "markdown",
   "metadata": {},
   "source": [
    "Now copy and paste these RA,Dec values into the <a href=\"http://skyserver.sdss.org/dr7/en/tools/chart/navi.asp\">SDSS SkyServer finder chart</a>. You'll see an image of the galaxy of interest. <br>\n",
    "\n",
    "Click on 'Quick Look' in the middle right of that page to get additional information about your galaxy.<br>\n",
    "\n",
    "Do you see how they're red spirals?! Check out <a href=\"http://arxiv.org/abs/0910.4113\">Dr. Karen Masters article on Red Spirals in Galaxy Zoo</a>."
   ]
  },
  {
   "cell_type": "markdown",
   "metadata": {},
   "source": [
    "# Congratulations! You've completed Part 4!"
   ]
  },
  {
   "cell_type": "markdown",
   "metadata": {},
   "source": [
    "## Extension Activity:\n",
    "#### Look for other trends in galaxy type, magnitude, and/or color. Do your results make sense?"
   ]
  },
  {
   "cell_type": "code",
   "execution_count": null,
   "metadata": {
    "collapsed": true
   },
   "outputs": [],
   "source": []
  }
 ],
 "metadata": {
  "kernelspec": {
   "display_name": "Python 2",
   "language": "python",
   "name": "python2"
  },
  "language_info": {
   "codemirror_mode": {
    "name": "ipython",
    "version": 2
   },
   "file_extension": ".py",
   "mimetype": "text/x-python",
   "name": "python",
   "nbconvert_exporter": "python",
   "pygments_lexer": "ipython2",
   "version": "2.7.13"
  }
 },
 "nbformat": 4,
 "nbformat_minor": 0
}
