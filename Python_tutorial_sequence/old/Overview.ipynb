{
 "cells": [
  {
   "cell_type": "markdown",
   "metadata": {},
   "source": [
    "# Let's Begin!"
   ]
  },
  {
   "cell_type": "markdown",
   "metadata": {},
   "source": [
    "Part of becoming comfortable with computers is having good mentors who help you early on. \n",
    "Your mentors in your Python skills development include your fellow students, your Python instructors, your research mentors, etc.\n",
    "\n",
    "Please don't hesitate to ask questions. \n",
    "You have a ton of resources and support here to take advantage of. \n",
    "Our main goals are for you to learn, to want to learn more, and to enjoy the learning process.\n",
    "\n",
    "Let's get started!\n",
    "\n",
    "<ul>\n",
    "<li><a href='Workshop1/Part_1.ipynb'>Part 1</a>: Intro to iPython Notebook</li>\n",
    "<li><a href='Workshop1/Part_2.ipynb'>Part 2</a>: Example Analysis with MilkyWay Project Data</li>\n",
    "<li><a href='Workshop2/Part_3.ipynb'>Part 3</a>: Example Analysis with Snapshot Serengeti Data</li>\n",
    "<li><a href='Workshop2/Part_4.ipynb'>Part 4</a>: Example Analysis with GalaxyZoo Data</li>\n",
    "<li><a href='Workshop3/Part_5.ipynb'>Part 5</a>: Fitting Models to Data: Star Cluster Case Study</li>\n",
    "<li><a href='Workshop4/Part_6.ipynb'>Part 6</a>: Fitting Models to Data: Frequentist vs. Bayesian Approach</li>\n",
    "<li><a href='Bonus/Part_7.ipynb'>Part 7</a>: Making Multi-Color Hubble Images</li>\n",
    "</ul>"
   ]
  },
  {
   "cell_type": "code",
   "execution_count": 1,
   "metadata": {
    "collapsed": false
   },
   "outputs": [
    {
     "data": {
      "text/html": [
       "\n",
       "        <iframe\n",
       "            width=\"400\"\n",
       "            height=\"300\"\n",
       "            src=\"https://www.youtube.com/embed/oaFQLKDAPho\"\n",
       "            frameborder=\"0\"\n",
       "            allowfullscreen\n",
       "        ></iframe>\n",
       "        "
      ],
      "text/plain": [
       "<IPython.lib.display.YouTubeVideo at 0x1062a99d0>"
      ]
     },
     "execution_count": 1,
     "metadata": {},
     "output_type": "execute_result"
    }
   ],
   "source": [
    "from IPython.display import YouTubeVideo\n",
    "YouTubeVideo('oaFQLKDAPho')"
   ]
  },
  {
   "cell_type": "markdown",
   "metadata": {},
   "source": [
    "If you're looking for more helpful intros to iPython Notebook, check out:\n",
    "https://www.youtube.com/watch?v=qb7FT68tcA8"
   ]
  },
  {
   "cell_type": "code",
   "execution_count": null,
   "metadata": {
    "collapsed": false
   },
   "outputs": [],
   "source": []
  }
 ],
 "metadata": {
  "kernelspec": {
   "display_name": "Python 2",
   "language": "python",
   "name": "python2"
  },
  "language_info": {
   "codemirror_mode": {
    "name": "ipython",
    "version": 2
   },
   "file_extension": ".py",
   "mimetype": "text/x-python",
   "name": "python",
   "nbconvert_exporter": "python",
   "pygments_lexer": "ipython2",
   "version": "2.7.10"
  }
 },
 "nbformat": 4,
 "nbformat_minor": 0
}
