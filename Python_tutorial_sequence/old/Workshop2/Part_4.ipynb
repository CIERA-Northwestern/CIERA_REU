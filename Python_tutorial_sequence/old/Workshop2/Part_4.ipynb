{
 "cells": [
  {
   "cell_type": "markdown",
   "metadata": {},
   "source": [
    "# Example Analysis with Zooniverse GalaxyZoo Data"
   ]
  },
  {
   "cell_type": "markdown",
   "metadata": {},
   "source": [
    "<img src=\"http://jmcolberg.com/weblog/archives/GalaxyZoo.jpg\" width = \"600x\">"
   ]
  },
  {
   "cell_type": "markdown",
   "metadata": {},
   "source": [
    "## Step 1: Where are all the galaxies?"
   ]
  },
  {
   "cell_type": "markdown",
   "metadata": {},
   "source": [
    "Let's see where in the universe our <a href=\"http://www.galaxyzoo.org\"> GalaxyZoo</a> galaxies are located.\n",
    "\n",
    "You will be using the data file <a href=\"data/GZ_class_mags.dat\">GZ_data.dat</a> which contains all of the classification results for the GalaxyZoo galaxies. Let's see what data is contained in this file. (To read in this data file, we will use 'ascii.read', which is a little different than the fits.open command you used in <a href=\"../Workshop1/Part_2.ipynb\">Part 2</a> because they are different types of data files).  "
   ]
  },
  {
   "cell_type": "code",
   "execution_count": null,
   "metadata": {
    "collapsed": true
   },
   "outputs": [],
   "source": [
    "#Import needed astropy library\n",
    "from astropy.table import Table,Column\n",
    "from astropy.io import ascii\n",
    "\n",
    "#Read in data table\n",
    "#Fill in the blank with the ascii.read function as you did in Part 3\n",
    "Galaxies = --- ('data/GZ_class_mags.dat')\n",
    "Galaxies\n",
    "\n",
    "#Run this cell (shortcut=shift+enter) to read in your data table.\n",
    "#Note: Be patient. This is a large file and may take a minute or so to load."
   ]
  },
  {
   "cell_type": "markdown",
   "metadata": {},
   "source": [
    "In order to determine the <i> location </i> of the galaxies, we will use the galactic latitude and longitude of the galaxies. These are called the <a href=\"http://astro.unl.edu/classaction/animations/coordsmotion/radecdemo.html\">RA and DEC</a> values, and are located in columns three and four. Use these values to create a plot of the location of each galaxy in the sky."
   ]
  },
  {
   "cell_type": "markdown",
   "metadata": {},
   "source": [
    "## Make a plot using the commands you learned in <a href=\"../Workshop1/Part_2.ipynb\">Part 2</a>."
   ]
  },
  {
   "cell_type": "code",
   "execution_count": null,
   "metadata": {
    "collapsed": true
   },
   "outputs": [],
   "source": [
    "\"\"\"\"First create two variables, RA and DEC, that contain the RA and DEC values from the table.\"\"\"\n",
    "#Access the 'RA' and 'DEC' values from the Galaxies index and assign those values to RA and DEC, respectively\n",
    "#If you need a refresher, look back at how you accessed GLON and GLAT data in Part 2\n"
   ]
  },
  {
   "cell_type": "markdown",
   "metadata": {},
   "source": [
    "#### Now make a plot of RA vs Dec\n",
    "\n",
    "Reuse the matplotlib.pyplot commands you used in <a href=\"../Workshop1/Part_2.ipynb\">Part 2</a>.\n",
    "* Remember, first insert a new cell below, type in your code, and then 'run the cell' by pressing the play button in the top menu.\n",
    "* Remember to include any needed libraries"
   ]
  },
  {
   "cell_type": "code",
   "execution_count": null,
   "metadata": {
    "collapsed": true
   },
   "outputs": [],
   "source": []
  },
  {
   "cell_type": "markdown",
   "metadata": {},
   "source": [
    "Your plot of RA vs Dec for all the Galaxy Zoo galaxies will look something like the image below (though doesn't need to be in this same projection). \n",
    "\n",
    "The right-hand image shows with a yellow-green squiggle where the disk of our Milky Way galaxy lives. The disk of our Milky Way blocks our view of distant galaxies in that part of our sky. \n",
    "\n",
    "<img style=\"float: left\" src=\"http://classic.sdss.org/dr7/dr7photo_big.gif\" width=\"400x\">\n",
    "\n",
    "<img style=\"float: right\" src=\"http://farm2.static.flickr.com/1055/4724975807_79f8722a8d_b.jpg\" width = \"500x\">"
   ]
  },
  {
   "cell_type": "markdown",
   "metadata": {},
   "source": [
    "### Step 2: What Color are Typical Spiral Galaxies?"
   ]
  },
  {
   "cell_type": "markdown",
   "metadata": {},
   "source": [
    "Subtracting a galaxy's i-band brightness from its g-band brightness can tell you how much bluer or redder the galaxy is. Smaller values of g-i mean the galaxy is bluer, larger values of g-i means that it's redder."
   ]
  },
  {
   "cell_type": "markdown",
   "metadata": {},
   "source": [
    "<img src=\"http://faculty.wcas.northwestern.edu/aaron-geller/myimages/sequence-de-hubble-galaxies.jpg\" width = \"600x\">\n",
    "<img src=\"http://faculty.wcas.northwestern.edu/aaron-geller/myimages/plot_sdss_filters_1.png\" width = \"600x\">\n",
    "\n"
   ]
  },
  {
   "cell_type": "markdown",
   "metadata": {},
   "source": [
    "### We will need to use the numpy functions np.array and np.subtract to create a new array of corrected color numbers."
   ]
  },
  {
   "cell_type": "markdown",
   "metadata": {},
   "source": [
    "#### 'np.array' creates an array of numbers from a data set. See the example below:"
   ]
  },
  {
   "cell_type": "code",
   "execution_count": null,
   "metadata": {
    "collapsed": false
   },
   "outputs": [],
   "source": [
    "#Import needed numpy library\n",
    "import numpy as np\n",
    "\n",
    "my_array = np.array([1, 2, 3, 4])\n",
    "print my_array"
   ]
  },
  {
   "cell_type": "markdown",
   "metadata": {},
   "source": [
    "#### 'np.subtract' subtracts one number from another. See the example below:"
   ]
  },
  {
   "cell_type": "code",
   "execution_count": null,
   "metadata": {
    "collapsed": false
   },
   "outputs": [],
   "source": [
    "#Import needed numpy library\n",
    "import numpy as np\n",
    "\n",
    "new_number = np.subtract(7, 3)\n",
    "print new_number"
   ]
  },
  {
   "cell_type": "markdown",
   "metadata": {},
   "source": [
    "### You are going to create arrays called gmag and imag that have the data from the g_mag and i_mag columns in the galaxies data set. <br> <br> Then you will subtract imag from gmag"
   ]
  },
  {
   "cell_type": "code",
   "execution_count": null,
   "metadata": {
    "collapsed": true
   },
   "outputs": [],
   "source": [
    "#Create your gmag array using np.array and Galaxies['g_mag']\n",
    "gmag = np.array(Galaxies['g_mag'])\n",
    "\n",
    "#Create your imag array using np.array and Galaxies['i_mag']\n",
    "imag =\n",
    "\n",
    "#Use np.subtract to subtract the imag array from the gmag array\n",
    "color = \n",
    "\n",
    "#As a test, print the color values for the first ten galaxies\n",
    "print color[0:10]\n",
    "\n",
    "#Print the minimum and maximum color value\n",
    "print 'min/max color:',min(color),max(color)"
   ]
  },
  {
   "cell_type": "markdown",
   "metadata": {},
   "source": [
    "Do you notice how the color values for the first ten galaxies are all around '1', but the min & max color values are really high and really low? \n",
    "\n",
    "These very high/low values are because there are some sources for which the telescope was unable to get a good value for magnitude or brightness. In the table, the magnitudes for these sources have been set to -999, as a flag to indicate that they're bad values. \n",
    "\n",
    "Often when working with data, you'll need to be aware of 'bad' values and make sure you filter them out."
   ]
  },
  {
   "cell_type": "markdown",
   "metadata": {},
   "source": [
    "## To Flag bad color values: Use np.where to pick out the indices with values greater than 99 or less than -99."
   ]
  },
  {
   "cell_type": "markdown",
   "metadata": {},
   "source": [
    "Use np.where and identify the index values where color < -99 or color > 99. (If you need a refresher on how to use the 'where' function, look back at <a href=\"Part_3.ipynb\">Part 3</a>.)."
   ]
  },
  {
   "cell_type": "code",
   "execution_count": null,
   "metadata": {
    "collapsed": true
   },
   "outputs": [],
   "source": [
    "#Make x equal to the values where color < -99\n",
    "x = \n",
    "#Make y equal to the values where color > 99\n",
    "y = \n",
    "\n",
    "#Set the color values for these bad spots to NAN (not a finite number)\n",
    "#This will ensure the bad data points don't end up in your histogram\n",
    "color[x] = np.nan\n",
    "color[y] = np.nan"
   ]
  },
  {
   "cell_type": "code",
   "execution_count": null,
   "metadata": {
    "collapsed": true
   },
   "outputs": [],
   "source": [
    "%matplotlib inline\n",
    "import matplotlib.pyplot as plt\n",
    "\n",
    "#Plot a histogram of the finite values in the color array\n",
    "#note, there are no more color < -99 or color > 99 values\n",
    "#notice how we use the np.isfinite to pick out just the finite color values\n",
    "plt.hist(color[np.isfinite(color)],facecolor='yellow')"
   ]
  },
  {
   "cell_type": "markdown",
   "metadata": {},
   "source": [
    "Above you should have created a histogram that gives you the colors for the galaxies in GalaxyZoo"
   ]
  },
  {
   "cell_type": "markdown",
   "metadata": {},
   "source": [
    "## Now let's analyze the data provided by GalaxyZoo and see the differences and similarities between the colors of the Elliptical and Spiral galaxies"
   ]
  },
  {
   "cell_type": "markdown",
   "metadata": {},
   "source": [
    "##### Part A: Make an array of the indices for spiral galaxies"
   ]
  },
  {
   "cell_type": "code",
   "execution_count": null,
   "metadata": {
    "collapsed": true
   },
   "outputs": [],
   "source": [
    "#Use the 'where' function to identify all the Spiral galaxies.\n",
    "#Fill in the blank with the identifier for spiral galaxies: 'Spiral'\n",
    "spirals_ind = np.where(Galaxies[---] == 1)[0]\n",
    "\n",
    "#Just to see that these are indices of the array, print the first 10 values\n",
    "print spirals_ind[0:10]"
   ]
  },
  {
   "cell_type": "markdown",
   "metadata": {},
   "source": [
    "Look at the indices printed above and compare with where you see the Spiral column equal '1' in the data table. Does this make sense? <br>\n",
    "Note: in Python, you start counting with '0' as your first number."
   ]
  },
  {
   "cell_type": "markdown",
   "metadata": {},
   "source": [
    "##### Part B: Make an array with the colors just for Spiral galaxies:"
   ]
  },
  {
   "cell_type": "code",
   "execution_count": null,
   "metadata": {
    "collapsed": true
   },
   "outputs": [],
   "source": [
    "#Pick out the subset of color values associated with the spiral galaxy indices\n",
    "#Fill in the blank with spirals_ind\n",
    "spirals_color = color[---]\n",
    "\n",
    "print spirals_color[0:10]\n",
    "print min(spirals_color),max(spirals_color)"
   ]
  },
  {
   "cell_type": "markdown",
   "metadata": {},
   "source": [
    "### Now repeat Parts A and B for elliptical galaxies"
   ]
  },
  {
   "cell_type": "code",
   "execution_count": null,
   "metadata": {
    "collapsed": true
   },
   "outputs": [],
   "source": [
    "#Use the 'where' function to identify all the Elliptical galaxies.\n",
    "\n",
    "#Pick out the subset of color values associated with the elliptical galaxy indices\n"
   ]
  },
  {
   "cell_type": "markdown",
   "metadata": {},
   "source": [
    "## Now let's make a plot of the Spiral Galaxies' color vs. the number of galaxies that are that color (i.e., a histogram)."
   ]
  },
  {
   "cell_type": "code",
   "execution_count": null,
   "metadata": {
    "collapsed": true
   },
   "outputs": [],
   "source": [
    "import matplotlib.pyplot as plt\n",
    "import matplotlib.mlab as mlab\n",
    "import numpy as np\n",
    "\n",
    "#Plot a histogram for the spirals' color\n",
    "#notice how we use the np.isfinite to pick out just the finite color values\n",
    "plt.hist(spirals_color[np.isfinite(spirals_color)],bins=50,facecolor='blue')\n",
    "\n",
    "#Label the plot\n",
    "plt.xlabel('')\n",
    "plt.ylabel('')\n",
    "plt.title('')\n",
    "plt.xlim(xmin=0,xmax=3)"
   ]
  },
  {
   "cell_type": "markdown",
   "metadata": {},
   "source": [
    "## Make the same histogram plot, but for the Elliptical Galaxies' color."
   ]
  },
  {
   "cell_type": "code",
   "execution_count": null,
   "metadata": {
    "collapsed": true
   },
   "outputs": [],
   "source": []
  },
  {
   "cell_type": "markdown",
   "metadata": {},
   "source": [
    "# Now overplot the Spiral color histogram over the Elliptical color histogram"
   ]
  },
  {
   "cell_type": "markdown",
   "metadata": {},
   "source": [
    "For suggestions on how to overplot in a histogram plot, go <a href=\"../examples/MultipleHistogramsExample.ipynb\">here</a>.\n",
    "\n",
    "<!--- a http://matplotlib.org/1.2.1/examples/pylab_examples/histogram_demo.html http://www.bertplot.com/visualization/?p=229\n",
    "      \"-->"
   ]
  },
  {
   "cell_type": "code",
   "execution_count": null,
   "metadata": {
    "collapsed": true
   },
   "outputs": [],
   "source": []
  },
  {
   "cell_type": "markdown",
   "metadata": {},
   "source": [
    "What do you notice about the color of the Spiral Galaxies? Do you see how most are bluer in color? Remember, the lower the value for 'g-i' color, the bluer the galaxy. The bluer color indicates that the galaxy is currently making new stars (i.e., has active star formation). \n",
    "\n",
    "The result (that spiral galaxies tend to be bluer) makes sense. The figure below shows a typical example of a blue, actively star forming, spiral galaxy."
   ]
  },
  {
   "cell_type": "markdown",
   "metadata": {},
   "source": [
    "<img src=\"http://i.space.com/images/i/000/044/763/i02/area-around-andromeda-galaxy.jpg?1420653454\">"
   ]
  },
  {
   "cell_type": "markdown",
   "metadata": {},
   "source": [
    "However, also notice the exceptions. In your histogram, you see that a number of spiral galaxies are redder in color (have higher 'g-i' color values). These are galaxies where classifiers saw they had spiral arms, but their color tells us that they have no active star formation happening. <a href=\"http://www.sciencedaily.com/releases/2008/11/081124194936.htm\">A special process has shut off star formation in these galaxies.</a> \n",
    "\n",
    "Finding this intriguing result was possible because of the huge numbers of galaxies in GalaxyZoo!"
   ]
  },
  {
   "cell_type": "markdown",
   "metadata": {},
   "source": [
    "### Step 3: Looking at individual galaxies of interest."
   ]
  },
  {
   "cell_type": "markdown",
   "metadata": {},
   "source": [
    "If you identify a subset of galaxies in the GalaxyZoo data table that you'd like to look at individually in more detail, you can do the following:"
   ]
  },
  {
   "cell_type": "code",
   "execution_count": null,
   "metadata": {
    "collapsed": true
   },
   "outputs": [],
   "source": [
    "#Select particular galaxies of interest, for example, red spirals\n",
    "\n",
    "# np.where picks out sources that have \n",
    "# 1.9 < color > 1.91 AND they are spiral galaxies\n",
    "redSpirals = np.where((color > 1.9) & (color < 1.91) & (Galaxies['Spiral'] == 1))[0]\n",
    "\n",
    "#The 'len' command is short for 'length'\n",
    "#It tells you how many sources are in the RedSpirals array\n",
    "print '# of Red Spirals: ',len(redSpirals)\n",
    "\n",
    "#Print the RA, Dec values for the galaxies of interest\n",
    "#Use a for loop to print the RA,DEC values as a pair for each galaxy\n",
    "for j in redSpirals:\n",
    "    print Galaxies['RA'][j],Galaxies['DEC'][j]"
   ]
  },
  {
   "cell_type": "markdown",
   "metadata": {},
   "source": [
    "### Visualize these Red Spirals"
   ]
  },
  {
   "cell_type": "markdown",
   "metadata": {},
   "source": [
    "Now copy and paste these RA,Dec values into the <a href=\"http://skyserver.sdss.org/dr7/en/tools/chart/navi.asp\">SDSS SkyServer finder chart</a>. You'll see an image of the galaxy of interest. <br>\n",
    "\n",
    "Click on 'Quick Look' in the middle right of that page to get additional information about your galaxy.<br>\n",
    "\n",
    "Do you see how they're red spirals?! Check out <a href=\"http://arxiv.org/abs/0910.4113\">Dr. Karen Masters article on Red Spirals in Galaxy Zoo</a>."
   ]
  },
  {
   "cell_type": "markdown",
   "metadata": {},
   "source": [
    "# Congratulations! You've completed Part 4!"
   ]
  },
  {
   "cell_type": "markdown",
   "metadata": {},
   "source": [
    "## Extension Activity:\n",
    "#### Look for other trends in galaxy type, magnitude, and/or color. Do your results make sense?"
   ]
  },
  {
   "cell_type": "code",
   "execution_count": null,
   "metadata": {
    "collapsed": true
   },
   "outputs": [],
   "source": []
  }
 ],
 "metadata": {
  "kernelspec": {
   "display_name": "Python 2",
   "language": "python",
   "name": "python2"
  },
  "language_info": {
   "codemirror_mode": {
    "name": "ipython",
    "version": 2
   },
   "file_extension": ".py",
   "mimetype": "text/x-python",
   "name": "python",
   "nbconvert_exporter": "python",
   "pygments_lexer": "ipython2",
   "version": "2.7.13"
  }
 },
 "nbformat": 4,
 "nbformat_minor": 0
}
