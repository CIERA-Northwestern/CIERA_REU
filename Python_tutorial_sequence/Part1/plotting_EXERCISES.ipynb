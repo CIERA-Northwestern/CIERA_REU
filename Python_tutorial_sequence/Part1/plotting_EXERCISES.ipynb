{
 "cells": [
  {
   "cell_type": "markdown",
   "metadata": {
    "colab_type": "text",
    "id": "hv6ifuGpKsBT"
   },
   "source": [
    "# Plotting and Curve Fitting Real Data\n",
    "\n",
    "*We will use various modules to plot, manipulate, and fit astronomical data.  In addition, a primer on random numbers concludes this part.*\n",
    "\n",
    "   Section A: [Radio Recombination Lines in the Galactic Center](#sectionA)\n",
    "\n",
    "   Section B: [Using Data from Bubbles in the Milky Way](#sectionB)\n",
    "\n",
    "   Section C: [Zooinverse Galaxy Zoo Data](#sectionC)\n",
    "   \n",
    "   Section D: [Random Numbers](#sectionD)"
   ]
  },
  {
   "cell_type": "markdown",
   "metadata": {
    "colab_type": "text",
    "id": "h2z3HUGMKsCI",
    "jp-MarkdownHeadingCollapsed": true
   },
   "source": [
    "***\n",
    "<a id='sectionA'></a>\n",
    "## A. Radio Recombination Lines in the Galactic Center"
   ]
  },
  {
   "cell_type": "markdown",
   "metadata": {
    "colab_type": "text",
    "id": "8skVIfm1KsCJ"
   },
   "source": [
    "<img src=\"https://upload.wikimedia.org/wikipedia/commons/thumb/0/00/Center_of_the_Milky_Way_Galaxy_IV_%E2%80%93_Composite.jpg/1920px-Center_of_the_Milky_Way_Galaxy_IV_%E2%80%93_Composite.jpg\" width = \"800x\">"
   ]
  },
  {
   "cell_type": "markdown",
   "metadata": {
    "colab_type": "text",
    "id": "y2c191aLKsCK"
   },
   "source": [
    "The [center of the Milky Way Galaxy](https://en.wikipedia.org/wiki/Galactic_Center) is 27,000 light years from our solar system and harbors a [4 million solar mass super massive black hole](https://en.wikipedia.org/wiki/Sagittarius_A*).  Despite the presence of this black hole, [star formation appears to still be occurring](https://arxiv.org/abs/0905.2161).  Evidence of such star formation is available in the surrounding gas which appears ionized due to radiation from bright young stellar objects.\n",
    "\n",
    "Ionized gas consists of a soup of protons and electrons that are continuously recombining (and reionizing).  When an electron recombines with a proton it typically starts in a highly energetic state rather than immediately landing in the ground state.  The electron then cascades down one energy level at a time until it finds itself in the ground state (and eventually gets reionized). \n",
    "\n",
    "However, each time the electron moves down one energy level a photon is emitted that we can observe (called recombination lines).  We will use data from such an observation to measure the velocity of the gas."
   ]
  },
  {
   "cell_type": "code",
   "execution_count": null,
   "metadata": {
    "colab": {
     "autoexec": {
      "startup": false,
      "wait_interval": 0
     }
    },
    "colab_type": "code",
    "id": "hMyj1PRhKsCL"
   },
   "outputs": [],
   "source": [
    "import matplotlib.pyplot as plt\n",
    "import numpy as np\n",
    "from scipy.optimize import curve_fit\n",
    "from astropy.io import ascii"
   ]
  },
  {
   "cell_type": "markdown",
   "metadata": {
    "colab_type": "text",
    "id": "5goErYrkKsCO"
   },
   "source": [
    "The data we will use is of the [mini-spiral](https://aasnova.org/2017/06/23/exploring-the-minispiral-at-the-milky-ways-center/) of the Galactic Center.  The mini-spiral is a collection of ionized gas 'streamers' that are oribiting the super massive black hole.  The observation is from [ALMA](https://almascience.nrao.edu/), a giant array of 12-m antennas in Chile.\n",
    "\n",
    "\n",
    "<img src=\"https://upload.wikimedia.org/wikipedia/commons/thumb/b/b6/The_Atacama_Compact_Array.jpg/1920px-The_Atacama_Compact_Array.jpg\" width = \"800x\">\n"
   ]
  },
  {
   "cell_type": "markdown",
   "metadata": {
    "colab_type": "text",
    "id": "GSFrgmRcKsCU"
   },
   "source": [
    "`H30a_gc.txt` refers to the galactic center (gc) at a frequency (~230 GHz) which corresponds to the photon that is emitted from an electron moving down one (alpha) energy level in hydrogen (H) gas from n=30."
   ]
  },
  {
   "cell_type": "code",
   "execution_count": null,
   "metadata": {
    "colab": {
     "autoexec": {
      "startup": false,
      "wait_interval": 0
     }
    },
    "colab_type": "code",
    "id": "KounWBF8KsCQ"
   },
   "outputs": [],
   "source": [
    "# Open the file. You can use np.genfromtxt, ascii.read (Megan's preferred way), \n",
    "# or Pandas dataframes if familiar. If using Pandas, remember to ignore file comments\n",
    "spectra = np.genfromtxt('data/h30a_gc.txt') # ascii.read('data/h30a_gc.txt') #pd.read_csv('data/h30a_gc.txt', delim_whitespace=True, comment='#', header=None) #\n",
    "\n",
    "# To access the columns, use indexing for np.genfromtxt ( [:,0] for first column, [:, 1] for second ),\n",
    "# or use the name of columns (if provided) when using ascii.read (which is why I prefer it!)\n",
    "\n",
    "vels = spectra[:,0] # units are km/s\n",
    "flux = spectra[:,1] # units are Janskys (Jy)\n",
    "flux *= 1e3  #convert Jy to mJy for convenience later"
   ]
  },
  {
   "cell_type": "code",
   "execution_count": null,
   "metadata": {
    "colab": {
     "autoexec": {
      "startup": false,
      "wait_interval": 0
     }
    },
    "colab_type": "code",
    "id": "y_9EDZpzKsCV",
    "outputId": "a073ba0e-29a5-4098-b198-b898c4471b36"
   },
   "outputs": [],
   "source": [
    "# Now we can plot the data. Fill in the '---' below!\n",
    "\n",
    "f,ax = plt.subplots(1,1, figsize=(8,5))\n",
    "\n",
    "ax.plot(---, ---,'k', linewidth=0.7)\n",
    "ax.set_xlim(---, ---) \n",
    "ax.set_xlabel('Velocity (km/s)')\n",
    "ax.set_ylabel('Flux Density (mJy)')"
   ]
  },
  {
   "cell_type": "markdown",
   "metadata": {
    "colab_type": "text",
    "id": "VUmWsEIDKsCZ"
   },
   "source": [
    "Note that you can use `step` to plot rather than `plot`, which can be a useful reminder for spectra as each y-value is effectively a count (in this case intensity) for the corresponding velocity (or wavelength) bin - similar to a histogram. Either are fine for visualizing though.\n",
    "\n",
    "## Now we will want to fit the data with a curve.  The shape of the emission line (you can make a guess by eye) is the model we want to fit the data with. But wait! Before we can directly fit this line though we need to subtract out the 'continuum' - the flat flux density around the emission line.\n",
    "\n",
    "Remember that the line emission we see is due to electrons changning energy levels that was captured by a proton.  Often times though a free electron will interact with a proton but not actually get captured.  When this happens the force between the two particles causes an acceleration in the electron which in turn causes a photon to be emitted.  This is called [Bremsstrahlung](https://en.wikipedia.org/wiki/Bremsstrahlung) or free-free emission because both particles are free before and after the interaction.\n",
    "\n",
    "The continuum we see is (in part) a result of this free-free emission because it can emit at any frequency.  However, since it detracts from what we are interested in (the recombination line emission) we will want to subtract it out. This continuum can be approximately modelled as linear, particularily for the data we have.  The fitting routine we will use `scipy`'s [`curve_fit`](https://docs.scipy.org/doc/scipy/reference/generated/scipy.optimize.curve_fit.html) to fit a linear model the flat region of data (the continuum), but with one catch: we must also <i>exclude</i> the emission line when fitting the continuum."
   ]
  },
  {
   "cell_type": "code",
   "execution_count": null,
   "metadata": {},
   "outputs": [],
   "source": [
    "# The curve_fit function requires we define our model as a callable function, so lets do that.\n",
    "# In this case it's a linear fit, so we'll use y = m x + b.\n",
    "# Thus, you will need your function to accept three variables (x, m, b).\n",
    "\n",
    "def linModel(x, m, b):\n",
    "    y = --- #fill in!\n",
    "    return y"
   ]
  },
  {
   "cell_type": "markdown",
   "metadata": {},
   "source": [
    "Now, using the above plot, which range of velocities do we want to fit the continuum to? "
   ]
  },
  {
   "cell_type": "code",
   "execution_count": null,
   "metadata": {},
   "outputs": [],
   "source": [
    "# lets go with -400<v<-150 AND 0<v<400\n",
    "# we can use np.where to find the index where these velocities are\n",
    "\n",
    "# use the '&' operand insde of the np.where argument to constrain the regions\n",
    "contInd_reg1 = np.where((--- < vels) & (vels < ---))[0]\n",
    "contInd_reg2 = np.where((--- < vels) & (vels < ---))[0]\n",
    "contInd = np.concatenate((contInd_reg1, contInd_reg2))  #putting together the two 'regions'\n",
    "\n",
    "# now lets input this into linModel\n",
    "# make sure you are only selecting the above region\n",
    "# Notice that curve_fit returns a tuple (of arrays).\n",
    "fitCoeffs, fitCovariances = curve_fit(---, vels[---], flux[---])\n",
    "\n",
    "bestfit_m = fitCoeffs[---] #Which index returned by fitCoeffs will be the best-fit slope?\n",
    "bestfit_b = fitCoeffs[---] #Which index returned by fitCoeffs will be the best-fit y-intercept?\n",
    "\n",
    "print(f'best-fit value for \\'m\\': {bestfit_m}')\n",
    "print(f'best-fit value for \\'b\\': {bestfit_b}')"
   ]
  },
  {
   "cell_type": "markdown",
   "metadata": {},
   "source": [
    "Now that we have modelled the continuum, we need to subract it from the real continuum so that we are left with data that contains the line emission only."
   ]
  },
  {
   "cell_type": "code",
   "execution_count": null,
   "metadata": {},
   "outputs": [],
   "source": [
    "# get the modelled continuum\n",
    "contModel = linModel(flux, bestfit_m, bestfit_b)\n",
    "# subtract it from the data:\n",
    "contFree = flux - ---\n",
    "\n",
    "# now another plot to make sure it looks OK\n",
    "# same as above but use 'contFree' instead of flux\n",
    "f,ax = plt.subplots(1,1, figsize=(8,5), dpi=100)\n",
    "\n",
    "ax.step(vels, ---, 'k', lw=0.7)\n",
    "plt.show()"
   ]
  },
  {
   "cell_type": "markdown",
   "metadata": {},
   "source": [
    "Notice the continuum level now.  Hopefully its at zero now?  If so good, then we can get what we are actually after - the emission line.  Which as perviously mentioned we are going to model as a Gaussian.\n",
    "\n",
    "If we assume that the zero level of the Gaussian is at 0 (which we can safely do now that we subtracted the continuum), we can model the spectrum with the expression:\n",
    "\n",
    "$$ y = I_0 e^{-4\\ln{\\left(2\\right)} \\alpha^2}$$\n",
    "where,\n",
    "$$ \\alpha = \\frac{x-v_0}{w}. $$\n",
    "\n",
    "Here $I_0$ is the peak intensity, $v_0$ is the position of the peak intensity, and $w$ is the full width at half maximum (FWHM).\n",
    "\n",
    "Similar to the line fit, we will need to define a function for a Gaussian before using `curve_fit`."
   ]
  },
  {
   "cell_type": "code",
   "execution_count": null,
   "metadata": {
    "colab": {
     "autoexec": {
      "startup": false,
      "wait_interval": 0
     }
    },
    "colab_type": "code",
    "id": "FcAnRIqrKsCi"
   },
   "outputs": [],
   "source": [
    "# Lets make a function describing a gaussian AS SHOWN ABOVE for curve_fit\n",
    "def gauss(x, *params):\n",
    "    peak, vel, fwhm = params\n",
    "    a = ---\n",
    "    y = ---\n",
    "    return y"
   ]
  },
  {
   "cell_type": "markdown",
   "metadata": {
    "colab_type": "text",
    "id": "B1eJxl6wKsCl"
   },
   "source": [
    "Last time we used `curve_fit` we were able to let the function use a default set of initial guesses.  However, this time the function is much more complicated so we will have to make a guess first.  Use our initial plot of the spectrum to make a guess of the fit parameters."
   ]
  },
  {
   "cell_type": "code",
   "execution_count": null,
   "metadata": {
    "colab": {
     "autoexec": {
      "startup": false,
      "wait_interval": 0
     }
    },
    "colab_type": "code",
    "id": "Zj9m80VsKsCl"
   },
   "outputs": [],
   "source": [
    "# p0 should be a list (or tuple) with our intial guesses of the three parameters\n",
    "p0 = np.array([---, ---, ---]) # what's your initial guess?\n",
    "\n",
    "# now we can try to fit the data\n",
    "fitCoeffs, fitCov = curve_fit(gauss, vels, contFree, p0=p0)"
   ]
  },
  {
   "cell_type": "code",
   "execution_count": null,
   "metadata": {
    "colab": {
     "autoexec": {
      "startup": false,
      "wait_interval": 0
     }
    },
    "colab_type": "code",
    "id": "63_HqOnNKsCn",
    "outputId": "357b1bfd-05b6-432c-90da-3442d83eda98"
   },
   "outputs": [],
   "source": [
    "# lets plot the data again along with the fit to see if things look OK\n",
    "\n",
    "fig, ax = plt.subplots(1,1, figsize=(8,5), dpi=100)\n",
    "ax.plot(vels, contFree, 'k', lw=0.7)\n",
    "# and plot the Gaussian resulting from the best-fit parameters!\n",
    "ax.plot(vels, gauss(vels, *fitCoeffs), 'r')\n",
    "plt.show()"
   ]
  },
  {
   "cell_type": "markdown",
   "metadata": {},
   "source": [
    "### The uncertainty in the model fit\n",
    "\n",
    "The second element that `curve_fit` produced is the [covariance matrix](https://en.wikipedia.org/wiki/Covariance_matrix), which contains information about the uncertainty of the best fit values.\n",
    "\n",
    "### The diagonals are the squares of the standard deviations of our fit parameters.  In this case, we have three because we had three fit parameters.\n",
    "\n",
    "The off-diagonal elements tell us the \"covariance,\" a measure of how the two variables vary together – in other words, the degree to which two variables are linearly associated."
   ]
  },
  {
   "cell_type": "code",
   "execution_count": null,
   "metadata": {},
   "outputs": [],
   "source": [
    "print(f'Covariance matrix:\\n{fitCov}')"
   ]
  },
  {
   "cell_type": "code",
   "execution_count": null,
   "metadata": {
    "colab": {
     "autoexec": {
      "startup": false,
      "wait_interval": 0
     }
    },
    "colab_type": "code",
    "id": "8Ur16cE4KsCs",
    "outputId": "94b021af-392d-4ce7-8fd5-c737467b6a69"
   },
   "outputs": [],
   "source": [
    "# getting the results of each parameter\n",
    "peak = fitCoeffs[0]\n",
    "vel = fitCoeffs[1]\n",
    "fwhm = fitCoeffs[2]\n",
    "\n",
    "# get the standard deviation, a.k.a. sigma, for each parameter.\n",
    "peakErr = np.sqrt(fitCov[0,0])\n",
    "velErr = np.sqrt(fitCov[1,1])\n",
    "fwhmErr = np.sqrt(fitCov[2,2])\n",
    "\n",
    "print(f'The peak intensity is : {peak:5.3} +/-{peakErr:4.1} mJy') #Notice this notation is convenient\n",
    "print(f'The center velocity is: {vel:5.3} +/-{velErr:4.1} km/s') #for printing things neatly - \n",
    "print(f'The FWHM is           : {fwhm:5.3} +/-{fwhmErr:4.1} km/s') #remember this for later!"
   ]
  },
  {
   "cell_type": "markdown",
   "metadata": {},
   "source": [
    "The quality of the data (and the fit) can be visualized by plotting the residual.  This is simply the difference between the fit and the data."
   ]
  },
  {
   "cell_type": "code",
   "execution_count": null,
   "metadata": {},
   "outputs": [],
   "source": [
    "# subtract the fit from the data\n",
    "residual = contFree - gauss(---, ---)\n",
    "\n",
    "# get the standard deviation of the residual:\n",
    "std = np.std(---)\n",
    "rms = 'RMS: ' + str(std)\n",
    "\n",
    "# and plot\n",
    "f,ax = plt.subplots(figsize=(8,4))\n",
    "ax.step(vels, residual,'k', linewidth=0.7)\n",
    "ax.text(0.05,0.9,rms,transform=ax.transAxes) # print out the rms on the plot\n",
    "# make sure to add labels\n"
   ]
  },
  {
   "cell_type": "markdown",
   "metadata": {
    "colab_type": "text",
    "id": "xSzTtQp1KsCu"
   },
   "source": [
    "#### Exercise!\n",
    "Load up a different spectrum, 'data/h30a_gc_2comp.txt'.  This spectrum contains multiple (two) emission lines.  Perform the same analysis as above to fit both Gaussian components.  Plot and and print your results.  You don't have to subtract the continuum as it has already been done for this spectrum.   (*Further challenge: Can you write your code to work for an arbitary number of emission lines?*)"
   ]
  },
  {
   "cell_type": "code",
   "execution_count": null,
   "metadata": {},
   "outputs": [],
   "source": [
    "# use as many cells as you need.\n",
    "spectra = np.genfromtxt('data/h30a_gc_2comp.txt')\n",
    "vels, flux = spectra[:,0], spectra[:,1]*1e3\n",
    "\n",
    "contIds1 = np.where(vels<---)[0]\n",
    "contIds2 = np.where(vels>---)[0]\n",
    "contIds = np.concatenate((contIds1, contIds2))\n",
    "# Fit the flat (linear) continuum first\n",
    "fitcont_params, fitcont_cov = curve_fit(---, vels[---], flux[---])\n",
    "fitcont = linModel(---, *---)\n",
    "contFree = flux - fitcont\n",
    "\n",
    "# Now block off each emission line\n",
    "line1 = np.where((vels < ---) & (vels > ---))[0]\n",
    "line2 = np.where((vels < ---) & (vels > ---))[0]\n",
    "\n",
    "# Insert first guesses for each line \n",
    "# (try plotting the raw data first if you need to visualize what the guesses should be!)\n",
    "p0_1 = np.array([---, ---, ---])\n",
    "fitgauss1_params, fitgauss1_cov = curve_fit(gauss, vels[line1], flux[line1], p0=p0_1)\n",
    "fitted_1 = gauss(vels[line1], *---)\n",
    "p0_2 = np.array([---, --- ,---])\n",
    "fitgauss2_params, fitgauss2_cov = curve_fit(gauss, vels[line2], flux[line2], p0=p0_2)\n",
    "fitted_2 = gauss(vels[line2], *---)\n",
    "\n",
    "fig, ax = plt.subplots(1,1, figsize=(8,5), dpi=100)\n",
    "ax.plot(vels, contFree, 'k', lw=0.7)\n",
    "ax.plot(vels[line1], fitted_1, 'r', lw=0.7)\n",
    "ax.plot(vels[line2], fitted_2, 'b', lw=0.7)\n",
    "plt.show()"
   ]
  },
  {
   "cell_type": "markdown",
   "metadata": {
    "colab_type": "text",
    "id": "aetmA9GTKsCv"
   },
   "source": [
    "***\n",
    "<a id='sectionB'></a>\n",
    "## B. Using Data from Bubbles in the Milky Way"
   ]
  },
  {
   "cell_type": "markdown",
   "metadata": {
    "colab_type": "text",
    "id": "c131b1JUKsCv"
   },
   "source": [
    "<img src=\"http://www.spitzer.caltech.edu/uploaded_files/images/0008/5977/sig12-002_Med.jpg\" width = \"800x\">"
   ]
  },
  {
   "cell_type": "markdown",
   "metadata": {
    "colab_type": "text",
    "id": "jZM0a182KsCw"
   },
   "source": [
    "Now we will look at “bubbles” in the Milky Way that have been classified thanks to citizen scientists as part of the Zooniverse project. \n",
    "\n",
    "What are these “bubbles”? \n",
    "\n",
    "“They are regions around young massive stars that are so bright that their light has caused a shock wave that affects the cloud around them, blowing a bubble which we can see in infrared light. The dark interior is where the shock has already passed by and the bright red/pink ring around it is where the shock is currently impacting the gas cloud. Most of the circular features (bubbles) in these images are produced by hot young stars, as winds and radiation from these young stars sweep up the surrounding gas and dust from which they formed (like a snowplow that compresses the snow in its path.) Sometimes, the swept-up material becomes dense enough for gravity to pull it together to form new stars.” -- Zooniverse Milky Way\n",
    "\n",
    "Let's visualize where the <a href=\"https://www.milkywayproject.org/\">Zooniverse MilkyWay Project</a> Bubbles are located in our <a href=\"https://www.amnh.org/var/ezflow_site/storage/images/media/amnh/images/explore/ology-images/astronomy/the-milky-way-galaxy/milky-way-galaxy-topview/4971857-3-eng-US/milky-way-galaxy-topview_full_990.jpg\">Milky Way Galaxy</a>. \n",
    "\n",
    "In your data folder is <a href=\"data/MWbubbles.fits\">MWbubbles.fits</a>. This file has the classification results for all the large bubbles discovered through the MilkyWay Project. \n",
    "\n",
    "For each of the 3744 bubbles, MWbubbles.fits provides the Galactic longitude and latitude (see figure below), radius, thickness, eccentricity, position angle, hit rate, dispersion on position, and hierarchy flag. \n",
    "\n",
    "We'll focus on visualizing the Bubbles' Galactic latitude and longitude."
   ]
  },
  {
   "cell_type": "markdown",
   "metadata": {
    "colab_type": "text",
    "id": "_k_ivyb4KsCx"
   },
   "source": [
    "#### What is Galactic Latitude and Longitude?\n",
    "* On the left is an image showing Earth-based longitude and latitude. \n",
    "* On the right is Galactic longitude and latitude. Same idea, but for our whole Galaxy. "
   ]
  },
  {
   "cell_type": "markdown",
   "metadata": {
    "colab_type": "text",
    "id": "HMJHpI3-KsCx"
   },
   "source": [
    "<img style=\"float: left\" src=\"http://upload.wikimedia.org/wikipedia/commons/6/62/Latitude_and_Longitude_of_the_Earth.svg\" width = 440> <img style=\"float: right\" src=\"https://upload.wikimedia.org/wikipedia/commons/2/2a/Galactic_coordinates.JPG\" width = 440>"
   ]
  },
  {
   "cell_type": "markdown",
   "metadata": {
    "colab_type": "text",
    "id": "DGbzr-EWKsCx"
   },
   "source": [
    "### 1. Read in your Data"
   ]
  },
  {
   "cell_type": "code",
   "execution_count": null,
   "metadata": {
    "colab": {
     "autoexec": {
      "startup": false,
      "wait_interval": 0
     }
    },
    "colab_type": "code",
    "id": "8EinYiduKsCx",
    "outputId": "08c1959f-039d-4434-b295-86ecbb359933"
   },
   "outputs": [],
   "source": [
    "# Now we will use astropy to read our data.\n",
    "import astropy.io.fits as fits\n",
    "\n",
    "# Read in *.fits data file\n",
    "Bubbles = fits.open('data/MWbubbles.fits')\n",
    "\n",
    "# Assign Bubbles_data to contain all the data in this table\n",
    "Bubbles_data = Bubbles[1].data\n",
    "\n",
    "# Print the names of each column in this table\n",
    "print(Bubbles[1].columns.names)"
   ]
  },
  {
   "cell_type": "markdown",
   "metadata": {
    "colab_type": "text",
    "id": "DV-J20jPKsC1"
   },
   "source": [
    "#### Here's a brief description of what each column name refers to:\n",
    "\n",
    "* MWP = Milky Way Project Catalog ID\n",
    "* ONames = Other names given each object in the catalog\n",
    "* GLON = Galactic Longitude\n",
    "* GLAT = Galactic Latitude\n",
    "* iXdiam = Inner X Diameter\n",
    "* iYdiam = Inner Y Diameter\n",
    "* oXdiam = Outer X Diamter\n",
    "* Reff = Effective Radius\n",
    "* Thick = Effective Thickness\n",
    "* Ecc = Eccentricity\n",
    "* PA = Ellipse Position Angle\n",
    "* Hit = Hit Rate (indicates the fraction of people who identified this bubble)\n",
    "* Disp = Dispersion on the position\n",
    "* Flag = Hierarchy flags (indicates whether the bubble is associated with other bubbles)\n",
    "\n",
    "<a href=\"https://academic.oup.com/mnras/article/424/4/2442/1054276\">Science research article with additional information on each of these.</a>"
   ]
  },
  {
   "cell_type": "markdown",
   "metadata": {
    "colab_type": "text",
    "id": "rZVec16-KsC1"
   },
   "source": [
    "You can explore what type of data is in each of these columns by changing the appropiate line below. "
   ]
  },
  {
   "cell_type": "code",
   "execution_count": null,
   "metadata": {
    "colab": {
     "autoexec": {
      "startup": false,
      "wait_interval": 0
     }
    },
    "colab_type": "code",
    "id": "GJ-D-Is2KsC1",
    "outputId": "308e7535-91f7-4f4b-e3b2-ff0fccb9a7df"
   },
   "outputs": [],
   "source": [
    "# Print the first three and last three of the values in this particular column of the data table\n",
    "print(Bubbles_data['Reff'])\n",
    "\n",
    "# The reason 'print' doesn't print all 3744 values to your screen is because that would be annoying.\n",
    "# Instead 'print' just gives a snapshot (through the first 3 and last 3 values)"
   ]
  },
  {
   "cell_type": "markdown",
   "metadata": {
    "colab_type": "text",
    "id": "y3Mu35ybKsC3"
   },
   "source": [
    "### 2. Now let's make a scatter plot of the Bubble's longitude vs latitude"
   ]
  },
  {
   "cell_type": "code",
   "execution_count": null,
   "metadata": {
    "colab": {
     "autoexec": {
      "startup": false,
      "wait_interval": 0
     }
    },
    "colab_type": "code",
    "id": "c6Lb3G_0KsC4",
    "outputId": "74dad6e4-caf9-4675-b8c0-ebc143331a3c"
   },
   "outputs": [],
   "source": [
    "# Fill in the dashes to create arrays for longitude and latitude\n",
    "Longitude = Bubbles_data['---']\n",
    "Latitude = Bubbles_data['---']\n",
    "errorVal = 0.001 # we are manually setting a fake, flat error for each lat measurement\n",
    "\n",
    "# Plot the data \n",
    "f,ax = plt.subplots(dpi=100)\n",
    "ax.errorbar(Longitude, Latitude, yerr = errorVal, fmt='ro', markersize=3)\n",
    "\n",
    "ax.set_xlim(0, 400)\n",
    "ax.set_ylim(-2, 2)\n",
    "\n",
    "# Label the plot\n",
    "ax.set_xlabel(\"Longitude\")\n",
    "ax.set_ylabel(\"Latitude\")"
   ]
  },
  {
   "cell_type": "markdown",
   "metadata": {
    "colab_type": "text",
    "id": "09iJfnklKsC7"
   },
   "source": [
    "#### What?! \n",
    "Yes, your plot is missing everything in the middle.  Why does the Longitude vs. Latitude plot look so Funny? \n",
    "\n",
    "The image below is the area the MilkyWay Project looked at in the disk of our galaxy. \n",
    "* Do you notice how Longitude = 0 is at the Galactic Center? \n",
    "* Do you notice how the numbers increase to the left (0->60) and decrease to the right (360->300)? "
   ]
  },
  {
   "cell_type": "markdown",
   "metadata": {
    "colab_type": "text",
    "id": "UOpvVSUhKsC7"
   },
   "source": [
    "<img src=\"http://faculty.wcas.northwestern.edu/aaron-geller/myimages/ssc2014-02a1_ExLrg-v2.jpg\" width=1000>"
   ]
  },
  {
   "cell_type": "markdown",
   "metadata": {
    "colab_type": "text",
    "id": "bTqhkFOcKsC8"
   },
   "source": [
    "The image below is an artist's representation of the same thing. \n",
    "* Looking from our Sun straight towards the Galactic Center means looking at Longitude = 0. \n",
    "* Looking to the left means looking from 0->60 degrees and looking to the right means looking from 360->300 degrees."
   ]
  },
  {
   "cell_type": "markdown",
   "metadata": {
    "colab_type": "text",
    "id": "OJ_xJVhsKsC9"
   },
   "source": [
    "<img src=\"http://faculty.wcas.northwestern.edu/aaron-geller/myimages/050816_milky_way_02.jpg\" width = \"400x\" >"
   ]
  },
  {
   "cell_type": "markdown",
   "metadata": {
    "colab_type": "text",
    "id": "smcES30iKsC9"
   },
   "source": [
    "### 3. Let's fix our Visualization of the Bubbles' Galactic Latitude and Longitude"
   ]
  },
  {
   "cell_type": "markdown",
   "metadata": {
    "colab_type": "text",
    "id": "eNDID_FdKsC9"
   },
   "source": [
    "To fix your plot of Latitude versus Longitude, let's flip all the Longitude > 180 values so our longitude values decrease smoothly from left to right on our x-axis. <br>\n",
    "\n",
    "Let's use numpy's where function again."
   ]
  },
  {
   "cell_type": "code",
   "execution_count": null,
   "metadata": {
    "colab": {
     "autoexec": {
      "startup": false,
      "wait_interval": 0
     }
    },
    "colab_type": "code",
    "id": "-45u1tccKsC-"
   },
   "outputs": [],
   "source": [
    "#Create a new array that's the same as the original Longitude array\n",
    "import copy   #import useful library to make a copy of an array\n",
    "Longitude_new = copy.copy(Longitude)\n",
    "\n",
    "#Use the 'where' function to identify all the Longitude values > 180\n",
    "toShift = np.where(Longitude > ---)[0]\n",
    "\n",
    "#Subtract 360 from all chosen \"toShift\" Longitude values\n",
    "Longitude_shifted = Longitude[toShift]- ---\n",
    "\n",
    "#Replace the old \"toShift\" Longitude values with these new Longitude values\n",
    "Longitude_new[toShift] = ---"
   ]
  },
  {
   "cell_type": "markdown",
   "metadata": {
    "colab_type": "text",
    "id": "OmobjbaLKsDB"
   },
   "source": [
    "Now let's plot these new Bubble Longitude vs Latitude values."
   ]
  },
  {
   "cell_type": "code",
   "execution_count": null,
   "metadata": {
    "colab": {
     "autoexec": {
      "startup": false,
      "wait_interval": 0
     }
    },
    "colab_type": "code",
    "id": "nGl7m7WiKsDB",
    "outputId": "f30e6245-ef0d-4dbd-b962-1e7582b31747"
   },
   "outputs": [],
   "source": [
    "#Plot Longitude_new versus Latitude\n",
    "f,ax = plt.subplots(figsize=(8,5))\n",
    "ax.plot(Longitude_new, Latitude,'ro',markersize=3)\n",
    "\n",
    "#Now play around with which values work best for the plot below\n",
    "ax.set_xlim(---, ---)\n",
    "ax.set_ylim(---, ---)\n",
    "\n",
    "#Label plot\n",
    "ax.set_xlabel(\"Longitude\")\n",
    "ax.set_ylabel(\"Latitude\")\n",
    "plt.show()"
   ]
  },
  {
   "cell_type": "markdown",
   "metadata": {
    "colab_type": "text",
    "id": "DHBf-NV3KsDF"
   },
   "source": [
    "### 4. Fit a line to the data."
   ]
  },
  {
   "cell_type": "code",
   "execution_count": null,
   "metadata": {
    "colab": {
     "autoexec": {
      "startup": false,
      "wait_interval": 0
     }
    },
    "colab_type": "code",
    "id": "xcxxaJ6rKsDF",
    "outputId": "319c156f-0b37-49ba-9158-a939438ad7ee"
   },
   "outputs": [],
   "source": [
    "# Define the function (i.e., the model) you'll fit to your data\n",
    "# Here we use a linear fit again (but you have to make the function!)\n",
    "# Fill in the dashes with the correct input\n",
    "def linModel(x, ---, ---):\n",
    "    y = ---\n",
    "    return(y)\n",
    "\n",
    "fitCoeff, fitCovar = curve_fit(linModel, Longitude_new, Latitude)\n",
    "print(f'fit coefficients:\\n Slope = {fitCoeff[0]}, Intercept = {fitCoeff[1]}')\n",
    "y_int = fitCoeff[1]\n",
    "y_int_err = fitCovar[1][1]\n",
    "\n",
    "# Plot your data\n",
    "f,ax = plt.subplots(figsize=(8,5))\n",
    "#Fill in the dashes with the correct input\n",
    "ax.errorbar(Longitude_new, Latitude, yerr=errorVal, color='red', marker='.', markersize=3, lw=0)\n",
    "ax.set_xlim(100,-100)\n",
    "ax.set_ylim(-1.5,1.5)\n",
    "ax.set_xlabel('Longitude')\n",
    "ax.set_ylabel('Latitude')\n",
    "\n",
    "# Define the x-values for the best-fit line, and find the y-values using our linModel\n",
    "bestfit_x = np.linspace(---, ---, 200) # x-vals should span the x-axis of our plot!\n",
    "bestfit_y = linModel(bestfit_x, fitCoeff[---], fitCoeff[---]) #or you can always do *fitCoeff\n",
    "\n",
    "# Overplot the best-fit line in blue (default color)\n",
    "# Include a 'zorder=5' argument to make sure the line is plotted over the data.\n",
    "ax.plot(bestfit_x, bestfit_y, zorder=---, color='k')"
   ]
  },
  {
   "cell_type": "markdown",
   "metadata": {
    "colab_type": "text",
    "id": "nzh-uQ4wKsDI"
   },
   "source": [
    " #### Question: Does your result make sense?\n",
    " * Why might the best-fit go through Latitude = 0?\n",
    " * What does Latitude = 0 coincide with in our galaxy?\n",
    " * Let's explore the Latitude bubble distribution further...\n",
    " \n",
    "### 5.  Histogram \n",
    " \n",
    "Histograms are the natural choice to visualize the number of occurences with respect to a variable (in this case, latitude).  We will use matplotlib's `hist` function to plot this."
   ]
  },
  {
   "cell_type": "code",
   "execution_count": null,
   "metadata": {
    "colab": {
     "autoexec": {
      "startup": false,
      "wait_interval": 0
     }
    },
    "colab_type": "code",
    "id": "ApK6OXvmKsDI",
    "outputId": "4692a58a-e165-469e-d971-d5909e61b945"
   },
   "outputs": [],
   "source": [
    "# in addition to plotting the histogram,\n",
    "# the hist function also returns a tuple of useful information that we will need.\n",
    "# thus we will make sure we grab the tuple\n",
    "f,ax = plt.subplots(figsize=(8,5))\n",
    "n, bins, patches = ax.hist(---, bins=50, facecolor='blue')\n",
    "\n",
    "ax.set_xlabel('Latitude (deg)')\n",
    "ax.set_ylabel('# of Bubbles')"
   ]
  },
  {
   "cell_type": "markdown",
   "metadata": {
    "colab_type": "text",
    "id": "RXU9vgGuKsDL"
   },
   "source": [
    "As we expected and saw in our previous plot/fit, more bubbles appear near a latitude of 0 degrees.  In fact, the distribution almost appears Gaussian...\n",
    "\n",
    "Lets attempt to fit a Gaussian to this distribution similar to what we did with the recombination line spectrum.  We will use the tuple returned by `hist` to fit and plot:\n",
    "    - n: this is the number of occurrences in each bin.\n",
    "    - bins: this is the value of the bin edges.\n",
    "    \n",
    "Notice that `len(bins) = len(n) + 1`, this means we can't plot these together without some modification.  The `bins` array is longer because if each value is the left edge of a bin then there is an additional element for the last right edge. \n",
    "\n",
    "Instead, we will create a new array that is the midpoint of each neighboring bin."
   ]
  },
  {
   "cell_type": "code",
   "execution_count": null,
   "metadata": {
    "colab": {
     "autoexec": {
      "startup": false,
      "wait_interval": 0
     }
    },
    "colab_type": "code",
    "id": "rsb0wAciKsDM",
    "outputId": "8a267a70-35ee-4446-9fa4-e32066f674c4"
   },
   "outputs": [],
   "source": [
    "# the first bin is the average of the first two bins\n",
    "firstBin = (bins[0] + bins[1])/2\n",
    "# similarily, the last bin is the average of the last two bins\n",
    "lastBin = (bins[-1] + bins[-2])/2\n",
    "# the new (50 element) array is then\n",
    "midBins = np.linspace(---, lastBin, len(---))\n",
    "\n",
    "# a quick plot to make sure our above modifications made sense\n",
    "f,ax = plt.subplots(figsize=(8,5))\n",
    "# it should look identical to the histogram\n",
    "ax.step(midBins, n, 'k')\n",
    "ax.set_xlabel('Latitude (deg)')\n",
    "ax.set_ylabel('# of Bubbles')"
   ]
  },
  {
   "cell_type": "code",
   "execution_count": null,
   "metadata": {
    "colab": {
     "autoexec": {
      "startup": false,
      "wait_interval": 0
     }
    },
    "colab_type": "code",
    "id": "JOW6UT7JKsDO"
   },
   "outputs": [],
   "source": [
    "# Redefining the gaussian function (but it's the same as last time!)\n",
    "\n",
    "def gauss(x, *params):\n",
    "    amp, center, fwhm = params\n",
    "    a = ---\n",
    "    y = ---          \n",
    "    return y"
   ]
  },
  {
   "cell_type": "markdown",
   "metadata": {
    "colab_type": "text",
    "id": "3R9CD8S6KsDQ"
   },
   "source": [
    "Now just as we fit the recombination line, you will want to supply an intial guess before utilizing `curve_fit`."
   ]
  },
  {
   "cell_type": "code",
   "execution_count": null,
   "metadata": {
    "colab": {
     "autoexec": {
      "startup": false,
      "wait_interval": 0
     }
    },
    "colab_type": "code",
    "id": "AMxFqcSbKsDR"
   },
   "outputs": [],
   "source": [
    "p0 = np.array([---, ---, ---)\n",
    "\n",
    "fitCoeffs, fitCov = curve_fit(gauss, ---, ---, p0=p0)"
   ]
  },
  {
   "cell_type": "code",
   "execution_count": null,
   "metadata": {
    "colab": {
     "autoexec": {
      "startup": false,
      "wait_interval": 0
     }
    },
    "colab_type": "code",
    "id": "6o7fruQhKsDS",
    "outputId": "2a987035-dfe4-46c0-e906-6999317df1d0"
   },
   "outputs": [],
   "source": [
    "# another plot to make sure the fit makes sense\n",
    "f,ax = plt.subplots(figsize=(8,5))\n",
    "ax.step(---, ---, 'k') # same as how we plotted midBins before\n",
    "\n",
    "bestfit_x = np.linspace(-1.1, 1.1, 50)  # lets create x-values spanning our histogram plot\n",
    "ax.plot(bestfit_x, gauss(bestfit_x, *---), 'r')  \n",
    "# set labels and x limits\n",
    "plt.show()"
   ]
  },
  {
   "cell_type": "code",
   "execution_count": null,
   "metadata": {
    "colab": {
     "autoexec": {
      "startup": false,
      "wait_interval": 0
     }
    },
    "colab_type": "code",
    "id": "NZoRuHcCKsDX",
    "outputId": "acdc0d39-d51d-48be-c7be-9acf354c1a1d"
   },
   "outputs": [],
   "source": [
    "# print out the results\n",
    "amp = fitCoeffs[---]\n",
    "center = fitCoeffs[---]\n",
    "fwhm = fitCoeffs[---]\n",
    "\n",
    "ampErr = np.sqrt(fitCov[---][---])\n",
    "centerErr = np.sqrt(fitCov[---][---])\n",
    "fwhmErr = np.sqrt(fitCov[---][---])\n",
    "\n",
    "print(f'The largest count is  : {---:5.5} +/-{---:4.2} bubbles')\n",
    "print(f'The center Latitude is: {---:5.5} +/-{---:4.2} degrees')\n",
    "print(f'The FWHM is           : {---:5.5} +/-{---:4.2} degrees')"
   ]
  },
  {
   "cell_type": "markdown",
   "metadata": {
    "colab_type": "text",
    "id": "Mj-ASYqSKsDY"
   },
   "source": [
    "How does the center latitude found with the Gaussian `curve_fit` compare to the intercept found with the line `curve_fit` previously?  Are they within a standard deviation from each other?  Should they be the same?"
   ]
  },
  {
   "cell_type": "code",
   "execution_count": null,
   "metadata": {},
   "outputs": [],
   "source": [
    "print(f'Y-int min: {y_int- ---}')\n",
    "print(f'Y-int max: {--- + ---}')\n",
    "print(f'Center min: {center- ---}')\n",
    "print(f'Center max: {--- + ---}')"
   ]
  },
  {
   "cell_type": "markdown",
   "metadata": {
    "colab_type": "text",
    "id": "kZuw7rI4KsDY"
   },
   "source": [
    "### 6. Further Bubble Investigation"
   ]
  },
  {
   "cell_type": "code",
   "execution_count": null,
   "metadata": {
    "colab": {
     "autoexec": {
      "startup": false,
      "wait_interval": 0
     }
    },
    "colab_type": "code",
    "id": "g9wqhE7sKsDZ"
   },
   "outputs": [],
   "source": [
    "#Identify the arrays with the radius and thickness for all the bubbles\n",
    "#Note: Reff = effective radius and Thick = effective thickness\n",
    "radius = Bubbles_data['Reff']\n",
    "thick = Bubbles_data['Thick']"
   ]
  },
  {
   "cell_type": "markdown",
   "metadata": {
    "colab_type": "text",
    "id": "EIUVVKQnKsDb"
   },
   "source": [
    "#### What can we find out about the effective radius?\n",
    "\n",
    "Use the `max`, `min`, and `mean` functions to print out the results for the data."
   ]
  },
  {
   "cell_type": "code",
   "execution_count": null,
   "metadata": {
    "colab": {
     "autoexec": {
      "startup": false,
      "wait_interval": 0
     }
    },
    "colab_type": "code",
    "id": "kfY0Zc9kKsDb",
    "outputId": "036d5434-ae9d-422b-a45c-48393e11ed40"
   },
   "outputs": [],
   "source": [
    "print(f'The maximum radius is: {---}')\n",
    "print(f'The minimum radius is: {---}')\n",
    "print(f'The mean radius is: {---}')\n",
    "print(f'The standard deviation of the radii is: {---}')"
   ]
  },
  {
   "cell_type": "markdown",
   "metadata": {
    "colab_type": "text",
    "id": "3-ZPJx8xKsDd"
   },
   "source": [
    "#### Identify the longitude/latitude values for the largest bubbles in the catalog"
   ]
  },
  {
   "cell_type": "code",
   "execution_count": null,
   "metadata": {
    "colab": {
     "autoexec": {
      "startup": false,
      "wait_interval": 0
     }
    },
    "colab_type": "code",
    "id": "wVoG-aUiKsDd",
    "outputId": "b52a0cb5-7e08-4154-95b2-b5ca653f8cf4"
   },
   "outputs": [],
   "source": [
    "#Use the 'where' function to identify which bubbles have radii greater than 10.\n",
    "bigLon = Longitude[---[0]]\n",
    "bigLat = Latitude[---[0]]\n",
    "\n",
    "print(f'# of bubbles with radius > 10: {---}')\n",
    "\n",
    "#Print the Latitude/Longitude values for the bubbles of interest\n",
    "#Use a 'for' loop to print the values as a pair for each bubble\n",
    "for i in range(len(bigLon)):\n",
    "    print(f'Longitude, Latitude: ({---[---]:5.4}, {---[---]:6.3})')"
   ]
  },
  {
   "cell_type": "markdown",
   "metadata": {
    "colab_type": "text",
    "id": "BG8tu2ebKsDg"
   },
   "source": [
    "#### How does the bubble thickness relate to the bubble radius?\n",
    "\n",
    "To finish up our Milky Way bubble investigation, make a plot of the bubble radius vs bubble thickness.  Do you see a trend?  If so, use `curve_fit` to find a best fit curve along with the uncertainties."
   ]
  },
  {
   "cell_type": "code",
   "execution_count": null,
   "metadata": {
    "colab": {
     "autoexec": {
      "startup": false,
      "wait_interval": 0
     }
    },
    "colab_type": "code",
    "id": "F0b30nMdKsDg",
    "outputId": "0a5c744d-b67a-4a5c-f2fc-e8b1f5d8d651"
   },
   "outputs": [],
   "source": [
    "# making an initial plot of the effective radius vs the thickness to see the data\n",
    "f,ax = plt.subplots()\n",
    "ax.scatter(---, ---, c='orange', linewidths=0.5, edgecolors='k')\n",
    "\n",
    "# label the plot\n",
    "ax.set_xlabel(---)\n",
    "ax.set_ylabel(---)\n",
    "plt.show()"
   ]
  },
  {
   "cell_type": "code",
   "execution_count": null,
   "metadata": {
    "colab": {
     "autoexec": {
      "startup": false,
      "wait_interval": 0
     }
    },
    "colab_type": "code",
    "id": "xr8781bPKsDk",
    "outputId": "6700d852-123d-45b8-e513-f1993bf0e072"
   },
   "outputs": [],
   "source": [
    "# fitting a linear function\n",
    "fitCoeffs, fitCov = curve_fit(---, ---, ---)\n",
    "\n",
    "# plotting the results\n",
    "f,ax = plt.subplots(figsize=(8,5))\n",
    "ax.scatter(---, ---, c='orange', linewidths=0.5, edgecolors='k')\n",
    "\n",
    "bestfit_x = np.linspace(---, ---, ---)  # get x-values from -1 to 12.5\n",
    "ax.plot(bestfit_x, ---(bestfit_x, *---), 'b')\n",
    "\n",
    "# set xlim and labels\n",
    "ax.set_xlabel('Radius')\n",
    "ax.set_ylabel('Thickness')\n",
    "plt.show()"
   ]
  },
  {
   "cell_type": "code",
   "execution_count": null,
   "metadata": {
    "colab": {
     "autoexec": {
      "startup": false,
      "wait_interval": 0
     }
    },
    "colab_type": "code",
    "id": "rhjcVsYbKsDn",
    "outputId": "81cd67da-98be-4c88-8989-5ef624248db2"
   },
   "outputs": [],
   "source": [
    "# Printing the results...\n",
    "slope = fitCoeffs[---]\n",
    "intercept = fitCoeffs[---]\n",
    "\n",
    "slopeErr = fitCov[---][---]\n",
    "interceptErr = fitCov[---][---]\n",
    "\n",
    "print(f'The slope is    : {slope:5.5} +/-{slopeErr:4.2}')\n",
    "print(f'The intercept is: {intercept:5.5} +/-{interceptErr:4.2}')"
   ]
  },
  {
   "cell_type": "markdown",
   "metadata": {
    "colab_type": "text",
    "id": "-jZBL0IaKsDp"
   },
   "source": [
    "***\n",
    "<a id='sectionC'></a>\n",
    "## C. Zooniverse GalaxyZoo Data"
   ]
  },
  {
   "cell_type": "markdown",
   "metadata": {
    "colab_type": "text",
    "id": "jEikJUFmKsDq"
   },
   "source": [
    "### 1. Where are all the galaxies?\n",
    "\n",
    "Let's see where in the universe our <a href=\"http://www.galaxyzoo.org\"> GalaxyZoo</a> galaxies are located.\n",
    "\n",
    "You will be using the data file <a href=\"data/GZ_class_mags.dat\">GZ_class_mags.dat</a> which contains all of the classification results for the GalaxyZoo galaxies. Let's see what data is contained in this file. To read in this data file, we will use `ascii.read` command from `astropy`."
   ]
  },
  {
   "cell_type": "code",
   "execution_count": null,
   "metadata": {
    "colab": {
     "autoexec": {
      "startup": false,
      "wait_interval": 0
     }
    },
    "colab_type": "code",
    "id": "Qhb30Go5KsDq",
    "outputId": "5edb67aa-8af0-47f4-91b0-4bbd16f81dbc"
   },
   "outputs": [],
   "source": [
    "# import needed libraries\n",
    "import matplotlib.pyplot as plt\n",
    "import numpy as np\n",
    "from astropy.table import Table, Column\n",
    "from astropy.io import ascii\n",
    "\n",
    "# read in data table\n",
    "Galaxies = ascii.read('data/GZ_class_mags.dat')\n",
    "Galaxies.colnames"
   ]
  },
  {
   "cell_type": "markdown",
   "metadata": {
    "colab_type": "text",
    "id": "tVfXhFy6KsDs"
   },
   "source": [
    "In order to determine the <i> location </i> of the galaxies, we will use the galactic latitude and longitude of the galaxies. These are called the <a href=\"http://astro.unl.edu/classaction/animations/coordsmotion/radecdemo.html\">RA and DEC</a> values, and are located in columns three and four. Use these values to create a plot of the location of each galaxy in the sky."
   ]
  },
  {
   "cell_type": "code",
   "execution_count": null,
   "metadata": {
    "colab": {
     "autoexec": {
      "startup": false,
      "wait_interval": 0
     }
    },
    "colab_type": "code",
    "id": "nDTmGF8wKsDt"
   },
   "outputs": [],
   "source": [
    "# First, create two variables that point to the RA and DEC columns\n",
    "RA = Galaxies[---]\n",
    "DEC = Galaxies[---]"
   ]
  },
  {
   "cell_type": "markdown",
   "metadata": {
    "colab_type": "text",
    "id": "247ri_GbKsDu"
   },
   "source": [
    "Lets see where the Galaxies in our table are located by making a RA vs DEC plot."
   ]
  },
  {
   "cell_type": "code",
   "execution_count": null,
   "metadata": {
    "colab": {
     "autoexec": {
      "startup": false,
      "wait_interval": 0
     }
    },
    "colab_type": "code",
    "id": "oPipdnCCKsDv",
    "outputId": "4afc9afc-2c64-4a65-dbd6-e60157f04482"
   },
   "outputs": [],
   "source": [
    "f,ax = plt.subplots(figsize=(8,5))\n",
    "ax.scatter(---, ---, color='k', marker='.', lw=0, alpha=0.5)\n",
    "ax.set_xlabel('RA')\n",
    "ax.set_ylabel('Dec')"
   ]
  },
  {
   "cell_type": "markdown",
   "metadata": {
    "colab_type": "text",
    "id": "aI9NcjZ6KsDx"
   },
   "source": [
    "Your plot of RA vs Dec for all the Galaxy Zoo galaxies will look something like the image below (though doesn't need to be in this same projection). \n",
    "\n",
    "The yellow-green squiggle in the image is where the disk of our Milky Way galaxy lives. The disk of our Milky Way blocks our view of distant galaxies in that part of our sky. \n",
    "\n",
    "<img src=\"http://farm2.static.flickr.com/1055/4724975807_79f8722a8d_b.jpg\" width = \"600x\">"
   ]
  },
  {
   "cell_type": "markdown",
   "metadata": {
    "colab_type": "text",
    "id": "qWeo28lUKsDy"
   },
   "source": [
    "### 2. What color are typical spiral galaxies?\n",
    "\n",
    "Color is typically defined by using the difference of two bands.  In our case, we will subtract a galaxy's i-band (infrared) brightness from its g-band (green) brightness.  This will tell us how much bluer or redder the galaxy is. Smaller values of g-i mean the galaxy is bluer, larger values of g-i means that it's redder (remember small magnitudes means brighter)."
   ]
  },
  {
   "cell_type": "code",
   "execution_count": null,
   "metadata": {
    "colab": {
     "autoexec": {
      "startup": false,
      "wait_interval": 0
     }
    },
    "colab_type": "code",
    "id": "LxBm44TEKsDy",
    "outputId": "dc708900-07d8-4493-8e5e-68cf3cad4b0e"
   },
   "outputs": [],
   "source": [
    "# make a numpy array for the 'g_mag' and 'i_mag' columns each\n",
    "gmag = np.array(Galaxies[---])\n",
    "imag = np.array(Galaxies[---])\n",
    "\n",
    "# now subtract the two arrays to get color\n",
    "color = --- - ---\n",
    "\n",
    "# print the first few color values as a test\n",
    "print(gmag[0:10])\n",
    "print(imag[0:10])\n",
    "print(color[0:10])\n",
    "\n",
    "# print the min and max color\n",
    "print(f'MIN/MAX color: {min(color)}/{max(color)}')"
   ]
  },
  {
   "cell_type": "markdown",
   "metadata": {
    "colab_type": "text",
    "id": "nL4S8dhcKsD0"
   },
   "source": [
    "Notice how the color values for first few galaxies are close to 1 but the min and max color are extremely low and high.\n",
    "\n",
    "These very high/low values are because there are some sources for which the telescope was unable to get a good value for magnitude or brightness. In the table, the magnitudes for these sources have been set to -9999, as a flag to indicate that they're bad values. \n",
    "\n",
    "Often when working with data, you'll need to be aware of 'bad' values and make sure you filter them out.\n",
    "\n",
    "Lets use `np.where` to find the indices for these bad values."
   ]
  },
  {
   "cell_type": "code",
   "execution_count": null,
   "metadata": {
    "colab": {
     "autoexec": {
      "startup": false,
      "wait_interval": 0
     }
    },
    "colab_type": "code",
    "id": "_6ILOWU3KsD0"
   },
   "outputs": [],
   "source": [
    "# find the indices of the bad values\n",
    "# make sure you consider both positive OR negative bad values\n",
    "flag_ind_g = np.where(abs(---) == ---)[0]\n",
    "flag_ind_i = np.where(abs(---) == ---)[0]\n",
    "\n",
    "# set the color values for these bad spots to NAN (not a finite #)\n",
    "color[---] = np.nan\n",
    "color[---] = np.nan"
   ]
  },
  {
   "cell_type": "code",
   "execution_count": null,
   "metadata": {
    "colab": {
     "autoexec": {
      "startup": false,
      "wait_interval": 0
     }
    },
    "colab_type": "code",
    "id": "Cw4QlazLKsD1",
    "outputId": "4dc35a64-991e-4308-c470-bf57236b4a67"
   },
   "outputs": [],
   "source": [
    "# plot a histogram for the galaxy color\n",
    "f,ax = plt.subplots(figsize=(8,5))\n",
    "\n",
    "# to avoid the flagged data use: color[np.isfinite(color)] \n",
    "ax.hist(---, bins=1000, facecolor='red') # play around with # of bins!\n",
    "ax.set_xlabel('Color')\n",
    "ax.set_ylabel('# of Galaxies')\n",
    "ax.set_xlim(---, ---)\n",
    "\n",
    "plt.show()"
   ]
  },
  {
   "cell_type": "markdown",
   "metadata": {
    "colab_type": "text",
    "id": "UAS_in-qKsD3"
   },
   "source": [
    "### 3. Does the color depend on the type of galaxy?\n",
    "\n",
    "Now, lets try to determine whether or not the color has any dependence on the galaxy being a spiral or elliptical type."
   ]
  },
  {
   "cell_type": "code",
   "execution_count": null,
   "metadata": {
    "colab": {
     "autoexec": {
      "startup": false,
      "wait_interval": 0
     }
    },
    "colab_type": "code",
    "id": "Qpc6JCAnKsD3"
   },
   "outputs": [],
   "source": [
    "# we will use the np.where function again\n",
    "# this time, to determine the indices for the two types of galaxies\n",
    "spiral_ind = np.where(Galaxies['Spiral'] == 1)[0] # These data were saved as booleans: 1 means yes, spiral!\n",
    "elliptical_ind = np.where(Galaxies['Elliptical'] == 1)[0] # 1 means yes, elliptical!\n",
    "\n",
    "# For fun: what does it mean if a galaxy has a '0' in both columns?\n",
    "\n",
    "# make a corresponding array that picks out these indices\n",
    "spiral_color = color[---]\n",
    "elliptical_color = color[---]"
   ]
  },
  {
   "cell_type": "code",
   "execution_count": null,
   "metadata": {
    "colab": {
     "autoexec": {
      "startup": false,
      "wait_interval": 0
     }
    },
    "colab_type": "code",
    "id": "Gqt9JyHpKsD5",
    "outputId": "f914fe9e-48f0-49e9-d05c-de5fd4da1753"
   },
   "outputs": [],
   "source": [
    "# plot a histogram for the spiral galaxies\n",
    "f,ax = plt.subplots(figsize=(8,5))\n",
    "plt.hist(---[---], bins=1000) #I suggest to add a condition to filter out infinite values in spiral_color\n",
    "ax.set_xlabel('Color')\n",
    "ax.set_ylabel('# of Spiral Galaxies')\n",
    "ax.set_xlim(0,2.5)"
   ]
  },
  {
   "cell_type": "code",
   "execution_count": null,
   "metadata": {
    "colab": {
     "autoexec": {
      "startup": false,
      "wait_interval": 0
     }
    },
    "colab_type": "code",
    "id": "4pN9AG22KsD7",
    "outputId": "f462e74b-bd50-4569-f3fe-c7dee21c5f6c"
   },
   "outputs": [],
   "source": [
    "# do the same but for the elliptical galaxies\n",
    "f,ax = plt.subplots(figsize=(8,5))\n",
    "plt.hist(---[---], bins=1000)\n",
    "ax.set_xlabel('Color')\n",
    "ax.set_ylabel('# of Spiral Galaxies')\n",
    "ax.set_xlim(0,2.5)"
   ]
  },
  {
   "cell_type": "markdown",
   "metadata": {
    "colab_type": "text",
    "id": "GY8rs5OYKsEA"
   },
   "source": [
    "Compare the two plots.  Do you notice any difference?  Does one type of galaxy appear to be more red than the other?  Remember, the lower the value for color (g-i), the bluer the galaxy.  The bluer color indicates that the galaxy is currently making new star (i.e., has active star formation).\n",
    "\n",
    "Lets plot both together to further illustrate the difference"
   ]
  },
  {
   "cell_type": "code",
   "execution_count": null,
   "metadata": {
    "colab": {
     "autoexec": {
      "startup": false,
      "wait_interval": 0
     }
    },
    "colab_type": "code",
    "id": "BSG2uMKVKsEB",
    "outputId": "939755f2-f23c-4497-cacb-db3ebe400ed4"
   },
   "outputs": [],
   "source": [
    "f,ax = plt.subplots(figsize=(8,5))\n",
    "\n",
    "# give the bluer type a 'blue' color and the redder type a...\n",
    "# also give the plots some transparency (using 'alpha') and a 'label'\n",
    "plt.hist(elliptical_color[---], bins=500, alpha=0.5, facecolor='red', label='Elliptical')\n",
    "plt.hist(spiral_color[---], bins=500, alpha=0.5, facecolor='blue', label='Spiral')\n",
    "ax.set_xlabel('Color')\n",
    "ax.set_ylabel('# of Galaxies')\n",
    "ax.set_xlim(0,2.5)\n",
    "\n",
    "# add in a legend\n",
    "ax.legend() #tip: add frameon=False to the ax.legend() command to remove the outline from around the legend"
   ]
  },
  {
   "cell_type": "markdown",
   "metadata": {
    "colab_type": "text",
    "id": "q9yp8OuCKsEC"
   },
   "source": [
    "As we see, spiral galaxies tend to be bluer than elliptical.  Is this consistent with a blue color indicating current star formation?\n",
    "\n",
    "However, also notice the exceptions. In your histogram, you see that a number of spiral galaxies are redder in color (have higher 'g-i' color values). These are galaxies where classifiers saw they had spiral arms, but their color tells us that they have no active star formation happening. <a href=\"http://www.sciencedaily.com/releases/2008/11/081124194936.htm\">A special process has shut off star formation in these galaxies.</a> \n",
    "\n",
    "Finding this intriguing result was possible because of the huge numbers of galaxies in GalaxyZoo!"
   ]
  },
  {
   "cell_type": "markdown",
   "metadata": {
    "colab_type": "text",
    "id": "1ze2T7wzKsED"
   },
   "source": [
    "### 4. Examining an individual galaxy.\n",
    "\n",
    "If you identify a subset of galaxies in the GalaxyZoo data table that you'd like to look at individually in more detail, you can do the following:"
   ]
  },
  {
   "cell_type": "code",
   "execution_count": null,
   "metadata": {
    "colab": {
     "autoexec": {
      "startup": false,
      "wait_interval": 0
     }
    },
    "colab_type": "code",
    "id": "VVMiOZFRKsED",
    "outputId": "27d01201-70f0-4866-d53f-4da1cb939a79"
   },
   "outputs": [],
   "source": [
    "# query particular galaxies of interest, for example, red spirals\n",
    "# note still need to avoid NAN values\n",
    "\n",
    "redSpirals = np.where((Galaxies['Spiral'][np.isfinite(color)] == 1) & \\\n",
    "                      (color[np.isfinite(color)] < 1.91) & \\\n",
    "                      (color[np.isfinite(color)] > 1.9))[0]\n",
    "\n",
    "print(f'# of red spirals = {len(redSpirals)}')\n",
    "\n",
    "# print out where these are located\n",
    "for i in redSpirals:\n",
    "    print(f'RA, DEC = {RA[i]:7.5}, {DEC[i]:7.5}')"
   ]
  },
  {
   "cell_type": "markdown",
   "metadata": {
    "colab_type": "text",
    "id": "S0ym9G3dKsEF"
   },
   "source": [
    "#### Visualize these red spirals.\n",
    "\n",
    "Now copy and paste these RA,Dec values into the <a href=\"http://skyserver.sdss.org/dr7/en/tools/chart/navi.asp\">SDSS SkyServer finder chart</a>. You'll see an image of the galaxy of interest. <br>\n",
    "\n",
    "Click on 'Quick Look' in the middle right of that page to get additional information about your galaxy.<br>\n",
    "\n",
    "Do you see how they're red spirals?! Check out <a href=\"http://arxiv.org/abs/0910.4113\">Dr. Karen Masters article on Red Spirals in Galaxy Zoo</a>."
   ]
  },
  {
   "cell_type": "markdown",
   "metadata": {},
   "source": [
    "***\n",
    "<a id='sectionD'></a>\n",
    "## D. Random Numbers"
   ]
  },
  {
   "cell_type": "markdown",
   "metadata": {},
   "source": [
    "First let's talk about drawing values randomly in general.\n",
    "\n",
    "Computers don't know how to draw truly random numbers. Instead they generate some large sequence of numbers that appear random, but are really deterministic. Usually you have to define a \"seed\" value to define where to start the sequence.\n",
    "\n",
    "In python you don't actually have to define the \"seed\" value explicitly, but you can in order to keep your \"random\" draw the same each time you run the code.  \n",
    "\n",
    "In general, we will use the numpy module to generate random numbers."
   ]
  },
  {
   "cell_type": "code",
   "execution_count": null,
   "metadata": {},
   "outputs": [],
   "source": [
    "#Defining the \"seed\" for numpy's random function\n",
    "np.random.seed(seed = 1234567) #can do any number. many people choose 42.\n",
    "# the point of defining \"seed\" means that it may be a \"random\" number, but you'll get the same \n",
    "# random number each time, meaning you can verify that the same set of code will do \n",
    "# the exact same thing each iteration (and plots will look identical).\n",
    "\n",
    "# In principle though you can change this value and/or leave it blank\n",
    "# to see the code work on other random numbers!"
   ]
  },
  {
   "cell_type": "markdown",
   "metadata": {},
   "source": [
    "Now, let's draw randomly from a Gaussian (aka 'Normal') distribution. <br>"
   ]
  },
  {
   "cell_type": "code",
   "execution_count": null,
   "metadata": {},
   "outputs": [],
   "source": [
    "#Numpy also has a built-in function to draw random numbers from a Gaussian\n",
    "#define the Gaussian using the mean, standard deviation (stdev), \n",
    "#  and choose some number of values (Nvals) that you want to draw\n",
    "mean = ---\n",
    "stdev = ---\n",
    "Nvals = 100 # try changing this value and running the next few cells for a few different values\n",
    "rg = np.random.normal(mean, stdev, size = Nvals)\n",
    "\n",
    "#print the mean, min and max of this list of random mumbers\n",
    "print(f'mean,min,max of the random sample: {np.mean(rg)},{min(rg)},{max(rg)}')"
   ]
  },
  {
   "cell_type": "code",
   "execution_count": null,
   "metadata": {
    "scrolled": true
   },
   "outputs": [],
   "source": [
    "#plot a histogram of these values\n",
    "f,ax = plt.subplots(figsize=(5,3))\n",
    "n, bins, patches = ax.hist(rg, 100, color = 'b', alpha = 0.6)\n",
    "\n",
    "#overplot a dashed vertical line that shows the mean value\n",
    "#tip: can use axvline to plot a vertical line:\n",
    "ax.axvline(np.mean(rg), color='r', linestyle='--', lw=1.5)\n",
    "\n",
    "ax.set_xlabel(\"value\")\n",
    "ax.set_ylabel(\"N\")"
   ]
  },
  {
   "cell_type": "code",
   "execution_count": null,
   "metadata": {
    "scrolled": true
   },
   "outputs": [],
   "source": [
    "#How many values are within 1,2,3 sigma of the mean for this numpy.random.normal function?\n",
    "#Hint: you can use numpy.where to find all the values that are within some range of the mean\n",
    "\n",
    "for fac in [1,2,3]:\n",
    "    ntest = float(len(np.where( abs(rg - ---) < fac*---)[0]))\n",
    "    print(f'    percent inside of {fac} times sigma = {ntest/float(Nvals)*100}')"
   ]
  },
  {
   "cell_type": "markdown",
   "metadata": {},
   "source": [
    "#### Question: Do the numbers for sigma match up to the <a href=\"http://en.wikipedia.org/wiki/68%E2%80%9395%E2%80%9399.7_rule\">right answer for a gaussian distribution</a>?\n",
    "\n",
    "If not exactly, why not? What could you change to get closer to the right answer? Make this change above, and see if you can come closer to the correct values."
   ]
  },
  {
   "cell_type": "markdown",
   "metadata": {},
   "source": [
    "#### What if you didn't have this easy np.random.normal function? You could instead sample a Gaussian using this \"Box-Muller\" procedure with two random numbers between 0 and 1. \n",
    "\n",
    "In python you can draw numbers from a uniform distribution with np.random.random()\n",
    "This method is very useful, e.g., in C or fortran (and many other codes)"
   ]
  },
  {
   "cell_type": "code",
   "execution_count": null,
   "metadata": {},
   "outputs": [],
   "source": [
    "#\n",
    "rg_bm = []\n",
    "for i in range(Nvals):\n",
    "#draw your first random number\n",
    "    x1 = np.random.random()\n",
    "#draw your second random number    \n",
    "    x2 = np.random.random()\n",
    "#just in case we drew 0\n",
    "    while (x1 == 0): x1 = np.random.random()\n",
    "    while (x2 == 0): x2 = np.random.random()\n",
    "#this draws from a Guassian distribution\n",
    "    rg_bm.append(stdev * (-2.*np.log(x1))**0.5 * np.cos(2.*np.pi*x2) + mean)\n",
    "    \n",
    "rg_bm = np.array(rg_bm) #just to keep them in the same format"
   ]
  },
  {
   "cell_type": "code",
   "execution_count": null,
   "metadata": {},
   "outputs": [],
   "source": [
    "#How many values are within 1,2,3 sigma for the \"Box-Muller\" procedure?\n",
    "print(f'Box-Muller :')\n",
    "for fac in [1,2,3]:\n",
    "    ntest = float(len(np.where( abs(rg_bm - mean) < fac*stdev)[0]))\n",
    "    print(f'    percent inside of {fac} times sigma = {ntest/float(Nvals)*100}')"
   ]
  },
  {
   "cell_type": "code",
   "execution_count": null,
   "metadata": {
    "scrolled": true
   },
   "outputs": [],
   "source": [
    "#plot a histogram of these values\n",
    "f,ax = plt.subplots(figsize=(5,3))\n",
    "#first the numpy.random.normal results\n",
    "n, bins, patches = ax.hist(rg, 50, color = 'b', alpha = 0.5)#, range = [mean - 5.*stdev, mean + 5.*stdev])\n",
    "#now the Box-Muller results\n",
    "nb, binsb, patchesb = ax.hist(rg_bm, 50, color = 'g', alpha = 0.5)#, range = [mean - 5.*stdev, mean + 5.*stdev])\n",
    "\n",
    "#overplot a dashed line that shows the mean value\n",
    "ax.axvline(np.mean(rg_bm), color='r', linestyle='--', lw=2)\n",
    "\n",
    "#overplot dotted lines that show the 1,2,3 sigma values\n",
    "for fac in [1,2,3]:\n",
    "    ax.plot([mean + fac*stdev, mean + fac*stdev],[0,max(n)], 'r:', linewidth = 1.5)\n",
    "    ax.plot([mean - fac*stdev, mean - fac*stdev],[0,max(n)], 'r:', linewidth = 1.5)\n",
    "\n",
    "    \n",
    "ax.set_xlabel(\"value\")\n",
    "ax.set_ylabel(\"N\")\n",
    "ax.set_xlim(0,4)"
   ]
  },
  {
   "cell_type": "markdown",
   "metadata": {
    "colab_type": "text",
    "id": "GIdDamjOKsEF"
   },
   "source": [
    "# Congratulations! You've completed this workshop!"
   ]
  }
 ],
 "metadata": {
  "colab": {
   "default_view": {},
   "name": "workshop2_SOLUTIONS.ipynb",
   "provenance": [],
   "version": "0.3.2",
   "views": {}
  },
  "kernelspec": {
   "display_name": "Python 3",
   "language": "python",
   "name": "python3"
  },
  "language_info": {
   "codemirror_mode": {
    "name": "ipython",
    "version": 3
   },
   "file_extension": ".py",
   "mimetype": "text/x-python",
   "name": "python",
   "nbconvert_exporter": "python",
   "pygments_lexer": "ipython3",
   "version": "3.8.3"
  }
 },
 "nbformat": 4,
 "nbformat_minor": 4
}
