{
 "cells": [
  {
   "cell_type": "markdown",
   "metadata": {},
   "source": [
    "# Python Basics\n",
    "\n",
    "*This workshop serves as an introduction to Python and common modules that will be used in later parts of the series.*\n",
    "\n",
    "   Section A: [Container Data Types](#sectionA)\n",
    "   \n",
    "   Section B: [Functions + Libraries](#sectionB)\n",
    "   \n",
    "   Section C: [Numpy Arrays](#sectionC)\n",
    "   \n",
    "   Section D: [Plotting - Some Simple Data](#sectionD)"
   ]
  },
  {
   "cell_type": "markdown",
   "metadata": {},
   "source": [
    "***\n",
    "<a id='sectionA'></a>\n",
    "## A. Container Data Types"
   ]
  },
  {
   "cell_type": "markdown",
   "metadata": {},
   "source": [
    "Python has a number of built-in ways to store data:\n",
    "\n",
    "| Data Type  | Mutable | Construct |    Example    |\n",
    "|------------|:-------:|:---------:|:-------------:|\n",
    "| list       |    Y    |   list()  |    [1,2,3]    |\n",
    "| tuple      |    N    |  tuple()  |    (1,2,3)    |\n",
    "| range      |    N    |  range()  |   range(1,4)  |\n",
    "| string     |    N    |   str()   |     '123'     |\n",
    "| set        |    Y    |   set()   |    {1,2,3}    |\n",
    "| dictionary |    Y    |   dict()  | {1:'a',2:'b'} |"
   ]
  },
  {
   "cell_type": "markdown",
   "metadata": {},
   "source": [
    "### Strings and Lists\n",
    "- The most commonly used containers are strings and lists.\n",
    "- A STRING stores characters and is enclosed by quotation marks (single quotes OK).\n",
    "- A LIST is an ordered collection of values.\n",
    "    - The values *can* be strings and/or (nested) lists.  "
   ]
  },
  {
   "cell_type": "code",
   "execution_count": null,
   "metadata": {},
   "outputs": [],
   "source": [
    "# some string stuff\n",
    "s1 = 'hello'\n",
    "print(type(s1))\n",
    "print(s1)\n",
    "\n",
    "# '+' and '*' can be used to modify strings\n",
    "s2 = ' world '\n",
    "s = s1 + s2\n",
    "print(s)\n",
    "print(3*s)\n",
    "\n",
    "print()\n",
    "# every string has a length\n",
    "print('The length of s1 is:', len(s1))\n",
    "print(f'The length of s2 is: {len(s2)}')\n",
    "print(f'The length of s is: {float(len(s))}')\n",
    "\n",
    "### To run this cell (and any other cell), push SHIFT + ENTER."
   ]
  },
  {
   "cell_type": "markdown",
   "metadata": {},
   "source": [
    "#### A note about python3 and `print`\n",
    "- Python3 is the 'new' version of python2.  The most obvious difference between the two is how to use the print function.\n",
    "    - In python2 the print function is called without parenthesis, for example:\n",
    "        `print 'This how we print in python2.'`\n",
    "    - Python3 requires more typing but yields a more consistent syntax to python functions:\n",
    "        `print('This is how we print in python3.')`\n",
    "    - Adaptation to python3 is slow, so you will see both in existing code, new code, and online help.\n",
    "- Commas within a print function add space and join two values together.\n",
    "- The *new* *new* in python3 are f-strings which make it easier (more concise) to print strings with variables inline.  For example: `print(f'The length of s is: {len(s)}')`.\n",
    "    - The `f` in the above example signals the beginning of an f-string.  The takeaway is the ability to put a variable into the string (enclosed in curly brackets) without much effort or formatting.\n",
    "    - See cell below for an even *better* example illustrating the control over the format of a variable..."
   ]
  },
  {
   "cell_type": "code",
   "execution_count": null,
   "metadata": {},
   "outputs": [],
   "source": [
    "# f-strings!\n",
    "pi = 3.141592653589793238462643383279\n",
    "width = 5\n",
    "precision = 3\n",
    "n = 2\n",
    "\n",
    "print(f'The value of pi is: {pi}')\n",
    "print(f'The value of pi is: {pi:5.3}')\n",
    "print(f'The value of pi is: {pi:{width}.{precision}}')\n",
    "print(f'The value of {n}pi is: {n*pi:{width-1}.{precision}}')"
   ]
  },
  {
   "cell_type": "code",
   "execution_count": null,
   "metadata": {},
   "outputs": [],
   "source": [
    "# a number of methods exist to manipulate a string, e.g\n",
    "print(s.upper())\n",
    "print(s.count('o'))\n",
    "\n",
    "#notice that s.upper() did not actually change `s` (it is still lower case)\n",
    "#more on this 'feature' shortly\n",
    "print(s.islower()) \n",
    "\n",
    "# Uncomment the below line (it's long!) to see a directory of all the methods available to the string, `s`.\n",
    "#dir(s)"
   ]
  },
  {
   "cell_type": "markdown",
   "metadata": {},
   "source": [
    "- Rather than using `dir(some_object)` to see the available methods you can also tab to auto-complete as you type within the Jupyter notebook.  Similar to a UNIX shell, etc.\n",
    "- In addition, try hitting SHIFT + TAB within an empty parenthesis to get some help on the corresponding method/function."
   ]
  },
  {
   "cell_type": "code",
   "execution_count": null,
   "metadata": {},
   "outputs": [],
   "source": [
    "# lists are typically created with brackets\n",
    "a = []  #an empty list\n",
    "print(type(a))\n",
    "b = [10,11,12]\n",
    "c = [13,14,15]\n",
    "print( b + c )  #concat two lists (what does * do?)\n",
    "\n",
    "# like strings, lots of methods to manipulate lists with\n",
    "b.append('Hello')\n",
    "print( b )   #here, a.append('Hello') DID permanently change `a` \n",
    "b.insert(2, 11.5)  \n",
    "print( b )"
   ]
  },
  {
   "cell_type": "markdown",
   "metadata": {},
   "source": [
    "#### Slicing\n",
    "- You can access the `i`th element of a list or string in a similar fashion to each other (`some_list[i]`, `some_string[i]`).\n",
    "- This notation is actually extendable to where you want to start, end, and step-size...\n",
    "    - `some_list[lower:upper:stride]`"
   ]
  },
  {
   "cell_type": "code",
   "execution_count": null,
   "metadata": {},
   "outputs": [],
   "source": [
    "# slicing\n",
    "a = [10,11,12,13,14,15]\n",
    "s = 'Hello World'\n",
    "\n",
    "# default of 'stride' is 1.\n",
    "print(a[1:3]) #notice where python starts counting (0) and which index it prints up to (3 minus 1)\n",
    "print(a[::2]) #note leaving 'lower' ('upper') blank means 'start at the beginning' ('go until the end')\n",
    "\n",
    "# start at the last element and use a negative stride to print backwards\n",
    "print( s[-1::-1] ) \n",
    "\n",
    "# one could also convert a string into a list...\n",
    "b = list(s)\n",
    "print( b )"
   ]
  },
  {
   "cell_type": "markdown",
   "metadata": {},
   "source": [
    "#### Mutable vs Immutable\n",
    "- Mutable objects can be changed in place, immutable cannot.\n",
    "- Strings are immutable, lists are mutable.\n",
    "    - Remember `s.upper()` did not change the string (permanently) but `a.append()` did change the list.\n",
    "- Is this important?\n",
    "    - If a data type is immutable then you should know that changing it does not have an effect.\n",
    "    - Immutables are typically faster and smaller if you're trying to optimize code.\n",
    "    - Immutables are also safer to code with and can make debugging easier."
   ]
  },
  {
   "cell_type": "code",
   "execution_count": null,
   "metadata": {
    "scrolled": true
   },
   "outputs": [],
   "source": [
    "a = [10,11,12,13,14,15]\n",
    "a[1:3] = [111,112]\n",
    "print(a)\n",
    "\n",
    "s = 'abcdef'\n",
    "#s[1:3] = 'xy'  #this line gives a typeError, why?  Comment out to proceed...\n",
    "\n",
    "# there are ways around immutability though\n",
    "# `redefine` instead of `change`\n",
    "s = s[:1] + 'xy' + s[3:]\n",
    "print(s)"
   ]
  },
  {
   "cell_type": "markdown",
   "metadata": {},
   "source": [
    "#### Exercise A.1:"
   ]
  },
  {
   "cell_type": "code",
   "execution_count": null,
   "metadata": {},
   "outputs": [],
   "source": [
    "\"\"\"Consider the below string of text that contains the \n",
    "    results of a vote: yes, no, y, or n.  Determine (and print) the\n",
    "    percentage of votes the are yes (y) and no (n).\n",
    "    \"\"\"\n",
    "\n",
    "votes = 'Yes n N y No yes Yes N y y Y no yes no N Yes N Y y No yes'\n",
    "\n",
    "# write solution below\n",
    "votes = votes.lower()  #lets not worry about capitalization\n",
    "\n",
    "yes = votes.count('y')  #each yes vote contains a y\n",
    "no = votes.count('n')   #each no vote contains a n\n",
    "\n",
    "print(f'The % of yes votes is: {yes/(yes+no)*100:5.3}')\n",
    "print(f'The % of no votes is:  {no/(yes+no)*100:5.3}')"
   ]
  },
  {
   "cell_type": "markdown",
   "metadata": {},
   "source": [
    "#### Exercise A.2:"
   ]
  },
  {
   "cell_type": "code",
   "execution_count": null,
   "metadata": {},
   "outputs": [],
   "source": [
    "\"\"\"Determine the total number of palindrome numbers from 10 to 10000.\n",
    "    A palindrome is such that it is the same number when read backwards.\n",
    "    The first from 10 on for example is 11.\"\"\"\n",
    "\n",
    "# HINT: use the range function to iterate from 10 to 10000.\n",
    "# write solution below\n",
    "\n",
    "n = 0 #start a counter\n",
    "for i in range(10, 10001):\n",
    "    if str(i) == str(i)[-1::-1]:\n",
    "        n += 1  #increment counter if i is palindrome\n",
    "        \n",
    "print(n)"
   ]
  },
  {
   "cell_type": "markdown",
   "metadata": {},
   "source": [
    "## Tuples, Sets and Dictionaries\n",
    "- Tuples are effectively immutable lists.\n",
    "- Generally, tuples are constructed with `()` instead `[]`. \n",
    "- In practice however, tuples can be constructed without a delimiter.\n",
    "\n",
    "- Sets are a collection of *unique* objects.\n",
    "- They are similar to a set in math and have similar methods (union, intersection, etc).\n",
    "- Sets can be constructed with curly braces.  \n",
    "\n",
    "- Dictionaries are mapping objects which store key/value pairs.\n",
    "- Each key corresponds to a value:\n",
    "    - `some_dict = {key1:value1, key2:value2, key3:value3}`"
   ]
  },
  {
   "cell_type": "code",
   "execution_count": null,
   "metadata": {
    "scrolled": true
   },
   "outputs": [],
   "source": [
    "# tuples stuff\n",
    "a = (10,11,12,13,14,15)\n",
    "print(a)\n",
    "a = 10,11,12,13,14,15 \n",
    "print(a)\n",
    "\n",
    "print()\n",
    "# set stuff\n",
    "b = {1,2,3,4,5,5}\n",
    "c = {3,4,5,6}\n",
    "print(b) # notice removal of duplicate element\n",
    "print(b.union(c))\n",
    "print(b.intersection(c))\n",
    "\n",
    "print()\n",
    "# dictionaries!\n",
    "d = {'mass':12.7, 'speed': 5.0, 'age':5}\n",
    "print(d.keys())\n",
    "print(d.values())\n",
    "print(f'The mass of d is: {d[\"mass\"]}')  # note that is necessary to use double quotes here"
   ]
  },
  {
   "cell_type": "markdown",
   "metadata": {},
   "source": [
    "#### Exercise A.3:"
   ]
  },
  {
   "cell_type": "code",
   "execution_count": null,
   "metadata": {},
   "outputs": [],
   "source": [
    "\"\"\"Consider two lists of possibly unequal length.\n",
    "    Create a third list that contains only unique elements\n",
    "    common between the two lists.\n",
    "    \n",
    "    Do this two ways: without using sets and using sets.\n",
    "    \"\"\"\n",
    "\n",
    "a = [0, 1, 5, 7, 9, 11, 0, 16, 18, 19, 5, 33]\n",
    "b = [4, 2, 25, 21, 18, 17, 15, 3, 7, 18, 1, 5]\n",
    "\n",
    "# write your solution(s) below\n",
    "# without using sets\n",
    "c = []  # create an empty list\n",
    "for i in a:    #iterate through the first list\n",
    "    if i in b:  #if the element is also in b\n",
    "        if i not in c:  #make sure c is a unique list\n",
    "            c.append(i)   #put it in the new list\n",
    "print(c)\n",
    "\n",
    "\n",
    "# write your solution below\n",
    "# using sets\n",
    "a_set = set(a)  #convert to set\n",
    "b_set = set(b)\n",
    "print(a_set.intersection(b_set))  #get the intersection"
   ]
  },
  {
   "cell_type": "markdown",
   "metadata": {},
   "source": [
    "### List Comprehensions\n",
    "\n",
    "List comprehension is a more concise way to create lists.  At first glance it appears a lot is going on but it makes your code much simpler and easier to read in the long run."
   ]
  },
  {
   "cell_type": "code",
   "execution_count": null,
   "metadata": {},
   "outputs": [],
   "source": [
    "# consider this example without list comprehension\n",
    "a = [3, 'd', 4, 3.5, 'e', 5]\n",
    "\n",
    "# suppose we wanted a list that consisted of the squares of a for every element that is an integer\n",
    "b = []\n",
    "for element in a:\n",
    "    if type(element) == int:\n",
    "        b.append(element**2)\n",
    "        \n",
    "b"
   ]
  },
  {
   "cell_type": "code",
   "execution_count": null,
   "metadata": {
    "scrolled": true
   },
   "outputs": [],
   "source": [
    "# now with list comprehension\n",
    "[element**2 for element in a if type(element) == int]"
   ]
  },
  {
   "cell_type": "markdown",
   "metadata": {},
   "source": [
    "List comprehensions are often times (marginally) faster than a normal for loop as well. \n",
    "\n",
    "In general, the construct looks like:\n",
    "`[output expression FOR an iterator IF boolean statement]`."
   ]
  },
  {
   "cell_type": "markdown",
   "metadata": {},
   "source": [
    "#### Exercise A.4"
   ]
  },
  {
   "cell_type": "code",
   "execution_count": null,
   "metadata": {},
   "outputs": [],
   "source": [
    "\"\"\"Consider the below nested list. \n",
    "   Write a single list comprehension that performs the same operation as the nested for loops below.\n",
    "   \"\"\"\n",
    "a = [ [1,2,3], [4,5,6], [7,8] ]\n",
    "\n",
    "# flatten the list\n",
    "# and keep only rows with 3 or more\n",
    "aFlat = []\n",
    "for x in a:\n",
    "    if len(x) > 2:\n",
    "        for y in x:\n",
    "            aFlat.append(y)\n",
    "            \n",
    "# write single list comprehension below\n",
    "[y for x in a if len(x) > 2 for y in x]"
   ]
  },
  {
   "cell_type": "markdown",
   "metadata": {},
   "source": [
    "***\n",
    "<a id='sectionB'></a>\n",
    "## B. Functions + Libraries\n",
    "\n",
    "Functions are handy constructs to allow you to easily reproduce a procedure without retyping or (copy and pasting) a block of code over and over again.  The most basic syntax is fairly straight forward."
   ]
  },
  {
   "cell_type": "code",
   "execution_count": null,
   "metadata": {},
   "outputs": [],
   "source": [
    "# a simple function\n",
    "def add(x,y):\n",
    "    a = x + y\n",
    "    return a\n",
    "\n",
    "print(add(4,10))\n",
    "\n",
    "# you can also include optional arguments w/ defaults\n",
    "def quadratic(x, a=1, b=1, c=0):\n",
    "    y = a*x**2 + b*x + c\n",
    "    return y\n",
    "\n",
    "print(quadratic(2))  # using default arguments\n",
    "print(quadratic(2,b=2,c=1)) # changing some of the defaults"
   ]
  },
  {
   "cell_type": "code",
   "execution_count": null,
   "metadata": {},
   "outputs": [],
   "source": [
    "# you can also pass an arbitrary # of \n",
    "# parameters to a function\n",
    "def printMe(x, y, *args):   \n",
    "    print(x, y, args)\n",
    "    \n",
    "# the * tells you it is magic variable\n",
    "# this means it has an arbitrary number of arguments (user defined)\n",
    "printMe(5, 'test', 6, 'hello world')"
   ]
  },
  {
   "cell_type": "markdown",
   "metadata": {},
   "source": [
    "### Doc Strings\n",
    "To help other users understand your code, including yourself later, it is common and courteous to include a doc string.  A doc string is a convenient way to allow a user (possibly you) to get a quick description of the function.\n",
    "\n",
    "Doc strings are written on the first line of the function (below the `def` statement) and are conventionally enclosed in **triple double quotes**.  See [here](https://www.python.org/dev/peps/pep-0257/) for the python convention(s)."
   ]
  },
  {
   "cell_type": "code",
   "execution_count": null,
   "metadata": {},
   "outputs": [],
   "source": [
    "# doc string\n",
    "def cubic(x,a=1,b=1,c=1,d=0):\n",
    "    \"\"\"Returns the result of a cubic polynomial\"\"\"\n",
    "    \n",
    "    y = a*x**3 + b*x**2 + c*x + d\n",
    "    return y\n",
    "\n",
    "print(cubic(2))\n",
    "print(cubic.__doc__)\n",
    "# you can also shift+tab to have jupyter give you info \n",
    "# on your own function now!"
   ]
  },
  {
   "cell_type": "code",
   "execution_count": null,
   "metadata": {
    "scrolled": true
   },
   "outputs": [],
   "source": [
    "help(cubic)"
   ]
  },
  {
   "cell_type": "markdown",
   "metadata": {},
   "source": [
    "#### Exercise B.1"
   ]
  },
  {
   "cell_type": "code",
   "execution_count": null,
   "metadata": {},
   "outputs": [],
   "source": [
    "\"\"\"Rewrite exercise A.1 as a function \n",
    "    that takes a string (of votes) as input\n",
    "    and returns the % of yes votes\n",
    "    \"\"\"\n",
    "\n",
    "# write solution below\n",
    "def voteResult(votes):\n",
    "    \"\"\"Returns the % of yes votes\"\"\"\n",
    "    \n",
    "    votes = votes.lower()   #lets not worry about capitalization\n",
    "    yes = votes.count('y')  #each yes vote contains a y\n",
    "    no = votes.count('n')   #each no vote contains a n\n",
    "\n",
    "    return(yes/(yes+no)*100)\n",
    "\n",
    "# testing function\n",
    "votes = 'Yes n N y No yes Yes N y y Y no yes no N Yes N Y y No yes'\n",
    "print(f'The % of yes votes is: {voteResult(votes):5.3}')"
   ]
  },
  {
   "cell_type": "markdown",
   "metadata": {},
   "source": [
    "### Libraries"
   ]
  },
  {
   "cell_type": "markdown",
   "metadata": {},
   "source": [
    "Python has a number of built-in tools to work with.  However, typically you will want/need to draw from libraries outside that which is loaded by default.\n",
    "\n",
    "Throughout this workshop we will primarily be working with the following libraries:\n",
    "\n",
    "-  [numpy](https://docs.scipy.org/doc/numpy/user/quickstart.html): arrays and tons of functions\n",
    "-  [scipy](https://docs.scipy.org/doc/): even more math functions\n",
    "-  [matplotlib](https://matplotlib.org/): plotting library\n",
    "-  [astropy](http://www.astropy.org/): tools geared towards astronomers specifically\n",
    "-  [pandas](https://pandas.pydata.org/): similar to astropy but for the more general data scientist\n",
    "    \n",
    "\n",
    "The `import` command allows you to access these and (other) libraries."
   ]
  },
  {
   "cell_type": "code",
   "execution_count": null,
   "metadata": {},
   "outputs": [],
   "source": [
    "# tell python you would like to use numpy\n",
    "import numpy\n",
    "\n",
    "# you can then access the various modules, functions, methods, etc within the numpy library\n",
    "# in this case, the value of pi\n",
    "print(numpy.pi)"
   ]
  },
  {
   "cell_type": "code",
   "execution_count": null,
   "metadata": {},
   "outputs": [],
   "source": [
    "# it is common practice to import a function and immediately define a (usually shorter) alias\n",
    "import numpy as np\n",
    "\n",
    "print(np.pi)"
   ]
  },
  {
   "cell_type": "code",
   "execution_count": null,
   "metadata": {
    "scrolled": true
   },
   "outputs": [],
   "source": [
    "# you can also load only a subset of the module or just a single function\n",
    "import matplotlib.pyplot as plt\n",
    "from numpy import pi\n",
    "\n",
    "print(pi)"
   ]
  },
  {
   "cell_type": "markdown",
   "metadata": {},
   "source": [
    "***\n",
    "<a id='sectionC'></a>\n",
    "## C. Numpy Arrays\n",
    "\n",
    "Numpy arrays are similar to lists, except substantially faster and with a smaller footprint.  This is primarily because Python's lists are actually a collection of pointers to different objects that need to be effectively unpacked every time you call an element.  On the other hand, arrays are (in practice) a single (homogeneous) data type which allows quicker access, etc.\n",
    "\n",
    "In addition, element by element operations occur more naturally with numpy arrays.  At least for 1-D, it is (usually) OK to think of them as vectors.  For example, adding two arrays will add their respective elements together."
   ]
  },
  {
   "cell_type": "code",
   "execution_count": null,
   "metadata": {},
   "outputs": [],
   "source": [
    "# simple array creation\n",
    "a = np.array([0,1,2,3])\n",
    "\n",
    "print(type(a))  # what is a?\n",
    "print(a.dtype)  # what type of data is 'in' a?\n",
    "\n",
    "# remember you can tab auto-complete or use dir() to see what is available\n",
    "# some methods/attributes have different names than they did with lists\n",
    "print(np.size(a)) # similar to 'len'\n",
    "print(np.ndim(a))  # similar to ''"
   ]
  },
  {
   "cell_type": "code",
   "execution_count": null,
   "metadata": {},
   "outputs": [],
   "source": [
    "# adding a list together\n",
    "a = [1,1,1,1]\n",
    "print(a+a)\n",
    "\n",
    "# but if we add two ndarrays...\n",
    "a = np.array([1,1,1,1])\n",
    "print(a+a)\n",
    "\n",
    "# one can still get the list '+' behavior with arrays with concatenate\n",
    "np.concatenate((a,a))"
   ]
  },
  {
   "cell_type": "code",
   "execution_count": null,
   "metadata": {},
   "outputs": [],
   "source": [
    "# multi-dimensional arrays\n",
    "a = np.array([[ 0, 1, 2, 3],\n",
    "          [10, 11, 12, 13]])\n",
    "print('The shape of a:', a.shape)\n",
    "print('The 1st row of a:', a[1])  # remember, counting starts at 0\n",
    "print('Row 1, Column 3:', a[1,3])\n",
    "\n",
    "# we can make a multi-dim arrary 1-d\n",
    "b = a.flatten()\n",
    "print('\\nFlattening the array:', b, '\\n')\n",
    "\n",
    "# as long as you make sure rows*columns remains the same\n",
    "# 'reshape' can be used to change to any shape\n",
    "print(b.reshape(2,4))\n",
    "print(b.reshape(4,2))"
   ]
  },
  {
   "cell_type": "code",
   "execution_count": null,
   "metadata": {},
   "outputs": [],
   "source": [
    "# for multi-dimensional arrays it can be useful \n",
    "# to use stack functions to combine arrays\n",
    "\n",
    "# consider the following 2 2x3 arrays\n",
    "a = np.array( [ [0, 1, 2],\n",
    "               [10, 11, 12] ] )\n",
    "b = np.array( [ [50, 51, 52],\n",
    "               [60, 61, 62] ] )\n",
    "\n",
    "# we can concatenate them vertically or horizontally\n",
    "print( np.vstack((a,b)) )\n",
    "print( np.hstack((a,b)) )\n",
    "print()\n",
    "\n",
    "# or along a third (in this case new) dimension\n",
    "c = np.dstack((a,b))\n",
    "print(c.shape)\n",
    "c"
   ]
  },
  {
   "cell_type": "code",
   "execution_count": null,
   "metadata": {},
   "outputs": [],
   "source": [
    "# something to be aware of...\n",
    "a = np.array([1,1,1,1])\n",
    "a[0] = 0.5\n",
    "print(a)  # notice the value stored in a[0]\n",
    "\n",
    "# casting the array into floats\n",
    "a = a.astype('float64')\n",
    "a[0] = 0.5\n",
    "print(a)"
   ]
  },
  {
   "cell_type": "markdown",
   "metadata": {},
   "source": [
    "Since we initialized `a` with integers, that became the data type that `a` stored.  Thus, when assigning a float, the value was truncated. \n",
    "\n",
    "#### Array Creation Functions\n",
    "A number of functions exist to generate convenient numpy arrays and we will be utilizing them throughout the workshops.  The most commonly used of these functions do similar array generations, but are specified slightly differently:\n",
    "  - arange (not arrange!) is similar to python's `range` function (but for numpy arrays)\n",
    "      - `arange(start=0, stop=None, step=1)`\n",
    "     \n",
    "  - linspace (not linespace!) creates an array by defining the number of elements rather than the step size between elements.\n",
    "      - `linspace(start, stop, num=50)`"
   ]
  },
  {
   "cell_type": "code",
   "execution_count": null,
   "metadata": {},
   "outputs": [],
   "source": [
    "# linspace and arange\n",
    "a = np.arange(0,10)\n",
    "b = np.linspace(0,10,num=10)\n",
    "print(a,'\\n',b)\n",
    "\n",
    "# some other ways to generate arrays\n",
    "a = np.ones(5)\n",
    "b = np.zeros(5)\n",
    "print('\\nOnes and zeros:\\n',a,'\\n',b)\n",
    "\n",
    "# Multi-dimensional arrays can be generated as well:\n",
    "print()\n",
    "print( np.ones((3,3)), '\\n' )\n",
    "print( np.identity(3) )"
   ]
  },
  {
   "cell_type": "markdown",
   "metadata": {},
   "source": [
    "As you will see, the primary function of `linspace` and `arange` is to create a 'grid' of values for use in evaluating functions over a sample space.  This is particularily useful when plotting."
   ]
  },
  {
   "cell_type": "code",
   "execution_count": null,
   "metadata": {},
   "outputs": [],
   "source": [
    "# create an array of 9 elements equally spaced \n",
    "# from 0 to 2pi\n",
    "# by filling in the '---' spaces\n",
    "x = np.linspace(0, 2*np.pi, 9)\n",
    "print(x,'\\n')\n",
    "\n",
    "# now we can pass x to some function\n",
    "y = np.sin(x)\n",
    "print(y)   # and get back a 'grid' of values evaluated by the function"
   ]
  },
  {
   "cell_type": "markdown",
   "metadata": {},
   "source": [
    "\n",
    "*Did you notice anything wrong with the output of y in the previous cell?  The last element should be 0 but it is not.  This is because python rounds the value of $\\pi$ at some point.*"
   ]
  },
  {
   "cell_type": "markdown",
   "metadata": {},
   "source": [
    "To extend the utility of `linspace` (and `arange`) to multi-variable functions or models, `meshgrid` can be utilized.  As input, `meshgrid` takes N 1D arrays that define the space along each axis and returns N (multi-d) arrays that can be used to form every combination of points. \n",
    "\n",
    "For example, consider the distance from the origin (0,0) in 2D:\n",
    "$$ d = \\sqrt{x^2 + y^2} $$\n",
    "In the following integer space:\n",
    "$$ -2 \\leq x \\leq 3$$\n",
    "$$ -4 \\leq y \\leq 2$$"
   ]
  },
  {
   "cell_type": "code",
   "execution_count": null,
   "metadata": {},
   "outputs": [],
   "source": [
    "# create 1-d grids for each axis as defined above\n",
    "x = np.arange(-2,4)\n",
    "y = np.arange(-4,3)\n",
    "\n",
    "# input them into meshgrid\n",
    "# and grab the output of each\n",
    "xx, yy = np.meshgrid(x,y)\n",
    "print(xx)\n",
    "print(yy)\n",
    "\n",
    "# input the grids into the distance equation\n",
    "d = np.sqrt(xx**2+yy**2)\n",
    "# rounding the result\n",
    "print(np.round(d,1))"
   ]
  },
  {
   "cell_type": "markdown",
   "metadata": {},
   "source": [
    "*As you can see, the d array is a grid of the distance from the origin.  You can even 'see' the axes!*\n",
    "\n",
    "Often times when you have large arrays you want to be able to determine where values are that meet certain criteria.  The conveniently named function `where` does just that and will be utilized often within the workshop.  The function returns an N-tuple of arrays with length M, where N is the dimensionality of the array we are searching and M is the number of elements that satify the condition."
   ]
  },
  {
   "cell_type": "code",
   "execution_count": null,
   "metadata": {},
   "outputs": [],
   "source": [
    "# consider the distance array created with meshgrid above\n",
    "# where (what indices) is the distance greater than 4?\n",
    "largeD_ind = np.where(d > 4)\n",
    "print(largeD_ind)\n",
    "\n",
    "# we can directly get what these values are (and sorted!)\n",
    "np.sort(d[largeD_ind])"
   ]
  },
  {
   "cell_type": "markdown",
   "metadata": {
    "colab_type": "text",
    "id": "7-45IODCKsBU"
   },
   "source": [
    "***\n",
    "<a id='sectionD'></a>\n",
    "## D. Plotting\n",
    "\n",
    "Throughout the workshop one of the most important takeaways will be generating a plot and displaying it in a useful manner to either use for our own analysis or display for others in a readable format.  The `matplotlib` library will allow us to achieve this.  From the matplotlib website: *\"matplotlib tries to make easy things easy and hard things possible\"*.\n",
    "\n",
    "Various examples can be found in the gallery [here](https://matplotlib.org/gallery.html).\n",
    "\n",
    "We will begin today by considering a simple example with simple data to discover the basics of plotting and curve fitting.\n",
    "\n",
    "### 1. Plot your data"
   ]
  },
  {
   "cell_type": "markdown",
   "metadata": {
    "colab_type": "text",
    "id": "_zYGT2H-KsBV"
   },
   "source": [
    "Let's first import the libraries we are going to be working with to make a plot."
   ]
  },
  {
   "cell_type": "code",
   "execution_count": null,
   "metadata": {
    "colab": {
     "autoexec": {
      "startup": false,
      "wait_interval": 0
     }
    },
    "colab_type": "code",
    "id": "l5WiJpJ6KsBV"
   },
   "outputs": [],
   "source": [
    "# We'll start by importing the matplotlib and numpy libraries.\n",
    "# The first line is magic (really) and allows us to see our plots within the Jupyter notebook.\n",
    "%matplotlib inline   \n",
    "import matplotlib.pyplot as plt\n",
    "import numpy as np\n",
    "\n",
    "#Run the cell (shortcut=shift+enter) to make sure you've imported all of the libraries."
   ]
  },
  {
   "cell_type": "markdown",
   "metadata": {
    "colab_type": "text",
    "id": "p8MQ7zD0KsBc"
   },
   "source": [
    "For our first plot(s), we will just use some simple data: \n",
    "* x-values = 1,2,3,4,5,6,7,8\n",
    "* y-values = 2,5,6,9,15,16,20,22\n",
    "* error value = 0.7"
   ]
  },
  {
   "cell_type": "code",
   "execution_count": null,
   "metadata": {
    "colab": {
     "autoexec": {
      "startup": false,
      "wait_interval": 0
     }
    },
    "colab_type": "code",
    "id": "iFLLdg3NKsBc"
   },
   "outputs": [],
   "source": [
    "# Create two lists that contain your x-values and y-values.\n",
    "x = [1,2,3,4,5,6,7,8]\n",
    "y = [2,5,6,9,15,16,20,22]\n",
    "\n",
    "# Create a variable called \"errorVal\" that contains the error value we provided.\n",
    "errorVal = 0.9"
   ]
  },
  {
   "cell_type": "code",
   "execution_count": null,
   "metadata": {
    "colab": {
     "autoexec": {
      "startup": false,
      "wait_interval": 0
     }
    },
    "colab_type": "code",
    "id": "ca5UcHTMKsBf",
    "outputId": "1d41a9aa-f5a5-43c6-b205-3b60ba216d5b"
   },
   "outputs": [],
   "source": [
    "# Now let's plot the data!\n",
    "# First create the axes object or frame for our plot.\n",
    "f,ax = plt.subplots(figsize=(8,5))\n",
    "\n",
    "# now for the plot\n",
    "# Note: 'ro' = red circles and markersize is the size of the circles.\n",
    "ax.plot(x, y, 'ro', markersize=5)"
   ]
  },
  {
   "cell_type": "markdown",
   "metadata": {
    "colab_type": "text",
    "id": "uGijJJSWKsBj"
   },
   "source": [
    "Ideally we would also like to plot the error bars (`errorVal`) of our data.  We can use the `errorbar` function to do so."
   ]
  },
  {
   "cell_type": "code",
   "execution_count": null,
   "metadata": {
    "colab": {
     "autoexec": {
      "startup": false,
      "wait_interval": 0
     }
    },
    "colab_type": "code",
    "id": "asOBEUMkKsBj",
    "outputId": "507930cd-04f0-4157-fed9-3f96a380e51c"
   },
   "outputs": [],
   "source": [
    "# Start by using plt.subplots again to produce the plot\n",
    "f,ax = plt.subplots(figsize=(8,5))\n",
    "\n",
    "# This time put use ax.errorbar for the 'yerr' as well.\n",
    "ax.errorbar(x, y, yerr = errorVal, fmt='ro', markersize=5)\n",
    "\n",
    "# In this case the axes range above seemed to work OK but in general you may want to control them.\n",
    "# Set the axes range to be from 0 to 10 for the x-axis and 0 to 25 for the y-axis\n",
    "# Replace x1 with 0, x2 with 10, y1 with 0, and y2 with 25.\n",
    "ax.set_xlim(0,10)\n",
    "ax.set_ylim(0,25)\n",
    "\n",
    "# Label the plot, make sure they are strings (enclosed in quotation marks).\n",
    "ax.set_xlabel(\"Numbers\")\n",
    "ax.set_ylabel(\"Data\")"
   ]
  },
  {
   "cell_type": "markdown",
   "metadata": {
    "colab_type": "text",
    "id": "wVrYrkqmKsBr"
   },
   "source": [
    "### 2. Fit a line to the data."
   ]
  },
  {
   "cell_type": "markdown",
   "metadata": {
    "colab_type": "text",
    "id": "1IzVvezaKsBs"
   },
   "source": [
    "Now let's fit a model to the data we plotted above.  Utilizing the plot, it appears a linear fit would probably be a good start.  The fitting routine we will use is part of `scipy`, a function called `curve_fit`."
   ]
  },
  {
   "cell_type": "code",
   "execution_count": null,
   "metadata": {
    "colab": {
     "autoexec": {
      "startup": false,
      "wait_interval": 0
     }
    },
    "colab_type": "code",
    "id": "uEFaUBx-KsBs"
   },
   "outputs": [],
   "source": [
    "# Import the fitting function.\n",
    "from scipy.optimize import curve_fit\n",
    "\n",
    "# The curve_fit function requires we define our model as a function, so lets do that.\n",
    "\n",
    "# Define the function (i.e., the model) you'll use fit to your data:\n",
    "# In this case it's a linear fit, so we'll use y = m x + b.\n",
    "# Thus, you will need to input three variables into your function (x, m, b).\n",
    "def linModel(x, m, b):\n",
    "    return m*x + b"
   ]
  },
  {
   "cell_type": "code",
   "execution_count": null,
   "metadata": {
    "colab": {
     "autoexec": {
      "startup": false,
      "wait_interval": 0
     }
    },
    "colab_type": "code",
    "id": "VII6ohorKsBv",
    "outputId": "b8e9d26b-b053-488a-ce66-d52836e4912e"
   },
   "outputs": [],
   "source": [
    "# Notice that curve_fit returns a tuple (of arrays).\n",
    "fitCoeffs, fitCovariances = curve_fit(linModel, x, y)\n",
    "\n",
    "# Pick out the best-fit for the 'm' value and best-fit for the 'b' value.\n",
    "bestfit_m = fitCoeffs[0]\n",
    "bestfit_b = fitCoeffs[1]\n",
    "\n",
    "print(f'best-fit value for \\'m\\': {bestfit_m}')\n",
    "print(f'best-fit value for \\'b\\': {bestfit_b}')\n"
   ]
  },
  {
   "cell_type": "code",
   "execution_count": null,
   "metadata": {
    "colab": {
     "autoexec": {
      "startup": false,
      "wait_interval": 0
     }
    },
    "colab_type": "code",
    "id": "dMzwuLJRKsBx",
    "outputId": "e7814bb9-eda1-42f2-f595-49b38ac27e7a"
   },
   "outputs": [],
   "source": [
    "# Plot your data (again) as red circles with error bars.\n",
    "f,ax = plt.subplots(figsize=(8,5))\n",
    "ax.errorbar(x, y, yerr = errorVal, fmt='ro', markersize=5)\n",
    "ax.set_xlim([0, 10])\n",
    "ax.set_ylim([0,25])\n",
    "ax.set_xlabel(\"Numbers\")\n",
    "ax.set_ylabel(\"Data\")\n",
    "\n",
    "# Generate an array that will serve as x-values for the best fit line.\n",
    "bestfit_x = np.linspace(0,14,50) #an array from 0-13, with 50 linearly spaced points.\n",
    "\n",
    "# Define the y-values for the best-fit line, using the linModel function you defined above.\n",
    "bestfit_y = linModel(bestfit_x, bestfit_m, bestfit_b)\n",
    "\n",
    "# Overplot the best-fit line in blue (default color).\n",
    "ax.plot(bestfit_x, bestfit_y)"
   ]
  },
  {
   "cell_type": "markdown",
   "metadata": {
    "colab_type": "text",
    "id": "E2fdY6SfKsB3"
   },
   "source": [
    "### 3. The Uncertainty in the Model Fit\n"
   ]
  },
  {
   "cell_type": "markdown",
   "metadata": {
    "colab_type": "text",
    "id": "WvStK2WUKsB4"
   },
   "source": [
    "You may have noticed that we ignored the second element that `curve_fit` produced.  This is the [covariance matrix](https://en.wikipedia.org/wiki/Covariance_matrix) that tells us something about the uncertainty of the best fit values."
   ]
  },
  {
   "cell_type": "code",
   "execution_count": null,
   "metadata": {
    "colab": {
     "autoexec": {
      "startup": false,
      "wait_interval": 0
     }
    },
    "colab_type": "code",
    "id": "fV03aWnDKsB5",
    "outputId": "7e281629-8323-464c-8a2e-6771acbc2b30"
   },
   "outputs": [],
   "source": [
    "print(f'Covariance matrix:\\n{fitCovariances}')"
   ]
  },
  {
   "cell_type": "markdown",
   "metadata": {
    "colab_type": "text",
    "id": "Sf-5hjzwKsB8"
   },
   "source": [
    "So which of these numbers are our errors?  It turns out the diagonals are the squares of the standard deviations of our fit parameters.  In this case, we have two because we had two fit parameters.\n",
    "\n",
    "The off-diagonal elements tell us the “covariance,” a measure of how the two variables vary together – in other words, the degree to which two variables are linearly associated."
   ]
  },
  {
   "cell_type": "code",
   "execution_count": null,
   "metadata": {
    "colab": {
     "autoexec": {
      "startup": false,
      "wait_interval": 0
     }
    },
    "colab_type": "code",
    "id": "_8N1vQiNKsB9",
    "outputId": "0ff10fff-a4f8-4beb-8045-58f88f5b50f4"
   },
   "outputs": [],
   "source": [
    "# Grab the standard deviation, AKA sigma, for each parameter.\n",
    "sigma_m = np.sqrt(fitCovariances[0,0])\n",
    "sigma_b = np.sqrt(fitCovariances[1,1])\n",
    "\n",
    "print(f'm = {bestfit_m:5.3} +/- {sigma_m:4.2}')\n",
    "print(f'b = {bestfit_b:5.3} +/- {sigma_b:4.2}')"
   ]
  },
  {
   "cell_type": "code",
   "execution_count": null,
   "metadata": {
    "colab": {
     "autoexec": {
      "startup": false,
      "wait_interval": 0
     }
    },
    "colab_type": "code",
    "id": "08WWc9y3KsCD",
    "outputId": "578d0ca9-5cbd-4afb-b1aa-37d2f75f15d2"
   },
   "outputs": [],
   "source": [
    "# For fun we can plot the data, best fit, and uncertainty together.\n",
    "f,ax = plt.subplots(figsize=(8,5))\n",
    "\n",
    "# Data with red circles and error bars...\n",
    "ax.errorbar(x, y, yerr = errorVal, fmt='ro', markersize=5)\n",
    "ax.set_xlim([0, 10])\n",
    "ax.set_xlabel(\"Numbers\")\n",
    "ax.set_ylabel(\"Data\")\n",
    "\n",
    "# Best-fit line in blue...\n",
    "ax.plot(bestfit_x,bestfit_y, label='Best Fit')\n",
    "\n",
    "# Get y-values for upper (and lower) best-fit line.\n",
    "upperfit_y = linModel(bestfit_x, bestfit_m + sigma_m, bestfit_b + sigma_b)\n",
    "lowerfit_y = linModel(bestfit_x, bestfit_m - sigma_m, bestfit_b - sigma_b)\n",
    "\n",
    "# Upper (and lower) best-fit line...\n",
    "ax.plot(bestfit_x, upperfit_y, '--', label='Upper Fit')\n",
    "ax.plot(bestfit_x, lowerfit_y, '--', label='Lower Fit')\n",
    "\n",
    "# Add in a legend.\n",
    "ax.legend()"
   ]
  },
  {
   "cell_type": "markdown",
   "metadata": {},
   "source": [
    "# That's all!  To be continued in part 2..."
   ]
  }
 ],
 "metadata": {
  "kernelspec": {
   "display_name": "Python 3 (ipykernel)",
   "language": "python",
   "name": "python3"
  },
  "language_info": {
   "codemirror_mode": {
    "name": "ipython",
    "version": 3
   },
   "file_extension": ".py",
   "mimetype": "text/x-python",
   "name": "python",
   "nbconvert_exporter": "python",
   "pygments_lexer": "ipython3",
   "version": "3.10.4"
  }
 },
 "nbformat": 4,
 "nbformat_minor": 2
}
