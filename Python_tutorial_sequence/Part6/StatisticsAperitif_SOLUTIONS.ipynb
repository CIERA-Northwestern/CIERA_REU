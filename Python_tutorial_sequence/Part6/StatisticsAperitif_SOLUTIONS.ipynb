{
 "cells": [
  {
   "cell_type": "code",
   "execution_count": 1,
   "metadata": {
    "slideshow": {
     "slide_type": "skip"
    }
   },
   "outputs": [],
   "source": [
    "import numpy as np\n",
    "import matplotlib.pyplot as plt\n",
    "\n",
    "%matplotlib inline"
   ]
  },
  {
   "cell_type": "markdown",
   "metadata": {
    "collapsed": true,
    "slideshow": {
     "slide_type": "slide"
    }
   },
   "source": [
    "# Introduction to Statistics:\n",
    "An Aperitif for DSFP Session 4\n",
    "========\n",
    "\n",
    "#### Version 0.1\n",
    "\n",
    "***\n",
    "By AA Miller 2017 Sep 14"
   ]
  },
  {
   "cell_type": "markdown",
   "metadata": {
    "slideshow": {
     "slide_type": "subslide"
    }
   },
   "source": [
    "An [Introduction to Statistics](https://github.com/LSSTC-DSFP/LSSTC-DSFP-Sessions/blob/master/Session1/Day2/IntroStat.pdf) was covered during Session 1 of the DSFP. Typically, this initial lecture is used as a means of providing a brief overview of the Session 1 material, but that does not make sense in the context of Session 4, as half of you have not seen this lecture."
   ]
  },
  {
   "cell_type": "markdown",
   "metadata": {
    "slideshow": {
     "slide_type": "subslide"
    }
   },
   "source": [
    "Instead, today we will focus on a relatively simple problem, while highlighting several challenges for the standard astronomical workflow, as a way of setting up the various lectures that will happen over the course of this week. \n",
    "\n",
    "A lot of the lessons in this lecture are inspired by the paper [Data Analysis Recipes: Fitting a Model to Data](https://arxiv.org/abs/1008.4686) by Hogg, Bovy, & Lang. [This paper has been mentioned previously in the DSFP, though today we will only be able to scratch the surface of its content.]"
   ]
  },
  {
   "cell_type": "markdown",
   "metadata": {
    "slideshow": {
     "slide_type": "subslide"
    }
   },
   "source": [
    "In some sense - the goal right now is to make you really nervous about the work that you've previously done. \n",
    "\n",
    "(Though this lecture should not be met with too much consternation, as you will have a toolkit to deal with all the issues that we raise by the end of the week)"
   ]
  },
  {
   "cell_type": "markdown",
   "metadata": {
    "slideshow": {
     "slide_type": "slide"
    }
   },
   "source": [
    "## Problem 1) Data\n",
    "\n",
    "At the core of everything we hope to accomplish with the DSFP stands a single common connection: data."
   ]
  },
  {
   "cell_type": "markdown",
   "metadata": {
    "slideshow": {
     "slide_type": "subslide"
    }
   },
   "source": [
    "There are many things we (may) want to do with these data: reduce them, visualize them, model them, develop predictions from them, use them to infer fundamental properties of the universe (!)."
   ]
  },
  {
   "cell_type": "markdown",
   "metadata": {
    "slideshow": {
     "slide_type": "subslide"
    }
   },
   "source": [
    "Before we dive into that really fun stuff, we should start with some basics:"
   ]
  },
  {
   "cell_type": "markdown",
   "metadata": {
    "slideshow": {
     "slide_type": "slide"
    }
   },
   "source": [
    "**Problem 1a**\n",
    "\n",
    "What is data?"
   ]
  },
  {
   "cell_type": "markdown",
   "metadata": {
    "slideshow": {
     "slide_type": "subslide"
    }
   },
   "source": [
    "*Take a few min to discuss this with your partner*"
   ]
  },
  {
   "cell_type": "markdown",
   "metadata": {
    "slideshow": {
     "slide_type": "subslide"
    }
   },
   "source": [
    "**Solution 1a**\n",
    "\n",
    "While we just discussed several different ideas about the nature of data, the main thing I want to emphasize is the following: data are *constants*."
   ]
  },
  {
   "cell_type": "markdown",
   "metadata": {
    "slideshow": {
     "slide_type": "slide"
    }
   },
   "source": [
    "**Problem 1b**\n",
    "\n",
    "Below, I provide some data (in the form of `numpy` arrays). As good data scientists, what is the first thing you should do with this data?\n",
    "\n",
    "Feel free to create a new cell if necessary."
   ]
  },
  {
   "cell_type": "code",
   "execution_count": 2,
   "metadata": {
    "slideshow": {
     "slide_type": "subslide"
    }
   },
   "outputs": [],
   "source": [
    "y = np.array([203, 58, 210, 202, 198, 158, \n",
    "              165, 201, 157, 131, 166, 160, \n",
    "              186, 125, 218, 146])\n",
    "x = np.array([495, 173, 479, 504, 510, 416, \n",
    "              393, 442, 317, 311, 400, 337, \n",
    "              423, 334, 533, 344])"
   ]
  },
  {
   "cell_type": "markdown",
   "metadata": {
    "slideshow": {
     "slide_type": "subslide"
    }
   },
   "source": [
    "**Solution 1b**\n",
    "\n",
    "I intentionally mislead with the previous question. \n",
    "\n",
    "The most important thing to do with *any* new data is understand where the data came from and what they represent. While the data are constants, they represent measurements of some kind. Thus, I would argue the most important thing to do with this data is understand where they came from (others may disagree). "
   ]
  },
  {
   "cell_type": "markdown",
   "metadata": {
    "slideshow": {
     "slide_type": "subslide"
    }
   },
   "source": [
    "For the 2 arrays created above, the answer is that they are \"toy\" data that were generated for illustrative purposes in the Hogg, Bovy, & Lang paper. In that sense, there are no units or specific measurements that otherwise need to be understood. "
   ]
  },
  {
   "cell_type": "markdown",
   "metadata": {
    "slideshow": {
     "slide_type": "slide"
    }
   },
   "source": [
    "**Problem 1c**\n",
    "\n",
    "[You may have already done this] Now that we understand the origin of the data, make a scatter plot showing their distribution."
   ]
  },
  {
   "cell_type": "code",
   "execution_count": 3,
   "metadata": {
    "slideshow": {
     "slide_type": "subslide"
    }
   },
   "outputs": [
    {
     "data": {
      "text/plain": [
       "Text(0, 0.5, 'y')"
      ]
     },
     "execution_count": 3,
     "metadata": {},
     "output_type": "execute_result"
    },
    {
     "data": {
      "image/png": "[encoded data removed]",
      "text/plain": [
       "<Figure size 432x288 with 1 Axes>"
      ]
     },
     "metadata": {
      "needs_background": "light"
     },
     "output_type": "display_data"
    }
   ],
   "source": [
    "plt.scatter(x,y)\n",
    "plt.xlabel(\"x\")\n",
    "plt.ylabel(\"y\")"
   ]
  },
  {
   "cell_type": "markdown",
   "metadata": {
    "slideshow": {
     "slide_type": "slide"
    }
   },
   "source": [
    "## Probelm 2) Fitting a Line to Data\n",
    "\n",
    "There is a very good chance, though I am not specifically assuming anything, that upon making the previous plot you had a thought along the lines of \"these points fall on a line\" or \"these data represent a linear relationship.\"  "
   ]
  },
  {
   "cell_type": "markdown",
   "metadata": {
    "slideshow": {
     "slide_type": "slide"
    }
   },
   "source": [
    "**Problem 2a** \n",
    "\n",
    "Is the assumption of linearity valid for the above data?\n",
    "\n",
    "Is it convenient?"
   ]
  },
  {
   "cell_type": "markdown",
   "metadata": {
    "slideshow": {
     "slide_type": "subslide"
    }
   },
   "source": [
    "*Take a few min to discuss this with your partner*"
   ]
  },
  {
   "cell_type": "markdown",
   "metadata": {
    "slideshow": {
     "slide_type": "subslide"
    }
   },
   "source": [
    "**Solution 2a**\n",
    "\n",
    "One of the primary lessons from this lecture is the following: *assumptions are dangerous*! In general, a linear relationship between data should only be assumed if there is a very strong theoretical motivation for such a relationship. Otherwise, the relationship could be just about anything, and inference based on an assumption of linearity may lead to dramatically incorrect conclusions (Friday's talk by Adam will cover Model Selection).\n",
    "\n",
    "That being said, assuming the data represent (are drawn) from a linear relationship is often very convenient. There are a large host of tools designed to solve this very problem."
   ]
  },
  {
   "cell_type": "markdown",
   "metadata": {
    "slideshow": {
     "slide_type": "slide"
    }
   },
   "source": [
    "Let us proceed with convenience and assume the data represent a linear relationship. In that case, in order to make predictions for future observations, we need to fit a line to the data. \n",
    "\n",
    "The \"standard\" proceedure for doing so is [least-squares fitting](https://en.wikipedia.org/wiki/Least_squares). In brief, least-squares minimizes the sum of the squared value of the residuals between the data and the fitting function."
   ]
  },
  {
   "cell_type": "markdown",
   "metadata": {
    "slideshow": {
     "slide_type": "subslide"
    }
   },
   "source": [
    "I've often joked that all you need to be a good data scientist is [google](https://www.google.com) and [stack overflow](https://stackoverflow.com). Via those two tools, we can quickly deduce that the easiest way to perform a linear least-squares fit to the above data is with [`np.polyfit`](https://docs.scipy.org/doc/numpy/reference/generated/numpy.polyfit.html), which performs a least-squares polynomial fit to two `numpy` arrays."
   ]
  },
  {
   "cell_type": "markdown",
   "metadata": {
    "slideshow": {
     "slide_type": "slide"
    }
   },
   "source": [
    "**Problem 2b**\n",
    "\n",
    "Use `np.polyfit()` to fit a line to the data. Overplot the best-fit line on the data."
   ]
  },
  {
   "cell_type": "code",
   "execution_count": 4,
   "metadata": {
    "slideshow": {
     "slide_type": "subslide"
    }
   },
   "outputs": [
    {
     "data": {
      "text/plain": [
       "Text(0, 0.5, 'y')"
      ]
     },
     "execution_count": 4,
     "metadata": {},
     "output_type": "execute_result"
    },
    {
     "data": {
      "image/png": "[encoded data removed]",
      "text/plain": [
       "<Figure size 432x288 with 1 Axes>"
      ]
     },
     "metadata": {
      "needs_background": "light"
     },
     "output_type": "display_data"
    }
   ],
   "source": [
    "p = np.polyfit(x, y, 1)\n",
    "p_eval = np.poly1d(p)\n",
    "\n",
    "plt.scatter(x,y)\n",
    "plt.plot([0,600], p_eval([0,600]))\n",
    "plt.xlabel(\"x\")\n",
    "plt.ylabel(\"y\")"
   ]
  },
  {
   "cell_type": "markdown",
   "metadata": {
    "slideshow": {
     "slide_type": "subslide"
    }
   },
   "source": [
    "There is a very good chance, though, again, I am not specifically assuming anything, that for the previous plots that you plotted `x` along the abscissa and `y` along the ordinate. \n",
    "\n",
    "[Honestly, there's no one to blame if this is the case, this has essentially been drilled into all of us from the moment we started making plots. In fact, in `matplotlib` we cannot change the name of the abscissa label without adjusting the `xlabel`.]"
   ]
  },
  {
   "cell_type": "markdown",
   "metadata": {
    "slideshow": {
     "slide_type": "slide"
    }
   },
   "source": [
    "This leads us to an important question, however. What if `y` does not depend on `x` and instead `x` depends on `y`? Does that in any way change the results for the fit?"
   ]
  },
  {
   "cell_type": "markdown",
   "metadata": {
    "slideshow": {
     "slide_type": "subslide"
    }
   },
   "source": [
    "**Problem 2c**\n",
    "\n",
    "Perform a linear least-squares fit to `x` vs. `y` (or if you already fit this, then reverse the axes). As above, plot the data and the best-fit model.\n",
    "\n",
    "To test if the relation is the same between the two fits, compare the predicted `y` value for both models corresponding to `x = 50`."
   ]
  },
  {
   "cell_type": "code",
   "execution_count": 5,
   "metadata": {
    "slideshow": {
     "slide_type": "subslide"
    }
   },
   "outputs": [
    {
     "name": "stdout",
     "output_type": "stream",
     "text": [
      "For y vs. x, then x=50 would predict y=24.80\n",
      "For x vs. y, then x=50 would predict y=9.54\n"
     ]
    },
    {
     "data": {
      "image/png": "[encoded data removed]",
      "text/plain": [
       "<Figure size 432x288 with 1 Axes>"
      ]
     },
     "metadata": {
      "needs_background": "light"
     },
     "output_type": "display_data"
    }
   ],
   "source": [
    "p_yx = np.polyfit(y, x, 1)\n",
    "p_yx_eval = np.poly1d(p_yx)\n",
    "\n",
    "plt.scatter(y,x)\n",
    "plt.plot([0,250], p_yx_eval([0,250]))\n",
    "plt.xlabel(\"y\")\n",
    "plt.ylabel(\"x\")\n",
    "\n",
    "print(\"For y vs. x, then x=50 would predict y={:.2f}\".format(p_eval(50)))\n",
    "print(\"For x vs. y, then x=50 would predict y={:.2f}\".format((50 - p_yx[1])/p_yx[0]))"
   ]
  },
  {
   "cell_type": "markdown",
   "metadata": {
    "slideshow": {
     "slide_type": "subslide"
    }
   },
   "source": [
    "So we have now uncovered one of the peculiariaties of least-squares. Fitting `y` vs. `x` is *not* the same as fitting `x` vs. `y`."
   ]
  },
  {
   "cell_type": "markdown",
   "metadata": {
    "slideshow": {
     "slide_type": "slide"
    }
   },
   "source": [
    "There are a couple essential assumptions that go into standard least-squares fitting:\n",
    "\n",
    "1. There is one dimension along which the data have negligible uncertainties\n",
    "2. Along the other dimension **all** of the uncertainties can be described via Gaussians of known variance\n",
    "\n",
    "These two conditions are *rarely* met for astronomical data. While condition 1 can be satisfied (e.g., time series data where there is essentially no uncertainty on the time of the observations), I contend that condition 2 is rarely, if ever, satisfied."
   ]
  },
  {
   "cell_type": "markdown",
   "metadata": {
    "slideshow": {
     "slide_type": "subslide"
    }
   },
   "source": [
    "Speaking of uncertainties(1), we have not utilized any thus far. [I hope this has raised some warning bells.]\n",
    "\n",
    "We will now re-organize our data to match what is originally in Hogg, Bovy, & Lang (previously `x` and `y` were swapped).\n",
    "\n",
    "(1) There is an amazing footnote in Hogg, Bovy, & Lang about \"errors\" vs. \"uncertainties\" - I suggest everyone read this."
   ]
  },
  {
   "cell_type": "markdown",
   "metadata": {},
   "source": [
    "**Problem 2d**\n",
    "\n",
    "Re-plot the data including the uncertatines."
   ]
  },
  {
   "cell_type": "code",
   "execution_count": 6,
   "metadata": {
    "slideshow": {
     "slide_type": "subslide"
    }
   },
   "outputs": [
    {
     "data": {
      "text/plain": [
       "<ErrorbarContainer object of 3 artists>"
      ]
     },
     "execution_count": 6,
     "metadata": {},
     "output_type": "execute_result"
    },
    {
     "data": {
      "image/png": "[encoded data removed]",
      "text/plain": [
       "<Figure size 432x288 with 1 Axes>"
      ]
     },
     "metadata": {
      "needs_background": "light"
     },
     "output_type": "display_data"
    }
   ],
   "source": [
    "x = np.array([203, 58, 210, 202, 198, 158, \n",
    "              165, 201, 157, 131, 166, 160, \n",
    "              186, 125, 218, 146])\n",
    "y = np.array([495, 173, 479, 504, 510, 416, \n",
    "              393, 442, 317, 311, 400, 337, \n",
    "              423, 334, 533, 344])\n",
    "sigma_y = np.array([21, 15, 27, 14, 30, 16, \n",
    "                    14, 25, 52, 16, 34, 31, \n",
    "                    42, 26, 16, 22])\n",
    "\n",
    "plt.errorbar(x, y, sigma_y, fmt = \"o\")"
   ]
  },
  {
   "cell_type": "markdown",
   "metadata": {
    "slideshow": {
     "slide_type": "subslide"
    }
   },
   "source": [
    "We are now assuming that `x` has negligible uncertainties and that `y` has uncertainties that can be perfectly described by Gaussians of known variance."
   ]
  },
  {
   "cell_type": "markdown",
   "metadata": {
    "slideshow": {
     "slide_type": "slide"
    }
   },
   "source": [
    "A portion of the appeal of least-squares is that it provides a deterministic method for determining the best fit. To understand that we now need to do a little linear algebra.\n",
    "\n",
    "We can arrange the data in the following matricies:\n",
    "\n",
    "$$ \\mathbf{Y} = \\left[ {\\begin{array}{c}\n",
    "            y_1 \\\\\n",
    "            y_2 \\\\\n",
    "            \\dots \\\\\n",
    "            y_N\n",
    "            \\end{array}\n",
    "           }\n",
    "            \\right] , $$\n",
    "\n",
    "$$ \\mathbf{A} = \\left[ {\\begin{array}{cc}\n",
    "            1 & x_1 \\\\\n",
    "            1 & x_2 \\\\\n",
    "            \\dots & \\dots \\\\\n",
    "            1 & x_N\n",
    "            \\end{array}\n",
    "           }\n",
    "           \\right] ,\n",
    "           $$\n",
    "           \n",
    "$$ \\mathbf{C} = \\left[ {\\begin{array}{cccc}\n",
    "            \\sigma_{y_1}^2 & 0 & \\dots & 0 \\\\\n",
    "            0 & \\sigma_{y_2}^2 & \\dots & 0 \\\\\n",
    "            \\vdots & \\vdots & \\ddots & \\vdots \\\\\n",
    "            0 & 0 & \\dots & \\sigma_{y_1}^2 \\\\\n",
    "            \\end{array}\n",
    "           }\n",
    "           \\right] ,\n",
    "           $$\n",
    "           \n",
    "where $\\mathbf{Y}$ is a vector, and $\\mathbf{C}$ is the covariance matrix. "
   ]
  },
  {
   "cell_type": "markdown",
   "metadata": {
    "slideshow": {
     "slide_type": "subslide"
    }
   },
   "source": [
    "Ultimately, we need to solve the equation\n",
    "\n",
    "$$\\mathbf{Y} = \\mathbf{A}\\mathbf{X}.$$\n",
    "\n",
    "I am skipping the derivation, but the solution to this equations is:\n",
    "\n",
    "$$ \\left[ {\\begin{array}{c}\n",
    "            b \\\\\n",
    "            m \\\\\n",
    "            \\end{array}\n",
    "           }\n",
    "            \\right] = \\mathbf{X} = \\left[ \\mathbf{A}^T \\mathbf{C}^{-1} \\mathbf{A}\\right]^{-1} \\left[ \\mathbf{A}^T \\mathbf{C}^{-1} \\mathbf{Y}\\right].$$\n",
    "\n"
   ]
  },
  {
   "cell_type": "markdown",
   "metadata": {
    "slideshow": {
     "slide_type": "subslide"
    }
   },
   "source": [
    "As noted in Hogg, Bovy, & Lang, this procedure minimizes the $\\chi^2$ function, which is the total squared error, after appropriately scaling by the uncertainties:\n",
    "\n",
    "$$ \\chi^2 = \\Sigma_{i = 1}^{N} \\frac{[y_i - f(x_i)]^2}{\\sigma_{y_i}^2} = \\left[ \\mathbf{Y}  - \\mathbf{A}\\mathbf{X}\\right]^{T} \\mathbf{C}^{-1} \\left[ \\mathbf{Y} - \\mathbf{A} \\mathbf{X}\\right].$$"
   ]
  },
  {
   "cell_type": "markdown",
   "metadata": {
    "slideshow": {
     "slide_type": "slide"
    }
   },
   "source": [
    "**Problem 2e** \n",
    "\n",
    "Using the linear algebra equations above (i.e. avoid `np.polyfit` or any other similar functions), determine the weighted least-squares best-fit values for $b$ and $m$, the intercept and slope, respectively.\n",
    "\n",
    "Plot the results of the best-fit line. How does this compare to the above estimates?"
   ]
  },
  {
   "cell_type": "code",
   "execution_count": 8,
   "metadata": {
    "slideshow": {
     "slide_type": "subslide"
    }
   },
   "outputs": [
    {
     "name": "stdout",
     "output_type": "stream",
     "text": [
      "[[34.04772776]\n",
      " [ 2.23992083]]\n",
      "The best-fit value for the slope and intercept are: 2.2399 and 34.0477\n"
     ]
    },
    {
     "data": {
      "image/png": "[encoded data removed]",
      "text/plain": [
       "<Figure size 432x288 with 1 Axes>"
      ]
     },
     "metadata": {
      "needs_background": "light"
     },
     "output_type": "display_data"
    }
   ],
   "source": [
    "Y = y.reshape(-1,1)\n",
    "A = np.vstack((np.ones_like(x), x)).T\n",
    "C = np.diag(sigma_y**2)\n",
    "\n",
    "X = np.linalg.inv(A.transpose()@np.linalg.inv(C)@A) @ (A.transpose()@np.linalg.inv(C)@Y)\n",
    "print(X)\n",
    "best_fit = np.poly1d(X[::-1,0])\n",
    "\n",
    "plt.errorbar(x, y, sigma_y, fmt = \"o\")\n",
    "plt.plot([0,300], best_fit([0,300]))\n",
    "\n",
    "print(\"The best-fit value for the slope and intercept are: {:.4f} and {:.4f}\".format(X[1][0], X[0][0]))"
   ]
  },
  {
   "cell_type": "markdown",
   "metadata": {
    "slideshow": {
     "slide_type": "slide"
    }
   },
   "source": [
    "**Problem 2f**\n",
    "\n",
    "Confirm the results of this fit are the same as those from `np.polyfit`.\n",
    "\n",
    "*Hint - be sure to include the uncertainties.*"
   ]
  },
  {
   "cell_type": "code",
   "execution_count": 9,
   "metadata": {
    "slideshow": {
     "slide_type": "subslide"
    }
   },
   "outputs": [
    {
     "name": "stdout",
     "output_type": "stream",
     "text": [
      "The best-fit value for the slope and intercept are: 2.2399 and 34.0477\n"
     ]
    }
   ],
   "source": [
    "p = np.polyfit(x, y, 1, w = 1/sigma_y)\n",
    "print(\"The best-fit value for the slope and intercept are: {:.4f} and {:.4f}\".format(p[0], p[1]))"
   ]
  },
  {
   "cell_type": "markdown",
   "metadata": {
    "slideshow": {
     "slide_type": "slide"
    }
   },
   "source": [
    "## Problem 3) Are the Uncertainties Actually Gaussian?\n",
    "\n",
    "Previously we noted that there are two essential assumptions that are required for least-squares fitting to be correct. We are now going to examine the latter requirement, namely, that the uncertainties can be perfectly described as Gaussians with known variance."
   ]
  },
  {
   "cell_type": "markdown",
   "metadata": {
    "slideshow": {
     "slide_type": "subslide"
    }
   },
   "source": [
    "Earlier I stated this assumption is rarely satisfied. Why might this be the case? \n",
    "\n",
    "In my experience (meaning this is hardly universal), if it's astro, it's got systematics. While I cannot prove this, I contend that systematic uncertainties are rarely Gaussian. If you are lucky enough to be in a regime where you can be confident that the systematics are Gaussian, I further contend that it is extremely difficult to be certain that the variance of that Gaussian is known."
   ]
  },
  {
   "cell_type": "markdown",
   "metadata": {
    "slideshow": {
     "slide_type": "subslide"
    }
   },
   "source": [
    "Then there's another (astro-specific) challenge: in many circumstances, we aren't actually working with data, but rather with the results of other models applied to the data.\n",
    "\n",
    "Let's take an optical astronomy (biased, but this is LSST after all) example. What are the data? In many cases inference is being based on measurements of brightness, but the true data in this case is simply a bunch of electron counts in a CCD. The brightness (or mag) is based on the application of a model (e.g., PSF, aperture, Kron) that is applied to the data. Thus, to assume that a flux (or mag) measurement has Gaussian uncertainties with known variance is to assume that whatever flux-measurement model has been applied always produces perfectly Gaussian uncertainties (and a lot of different assumptions go into flux-measurement models...)"
   ]
  },
  {
   "cell_type": "markdown",
   "metadata": {
    "slideshow": {
     "slide_type": "subslide"
    }
   },
   "source": [
    "As a demonstration associated with the challenges of these assumptions, we will examine the data set presented in Hogg, Bovy, & Lang. "
   ]
  },
  {
   "cell_type": "code",
   "execution_count": 27,
   "metadata": {
    "slideshow": {
     "slide_type": "subslide"
    }
   },
   "outputs": [],
   "source": [
    "x = np.array([201, 201, 287, 166,  58, 157, 146, 218, 203, 186, 160,  47, 210,\n",
    "       131, 202, 125, 158, 198, 165, 244])\n",
    "y = np.array([592, 442, 402, 400, 173, 317, 344, 533, 495, 423, 337, 583, 479,\n",
    "       311, 504, 334, 416, 510, 393, 401])\n",
    "sigma_y = np.array([61, 25, 15, 34, 15, 52, 22, 16, 21, 42, 31, 38, 27, 16, 14, 26, 16,\n",
    "       30, 14, 25])"
   ]
  },
  {
   "cell_type": "markdown",
   "metadata": {
    "slideshow": {
     "slide_type": "slide"
    }
   },
   "source": [
    "**Problem 3a**\n",
    "\n",
    "Using the least-squares methodology developed in Problem 2, determine the best-fit slope and intercept for a line fit to the data above. \n",
    "\n",
    "Make a scatter plot of the data, and overplot the best-fit line. What if anything, do you notice about the data and the fit?"
   ]
  },
  {
   "cell_type": "code",
   "execution_count": 12,
   "metadata": {
    "slideshow": {
     "slide_type": "subslide"
    }
   },
   "outputs": [
    {
     "name": "stdout",
     "output_type": "stream",
     "text": [
      "The best-fit value for the slope and intercept are: 1.0767 and 213.2735\n"
     ]
    },
    {
     "data": {
      "image/png": "[encoded data removed]",
      "text/plain": [
       "<Figure size 432x288 with 1 Axes>"
      ]
     },
     "metadata": {
      "needs_background": "light"
     },
     "output_type": "display_data"
    }
   ],
   "source": [
    "Y = y.reshape(-1,1)\n",
    "A = np.vstack((np.ones_like(x), x)).T\n",
    "C = np.diag(sigma_y**2)\n",
    "\n",
    "X = np.linalg.inv(A.transpose()@np.linalg.inv(C)@A) @ (A.transpose()@np.linalg.inv(C)@Y)\n",
    "\n",
    "best_fit = np.poly1d(X[::-1,0])\n",
    "\n",
    "plt.errorbar(x, y, sigma_y, fmt = \"o\")\n",
    "plt.plot([0,300], best_fit([0,300]))\n",
    "\n",
    "print(\"The best-fit value for the slope and intercept are: {:.4f} and {:.4f}\".format(X[1][0], X[0][0]))"
   ]
  },
  {
   "cell_type": "markdown",
   "metadata": {
    "slideshow": {
     "slide_type": "subslide"
    }
   },
   "source": [
    "Unlike the data in Problems 1 and 2, there appear to be some significant outliers (of course - this appearance of outliers is entirely dependent upon the assumption of linearity, there may actually be no outliers and a complex relation between `x` and `y`). As such, it does not appear (to me) as though the best-fit line provides a good model for the data."
   ]
  },
  {
   "cell_type": "markdown",
   "metadata": {
    "slideshow": {
     "slide_type": "slide"
    }
   },
   "source": [
    "**Problem 3b**\n",
    "\n",
    "Perform a least-squares 2nd order polynomial fit to the data. Overplot the bestfit curve.\n",
    "\n",
    "How does this compare to the linear model fit?"
   ]
  },
  {
   "cell_type": "code",
   "execution_count": 13,
   "metadata": {},
   "outputs": [
    {
     "data": {
      "text/plain": [
       "[<matplotlib.lines.Line2D at 0x7fab2a5f9160>]"
      ]
     },
     "execution_count": 13,
     "metadata": {},
     "output_type": "execute_result"
    },
    {
     "data": {
      "image/png": "[encoded data removed]",
      "text/plain": [
       "<Figure size 432x288 with 1 Axes>"
      ]
     },
     "metadata": {
      "needs_background": "light"
     },
     "output_type": "display_data"
    }
   ],
   "source": [
    "Y = y.reshape(-1,1)\n",
    "A = np.vstack((np.ones_like(x), x, x**2)).T\n",
    "C = np.diag(sigma_y**2)\n",
    "\n",
    "X = np.linalg.inv(A.transpose()@np.linalg.inv(C)@A) @ (A.transpose()@np.linalg.inv(C)@Y)\n",
    "\n",
    "best_fit = np.poly1d(X[::-1,0])\n",
    "\n",
    "plt.errorbar(x, y, sigma_y, fmt = \"o\")\n",
    "plt.plot(np.linspace(0,300,300), best_fit(np.linspace(0,300,300)))\n"
   ]
  },
  {
   "cell_type": "markdown",
   "metadata": {
    "slideshow": {
     "slide_type": "subslide"
    }
   },
   "source": [
    "By eye (a metric that is hardly meaningful, but nevertheless worth developing because talks never provide all of the details), the quadratic fit appears \"better\" than the linear fit.\n",
    "\n",
    "But, there are still \"outliers\" and in the realm of polynomial fitting, it is always possible to get a better fit by adding more degrees to the polynomial. Should we keep going here, or should we stop? (Again - we will discuss model selection with Adam on Friday)\n",
    "\n",
    "[As a reminder - in machine learning we'd call this low training error, but the generalization error is likely huge]"
   ]
  },
  {
   "cell_type": "markdown",
   "metadata": {
    "slideshow": {
     "slide_type": "slide"
    }
   },
   "source": [
    "How should we deal with these potential outliers?\n",
    "\n",
    "(and to re-iterate, we cannot be certain that these points are, in fact, outliers)"
   ]
  },
  {
   "cell_type": "markdown",
   "metadata": {
    "slideshow": {
     "slide_type": "subslide"
    }
   },
   "source": [
    "Amazingly, if you scroll through the literature you can find solutions like the following: \"We do not *believe* the data point at (x, y) for reasons A, B, C. Thus, we exclude that point from the fit.\"\n",
    "\n",
    "This, obviously, lacks any sort of rigor. If data is going to be removed, and it is worth asking if data should ever be removed, it should not be subject to the \"beliefs\" of an individual person or group. "
   ]
  },
  {
   "cell_type": "markdown",
   "metadata": {
    "slideshow": {
     "slide_type": "subslide"
    }
   },
   "source": [
    "A more common approach that you might encounter is known as $k\\sigma$ clipping, which is an iterative procedure to identify and remove outliers from a data set. The procedure is as follows:\n",
    "\n",
    "1. Fit the model to the data\n",
    "2. Identify any data points that are $k\\sigma$ discrepant from the best-fit model\n",
    "3. Remove the discrepant points, repeat steps 1 & 2 until there are no data beyond $k\\sigma$"
   ]
  },
  {
   "cell_type": "markdown",
   "metadata": {
    "slideshow": {
     "slide_type": "subslide"
    }
   },
   "source": [
    "The motivation for this procedure is the following: in a small data set (such as the one above, 20 points), the likelihood of having large $\\sigma$ deviations (let's say $k = 5$) is vanishingly small. Thus, it \"makes sense\" to remove those points. \n",
    "\n",
    "Of course, this only makes sense if the uncertainties are truly gaussian with low variance. So again, specific, and likely untrue, assumptions have to be made. "
   ]
  },
  {
   "cell_type": "markdown",
   "metadata": {
    "slideshow": {
     "slide_type": "slide"
    }
   },
   "source": [
    "**Problem 3c**\n",
    "\n",
    "Develop a $k\\sigma$ clipping procedure to fit a line to the data set. Set $k = 5$ and determine the best-fit line to the data. \n",
    "\n",
    "Overplot the results of the procedure on the data. How does this fit to the data look?"
   ]
  },
  {
   "cell_type": "code",
   "execution_count": 38,
   "metadata": {
    "slideshow": {
     "slide_type": "subslide"
    }
   },
   "outputs": [
    {
     "data": {
      "text/plain": [
       "[<matplotlib.lines.Line2D at 0x7fab2bb4d430>]"
      ]
     },
     "execution_count": 38,
     "metadata": {},
     "output_type": "execute_result"
    },
    {
     "data": {
      "image/png": "[encoded data removed]",
      "text/plain": [
       "<Figure size 900x600 with 1 Axes>"
      ]
     },
     "metadata": {
      "needs_background": "light"
     },
     "output_type": "display_data"
    }
   ],
   "source": [
    "def k_clip_linear_fit(x, y, sigma_y, k = 5):\n",
    "    '''Fit a line to y vs. x, and k-sigma clip until convergence'''\n",
    "    \n",
    "    not_clipped = np.ones_like(y).astype(bool)\n",
    "    n_remove = 1\n",
    "    while n_remove > 0:\n",
    "        Y = np.array(y[not_clipped].reshape(-1,1))\n",
    "        A = np.array((np.ones_like(x[not_clipped]), x[not_clipped])).T\n",
    "        C = np.diag(sigma_y[not_clipped]**2)\n",
    "\n",
    "        X = np.linalg.inv(A.transpose()@np.linalg.inv(C)@A) @ (A.transpose()@np.linalg.inv(C)@Y)\n",
    "        best_fit = np.poly1d(X[::-1,0])\n",
    "        norm_res = np.abs(y - best_fit(x))/(sigma_y)\n",
    "        remove = np.logical_and(norm_res >= k, not_clipped == 1)\n",
    "        \n",
    "        n_remove = sum(remove)\n",
    "        not_clipped[remove] = 0   \n",
    "        \n",
    "    return X[1], X[0], not_clipped\n",
    "\n",
    "m, b, not_clipped = k_clip_linear_fit(x, y, sigma_y, k = 5)\n",
    "plt.figure(dpi=150)\n",
    "plt.errorbar(x[not_clipped], y[not_clipped], \n",
    "             sigma_y[not_clipped], color='k', marker='.', linestyle='', label = \"good\")\n",
    "plt.errorbar(x[not_clipped == False], y[not_clipped == False], \n",
    "             sigma_y[not_clipped == False], color='b', marker='.', linestyle='', label = \"outlier\")\n",
    "p = np.poly1d([ m[0], b[0]])\n",
    "plt.plot([0,300], p([0,300]), color='r', label = r\"$4\\sigma \\; \\mathrm{best \\; fit}\")"
   ]
  },
  {
   "cell_type": "markdown",
   "metadata": {
    "slideshow": {
     "slide_type": "subslide"
    }
   },
   "source": [
    "By eye, the results above are not that satisfying. Several of those points do look like outliers, but there are also 2 points being rejected that are well within the other cluster of data.\n",
    "\n",
    "Furthermore, the point at $(x, y) \\approx (60, 170)$ was clipped in an early iteration of the algorithm, but now with the final model this point is actually within $k\\sigma$ of the best-fit line. What should one do with points like this?"
   ]
  },
  {
   "cell_type": "markdown",
   "metadata": {
    "slideshow": {
     "slide_type": "subslide"
    }
   },
   "source": [
    "This is one of the great problems with $k\\sigma$ clipping: how does one select the appropriate value for $k$?\n",
    "\n",
    "Even if there was a good heuristic argument for selecting $k$, is there fundamentally any difference between an observation that is $k\\sigma + \\epsilon$ away from the model versus a point at $k\\sigma - \\epsilon$, where $\\epsilon \\ll 1$? Any choice of $k$ will automatically remove one of these points and not the other, which seems somewhat arbitrary..."
   ]
  },
  {
   "cell_type": "markdown",
   "metadata": {
    "slideshow": {
     "slide_type": "slide"
    }
   },
   "source": [
    "**Problem 3d**\n",
    "\n",
    "Perform the $k\\sigma$ procedure on the data, but this time set $k = 7$. Plot the results as above.\n",
    "\n",
    "How do these results compare to our previous fits?"
   ]
  },
  {
   "cell_type": "code",
   "execution_count": null,
   "metadata": {
    "slideshow": {
     "slide_type": "subslide"
    }
   },
   "outputs": [],
   "source": [
    "m, b, not_clipped = k_clip_linear_fit(x, y, sigma_y, k = 7)\n",
    "\n",
    "plt.errorbar(x[not_clipped], y[not_clipped], \n",
    "             sigma_y[not_clipped], fmt = \"o\", label = \"good\")\n",
    "plt.errorbar(x[not_clipped == False], y[not_clipped == False], \n",
    "             sigma_y[not_clipped == False], fmt = \"o\", label = \"outlier\")\n",
    "p = np.poly1d([ m[0], b[0]])\n",
    "plt.plot([0,300], p([0,300]), label = r\"$4\\sigma \\; \\mathrm{best \\; fit}\")"
   ]
  },
  {
   "cell_type": "markdown",
   "metadata": {
    "slideshow": {
     "slide_type": "subslide"
    }
   },
   "source": [
    "By eye, this *appears* superior to the previous fit. At the same time, we have not actually optimized anything to definitively show that this is the case.\n",
    "\n",
    "If there are outliers in the data, then it stands to reason that the uncertainties are likely not correctly estimated."
   ]
  },
  {
   "cell_type": "markdown",
   "metadata": {
    "slideshow": {
     "slide_type": "subslide"
    }
   },
   "source": [
    "**Problem 3e**\n",
    "\n",
    "Perform the $k\\sigma$ procedure on the data, with $k = 5$, but the variance increased by a factor 4 (i.e. `sigma_y` increased by a factor of 2). Plot the results as above.\n",
    "\n",
    "How do these results compare to our previous fits?"
   ]
  },
  {
   "cell_type": "code",
   "execution_count": null,
   "metadata": {
    "slideshow": {
     "slide_type": "subslide"
    }
   },
   "outputs": [],
   "source": [
    "m, b, not_clipped = k_clip_linear_fit(x, y, 2*sigma_y, k = 5)\n",
    "\n",
    "plt.errorbar(x[not_clipped], y[not_clipped], \n",
    "             sigma_y[not_clipped], fmt = \"o\", label = \"good\")\n",
    "plt.errorbar(x[not_clipped == False], y[not_clipped == False], \n",
    "             sigma_y[not_clipped == False], fmt = \"o\", label = \"outlier\")\n",
    "p = np.poly1d([ m[0], b[0]])\n",
    "plt.plot([0,300], p([0,300]), label = r\"$4\\sigma \\; \\mathrm{best \\; fit}\")"
   ]
  },
  {
   "cell_type": "markdown",
   "metadata": {
    "slideshow": {
     "slide_type": "subslide"
    }
   },
   "source": [
    "If the uncertainties were underestimated then none of the data get clipped from the fit!"
   ]
  },
  {
   "cell_type": "markdown",
   "metadata": {
    "slideshow": {
     "slide_type": "slide"
    }
   },
   "source": [
    "I assume (and I hope I've convinced you that assumptions are dangerous) that if you have worked with astronomical data that at one point or another you have (i) encountered data that appear to have outliers, and/or (ii) plotted data in 2 dimensions and then performed a (least-squares) linear fit to that data."
   ]
  },
  {
   "cell_type": "markdown",
   "metadata": {
    "slideshow": {
     "slide_type": "subslide"
    }
   },
   "source": [
    "If that is true, I sincerely hope you have the following two thoughts:\n",
    "\n",
    "1. Crap, crap, crap - I really messed up my paper on [*REDACTED*].\n",
    "2. There has to be a better way!"
   ]
  },
  {
   "cell_type": "markdown",
   "metadata": {
    "slideshow": {
     "slide_type": "subslide"
    }
   },
   "source": [
    "First, let's address point 1. Don't freak out. Yes, it is probably the case that some work somewhere was not completed in the absolute most rigorous fashion possible. This is okay (and I feel fairly confident saying everyone has done it. There are definitely examples of each of the \"bad\" things described above in *my* papers if you go back and look hard enough.)\n",
    "\n",
    "There are even some situations where the above prescriptions are appropriate and preferred (think engineering solutions as opposed to strict scientific inference). "
   ]
  },
  {
   "cell_type": "markdown",
   "metadata": {
    "slideshow": {
     "slide_type": "subslide"
    }
   },
   "source": [
    "More importantly - point 2: there is a better way. Especially for the data/problem that we have been investigating above.\n",
    "\n",
    "In particular, we can take a Bayesian approach to the problem (see Mario's lecture this afternoon), whereby we define a generative model (see Adam's lecture on Tuesday) that allows us to compute the likelihood of the observations (see Zeljko's lecture this afternoon). The computation of the likelihood or posterior probability distribution requires complex integrals, but this is possible using sophisticated sampling techniques (see Andy's talk on Tuesday).\n",
    "\n",
    "The combination of each of these tools provides a far more satisfying result than the various procedures previously discussed in this lecture. "
   ]
  },
  {
   "cell_type": "markdown",
   "metadata": {
    "slideshow": {
     "slide_type": "slide"
    }
   },
   "source": [
    "## Challenge Problem\n",
    "\n",
    "Use the procedure described above to determine the best-fit values for the slope and intercept of a line fit to the data."
   ]
  },
  {
   "cell_type": "code",
   "execution_count": null,
   "metadata": {
    "slideshow": {
     "slide_type": "skip"
    }
   },
   "outputs": [],
   "source": [
    "def lnlike(theta, x, y, sigma_y):\n",
    "    m, b, p_b, lnv_b, y_b = theta\n",
    "    model = m * x + b\n",
    "    bad_noise = np.exp(lnv_b) + sigma_y*sigma_y\n",
    "    ln_l = np.sum( np.log( (1 - p_b)/np.sqrt(2*np.pi*sigma_y*sigma_y)*np.exp(-1/2*((y - model)/sigma_y)**2) + \n",
    "                    (p_b)/np.sqrt(2*np.pi*(bad_noise))*np.exp(-1/2*(y - y_b)**2/(bad_noise))\n",
    "                          )\n",
    "                  )\n",
    "    return ln_l\n",
    "\n",
    "def lnprior(theta):\n",
    "    m, b, p_b, lnv_b, y_b = theta\n",
    "    if 0 < m < 10 and -200 < b < 200 and 0 < p_b < 1.0 and 0 < lnv_b < 20 and -1000 < y_b < 1000:\n",
    "        return 0.0\n",
    "    return -np.inf\n",
    "\n",
    "def lnprob(theta, x, y, yerr):\n",
    "    lp = lnprior(theta)\n",
    "    if not np.isfinite(lp):\n",
    "        return -np.inf\n",
    "    return lp + lnlike(theta, x, y, yerr)\n",
    "\n",
    "ndim, nwalkers = 5, 100\n",
    "pos = [[2.24, 34, 0.2, 5, 0] + 1e-4*np.random.randn(ndim) for i in range(nwalkers)]\n",
    "\n",
    "import emcee\n",
    "sampler = emcee.EnsembleSampler(nwalkers, ndim, lnprob, args=(x, y, sigma_y))\n",
    "\n",
    "sampler.run_mcmc(pos, 5000)"
   ]
  },
  {
   "cell_type": "code",
   "execution_count": null,
   "metadata": {
    "slideshow": {
     "slide_type": "subslide"
    }
   },
   "outputs": [],
   "source": [
    "m_samples = np.array(sampler.chain[:,500:,0]).flatten()\n",
    "b_samples = np.array(sampler.chain[:,500:,1]).flatten()\n",
    "\n",
    "fig, (ax1, ax2) = plt.subplots(1,2, figsize = (8,4))\n",
    "\n",
    "ax1.hexbin(b_samples, m_samples, gridsize = 250, bins = \"log\", mincnt = 1)\n",
    "ax2.errorbar(x, y, sigma_y, fmt = \"o\")\n",
    "ax2.set_xlim(0,300)\n",
    "ax2.set_ylim(0,700)\n",
    "\n",
    "max_prob = np.argmax(sampler.flatlnprobability)\n",
    "m_max = sampler.flatchain[:,0][max_prob]\n",
    "b_max = sampler.flatchain[:,1][max_prob]\n",
    "plt.plot([0,300], [b_max + 0*m_max, b_max + 300*m_max], lw = 2)\n",
    "\n",
    "for rand_draw in np.random.randint(500, len(sampler.flatchain[:,0]), 10):\n",
    "    m_draw = sampler.flatchain[:,0][rand_draw]\n",
    "    b_draw = sampler.flatchain[:,1][rand_draw]\n",
    "    plt.plot([0,300], [b_draw + 0*m_draw, b_draw + 300*m_draw],\n",
    "             color = \"0.5\", alpha = 0.4, zorder = 12, lw = 0.7)\n",
    "\n",
    "ax1.set_ylabel(\"m\")\n",
    "ax1.set_ylabel(\"b\")\n",
    "ax2.set_ylabel(\"y\")\n",
    "ax2.set_xlabel(\"x\")"
   ]
  }
 ],
 "metadata": {
  "celltoolbar": "Slideshow",
  "kernelspec": {
   "display_name": "Python 3",
   "language": "python",
   "name": "python3"
  },
  "language_info": {
   "codemirror_mode": {
    "name": "ipython",
    "version": 3
   },
   "file_extension": ".py",
   "mimetype": "text/x-python",
   "name": "python",
   "nbconvert_exporter": "python",
   "pygments_lexer": "ipython3",
   "version": "3.8.3"
  }
 },
 "nbformat": 4,
 "nbformat_minor": 2
}
