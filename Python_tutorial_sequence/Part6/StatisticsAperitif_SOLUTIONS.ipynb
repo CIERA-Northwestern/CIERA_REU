{
 "cells": [
  {
   "cell_type": "code",
   "execution_count": 1,
   "metadata": {
    "slideshow": {
     "slide_type": "skip"
    }
   },
   "outputs": [],
   "source": [
    "import numpy as np\n",
    "import matplotlib.pyplot as plt\n",
    "\n",
    "%matplotlib inline"
   ]
  },
  {
   "cell_type": "markdown",
   "metadata": {},
   "source": [
    "# Part 1: The Foundations of Least-Squares Fitting"
   ]
  },
  {
   "cell_type": "markdown",
   "metadata": {
    "slideshow": {
     "slide_type": "slide"
    }
   },
   "source": [
    "A more detailed [Introduction to Statistics](https://github.com/LSSTC-DSFP/LSSTC-DSFP-Sessions/blob/main/Sessions/Session01/Day2/IntroStat.pdf) is covered from the Data Science Fellowship Program for graduate students; an introductory review follows."
   ]
  },
  {
   "cell_type": "markdown",
   "metadata": {
    "slideshow": {
     "slide_type": "subslide"
    }
   },
   "source": [
    "Today we will focus on a relatively simple problem, while highlighting several challenges for the standard astronomical workflow.\n",
    "\n",
    "A lot of the lessons in this lecture are inspired by the paper [Data Analysis Recipes: Fitting a Model to Data](https://arxiv.org/abs/1008.4686) by Hogg, Bovy, & Lang. [This paper has been mentioned previously in the DSFP, though today we will only be able to scratch the surface of its content.]"
   ]
  },
  {
   "cell_type": "markdown",
   "metadata": {
    "slideshow": {
     "slide_type": "slide"
    }
   },
   "source": [
    "## Problem 1) Data\n",
    "\n",
    "At the core of everything we hope to accomplish stands a single common connection: data.\n",
    "\n",
    "There are many things we (may) want to do with these data: reduce them, visualize them, model them, develop predictions from them, use them to infer fundamental properties of the universe (!).\n",
    "\n",
    "Before we dive into that really fun stuff, we should start with some basics:"
   ]
  },
  {
   "cell_type": "markdown",
   "metadata": {
    "slideshow": {
     "slide_type": "slide"
    }
   },
   "source": [
    "**Problem 1a**\n",
    "\n",
    "Below, I provide some data (in the form of `numpy` arrays). As good data scientists, what is the first thing you should do with this data?"
   ]
  },
  {
   "cell_type": "code",
   "execution_count": 2,
   "metadata": {
    "slideshow": {
     "slide_type": "subslide"
    }
   },
   "outputs": [],
   "source": [
    "x = np.array([203, 58, 210, 202, 198, 158, \n",
    "              165, 201, 157, 131, 166, 160, \n",
    "              186, 125, 218, 146])\n",
    "y = np.array([495, 173, 479, 504, 510, 416, \n",
    "              393, 442, 317, 311, 400, 337, \n",
    "              423, 334, 533, 344])\n",
    "sigma_y = np.array([21, 15, 27, 14, 30, 16, \n",
    "                    14, 25, 52, 16, 34, 31, \n",
    "                    42, 26, 16, 22])"
   ]
  },
  {
   "cell_type": "markdown",
   "metadata": {},
   "source": [
    "Answer to 1a: Inspect it, visualize it, check it out, <i>look at it!"
   ]
  },
  {
   "cell_type": "code",
   "execution_count": 3,
   "metadata": {
    "slideshow": {
     "slide_type": "subslide"
    }
   },
   "outputs": [
    {
     "data": {
      "image/png": "[encoded data removed]",
      "text/plain": [
       "<Figure size 600x400 with 1 Axes>"
      ]
     },
     "metadata": {
      "needs_background": "light"
     },
     "output_type": "display_data"
    }
   ],
   "source": [
    "plt.figure(dpi=100)\n",
    "plt.scatter(x, y, color='k')\n",
    "plt.show()"
   ]
  },
  {
   "cell_type": "markdown",
   "metadata": {
    "slideshow": {
     "slide_type": "slide"
    }
   },
   "source": [
    "## Probelm 2) Fitting a Line to Data\n",
    "\n",
    "There is a very good chance, though I am not specifically assuming anything, that upon making the previous plot you had a thought along the lines of \"these points fall on a line\" or \"these data represent a linear relationship.\"  "
   ]
  },
  {
   "cell_type": "markdown",
   "metadata": {
    "slideshow": {
     "slide_type": "slide"
    }
   },
   "source": [
    "**Problem 2a** \n",
    "\n",
    "Is the assumption of linearity valid for the above data?\n",
    "\n",
    "Is it convenient?\n",
    "\n",
    "*Take a few min to discuss this with your partner*"
   ]
  },
  {
   "cell_type": "markdown",
   "metadata": {
    "slideshow": {
     "slide_type": "slide"
    }
   },
   "source": [
    "Let us proceed with convenience and assume the data represent a linear relationship. In that case, in order to make predictions for future observations, we need to fit a line to the data. \n",
    "\n",
    "The \"standard\" proceedure for doing so is [least-squares fitting](https://en.wikipedia.org/wiki/Least_squares). In brief, least-squares minimizes the sum of the squared value of the residuals between the data and the fitting function.\n",
    "\n",
    "We often joke that all you need to be a good data scientist is [google](https://www.google.com) and [stack overflow](https://stackoverflow.com). Via those two tools, we can quickly deduce that the easiest way to perform a linear least-squares fit to the above data is with [`np.polyfit`](https://docs.scipy.org/doc/numpy/reference/generated/numpy.polyfit.html), which performs a least-squares polynomial fit to two `numpy` arrays."
   ]
  },
  {
   "cell_type": "markdown",
   "metadata": {
    "slideshow": {
     "slide_type": "slide"
    }
   },
   "source": [
    "**Problem 2b**\n",
    "\n",
    "Use `np.polyfit()` to fit a line to the data. Overplot the best-fit line on the data."
   ]
  },
  {
   "cell_type": "code",
   "execution_count": 4,
   "metadata": {
    "slideshow": {
     "slide_type": "subslide"
    }
   },
   "outputs": [
    {
     "name": "stdout",
     "output_type": "stream",
     "text": [
      "2.216656024264677 28.843451929600416\n"
     ]
    },
    {
     "data": {
      "image/png": "[encoded data removed]",
      "text/plain": [
       "<Figure size 600x400 with 1 Axes>"
      ]
     },
     "metadata": {
      "needs_background": "light"
     },
     "output_type": "display_data"
    }
   ],
   "source": [
    "p = np.polyfit(x, y, 1) # complete\n",
    "y_fit = p[0]*x + p[1]\n",
    "print(p[0], p[1])\n",
    "\n",
    "plt.figure(dpi=100)\n",
    "plt.scatter(x, y, color='k', marker='.')\n",
    "plt.plot(x, y_fit, color='r')\n",
    "plt.show()"
   ]
  },
  {
   "cell_type": "markdown",
   "metadata": {
    "slideshow": {
     "slide_type": "subslide"
    }
   },
   "source": [
    "There is a very good chance, though, again, I am not specifically assuming anything, that for the previous plots that you plotted `x` along the abscissa and `y` along the ordinate. \n",
    "\n",
    "[Honestly, there's no one to blame if this is the case, this has essentially been drilled into all of us from the moment we started making plots. In fact, in `matplotlib` we cannot change the name of the abscissa label without adjusting the `xlabel`.]"
   ]
  },
  {
   "cell_type": "markdown",
   "metadata": {
    "slideshow": {
     "slide_type": "slide"
    }
   },
   "source": [
    "This leads us to an important question, however. What if `y` does not depend on `x` and instead `x` depends on `y`? Does that in any way change the results for the fit?"
   ]
  },
  {
   "cell_type": "markdown",
   "metadata": {
    "slideshow": {
     "slide_type": "subslide"
    }
   },
   "source": [
    "**Problem 2c**\n",
    "\n",
    "Perform a linear least-squares fit to `x` vs. `y` (or if you already fit this, then reverse the axes). As above, plot the data and the best-fit model.\n",
    "\n",
    "To test if the relation is the same between the two fits, compare the predicted `y` value for both models corresponding to `x = 300`."
   ]
  },
  {
   "cell_type": "code",
   "execution_count": 5,
   "metadata": {
    "slideshow": {
     "slide_type": "subslide"
    }
   },
   "outputs": [
    {
     "data": {
      "image/png": "[encoded data removed]",
      "text/plain": [
       "<Figure size 600x400 with 1 Axes>"
      ]
     },
     "metadata": {
      "needs_background": "light"
     },
     "output_type": "display_data"
    },
    {
     "name": "stdout",
     "output_type": "stream",
     "text": [
      "For y vs. x, then x=50 would predict y=139.68\n",
      "For x vs. y, then x=50 would predict y=111.81\n"
     ]
    }
   ],
   "source": [
    "p_yx = np.polyfit(y, x, 1) # complete\n",
    "x_fit = p_yx[0]*y + p_yx[1]\n",
    "plt.figure(dpi=100)\n",
    "plt.scatter(y, x, color='k', marker='.') # complete\n",
    "plt.plot(y, x_fit, color='r')\n",
    "plt.show()\n",
    "\n",
    "solve_for_y_yx = (50 - p_yx[1])/(p_yx[0])\n",
    "solve_for_y_xy = p[0]*50 + p[1]\n",
    "print(\"For y vs. x, then x=50 would predict y={:.2f}\".format(solve_for_y_xy)) # complete\n",
    "print(\"For x vs. y, then x=50 would predict y={:.2f}\".format(solve_for_y_yx)) # complete"
   ]
  },
  {
   "cell_type": "markdown",
   "metadata": {
    "slideshow": {
     "slide_type": "subslide"
    }
   },
   "source": [
    "So we have now uncovered one of the peculiariaties of least-squares. Fitting `y` vs. `x` is *not* the same as fitting `x` vs. `y`."
   ]
  },
  {
   "cell_type": "markdown",
   "metadata": {
    "slideshow": {
     "slide_type": "slide"
    }
   },
   "source": [
    "There are a couple essential assumptions that go into standard least-squares fitting:\n",
    "\n",
    "1. There is one dimension along which the data have negligible uncertainties (e.g. if 'x' is 'time when data was taken,' then you may have a near-zero error on each entry of time, because you may know exactly when data was taken).\n",
    "2. Along the other dimension, **all** of the uncertainties can be described via Gaussians of known variance.\n",
    "\n",
    "These two conditions are *rarely* met for astronomical data. While condition 1 can be satisfied (e.g., time series data where there is essentially no uncertainty on the time of the observations), I contend that condition 2 is rarely, if ever, satisfied."
   ]
  },
  {
   "cell_type": "markdown",
   "metadata": {
    "slideshow": {
     "slide_type": "subslide"
    }
   },
   "source": [
    "Speaking of uncertainties*, we have not utilized any thus far. [I hope this has raised some warning bells.]\n",
    "\n",
    "We will now re-organize our data to match what is originally in Hogg, Bovy, & Lang (previously `x` and `y` were swapped).\n",
    "\n",
    "*There is an amazing footnote in Hogg, Bovy, & Lang about \"errors\" vs. \"uncertainties\" - I suggest everyone read this."
   ]
  },
  {
   "cell_type": "markdown",
   "metadata": {},
   "source": [
    "**Problem 2d**\n",
    "\n",
    "Re-plot the data including the uncertatines."
   ]
  },
  {
   "cell_type": "code",
   "execution_count": 6,
   "metadata": {
    "slideshow": {
     "slide_type": "subslide"
    }
   },
   "outputs": [
    {
     "data": {
      "image/png": "[encoded data removed]",
      "text/plain": [
       "<Figure size 600x400 with 1 Axes>"
      ]
     },
     "metadata": {
      "needs_background": "light"
     },
     "output_type": "display_data"
    }
   ],
   "source": [
    "plt.figure(dpi=100)\n",
    "plt.errorbar(x, y, sigma_y, color='k', marker='.', linestyle='') # complete\n",
    "plt.show()"
   ]
  },
  {
   "cell_type": "markdown",
   "metadata": {
    "slideshow": {
     "slide_type": "subslide"
    }
   },
   "source": [
    "We are now assuming that `x` has negligible uncertainties and that `y` has uncertainties that can be perfectly described by Gaussians of known variance."
   ]
  },
  {
   "cell_type": "markdown",
   "metadata": {
    "slideshow": {
     "slide_type": "slide"
    }
   },
   "source": [
    "\"Least-squares\" provides a deterministic method for determining the best fit, because it comes from the following linear algebra (bear with me).\n",
    "\n",
    "We can arrange the data in matricies:\n",
    "\n",
    "$$ \\mathbf{Y} = \\left[ {\\begin{array}{c}\n",
    "            y_1 \\\\\n",
    "            y_2 \\\\\n",
    "            \\dots \\\\\n",
    "            y_N\n",
    "            \\end{array}\n",
    "           }\n",
    "            \\right] , $$\n",
    "\n",
    "$$ \\mathbf{X} = \\left[ {\\begin{array}{cc}\n",
    "            1 & x_1 \\\\\n",
    "            1 & x_2 \\\\\n",
    "            \\dots & \\dots \\\\\n",
    "            1 & x_N\n",
    "            \\end{array}\n",
    "           }\n",
    "           \\right] ,\n",
    "           $$\n",
    "           \n",
    "$$ \\mathbf{A} = \\left[ {\\begin{array}{c}\n",
    "            \\text{fitted_parameter_1} \\\\\n",
    "            \\text{fitted_parameter_2} \\\\\n",
    "            \\end{array}\n",
    "           }\n",
    "           \\right] ,\n",
    "           $$\n",
    "           \n",
    "where $\\mathbf{Y}$ is a vector of dependent (y) data, $\\mathbf{X}$ is a matrix where the first column is a vector of all 1's, and the second column is a vector of the independent (x) data, and finally $\\mathbf{A}$ is the vector holding the parameters that we'd like to fit, that we believe could best describe an equation of our data in some way. *Note: this same derivation is on pg. 4 of the Hogg paper linked earlier, but I have swapped definitions of $\\mathbf{A}$ and $\\mathbf{X}$ because I think it makes more sense to keep the X's together!*"
   ]
  },
  {
   "cell_type": "markdown",
   "metadata": {},
   "source": [
    "Meanwhile, $\\mathbf{C}$ is the [covariance matrix](https://users.cs.utah.edu/~tch/CS4300/resources/refs/ErrorEllipses.pdf), which is literally the variance (error squared) of both axes of data. In cases of negligible x-errors, like time measurements, the only errors left are the dependent data errors. So, the errors in the dependent data are all that we have left, and they fill out the diagonal of the covariance matrix. If the errors on that data are Gaussian, then we refer to the errors as the \"sigma\" value of the Gaussian. If there *were* major errors in the independent data to keep track of, *and* if the errors in x and y had some sort of dependence on each other (literally co-varying), then the non-diagonal entries in the matrix would be filled out as well. But in the common, simply case of dominant dependent variable errors, the covariance matrix is:\n",
    "           \n",
    "$$ \\mathbf{C} = \\left[ {\\begin{array}{cccc}\n",
    "            \\sigma_{y_1}^2 & 0 & \\dots & 0 \\\\\n",
    "            0 & \\sigma_{y_2}^2 & \\dots & 0 \\\\\n",
    "            \\vdots & \\vdots & \\ddots & \\vdots \\\\\n",
    "            0 & 0 & \\dots & \\sigma_{y_1}^2 \\\\\n",
    "            \\end{array}\n",
    "           }\n",
    "           \\right] ,\n",
    "           $$\n",
    "           \n",
    "So, we find the best-fitting parameters in $\\mathbf{A}$ by solving the equation:\n",
    "\n",
    "$$\\mathbf{Y} = \\mathbf{X}\\mathbf{A}.$$"
   ]
  },
  {
   "cell_type": "markdown",
   "metadata": {
    "slideshow": {
     "slide_type": "subslide"
    }
   },
   "source": [
    "I am skipping the derivation, but the solution to this equations is:\n",
    "\n",
    "$$ \\left[ {\\begin{array}{c}\n",
    "            b \\\\\n",
    "            m \\\\\n",
    "            \\end{array}\n",
    "           }\n",
    "            \\right] = \\mathbf{A} = \\left[ \\mathbf{X}^T \\mathbf{C}^{-1} \\mathbf{X}\\right]^{-1} \\left[ \\mathbf{X}^T \\mathbf{C}^{-1} \\mathbf{Y}\\right].$$\n",
    "\n",
    "As noted in Hogg, Bovy, & Lang, this procedure minimizes the $\\chi^2$ function, which is the total squared error, after appropriately scaling by the uncertainties:\n",
    "\n",
    "$$ \\chi^2 = \\Sigma_{i = 1}^{N} \\frac{[y_i - f(x_i)]^2}{\\sigma_{y_i}^2} = \\left[ \\mathbf{Y}  - \\mathbf{X}\\mathbf{A}\\right]^{T} \\mathbf{C}^{-1} \\left[ \\mathbf{Y} - \\mathbf{X} \\mathbf{A}\\right].$$"
   ]
  },
  {
   "cell_type": "markdown",
   "metadata": {
    "slideshow": {
     "slide_type": "slide"
    }
   },
   "source": [
    "**Problem 2e** \n",
    "\n",
    "Using the linear algebra equations above (i.e. avoid `np.polyfit` or any other similar functions), determine the weighted least-squares best-fit values for $b$ and $m$, the intercept and slope, respectively.\n",
    "\n",
    "Plot the results of the best-fit line. How does this compare to the above estimates?"
   ]
  },
  {
   "cell_type": "code",
   "execution_count": 7,
   "metadata": {
    "slideshow": {
     "slide_type": "subslide"
    }
   },
   "outputs": [
    {
     "data": {
      "image/png": "[encoded data removed]",
      "text/plain": [
       "<Figure size 600x400 with 1 Axes>"
      ]
     },
     "metadata": {
      "needs_background": "light"
     },
     "output_type": "display_data"
    },
    {
     "name": "stdout",
     "output_type": "stream",
     "text": [
      "The best-fit value for the slope and intercept are: 2.2214 and 33.4505\n"
     ]
    }
   ],
   "source": [
    "Y = np.array(y)\n",
    "X = np.array((np.ones_like(x), x)).T\n",
    "sigma_y = sigma_y.astype(float)\n",
    "C = np.diag(sigma_y)\n",
    "\n",
    "A = np.linalg.inv(X.transpose() @ np.linalg.inv(C) @ X) @ (X.transpose() @ np.linalg.inv(C) @ Y) # complete\n",
    "\n",
    "plt.figure(dpi=100)\n",
    "plt.errorbar(x, y, sigma_y, color='k', marker='.', linestyle='') # complete\n",
    "plt.plot(x, A[1]*x + A[0], color='r') # complete\n",
    "plt.show()\n",
    "\n",
    "print(\"The best-fit value for the slope and intercept are: {:.4f} and {:.4f}\".format(A[1], A[0]))"
   ]
  },
  {
   "cell_type": "markdown",
   "metadata": {
    "slideshow": {
     "slide_type": "slide"
    }
   },
   "source": [
    "**Problem 2f**\n",
    "\n",
    "Confirm the results of this fit are the same as those from `np.polyfit`.\n",
    "\n",
    "*Hint - include the uncertainties (1/sigma) in the polynomial fit as a weight this time.*"
   ]
  },
  {
   "cell_type": "code",
   "execution_count": 8,
   "metadata": {
    "slideshow": {
     "slide_type": "subslide"
    }
   },
   "outputs": [
    {
     "name": "stdout",
     "output_type": "stream",
     "text": [
      "The best-fit value for the slope and intercept are: 2.2399 and 34.0477\n"
     ]
    }
   ],
   "source": [
    "p = np.polyfit(x, y, 1, w = 1/sigma_y) # complete\n",
    "print(\"The best-fit value for the slope and intercept are: {:.4f} and {:.4f}\".format(p[0], p[1])) # complete"
   ]
  },
  {
   "cell_type": "markdown",
   "metadata": {
    "slideshow": {
     "slide_type": "slide"
    }
   },
   "source": [
    "## Problem 3) Are the Uncertainties Actually Gaussian?\n",
    "\n",
    "Previously we noted that there are two essential assumptions that are required for least-squares fitting to be correct. We are now going to examine the latter requirement, namely, that the uncertainties can be perfectly described as Gaussians with known variance.\n",
    "\n",
    "Earlier I stated this assumption is rarely satisfied. Why might this be the case? \n",
    "\n",
    "In my experience (meaning this is hardly universal), if it's astro, it's got systematics. While I cannot prove this, I contend that systematic uncertainties are rarely Gaussian. If you are lucky enough to be in a regime where you can be confident that the systematics are Gaussian, I further contend that it is extremely difficult to be certain that the variance of that Gaussian is known."
   ]
  },
  {
   "cell_type": "markdown",
   "metadata": {
    "slideshow": {
     "slide_type": "subslide"
    }
   },
   "source": [
    "Then there's another (astro-specific) challenge: in many circumstances, we aren't actually working with data, but rather with the results of other models applied to the data.\n",
    "\n",
    "Let's take an optical astronomy example. What are the data? In many cases inference is being based on measurements of brightness, but the true data in this case is simply a bunch of electron counts in a CCD. The brightness (or mag) is based on the application of a model (e.g., PSF, aperture, Kron) that is applied to the data. Thus, to assume that a flux (or mag) measurement has Gaussian uncertainties with known variance is to assume that whatever flux-measurement model has been applied always produces perfectly Gaussian uncertainties (and a lot of different assumptions go into flux-measurement models...)"
   ]
  },
  {
   "cell_type": "markdown",
   "metadata": {
    "slideshow": {
     "slide_type": "slide"
    }
   },
   "source": [
    "**Problem 3a**\n",
    "\n",
    "Using the least-squares methodology developed in Problem 2, determine the best-fit slope and intercept for a line fit to the ***new*** data below. \n",
    "\n",
    "Make a scatter plot of the data, and overplot the best-fit line. What if anything, do you notice about the data and the fit?"
   ]
  },
  {
   "cell_type": "code",
   "execution_count": 2,
   "metadata": {
    "slideshow": {
     "slide_type": "subslide"
    }
   },
   "outputs": [
    {
     "data": {
      "image/png": "[encoded data removed]",
      "text/plain": [
       "<Figure size 600x400 with 1 Axes>"
      ]
     },
     "metadata": {
      "needs_background": "light"
     },
     "output_type": "display_data"
    },
    {
     "name": "stdout",
     "output_type": "stream",
     "text": [
      "The best-fit value for the slope and intercept are: 1.0767 and 213.2735\n"
     ]
    }
   ],
   "source": [
    "x = np.array([201, 201, 287, 166, 58, 157, 146, 218, 203, 186, 160, 47, 210,\n",
    "       131, 202, 125, 158, 198, 165, 244])\n",
    "y = np.array([592, 442, 402, 400, 173, 317, 344, 533, 495, 423, 337, 583, 479,\n",
    "       311, 504, 334, 416, 510, 393, 401])\n",
    "sigma_y = np.array([61, 25, 15, 34, 15, 52, 22, 16, 21, 42, 31, 38, 27, 16, 14, 26, 16,\n",
    "       30, 14, 25])\n",
    "\n",
    "Y = np.array(y)# complete (same as last time, just repeat for the new data)\n",
    "X = np.array((np.ones_like(x), x)).T\n",
    "sigma_y = sigma_y.astype(float)\n",
    "C = np.diag(sigma_y**2)\n",
    "\n",
    "A = np.linalg.inv(X.transpose() @ np.linalg.inv(C) @ X) @ (X.transpose() @ np.linalg.inv(C) @ Y) # same as before\n",
    "\n",
    "plt.figure(dpi=100)\n",
    "plt.errorbar(x, y, sigma_y, color='k', marker='.', linestyle='') # complete\n",
    "plt.plot(x, A[1]*x + A[0], color='r') # complete\n",
    "plt.show()\n",
    "print(\"The best-fit value for the slope and intercept are: {:.4f} and {:.4f}\".format(A[1], A[0])) # complete"
   ]
  },
  {
   "cell_type": "markdown",
   "metadata": {
    "slideshow": {
     "slide_type": "subslide"
    }
   },
   "source": [
    "### Unlike the data in Problems 1 and 2, there appear to be some significant outliers. Or, this appearance of outliers is entirely dependent upon the assumption of linearity, there may actually be no outliers and a complex relation between `x` and `y`. Either way, this best-fit line does not seem to be a good model for the data."
   ]
  },
  {
   "cell_type": "markdown",
   "metadata": {
    "slideshow": {
     "slide_type": "slide"
    }
   },
   "source": [
    "**Problem 3b**\n",
    "\n",
    "Perform a least-squares 2nd order polynomial fit to the data. Overplot the bestfit curve.\n",
    "\n",
    "How does this compare to the linear model fit?"
   ]
  },
  {
   "cell_type": "code",
   "execution_count": 4,
   "metadata": {},
   "outputs": [
    {
     "data": {
      "image/png": "[encoded data removed]",
      "text/plain": [
       "<Figure size 600x400 with 1 Axes>"
      ]
     },
     "metadata": {
      "needs_background": "light"
     },
     "output_type": "display_data"
    }
   ],
   "source": [
    "Y = np.array(y)\n",
    "X = np.array((np.ones_like(x), x, x**2)).T\n",
    "sigma_y = sigma_y.astype(float)\n",
    "C = np.diag(sigma_y**2)\n",
    "\n",
    "A_poly = np.linalg.inv(X.transpose() @ np.linalg.inv(C) @ X) @ (X.transpose() @ np.linalg.inv(C) @ Y) # same as before\n",
    "\n",
    "plt.figure(dpi=100)\n",
    "plt.errorbar(x, y, sigma_y, color='k', marker='.', linestyle='') # complete\n",
    "test_x = np.linspace(0, 300, 300)\n",
    "plt.plot(test_x, A_poly[2]*test_x**2 + A_poly[1]*test_x + A_poly[0], color='r') # complete\n",
    "plt.show()"
   ]
  },
  {
   "cell_type": "markdown",
   "metadata": {
    "slideshow": {
     "slide_type": "subslide"
    }
   },
   "source": [
    "By eye, the quadratic fit appears \"better\" than the linear fit.\n",
    "\n",
    "But, there are still \"outliers\" and in the realm of polynomial fitting, it is always possible to get a better fit by adding more degrees to the polynomial.\n",
    "\n",
    "[As a reminder - in machine learning we'd call this low training error, but the generalization error is likely huge]"
   ]
  },
  {
   "cell_type": "markdown",
   "metadata": {
    "slideshow": {
     "slide_type": "slide"
    }
   },
   "source": [
    "#### How should we deal with these potential outliers?\n",
    "\n",
    "(and to re-iterate, we cannot be certain that these points are, in fact, outliers)"
   ]
  },
  {
   "cell_type": "markdown",
   "metadata": {
    "slideshow": {
     "slide_type": "subslide"
    }
   },
   "source": [
    "### Amazingly, if you scroll through the literature you can find solutions like the following: \"We do not *believe* the data point at (x, y) for reasons A, B, C. Thus, we exclude that point from the fit.\"\n",
    "\n",
    "This, obviously, lacks any sort of rigor. If data is going to be removed, and it is worth asking if data should ever be removed, it should not be subject to the \"beliefs\" of an individual person or group. "
   ]
  },
  {
   "cell_type": "markdown",
   "metadata": {
    "slideshow": {
     "slide_type": "subslide"
    }
   },
   "source": [
    "A more common approach that you might encounter is known as $k\\sigma$ clipping, which is an iterative procedure to identify and remove outliers from a data set. The procedure is as follows:\n",
    "\n",
    "1. Fit the model to the data\n",
    "2. Identify any data points that are $k\\sigma$ discrepant from the best-fit model\n",
    "3. Remove the discrepant points, repeat steps 1 & 2 until there are no data beyond $k\\sigma$"
   ]
  },
  {
   "cell_type": "markdown",
   "metadata": {
    "slideshow": {
     "slide_type": "subslide"
    }
   },
   "source": [
    "The motivation for this procedure is the following: in a small data set (such as the one above, 20 points), the likelihood of having large $\\sigma$ deviations (let's say $k = 5$) is vanishingly small. Thus, it \"makes sense\" to remove those points. \n",
    "\n",
    "Of course, this only makes sense if the uncertainties are truly gaussian with low variance. So again, specific, and likely untrue, assumptions have to be made. "
   ]
  },
  {
   "cell_type": "markdown",
   "metadata": {
    "slideshow": {
     "slide_type": "slide"
    }
   },
   "source": [
    "**Problem 3c**\n",
    "\n",
    "Develop a $k\\sigma$ clipping procedure to fit a line to the data set. Set $k = 5$ and determine the best-fit line to the data. \n",
    "\n",
    "Overplot the results of the procedure on the data. How does this fit to the data look?"
   ]
  },
  {
   "cell_type": "code",
   "execution_count": 5,
   "metadata": {
    "slideshow": {
     "slide_type": "subslide"
    }
   },
   "outputs": [
    {
     "data": {
      "image/png": "[encoded data removed]",
      "text/plain": [
       "<Figure size 900x600 with 1 Axes>"
      ]
     },
     "metadata": {
      "needs_background": "light"
     },
     "output_type": "display_data"
    },
    {
     "name": "stdout",
     "output_type": "stream",
     "text": [
      "The best-fit value for the slope and intercept are: 1.0767 and 213.2735\n"
     ]
    }
   ],
   "source": [
    "def k_clip(x, y, err, k_start=5):\n",
    "    good_is = np.ones_like(y).astype(bool)\n",
    "    n_remove = 1\n",
    "\n",
    "    while n_remove > 0:\n",
    "        Y = np.array(y[good_is])\n",
    "        X = np.array((np.ones_like(x[good_is]), x[good_is])).T\n",
    "        C = np.diag(err[good_is]**2)\n",
    "    \n",
    "        A = np.linalg.inv(X.transpose() @ np.linalg.inv(C) @ X) @ (X.transpose() @ np.linalg.inv(C) @ Y) # complete\n",
    "        \n",
    "        fit_y = A[1]*x + A[0]\n",
    "        k_per = np.abs((y - fit_y)/err)\n",
    "        bad_is = np.logical_and(k_per >= k_start, good_is==1)\n",
    "    \n",
    "        n_remove = sum(bad_is)\n",
    "        good_is[bad_is] = 0\n",
    "        \n",
    "    return(good_is, A)\n",
    "\n",
    "good_is, A_5 = k_clip(x, y, sigma_y)\n",
    "plt.figure(dpi=150)\n",
    "plt.errorbar(x, y, sigma_y, color='k', marker='.', linestyle='') # complete\n",
    "plt.errorbar(x[good_is == False], y[good_is == False], \n",
    "             sigma_y[good_is == False], color='b', marker='.', linestyle='', label = \"3-sig outlier\")\n",
    "plt.plot(x, A_5[1]*x + A_5[0], color='r') # complete\n",
    "plt.legend(frameon=False, loc='lower right', fontsize=6)\n",
    "plt.show()\n",
    "\n",
    "print(\"The best-fit value for the slope and intercept are: {:.4f} and {:.4f}\".format(A[1], A[0]))"
   ]
  },
  {
   "cell_type": "markdown",
   "metadata": {
    "slideshow": {
     "slide_type": "subslide"
    }
   },
   "source": [
    "By eye, the results above are not that satisfying. Some of those points do look like outliers, but there are also 2 points being rejected that are well within the other cluster of data.\n",
    "\n",
    "Furthermore, the point at $(x, y) \\approx (60, 170)$ was clipped in an early iteration of the algorithm, but now with the final model this point is actually within $k\\sigma$ of the best-fit line. What should one do with points like this?"
   ]
  },
  {
   "cell_type": "markdown",
   "metadata": {
    "slideshow": {
     "slide_type": "subslide"
    }
   },
   "source": [
    "This is one of the great problems with $k\\sigma$ clipping: how does one select the appropriate value for $k$?\n",
    "\n",
    "Even if there was a good heuristic argument for selecting $k$, is there fundamentally any difference between an observation that is $k\\sigma + \\epsilon$ away from the model versus a point at $k\\sigma - \\epsilon$, where $\\epsilon \\ll 1$? Any choice of $k$ will automatically remove one of these points and not the other, which seems somewhat arbitrary..."
   ]
  },
  {
   "cell_type": "markdown",
   "metadata": {
    "slideshow": {
     "slide_type": "slide"
    }
   },
   "source": [
    "**Problem 3d**\n",
    "\n",
    "Perform the $k\\sigma$ procedure on the data, but this time set $k = 7$. Plot the results as above.\n",
    "\n",
    "How do these results compare to our previous fits?"
   ]
  },
  {
   "cell_type": "code",
   "execution_count": 6,
   "metadata": {
    "slideshow": {
     "slide_type": "subslide"
    }
   },
   "outputs": [
    {
     "data": {
      "image/png": "[encoded data removed]",
      "text/plain": [
       "<Figure size 900x600 with 1 Axes>"
      ]
     },
     "metadata": {
      "needs_background": "light"
     },
     "output_type": "display_data"
    }
   ],
   "source": [
    "good_is, A_7 = k_clip(x, y, sigma_y, k_start=7)\n",
    "plt.figure(dpi=150)\n",
    "plt.errorbar(x, y, sigma_y, color='k', marker='.', linestyle='') # complete\n",
    "plt.errorbar(x[good_is == False], y[good_is == False], \n",
    "             sigma_y[good_is == False], color='b', marker='.', linestyle='', label = \"3-sig outlier\")\n",
    "plt.plot(x, A_7[1]*x + A_7[0], color='r') # complete\n",
    "plt.legend(frameon=False, loc='lower right', fontsize=6)\n",
    "plt.show()"
   ]
  },
  {
   "cell_type": "markdown",
   "metadata": {
    "slideshow": {
     "slide_type": "subslide"
    }
   },
   "source": [
    "By eye, this *appears* superior to the previous fit. At the same time, we have not actually optimized anything to definitively show that this is the case.\n",
    "\n",
    "If there are outliers in the data, then it stands to reason that the uncertainties are likely not correctly estimated."
   ]
  },
  {
   "cell_type": "markdown",
   "metadata": {
    "slideshow": {
     "slide_type": "subslide"
    }
   },
   "source": [
    "**Problem 3e**\n",
    "\n",
    "Perform the $k\\sigma$ procedure on the data, with $k = 5$, but the variance increased by a factor 4 (i.e. `sigma_y` increased by a factor of 2). Plot the results as above.\n",
    "\n",
    "How do these results compare to our previous fits?"
   ]
  },
  {
   "cell_type": "code",
   "execution_count": 7,
   "metadata": {
    "slideshow": {
     "slide_type": "subslide"
    }
   },
   "outputs": [
    {
     "data": {
      "image/png": "[encoded data removed]",
      "text/plain": [
       "<Figure size 900x600 with 1 Axes>"
      ]
     },
     "metadata": {
      "needs_background": "light"
     },
     "output_type": "display_data"
    }
   ],
   "source": [
    "good_is, A_5_doublesig = k_clip(x, y, sigma_y*2, k_start=5)\n",
    "\n",
    "plt.figure(dpi=150)\n",
    "plt.errorbar(x, y, sigma_y, color='k', marker='.', linestyle='') # complete\n",
    "plt.errorbar(x[good_is == False], y[good_is == False], \n",
    "             sigma_y[good_is == False], color='b', marker='.', linestyle='', label = \"3-sig outlier\")\n",
    "plt.plot(x, A_5_doublesig[1]*x + A_5_doublesig[0], color='r') # complete\n",
    "plt.legend(frameon=False, loc='lower right', fontsize=6)\n",
    "plt.show()"
   ]
  },
  {
   "cell_type": "markdown",
   "metadata": {
    "slideshow": {
     "slide_type": "subslide"
    }
   },
   "source": [
    "If the uncertainties were underestimated then none of the data get clipped from the fit!"
   ]
  },
  {
   "cell_type": "markdown",
   "metadata": {
    "slideshow": {
     "slide_type": "slide"
    }
   },
   "source": [
    "I assume (and I hope I've convinced you that assumptions are dangerous) that if you have worked with astronomical data that at one point or another you have (i) encountered data that appear to have outliers, and/or (ii) plotted data in 2 dimensions and then performed a (least-squares) linear fit to that data."
   ]
  },
  {
   "cell_type": "markdown",
   "metadata": {
    "slideshow": {
     "slide_type": "subslide"
    }
   },
   "source": [
    "If that is true, I sincerely hope you have the following two thoughts:\n",
    "\n",
    "1. Crap, crap, crap - I really messed up my paper on [*REDACTED*].\n",
    "2. There has to be a better way!"
   ]
  },
  {
   "cell_type": "markdown",
   "metadata": {
    "slideshow": {
     "slide_type": "subslide"
    }
   },
   "source": [
    "First, let's address point 1. Don't freak out. Yes, it is probably the case that some work somewhere was not completed in the absolute most rigorous fashion possible. This is okay (and I feel fairly confident saying everyone has done it. There are definitely examples of each of the \"bad\" things described above in *my* papers if you go back and look hard enough.)\n",
    "\n",
    "There are even some situations where the above prescriptions are appropriate and preferred (think engineering solutions as opposed to strict scientific inference). "
   ]
  },
  {
   "cell_type": "markdown",
   "metadata": {
    "slideshow": {
     "slide_type": "subslide"
    }
   },
   "source": [
    "More importantly - point 2: there is a better way. Especially for the data/problem that we have been investigating above.\n",
    "\n",
    "In particular, we can take a Bayesian approach to the problem, whereby we define a generative model that allows us to compute the likelihood of the observations. The computation of the likelihood or posterior probability distribution requires complex integrals, but this is possible using sophisticated sampling techniques.\n",
    "\n",
    "The combination of each of these tools provides a far more satisfying result than the various procedures previously discussed in this lecture. "
   ]
  },
  {
   "cell_type": "markdown",
   "metadata": {},
   "source": [
    "# Part 2: Bayesian Model Fitting"
   ]
  },
  {
   "cell_type": "markdown",
   "metadata": {},
   "source": [
    "## Minimizing $\\chi^2$\n",
    "\n",
    "As shared before, the common first-order procedure for fitting data is to minimize the \"chi squared\" in order to identify the \"best-fit\" parameters of a model: \n",
    "\n",
    "$$ \\chi^2 = \\Sigma_{i = 1}^{N} \\frac{\\left[y_i - f(x_i)\\right]^2}{\\sigma_{y_i}^2},$$\n",
    "\n",
    "where $f(x)$ is the model for the data, such as $f(x) = mx + b$, or a polynomial, or a Gaussian!\n",
    "\n",
    "A least-squares fit, such as the ones used above, minimizes the value of $\\chi^2$, which in turn provides a \"best-fit\" estimate of fitted parameters like $m$ and $b$.\n",
    "\n",
    "Note: FWIW, we usually write our code to minimize chi^2 by coding up the above equation literally, not by completing matrix multiplication. It's usually just a little easier to read the code that way, not to mention easier to understand the physical implications of why we want to minimize this value. But now that you've done the matrix method, you'll always know the mathematical justification for minimizing chi-2!"
   ]
  },
  {
   "cell_type": "markdown",
   "metadata": {},
   "source": [
    "## Maximizing the Likelihood\n",
    "\n",
    "Alternatively, we could consider a probabilistic model, in which case the probability of any observation $y_i$ is dependent on $x_i$, our model $f(x)$, and some scatter (error, sigma) associated with the measurement itself $\\sigma_{yi}$. In a sample of independent and identically distributed draws from a normal distribution, the probability density function of drawing your measurement $y_{i}$ is:\n",
    "\n",
    "$$ p\\left(y_i\\, | \\, x_i, \\sigma_{yi}, f(x_i) \\right) = \\frac{1}{\\sqrt{2\\pi\\sigma_{y_i}^2}}\\,\\exp\\left(-\\frac{\\left[y_i - f(x_i)\\right]^2}{2\\,\\sigma_{y_i}^2} \\right).$$\n",
    "\n",
    "An alternative to $\\chi^2$ minimization is to *maximize* the probability of each observed data point given the model, which is then to say we want to maximize the likelihood of *all* the observed data given the model. When considering the total chance of something after many times (repeated rolls of a dice, successive observations of data), the probability of each individual thing (each dice roll, each observation) is multiplied in succession. Thus we can write the **likelihood function** $\\mathscr{L}$ as the product of the probability of every observation:\n",
    "\n",
    "$$ \\mathscr{L} = \\prod_{i=1}^{N} p\\left(y_i\\, |\\, x_i, \\sigma_i, f(x_i) \\right)$$"
   ]
  },
  {
   "cell_type": "markdown",
   "metadata": {},
   "source": [
    "This product is often difficult to evaluate, so we often take the logarithm of the likelihood so that we're only dealing with a sum, and maximize that. In this case we get:\n",
    "\n",
    "$$ \\ln \\mathscr{L} = K - \\sum_{i=1}^{N} \\frac{\\left[y_i - f(x_i) \\right]^2.}{2\\sigma_{yi}^2} \n",
    "   = K - \\frac{1}{2}\\chi^2 $$\n",
    "   \n",
    "where $K$ is some constant. As you can see, maximizing the likelihood (in this case) is equivalent to minimizing $\\chi^2$.\n",
    "\n",
    "Note: an important assumption in all of this is that the uncertainties, $\\left(\\sigma_x, \\sigma_y\\right)$, are Gaussian. As we've seen, this can be reasonable, but it is worth keeping in mind."
   ]
  },
  {
   "cell_type": "markdown",
   "metadata": {},
   "source": [
    "Finally, we can (and whenever possible, probably should) generalize this method to include what is called a ***Bayesian*** framework. Bayes' theorem says:\n",
    "\n",
    "$$ p(A\\, | \\,B) = \\frac{p(B\\, | \\,A) p(A)}{p(B)} $$\n",
    "\n",
    "Which, in real words, says the probability of $A$ happening, *given $B$ happened*, is equal to the probability of $B$ happening given $A$ happened, *and* (multiplied by) the probability of $A$ happening at all, divided by the probability of $B$ happening at all.\n",
    "\n",
    "We call the left hand side, $p(A\\, | \\,B)$, the **posterior**, while $p(B\\, | \\,A)$ is the **likelihood** (yes, the same likelihood as the equation we found above!), and finally $p( A )$ is the **prior**. Notice that when we work in log-space these will all just be sums instead of multiplication, again easier to compute!\n",
    "\n",
    "So, we want to know the the posterior (aka the probability distribution) for the parameters in $A$ (which $= (m,b)$ in the case of fitting a straight line), given the data $B$ and any prior knowledge about it.\n",
    "\n",
    "The denominator can be thought of as a normalization constant that most people ignore (and we will also ignore it). In this case, we are left with just the likelihood, which we already defined above, multiplied by the prior information, which may be"
   ]
  },
  {
   "cell_type": "markdown",
   "metadata": {},
   "source": [
    "Writing this in code can look as follows:"
   ]
  },
  {
   "cell_type": "code",
   "execution_count": 71,
   "metadata": {},
   "outputs": [],
   "source": [
    "# compute the log likelihood\n",
    "def lnlike(theta, x, y, yerr):\n",
    "    '''\n",
    "    \"theta\" is typically the variable name we use for \n",
    "    the parameters we're trying to fit.\n",
    "    (You can use another name if you prefer!)\n",
    "    You will also define the model function,\n",
    "    e.g. here we've set model = m*x + b.\n",
    "    (Yes, if your model function is more complicated, \n",
    "    it can also be defined externally, and used here.)\n",
    "    Then we use the parameters and the function in the \n",
    "    chi-squared equation, \n",
    "    '''\n",
    "    m, b = theta # yes, one variable name passed to a function can stand in for multiple variables!\n",
    "    model = m*x + b\n",
    "    ln_l = np.sum( np.log( 1./np.sqrt(2*np.pi * yerr**2.) * np.exp(-0.5*((y - model)/yerr)**2) ) )\n",
    "    \n",
    "    #in case the ln_l equation returns a list-of-a-list, \n",
    "    #.squeeze() just gets us the innermost list of information:\n",
    "    return -ln_l.squeeze() \n",
    "\n",
    "# compute the log prior\n",
    "def lnprior(theta):\n",
    "    '''\n",
    "    We tend to write the ln(prior) as something like a top-hat function:\n",
    "    Our prior information may tell us whether we should even bother\n",
    "    looking at some parameters before others.\n",
    "    E.g., our data may not even be best fit by a line, \n",
    "    but if it *is* a line, we may know that logically \n",
    "    it can't have a negative slope.\n",
    "    So, if the parameters of the model are within \n",
    "    a possible range, we return 0 (because the log of something)\n",
    "    and if not, we return negative infinity (ensuring \n",
    "    that whatever the log-likelihood is, it will be weighed \n",
    "    down by the prior, preventing it from being our maximumm solution).\n",
    "    '''\n",
    "    m, b = theta\n",
    "    if ( (0 < m < 3) and (-100 < b < 200) ):\n",
    "        return 0.0\n",
    "    return -np.inf\n",
    "\n",
    "# compute (the log of) the likelihood multiplied by the prior\n",
    "def lnprob(theta, x, y, yerr):\n",
    "    '''\n",
    "    Combining the two! Compute the likelihood and prior,\n",
    "    and if both are physically feasible (not infinite), add them together.\n",
    "    This is what we want to maximize!\n",
    "    '''\n",
    "    lnp = lnprior(theta)\n",
    "    lnl = lnlike(theta,  x, y, yerr)\n",
    "    if (not np.isfinite(lnp) or not np.isfinite(lnl)):\n",
    "        return -np.inf\n",
    "    return (lnp + lnl)"
   ]
  },
  {
   "cell_type": "markdown",
   "metadata": {},
   "source": [
    "Now, as a check, let's try to maximize the likelihood (without worrying about the prior yet) with scipy and confirm that we get the same results as the least-squares procedure described above (notice that we've actually written lnlike to return a negative value - minimizing a negative is an easier computational task than maximizing a positive)."
   ]
  },
  {
   "cell_type": "code",
   "execution_count": 95,
   "metadata": {},
   "outputs": [
    {
     "name": "stdout",
     "output_type": "stream",
     "text": [
      "Optimization terminated successfully.\n",
      "The initial guess for the slope and intercept are: 1.0767 and 213.2735\n",
      "The best-fit value for the slope and intercept are: 1.0767 and 213.2735\n"
     ]
    }
   ],
   "source": [
    "from scipy.optimize import minimize\n",
    "\n",
    "p = np.polyfit(x, y, 1, w = 1/sigma_y)\n",
    "\n",
    "guess0 = np.array([p[0], p[1]])\n",
    "scFit = minimize(lnlike, guess0, args=(x, y, sigma_y))\n",
    "print(scFit.message)\n",
    "print(\"The initial guess for the slope and intercept are: {:.4f} and {:.4f}\"\\\n",
    "      .format(guess0[0], guess0[1]))#guess0[0], guess0[1]))\n",
    "print(\"The best-fit value for the slope and intercept are: {:.4f} and {:.4f}\".format(scFit.x[0], scFit.x[1]))\n"
   ]
  },
  {
   "cell_type": "markdown",
   "metadata": {},
   "source": [
    "Are the initial guesses and best-fit values the same? In fact, are they *too* similar? Try applying a random shift to our initial guesses by including $\\texttt{*2*np.random.random()}$ outside of the np.array for guess0, and see if you still get the same best-fit value from minimizing. Then you'll see that indeed, this method gets us the same m,b values as our earlier attempts at minimizing chi-squared via matrix math!"
   ]
  },
  {
   "cell_type": "markdown",
   "metadata": {},
   "source": [
    "## *emcee*\n",
    "\n",
    "Now, let's use *[emcee](http://dfm.io/emcee/current/)*, a pure-Python implementation of [Goodman & Weare’s Affine Invariant Markov chain Monte Carlo (MCMC) Ensemble sampler](https://msp.org/camcos/2010/5-1/p04.xhtml) written by [Dan Foreman-Mackey](http://dfm.io/).\n",
    "\n",
    "[MCMC](https://en.wikipedia.org/wiki/Markov_chain_Monte_Carlo) draws samples from a probability distribution, and the following Reddit explanation from r/ExplainLikeImFive may be helpful:\n",
    "<img src='data/ELI5_MCMC.png'>"
   ]
  },
  {
   "cell_type": "markdown",
   "metadata": {},
   "source": [
    "You may also want to read [this journal article about emcee](https://arxiv.org/abs/1202.3665).\n",
    "\n",
    "In short, we can use *emcee* to sample the posterior distribution that is defined by a Bayesian likelihood and priors. *emcee* will use a number of \"walkers\" to explore this parameter space, each sampling around the maximum of the likelihood function (while accounting for the priors). The combination of the paths that each of these walkers take, i.e. their \"chains\", define the posterior distribution, and provide us with probability distributions for each of the model parameters."
   ]
  },
  {
   "cell_type": "code",
   "execution_count": 100,
   "metadata": {},
   "outputs": [],
   "source": [
    "import emcee\n",
    "\n",
    "nwalkers = 100\n",
    "nfac = [1e-1, 1e-1]\n",
    "ndim = len(guess0)\n",
    "pos = [guess0 + nfac * np.random.randn(ndim) for i in range(nwalkers)]\n",
    "\n",
    "sampler = emcee.EnsembleSampler(nwalkers, ndim, lnprob, args=(x, y, sigma_y))\n",
    "nsamples = 1000\n",
    "foo = sampler.run_mcmc(pos, nsamples)"
   ]
  },
  {
   "cell_type": "markdown",
   "metadata": {},
   "source": [
    "To explore the output:"
   ]
  },
  {
   "cell_type": "code",
   "execution_count": 101,
   "metadata": {},
   "outputs": [
    {
     "name": "stdout",
     "output_type": "stream",
     "text": [
      "emcee results with 1-sigma uncertainties\n",
      "       m = 1.0870 +0.0816 -0.1221\n",
      "       b = 213.2740 +0.1076 -0.1108\n",
      "\n"
     ]
    }
   ],
   "source": [
    "# set a \"burn-in\" limit\n",
    "nburn = 200\n",
    "m_samples = np.array(sampler.chain[:,nburn:,0]).flatten()\n",
    "b_samples = np.array(sampler.chain[:,nburn:,1]).flatten()\n",
    "\n",
    "#print the results taking 1-sigma confidence intervals\n",
    "samples = np.vstack([m_samples, b_samples]).T\n",
    "m_mcmc, b_mcmc = map(lambda v: (v[1], v[2]-v[1], v[1]-v[0]), zip(*np.percentile(samples, [16, 50, 84], axis=0)))\n",
    "print(\"emcee results with 1-sigma uncertainties\\n \\\n",
    "      m = {:.4f} +{:.4f} -{:.4f}\\n \\\n",
    "      b = {:.4f} +{:.4f} -{:.4f}\\n\" \\\n",
    "      .format(m_mcmc[0], m_mcmc[1], m_mcmc[2], b_mcmc[0], b_mcmc[1], b_mcmc[2]))"
   ]
  },
  {
   "cell_type": "code",
   "execution_count": 102,
   "metadata": {},
   "outputs": [
    {
     "data": {
      "image/png": "[encoded data removed]",
      "text/plain": [
       "<Figure size 576x288 with 2 Axes>"
      ]
     },
     "metadata": {
      "needs_background": "light"
     },
     "output_type": "display_data"
    }
   ],
   "source": [
    "#some function to make plots\n",
    "#to see the chains\n",
    "def plotChains(sampler, nburn, paramsNames):\n",
    "    Nparams = len(paramsNames)\n",
    "    fig, ax = plt.subplots(Nparams,1, figsize = (8,2*Nparams), sharex = True)\n",
    "    fig.subplots_adjust(hspace = 0)\n",
    "    ax[0].set_title('Chains')\n",
    "    xplot = range(len(sampler.chain[0,:,0]))\n",
    "\n",
    "    for i,p in enumerate(paramsNames):\n",
    "        for w in range(sampler.chain.shape[0]):\n",
    "            ax[i].plot(xplot[:nburn], sampler.chain[w,:nburn,i], color=\"0.5\", alpha = 0.4, lw = 0.7, zorder = 1)\n",
    "            ax[i].plot(xplot[nburn:], sampler.chain[w,nburn:,i], color=\"k\", alpha = 0.4, lw = 0.7, zorder = 1)\n",
    "            ax[i].set_ylabel(p)\n",
    "            \n",
    "    return ax\n",
    "\n",
    "paramsNames = ['m','b']\n",
    "\n",
    "axC = plotChains(sampler, nburn, paramsNames)"
   ]
  },
  {
   "cell_type": "markdown",
   "metadata": {
    "slideshow": {
     "slide_type": "slide"
    }
   },
   "source": [
    "## Plot it all together!"
   ]
  },
  {
   "cell_type": "code",
   "execution_count": 107,
   "metadata": {},
   "outputs": [
    {
     "data": {
      "text/plain": [
       "Text(0.5, 0, 'x')"
      ]
     },
     "execution_count": 107,
     "metadata": {},
     "output_type": "execute_result"
    },
    {
     "data": {
      "image/png": "[encoded data removed]",
      "text/plain": [
       "<Figure size 576x288 with 2 Axes>"
      ]
     },
     "metadata": {
      "needs_background": "light"
     },
     "output_type": "display_data"
    }
   ],
   "source": [
    "m_samples = np.array(sampler.chain[:,600:,0]).flatten()\n",
    "b_samples = np.array(sampler.chain[:,600:,1]).flatten()\n",
    "\n",
    "fig, (ax1, ax2) = plt.subplots(1,2, figsize = (8,4))\n",
    "\n",
    "ax1.hexbin(b_samples, m_samples, gridsize = 250, bins = \"log\", mincnt = 1)\n",
    "ax2.errorbar(x, y, sigma_y, fmt = \"o\")\n",
    "ax2.set_xlim(0,300)\n",
    "ax2.set_ylim(0,700)\n",
    "\n",
    "max_prob = np.argmax(sampler.flatlnprobability)\n",
    "m_max = sampler.flatchain[:,0][max_prob]\n",
    "b_max = sampler.flatchain[:,1][max_prob]\n",
    "ax2.plot([0,300], [b_max + 0*m_max, b_max + 300*m_max], lw = 2)\n",
    "\n",
    "for rand_draw in np.random.randint(100, len(sampler.flatchain[:,0]), 100):\n",
    "    m_draw = sampler.flatchain[:,0][rand_draw]\n",
    "    b_draw = sampler.flatchain[:,1][rand_draw]\n",
    "    ax2.plot([0,300], [b_draw + 0*m_draw, b_draw + 300*m_draw],\n",
    "             color = \"0.5\", alpha = 0.1, zorder = 12, lw = 0.7)\n",
    "\n",
    "ax1.set_xlabel(\"m\")\n",
    "ax1.set_ylabel(\"b\")\n",
    "ax2.set_ylabel(\"y\")\n",
    "ax2.set_xlabel(\"x\")"
   ]
  },
  {
   "cell_type": "code",
   "execution_count": null,
   "metadata": {},
   "outputs": [],
   "source": []
  }
 ],
 "metadata": {
  "kernelspec": {
   "display_name": "Python 3",
   "language": "python",
   "name": "python3"
  },
  "language_info": {
   "codemirror_mode": {
    "name": "ipython",
    "version": 3
   },
   "file_extension": ".py",
   "mimetype": "text/x-python",
   "name": "python",
   "nbconvert_exporter": "python",
   "pygments_lexer": "ipython3",
   "version": "3.8.3"
  }
 },
 "nbformat": 4,
 "nbformat_minor": 2
}
