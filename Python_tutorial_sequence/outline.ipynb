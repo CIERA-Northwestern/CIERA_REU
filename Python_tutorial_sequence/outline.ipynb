{
 "cells": [
  {
   "cell_type": "markdown",
   "metadata": {
    "colab_type": "text",
    "id": "lH1i9NvniRPm"
   },
   "source": [
    "# CIERA REU Python Workshop\n",
    "\n"
   ]
  },
  {
   "cell_type": "markdown",
   "metadata": {
    "colab_type": "text",
    "id": "VCSfGJQPiRPo"
   },
   "source": [
    "Part of becoming comfortable with computers is having good mentors who help you early on. \n",
    "Your mentors in your Python skills development include your fellow students, your Python instructors, your research mentors, etc.\n",
    "\n",
    "Please don't hesitate to ask questions. \n",
    "You have a ton of resources and support here to take advantage of. \n",
    "Our main goals are for you to learn, to want to learn more, and to enjoy the learning process.\n",
    "\n",
    "Let's get started!\n",
    "\n",
    "- [Intro](#intro)/[Unix Commands](#unix)\n",
    "    - jupyter notebook and unix commands\n",
    "- [Part 1](Part1/pythonbasics_EXERCISES.ipynb)\n",
    "    - python basics\n",
    "- [Part 2](Part2/plotting_EXERCISES.ipynb)\n",
    "    - plotting and curve fitting\n",
    "- [Part 3](Part3/Isochrone_EXERCISES.ipynb) \n",
    "    - star cluster case study\n",
    "- [Part 4](Part4/Cepheids_LMC_EXERCISES.ipynb)\n",
    "    - cepheid light curve analysis\n",
    "- [Part 5](Part5/Gaia_M67_EXERCISES.ipynb) \n",
    "    - example analysis with gaia data\n",
    "- [Part 6a](Part6/StatisticsAperitif_EXERCISES.ipynb),  [Part 6b](Part6/emceeDemo_EXERCISES.ipynb) \n",
    "    - fitting a line to data, and bayesian intro with emcee"
   ]
  },
  {
   "cell_type": "markdown",
   "metadata": {},
   "source": [
    "<a id='intro'></a>\n",
    "### What is this?\n",
    "This is a [Jupyter Notebook](http://jupyter-notebook-beginner-guide.readthedocs.io/en/latest/what_is_jupyter.html) environment which is effectively an interactive shell utilizing [IPython](https://ipython.org/) as a kernel.  The notebook allows us to easily refer to previous parts of our code on the fly as well as modify it an interactive way.  As a result, the code is easy to share and even present."
   ]
  },
  {
   "cell_type": "code",
   "execution_count": null,
   "metadata": {},
   "outputs": [],
   "source": [
    "\"\"\"The code is contained in 'code cells' such as this.  Once a cell is selected\n",
    " you can push 'SHIFT+ENTER' to run the cell.\"\"\"\n",
    "\n",
    "# try pushing shift + enter\n",
    "print('You pushed SHIFT + ENTER!')"
   ]
  },
  {
   "cell_type": "markdown",
   "metadata": {},
   "source": [
    "To see a list of keyboard commands available just hit the `h` key when outside of a cell."
   ]
  },
  {
   "cell_type": "markdown",
   "metadata": {},
   "source": [
    "<a id='unix'></a>\n",
    "## Using your Computer as a Tool for Astronomical Research"
   ]
  },
  {
   "cell_type": "markdown",
   "metadata": {},
   "source": [
    "This looks long, but it's just a lot of text to give you the background you need. If you get error messages, don't worry! Try understanding these messages, then consult your support network.\n",
    "\n",
    "**Part 1: Open a Terminal**\n",
    "\n",
    "The command line in a Terminal is the starting point for astrophysics research. From the command line, you can write/move/copy files and start software.|\n",
    "\n",
    "- On a Mac or Linux, you can use the Terminal application.\n",
    "- To open a Terminal in Windows, please install <a href=\"https://git-for-windows.github.io/\">git bash</a> or <a href=\"https://docs.microsoft.com/en-us/windows/wsl/install\">Windows Subsystem for Linux</a>.  As a bonus, this will also include a utility to work with git in the terminal (in the same way that you can on Unix or Mac)\n",
    "\n",
    "**Part 2: Understand the Directory Structure**\n",
    "\n",
    "The directory architecture used by UNIX is a hierarchical tree structure. When you first open a Terminal, you land in your “home” directory. Instead of clicking on folders, you navigate through the directory structure by “changing directories” using the command ‘cd’ at the prompt in your Terminal. The directory that you are currently sitting in at a prompt is your “working directory”.\n",
    "\n",
    "The top of the tree is the “root” directory, designated with a slash sign (/). Directory names build on the root directory, with a slash designating a new branch in the directory structure. For example, the full (absolute) path name for my home directory would be “/home/myname/”. Directories can also have relative path names, which are interpreted as starting from the present working directory. If we were in the “/home/” directory, the relative path name to my home directory would be “myname”.\n",
    "\n",
    "**Part 3: List the Contents of a Directory**\n",
    "\n",
    "The command line accepts commands in a language called \"bash\".\n",
    "\n",
    "The command ‘ls’ (note: the first letter is an ‘L’) is used to list the contents of a directory. The ‘ls’ command can be invoked with a variety of options, which modify its action. Under Unix, command options are preceded by a hyphen. A few of the more useful forms of ‘ls’ include:\n",
    "\n",
    "    ls              #lists all filenames\n",
    "    ls –l          #includes dates, sizes, etc. Note: -l is ‘minus L’.\n",
    "    ls –p         #distinguishes between directories and regular files\n",
    "\n",
    "Try each of these 'ls' commands in order and notice the way they indicate your home directory's contents. Note: You can combine different options when executing a UNIX command, for example:\n",
    "\n",
    "    ls –lt\n",
    "\n",
    "**Part 4: Create a Class Folder**\n",
    "\n",
    "Create a new directory in which you will save your work by using the command ‘mkdir’. You can call this directory anything you’d like, but avoid whitespaces and try to name it something that makes sense, like “pythonTutorial” (referred to below as “yourClassDirectory”). At the command line in your Terminal, type:\n",
    "\n",
    "    cd\n",
    "    mkdir yourClassDirectory\n",
    "\n",
    "Now list the contents of your current working directory to verify that your new directory has been created. Type:\n",
    "\n",
    "    ls                    #Note: directories can be deleted with the ‘rmdir’ command\n",
    "\n",
    "**Part 5: Change Directories**\n",
    "\n",
    "Learn where you are in the directory structure by typing:\n",
    "\n",
    "    pwd                 # This is an abbreviation for “print working directory”\n",
    "\n",
    "The “cd” command moves you around in the directory structure, and takes an argument that is the desired destination directory. The argument can be either a relative or an absolute pathname. Type:\n",
    "\n",
    "    cd yourClassDirectory\n",
    "\n",
    "This will enter you into the directory that you've just created and the system will move your current working directory to “/home/yourname/yourClassDirectory” (or whatever you’ve chosen to call it).\n",
    "\n",
    "UNIX provides some useful shortcuts for navigating directories. Double dots, “..” refer to the parent directory. You can therefore move from /home/yourname/yourClassDirectory into /home/yourname by simply typing:\n",
    "\n",
    "    cd ..\n",
    "\n",
    "And you can always get back to your /home directory by typing:\n",
    "\n",
    "    cd\n",
    "\n",
    "**Part 6: Editing, viewing, and copying the contents of a file**\n",
    "\n",
    "When writing programs, we will need to edit files without the forced formatting of programs such as Word or Powerpoint. Many astronomers use Emacs, nano or vim.  Another great option is <a href=\"https://www.sublimetext.com/\">Sublime Text</a>.  \n",
    "\n",
    "To create and edit a text file, go to the directory (/home/yourname/yourClassDirectory) that you created.\n",
    "\n",
    "    cd\n",
    "    cd yourClassDirectory\n",
    "    nano testEdit.txt\n",
    "\n",
    "Write a few lines of your choosing, save, and close the file.\n",
    "\n",
    "Please feel free to use a different text editor than nano. \n",
    "\n",
    "To view the contents of your text file from the command line in the Terminal, be sure you're in the directory where you saved testEdit.txt and type:\n",
    "\n",
    "    pwd\n",
    "    ls\n",
    "    less testEdit.txt\n",
    "\n",
    "The command “less” prints the contents of a simple text file to the terminal window. Press the Enter key to move down just one line at a time or press the spacebar to see the next screenful of the file.\n",
    "\n",
    "**Part 7: Copy a File**\n",
    "\n",
    "The command “cp” is used to copy files. To make a copy of the text file you just created, type:\n",
    "\n",
    "    cp -i testEdit.txt testEdit2.txt        #‘-i’ tells the “cp” command not to overwrite\n",
    "                                            #an existing testEdit2.txt\n",
    "    more testEdit2.txt\n",
    "\n",
    "You may want to copy all of these Python notebooks to a new directory, so that you can save the clean versions here.  (This will also help if you need to pull changes from our GitHub repo later.)  You could do this by:\n",
    "\n",
    "    cp -r /path/to/CIERA_REU/Python_tutorial_sequence .\n",
    "\n",
    "**Part 8: Filenames and Wildcards**\n",
    "\n",
    "Files in the current working directory can be referred to simply by their filename. However, the name of a file includes its full pathname, such as: \n",
    "home/trouille/testEdit.txt, where the last element, “testEdit.txt”, is the file name.\n",
    "\n",
    "In general, UNIX allows you to select a subset of the objects of interest. For example, to obtain a listing of all files that end in “.txt”, you would type:\n",
    "\n",
    "    ls *.txt\n",
    "\n",
    "**Part 9: Online help for Unix**\n",
    "\n",
    "The on-line documentation for Unix can be accessed through “man pages”, short for manual. To try versions of this out, type:\n",
    "\n",
    "    man cp\n",
    "    info cp\n",
    "\n",
    "**Part 10: Troubleshooting**\n",
    "\n",
    "If you find that the cursor has gone away, with no indication of ever returning, try the old standby CTRL-c. This means hold down the Ctrl key and hit “c”. This ought to kill the hung process. If this fails, try CTRL-z, where you hit “z” instead of “c”. This suspends, rather than kills, the hung process but still might let you recover.\n",
    "\n",
    "<a href=\"http://www.tutorialspoint.com/unix/unix-quick-guide.htm\">Unix Reference Guide</a>.\n",
    "\n",
    "<a href=\"https://github.com/ageller/CIERA_REU/blob/master/CheatSheets/UnixCheatSheet.pdf\">See also our Unix + vi + git Cheat Sheet</a>"
   ]
  },
  {
   "cell_type": "code",
   "execution_count": null,
   "metadata": {},
   "outputs": [],
   "source": []
  }
 ],
 "metadata": {
  "colab": {
   "default_view": {},
   "name": "outline.ipynb",
   "provenance": [],
   "version": "0.3.2",
   "views": {}
  },
  "kernelspec": {
   "display_name": "Python 3 (ipykernel)",
   "language": "python",
   "name": "python3"
  },
  "language_info": {
   "codemirror_mode": {
    "name": "ipython",
    "version": 3
   },
   "file_extension": ".py",
   "mimetype": "text/x-python",
   "name": "python",
   "nbconvert_exporter": "python",
   "pygments_lexer": "ipython3",
   "version": "3.10.4"
  }
 },
 "nbformat": 4,
 "nbformat_minor": 2
}
