{
 "cells": [
  {
   "cell_type": "markdown",
   "metadata": {},
   "source": [
    "# Gaia Data for M67\n",
    "\n",
    "<i>[Gaia](http://sci.esa.int/gaia/) is an [ESA](http://www.esa.int/ESA) satellite aiming to chart a three-dimensional map of our Galaxy, the Milky Way.  On 13 June 2022, Gaia had it's third data release, [DR3](https://www.cosmos.esa.int/web/gaia/dr3), that contains positions and velocities for over a billion stars.  We will use a subset of these data here, for a specific [open star cluster](https://en.wikipedia.org/wiki/Open_cluster) [M67](https://en.wikipedia.org/wiki/Messier_67)\n",
    "\n",
    "This workshop builds off of the tutorial here: https://www.cosmos.esa.int/web/gaia-users/archive/use-cases#datalink_dr3_pleiades\n",
    "\n",
    "\n",
    "Author: Aaron Geller <br/> June 2018, updated June 2022</i>\n"
   ]
  },
  {
   "cell_type": "markdown",
   "metadata": {},
   "source": [
    "*First, we import all the required python modules:*"
   ]
  },
  {
   "cell_type": "code",
   "execution_count": null,
   "metadata": {},
   "outputs": [],
   "source": [
    "import astropy.units as u\n",
    "from astropy.coordinates.sky_coordinate import SkyCoord\n",
    "from astropy.units import Quantity\n",
    "from astroquery.gaia import Gaia\n",
    "import numpy as np\n",
    "from functools import reduce\n",
    "from scipy import stats\n",
    "from astropy.modeling import models, fitting"
   ]
  },
  {
   "cell_type": "code",
   "execution_count": null,
   "metadata": {},
   "outputs": [],
   "source": [
    "%matplotlib inline\n",
    "import matplotlib as mpl\n",
    "import matplotlib.pyplot as plt\n",
    "from matplotlib import gridspec\n",
    "import matplotlib.cm as cm"
   ]
  },
  {
   "cell_type": "code",
   "execution_count": null,
   "metadata": {},
   "outputs": [],
   "source": [
    "# Suppress warnings. Comment this out if you wish to see the warning messages\n",
    "import warnings\n",
    "warnings.filterwarnings('ignore')"
   ]
  },
  {
   "cell_type": "markdown",
   "metadata": {},
   "source": [
    "*Do the following to load and look at the available Gaia table names:*\n",
    "\n",
    "*Note: The main table is gaiadr3.gaia_source, and [here](https://gea.esac.esa.int/archive/documentation/GDR3/Gaia_archive/chap_datamodel/sec_dm_main_source_catalogue/ssec_dm_gaia_source.html) is the description of the columns*"
   ]
  },
  {
   "cell_type": "code",
   "execution_count": null,
   "metadata": {
    "scrolled": true
   },
   "outputs": [],
   "source": [
    "tables = Gaia.load_tables(only_names=True)\n",
    "for table in (tables):\n",
    "    print (table.get_qualified_name())"
   ]
  },
  {
   "cell_type": "code",
   "execution_count": null,
   "metadata": {},
   "outputs": [],
   "source": [
    "gaiadr3_table = Gaia.load_table('gaiadr3.gaia_source')\n",
    "for column in (gaiadr3_table.columns):\n",
    "    print(column.name)"
   ]
  },
  {
   "cell_type": "markdown",
   "metadata": {},
   "source": [
    "*Next, we retrieve all the available data in the region of interest.*\n",
    "\n",
    "*To do this we perform an asynchronous query (asynchronous rather than synchronous queries should be performed when retrieving more than 2000 rows) centred on the M67 (coordinates: RA = 132.825 deg, +11.8167) with a search radius of 1 degrees*\n",
    "\n",
    "*We'll also require that the proper motion errors are small, and the data is well behaved*\n",
    "\n",
    "*Note: The query to the archive is with ADQL (Astronomical Data Query Language). For a description of ADQL and more examples see the Gaia DR1 ADQL cookbook: https://gaia.ac.uk/data/gaia-data-release-1/adql-cookbook*"
   ]
  },
  {
   "cell_type": "code",
   "execution_count": null,
   "metadata": {},
   "outputs": [],
   "source": [
    "cmd = \"SELECT * FROM gaiadr3.gaia_source \\\n",
    "    WHERE CONTAINS(POINT('ICRS',gaiadr3.gaia_source.ra, gaiadr3.gaia_source.dec),\\\n",
    "    CIRCLE('ICRS', 132.825, 11.8167, 1))=1\\\n",
    "    AND abs(pmra_error)<5 \\\n",
    "    AND abs(pmdec_error)<5 \\\n",
    "    AND pmra IS NOT NULL AND abs(pmra)>0 \\\n",
    "    AND pmdec IS NOT NULL AND abs(pmdec)>0;\"\n",
    "\n",
    "job = Gaia.launch_job_async(cmd, dump_to_file=False) #could save this to a file\n",
    "\n",
    "print (job)"
   ]
  },
  {
   "cell_type": "markdown",
   "metadata": {},
   "source": [
    "*Inspect the output table and number of rows (Note: if we didn't supress the warnings, there would be a lot of them here).*"
   ]
  },
  {
   "cell_type": "code",
   "execution_count": null,
   "metadata": {},
   "outputs": [],
   "source": [
    "r = job.get_results()\n",
    "print(len(r))\n",
    "print(r)"
   ]
  },
  {
   "cell_type": "markdown",
   "metadata": {},
   "source": [
    "*Plot the color-magnitude diagram (CMD), using the \"BP\" and \"RP\" magnitudes*"
   ]
  },
  {
   "cell_type": "code",
   "execution_count": null,
   "metadata": {},
   "outputs": [],
   "source": [
    "f = plt.figure(figsize=(5,6))\n",
    "plt.scatter(r['bp_rp'], r['phot_rp_mean_mag'], s = 2, color = 'black', alpha = 0.3)\n",
    "plt.xlim(0.5,2.5)\n",
    "plt.ylim(18, 8)\n",
    "plt.xlabel('BP - RP', fontsize=16)\n",
    "plt.ylabel('RP', fontsize=16)"
   ]
  },
  {
   "cell_type": "markdown",
   "metadata": {},
   "source": [
    "## Identify the cluster members"
   ]
  },
  {
   "cell_type": "markdown",
   "metadata": {},
   "source": [
    "### The first thing we might want to look at is the radial velocities.  \n",
    "\n",
    "*The [radial velocity](https://en.wikipedia.org/wiki/Radial_velocity) is the speed at which an object is moving toward or away from us.  For a star cluster, all the stars will move with a similar radial-velocity, while the field stars will have a much broader distribution*\n"
   ]
  },
  {
   "cell_type": "markdown",
   "metadata": {},
   "source": [
    "*Plot a histogram of the radial velocities (the key is \"radial_velocity\") from our M67 Gaia catalog.*"
   ]
  },
  {
   "cell_type": "code",
   "execution_count": null,
   "metadata": {},
   "outputs": [],
   "source": [
    "hrv, brv, im = plt.hist(r['radial_velocity'], bins = 100, histtype='step', fill=False, linewidth=2)\n",
    "plt.xlabel(r'RV (km s$^{-1}$)', fontsize = 16)"
   ]
  },
  {
   "cell_type": "markdown",
   "metadata": {},
   "source": [
    "*$\\texttt{astropy}$ has some really great fitting features.  See [this documention about modeling](http://docs.astropy.org/en/stable/modeling/).  For the radial velocities, we want to fit two [1D Gaussians](http://docs.astropy.org/en/stable/api/astropy.modeling.functional_models.Gaussian1D.html) to the data, using $\\texttt{astropy}$.  The first Gaussian is for the cluster (that narrow, peaked distribution).  The second is for the field.*\n",
    "\n",
    "*We will do this below.  You will probably want to supply initial guesses for the parameters.  When you have the fit, plot the fit on top of the radial-velocity histogram.*\n"
   ]
  },
  {
   "cell_type": "code",
   "execution_count": null,
   "metadata": {},
   "outputs": [],
   "source": [
    "#fit\n",
    "p_init = models.Gaussian1D(np.max(hrv), brv[np.argmax(hrv)], 1) + models.Gaussian1D(5, brv[np.argmax(hrv)], 50)\n",
    "fit_p = fitting.LevMarLSQFitter()\n",
    "rvG1D = fit_p(p_init, brv[:-1], hrv)\n",
    "print(rvG1D)\n",
    "\n",
    "#plot\n",
    "foo = plt.hist(r['radial_velocity'], bins = 100, histtype='step', fill=False, linewidth=2)\n",
    "x = np.linspace(-50, 150, 1000)\n",
    "plt.plot(x,rvG1D(x), color='orange')\n",
    "plt.xlabel(r'RV (km s$^{-1}$)', fontsize = 16)"
   ]
  },
  {
   "cell_type": "markdown",
   "metadata": {},
   "source": [
    "*Now we can calculate formal membership probabilities with the following formula*\n",
    "\n",
    "$$\n",
    "P\\left(v\\right) = \\frac{F_\\mathrm{cluster}\\left(v\\right)}{F_\\mathrm{cluster}\\left(v\\right) + F_\\mathrm{field}\\left(v\\right)}\n",
    "$$\n",
    "\n",
    "*Here, $F_\\mathrm{cluster}\\left(v\\right)$ and $F_\\mathrm{field}\\left(v\\right)$ are the cluster (narrow) and field (broad) components of our two-component Gaussian model. Use this formula below.  Then plot a histogram of the $P\\left(v\\right)$ distribution. Stars with $P\\left(v\\right) \\sim 1$ are high-probability members, while those with $P\\left(v\\right) \\sim 0$ are non-members.  You will want to pick some cutoff to select the members. Then use $\\texttt{numpy.where}$ to get the indices of these radial-velocity members.  You may also want to plot a CMD to look at them.*"
   ]
  },
  {
   "cell_type": "code",
   "execution_count": null,
   "metadata": {},
   "outputs": [],
   "source": [
    "#membership calculation\n",
    "Fc = models.Gaussian1D()\n",
    "Fc.parameters = rvG1D.parameters[0:3]\n",
    "print(Fc)\n",
    "PRV = Fc(r['radial_velocity'])/rvG1D(r['radial_velocity'])\n",
    "\n",
    "#plot\n",
    "b, h, im = plt.hist(PRV, bins = 50, histtype='step', fill=False, range=(0,1), linewidth=2)\n",
    "plt.yscale('log')\n",
    "plt.xlabel('probability')\n",
    "\n",
    "#where statement\n",
    "membersRV = np.where(np.logical_and(PRV > 0.5, r['radial_velocity'].mask == False))\n",
    "membersRVAll = np.where(PRV > 0.5)\n"
   ]
  },
  {
   "cell_type": "markdown",
   "metadata": {},
   "source": [
    "### Now let's check the parallaxes.\n",
    "\n",
    "<i>[Parallax](https://en.wikipedia.org/wiki/Parallax) is a displacement of an object, with respect to background objects, when viewed from different positions.  Parallax can be used to measure the distance to an object.  Once again, $\\texttt{astropy}$ has a great utility for this.\n",
    "\n",
    "Plot a histogram of the distances.</i>"
   ]
  },
  {
   "cell_type": "code",
   "execution_count": null,
   "metadata": {},
   "outputs": [],
   "source": [
    "dist = (r['parallax']).to(u.parsec, equivalencies=u.parallax())\n",
    "hpa, bpa, im = plt.hist(dist.to(u.parsec).value, bins = 100, histtype='step', fill=False, range=(0, 5000), linewidth=2)\n",
    "plt.xlabel('distance (pc)', fontsize = 16)"
   ]
  },
  {
   "cell_type": "markdown",
   "metadata": {},
   "source": [
    "*Now we want to fit the data again, so that we can derive cluster memberships based on distance.  Formally, there is no reason to think the cluster should be a Guassian distribution. (It should be fit with a \"[King model](http://adsabs.harvard.edu/abs/1962AJ.....67..471K)\".)  But let's approximate this by a 1D Gaussian.  Then we can fit the rest of the field with a simple polynomial.*\n",
    "\n",
    "*Perform this fit to the distance, using $\\texttt{astropy}$.  I suggest using a polynomial of degree 6 for the field. Plot the fit on top of the histogram of distances.*"
   ]
  },
  {
   "cell_type": "code",
   "execution_count": null,
   "metadata": {},
   "outputs": [],
   "source": [
    "#fit\n",
    "p_init = models.Gaussian1D(np.max(hpa), bpa[np.argmax(hpa)], 50) + models.Polynomial1D(degree=6)\n",
    "fit_p = fitting.LevMarLSQFitter()\n",
    "pa1D = fit_p(p_init, bpa[:-1], hpa)\n",
    "print(pa1D)\n",
    "print(pa1D.parameters)\n",
    "\n",
    "#plot\n",
    "foo = plt.hist(dist.to(u.parsec).value, bins = 100, histtype='step', fill=False, range=(0, 5000), linewidth=2)\n",
    "x = np.linspace(0, 5000, 10000)\n",
    "plt.plot(x,pa1D(x), color='orange')\n",
    "plt.xlabel('distance (pc)', fontsize = 16)"
   ]
  },
  {
   "cell_type": "markdown",
   "metadata": {},
   "source": [
    "*Do another membership calculation, using the same formula written above.  Plot a histogram of your membership probabilities.  Pick some cutoff to define the cluster members, and create another $\\texttt{numpy.where}$ statement to hold the members you find from parallax.*"
   ]
  },
  {
   "cell_type": "code",
   "execution_count": null,
   "metadata": {},
   "outputs": [],
   "source": [
    "#membership calculation\n",
    "Fc = models.Gaussian1D()\n",
    "Fc.parameters = pa1D.parameters[0:3]\n",
    "print(Fc)\n",
    "x = dist.to(u.parsec).value\n",
    "Ppa = Fc(x)/pa1D(x)\n",
    "\n",
    "#plot\n",
    "b, h, im = plt.hist(Ppa, bins = 50, histtype='step', fill=False, range=(0,1), linewidth=2)\n",
    "plt.yscale('log')\n",
    "plt.xlabel('probability')\n",
    "\n",
    "#where statement\n",
    "membersPa = np.where(np.logical_and(Ppa > 0.3, r['parallax'].mask == False))\n",
    "membersPaAll = np.where(Ppa > 0.3)"
   ]
  },
  {
   "cell_type": "markdown",
   "metadata": {},
   "source": [
    "### Now let's look at the proper motions.\n",
    "\n",
    "*The [proper motion](https://en.wikipedia.org/wiki/Proper_motion) is the velocity that an objects moves along the plane of the sky (perpedicular to the radial velocity).  Proper motions are usually measured in mas / yr, which can be converted to km/s if you know the distance.*"
   ]
  },
  {
   "cell_type": "markdown",
   "metadata": {},
   "source": [
    "*Let's start by plotting the proper motion in RA (\"pmra\") versus proper motion in DEC (\"pmdec\").*"
   ]
  },
  {
   "cell_type": "code",
   "execution_count": null,
   "metadata": {},
   "outputs": [],
   "source": [
    "f = plt.figure(figsize=(5,5))\n",
    "plt.scatter(r['pmra'], r['pmdec'], s=1, color='black', alpha = 0.3)\n",
    "plt.xlim(-20,20)\n",
    "plt.ylim(-20,20)\n"
   ]
  },
  {
   "cell_type": "markdown",
   "metadata": {},
   "source": [
    "*Usually we like to show $\\mathrm{RA} \\cos(\\mathrm{Dec})$, because these are coordinates on a sphere.*\n",
    "\n",
    "*Plot this as a 2D histogram (aka heatmap).  I recommend using $\\texttt{pyplot.hist2d}$.  Also make plots of the histograms of each of the proper motion directions. (Hint: you may want to define a method to do this, because you'll need to replot this all again below when you perform the fit.)*"
   ]
  },
  {
   "cell_type": "code",
   "execution_count": null,
   "metadata": {},
   "outputs": [],
   "source": [
    "def plotPM(pmra, pmdec, dec, xmin, xmax, Nx, ymin, ymax, Ny, norm = None):\n",
    "    f = plt.figure(figsize=(8, 8)) \n",
    "    gs = gridspec.GridSpec(2, 2, height_ratios = [1, 3], width_ratios = [3, 1]) \n",
    "    ax1 = plt.subplot(gs[0])\n",
    "    ax2 = plt.subplot(gs[2])\n",
    "    ax3 = plt.subplot(gs[3])\n",
    "\n",
    "    #histograms\n",
    "    pmRAbins = np.linspace(xmin,xmax,Nx)\n",
    "    pmDecbins = np.linspace(ymin,ymax,Ny)\n",
    "    hx1D, x1D, im = ax1.hist(pmra*np.cos(dec*np.pi/180.), bins=pmRAbins, histtype='step', fill=False, linewidth=2)\n",
    "    hy1D, y1D, im = ax3.hist(pmdec, bins=pmDecbins, histtype='step', fill=False, orientation=\"horizontal\", linewidth=2)\n",
    "\n",
    "    #heatmap\n",
    "    #ax2.hexbin(r['pmra']*np.cos(r['dec']*np.pi/180.), r['pmdec'], gridsize=30, cmap=cm.Blues, bins='log', extent=(xmin, xmax, ymin, ymax))\n",
    "    h2D, x2D, y2D, im = ax2.hist2d(pmra*np.cos(dec*np.pi/180.), pmdec, bins=[Nx, Ny], \\\n",
    "                                    range=[[xmin, xmax], [ymin, ymax]], norm = norm, cmap = cm.Blues)\n",
    "    ax1.set_xlim(xmin, xmax)\n",
    "    ax2.set_xlim(xmin, xmax)\n",
    "    ax2.set_ylim(ymin, ymax)\n",
    "    ax3.set_ylim(ymin, ymax)\n",
    "    ax2.set_xlabel(r'$\\mu_\\alpha \\cos(\\delta)$ (mas yr$^{-1}$)', fontsize=16)\n",
    "    ax2.set_ylabel(r'$\\mu_\\delta$ (mas yr$^{-1}$)', fontsize=16)\n",
    "    plt.setp(ax1.get_yticklabels()[0], visible=False)\n",
    "    plt.setp(ax1.get_xticklabels(), visible=False)\n",
    "    plt.setp(ax3.get_yticklabels(), visible=False)\n",
    "    plt.setp(ax3.get_xticklabels()[0], visible=False)\n",
    "    f.subplots_adjust(hspace=0., wspace=0.)\n",
    "\n",
    "    return x2D, y2D, h2D, x1D, hx1D, y1D, hy1D, (ax1, ax2, ax3)\n",
    "\n",
    "xmin, xmax, Nx = -20, 10, 100\n",
    "ymin, ymax, Ny = -20, 10, 100\n",
    "x2D, y2D, h2D, x1D, hx1D, y1D, hy1D, ax = plotPM(r['pmra'], r['pmdec'], r['dec'], xmin, xmax, Nx, ymin, ymax, Ny, norm=mpl.colors.LogNorm())\n",
    "print(np.max(h2D.flatten()))"
   ]
  },
  {
   "cell_type": "markdown",
   "metadata": {},
   "source": [
    "*For the proper motions, we will fit two [2D Gaussians](http://docs.astropy.org/en/stable/api/astropy.modeling.functional_models.Gaussian2D.html) to the data, using $\\texttt{astropy}$*\n",
    "\n",
    "*Perform this fit and plot it on top of your 2D histogram, as well as your 1D histograms.*"
   ]
  },
  {
   "cell_type": "code",
   "execution_count": null,
   "metadata": {},
   "outputs": [],
   "source": [
    "#fit\n",
    "p_init = models.Gaussian2D(np.max(h2D.flatten()), x1D[np.argmax(hx1D)], y1D[np.argmax(hy1D)], 1, 1)\\\n",
    "        + models.Gaussian2D(np.max(h2D.flatten()), 0, 0, 5, 5)\n",
    "fit_p = fitting.LevMarLSQFitter()\n",
    "x, y = np.meshgrid(x2D[:-1], y2D[:-1], indexing='ij')\n",
    "\n",
    "pmG2D = fit_p(p_init, x, y, h2D)\n",
    "print(pmG2D)\n",
    "print(pmG2D.parameters)\n",
    "\n",
    "#plots\n",
    "_,_,_,_,_,_,_,ax = plotPM(r['pmra'], r['pmdec'], r['dec'], xmin, xmax, Nx, ymin, ymax, Ny, norm=mpl.colors.LogNorm())\n",
    "ax1, ax2, ax3 = ax\n",
    "\n",
    "ax2.contourf(x2D[:-1], y2D[:-1], pmG2D(x, y).T, cmap=cm.Reds, bins = 100, norm=mpl.colors.LogNorm(), alpha = 0.3, linewidth=2)\n",
    "ax1.plot(x2D[:-1], np.sum(pmG2D(x, y), axis=1), color='red')\n",
    "ax3.plot(np.sum(pmG2D(x, y), axis=0), y2D[:-1], color='red')"
   ]
  },
  {
   "cell_type": "markdown",
   "metadata": {},
   "source": [
    "*Calculate formal membership probabilities, using the same formula as above.  Plot a histogram of these proper-motion membership probabilities. Then write another $\\texttt{numpy.where}$ statement to identify the indices of the proper-motion members.*\n"
   ]
  },
  {
   "cell_type": "code",
   "execution_count": null,
   "metadata": {},
   "outputs": [],
   "source": [
    "#membership probabilities\n",
    "Fc = models.Gaussian2D()\n",
    "Fc.parameters = pmG2D.parameters[0:6]\n",
    "print(Fc)\n",
    "x = r['pmra']*np.cos(r['dec']*np.pi/180.)\n",
    "y = r['pmdec']\n",
    "PPM = Fc(x,y)/pmG2D(x,y)\n",
    "\n",
    "#plot\n",
    "b, h, im = plt.hist(PPM, bins = 100, histtype='step', fill=False, range=(0,1), linewidth=2)\n",
    "plt.yscale('log')\n",
    "plt.xlabel('probability')\n",
    "\n",
    "#where statement\n",
    "membersPM = np.where(PPM > 0.5)\n"
   ]
  },
  {
   "cell_type": "markdown",
   "metadata": {},
   "source": [
    "### Now, get a final list of members and plot the CMD\n",
    "\n",
    "*Let's combine all of these different membership lists to get the intersection -- the stars that are members by radial velocity, parallax, and proper motion.  We can do this with $\\texttt{numpy.intersect1d}$ and $\\texttt{reduce}$; see [here](https://docs.scipy.org/doc/numpy-1.14.0/reference/generated/numpy.intersect1d.html).*\n",
    "\n",
    "*After you create this member list, plot the CMD, showing* \n",
    "* *All the stars in the catalog,*\n",
    "* *The stars identified as proper-motion members*\n",
    "* *The stars identified as radial-velocity members*\n",
    "* *The stars identified as members from parallax*\n",
    "* *The final list of members*\n",
    "\n",
    "*I suggest that you make more than one plot, so that you can see the different samples.*\n",
    "\n",
    "*Also, note that, for M67, the radial velocities are only available for the brightest stars.  If a star does not have a radial-velocity it can still be considered a member from the other methods, and, if so, should be included in the final member list.*\n"
   ]
  },
  {
   "cell_type": "code",
   "execution_count": null,
   "metadata": {},
   "outputs": [],
   "source": [
    "#intersection for all members\n",
    "members = reduce(np.intersect1d, (membersPM, membersRVAll, membersPaAll))\n",
    "\n",
    "#the plots\n",
    "f, ax = plt.subplots(1,2, figsize=(10,6), sharey=True)\n",
    "ax[0].scatter(r['bp_rp'], r['phot_rp_mean_mag'], s = 2,  color='C0', alpha = 0.3, label='All')\n",
    "ax[0].scatter(r['bp_rp'][membersPM], r['phot_rp_mean_mag'][membersPM], s = 5, color='C1', label='PM')\n",
    "ax[0].scatter(r['bp_rp'][membersRV], r['phot_rp_mean_mag'][membersRV], s = 5, color='C2',label='RV')\n",
    "ax[0].scatter(r['bp_rp'][membersPa], r['phot_rp_mean_mag'][membersPa], s = 5, color='C3', label='Parallax')\n",
    "ax[0].scatter(r['bp_rp'][members], r['phot_rp_mean_mag'][members], s = 5, color='C4',  label='Combined')\n",
    "ax[0].legend()\n",
    "ax[0].set_xlim(0.5,2.4)\n",
    "ax[0].set_ylim(18, 8)\n",
    "ax[0].set_xlabel('BP - RP (mag)', fontsize=16)\n",
    "ax[0].set_ylabel('RP (mag)', fontsize=16)\n",
    "\n",
    "ax[1].scatter(r['bp_rp'][members], r['phot_rp_mean_mag'][members], s = 5,  color='C4')\n",
    "ax[1].set_xlim(0.5,2.4)\n",
    "ax[1].set_ylim(18, 8)\n",
    "ax[1].set_xlabel('BP - RP (mag)', fontsize=16)\n",
    "\n",
    "plt.subplots_adjust(wspace=0)"
   ]
  },
  {
   "cell_type": "markdown",
   "metadata": {},
   "source": [
    "## Pull this together to create a Class\n",
    "\n",
    "*You can find information about Python Classes [here](https://docs.python.org/3/tutorial/classes.html).  In general, a Class allows you to bundle a lot of functionality together to clean up your code.*\n",
    "\n",
    "*Let's create a class that will take a star cluster's RA and DEC, and return all the members. I will set up the outline, and you should copy your code from above into the appropriate spots.*\n",
    "\n",
    "*This should work for M67, but we'll see if it is general enough to work with any random star cluster.  Creating a code that has more general functionality is a goal of good coding practice.*"
   ]
  },
  {
   "cell_type": "code",
   "execution_count": null,
   "metadata": {},
   "outputs": [],
   "source": [
    "class GaiaClusterMembers(object):\n",
    "    '''\n",
    "    This Class will grab data from the Gaia archive, and attempt to determine members using the \n",
    "    proper motions, radial velocities and parallaxes.  \n",
    "    \n",
    "    The user must provide the RA and Dec values, and the Class will return the full catalog and \n",
    "    the indices of the members.\n",
    "    \n",
    "    Note: in this code, each membership check builds on the previous one, using only the stars that \n",
    "    have passed the previous membership selection.  This may not be ideal, but appears to work better \n",
    "    than if I simply take all stars in each of the membership calculations.\n",
    "    '''\n",
    "    \n",
    "    def __init__(self, *args,**kwargs):\n",
    "    \n",
    "        #required inputs\n",
    "        self.RA = None\n",
    "        self.Dec = None\n",
    "\n",
    "        #parameters that the user could change\n",
    "        self.radius = 1 #in degrees\n",
    "        self.minPMerror = 5\n",
    "        self.minRVmembership = 0.5\n",
    "        self.minPMmembership = 0.5\n",
    "        self.minPamembership = 0.3\n",
    "        self.PaPolyD = 6\n",
    "        self.verbosity = 1\n",
    "        self.showPlots = False\n",
    "        self.RVmin = -100. #km/s\n",
    "        self.RVmax = 100. #km/s\n",
    "        self.RVbins = 100\n",
    "        self.dmin = 0. #parsecs\n",
    "        self.dmax = 3000. #parsecs\n",
    "        self.dbins = 200\n",
    "        self.PMxmin = -200 #mas/yr\n",
    "        self.PMxmax = 200 #mas/yr\n",
    "        self.PMxbins = 400\n",
    "        self.PMymin = -200 #mas/yr\n",
    "        self.PMymax = 200 #mas/yr\n",
    "        self.PMybins = 400  \n",
    "        self.CMDxmin = 0.5\n",
    "        self.CMDxmax = 2.5\n",
    "        self.CMDymin = 18\n",
    "        self.CMDymax = 8\n",
    "        self.RVmean = None\n",
    "        self.distance = None\n",
    "        self.PMmean = [None, None]\n",
    "        \n",
    "        #outputs\n",
    "        self.catalog = None\n",
    "        self.members = None\n",
    "        self.RVmembers = None\n",
    "        self.PMmembers = None\n",
    "        self.PAmembers = None\n",
    "        self.dist = None\n",
    "        \n",
    "    def getGaiaData(self):\n",
    "        if (self.verbosity > 0):\n",
    "            print(\"Retrieving catalog ... \")\n",
    "        cmd = f\"SELECT * FROM gaiadr3.gaia_source \\\n",
    "        WHERE CONTAINS(POINT('ICRS',gaiadr3.gaia_source.ra, gaiadr3.gaia_source.dec),\\\n",
    "        CIRCLE('ICRS', {self.RA}, {self.Dec}, {self.radius}))=1\\\n",
    "        AND abs(pmra_error)<{self.minPMerror} \\\n",
    "        AND abs(pmdec_error)<{self.minPMerror} \\\n",
    "        AND pmra IS NOT NULL AND abs(pmra)>0 \\\n",
    "        AND pmdec IS NOT NULL AND abs(pmdec)>0;\"\n",
    "        if (self.verbosity > 1):\n",
    "            print(cmd)\n",
    "        job = Gaia.launch_job_async(cmd, dump_to_file=False) #could save this to a file\n",
    "        self.catalog = job.get_results()\n",
    "        self.members = range(len(self.catalog))\n",
    "        self.dist = (self.catalog['parallax']).to(u.parsec, equivalencies=u.parallax())\n",
    "        \n",
    "    def getRVMembers(self):\n",
    "        if (self.verbosity > 0):\n",
    "            print(\"Finding radial-velocity members ... \")\n",
    "        \n",
    "        x = self.catalog['radial_velocity']\n",
    "        ind = np.where(self.dist.to(u.parsec).value < self.dmax)\n",
    "        mem = np.intersect1d(self.members, ind)                                                                      \n",
    "        xm = x[mem]\n",
    "        \n",
    "        #1D histogram (use the members here)\n",
    "        hrv, brv = np.histogram(xm, bins = self.RVbins, range=(self.RVmin, self.RVmax))\n",
    "        \n",
    "        #fit\n",
    "        RVguess = brv[np.argmax(hrv)]\n",
    "        if (self.RVmean != None):\n",
    "            RVguess = self.RVmean\n",
    "        p_init = models.Gaussian1D(np.max(hrv), RVguess, 1) \\\n",
    "                + models.Gaussian1D(5, brv[np.argmax(hrv)], 50)\n",
    "        fit_p = fitting.LevMarLSQFitter()\n",
    "        rvG1D = fit_p(p_init, brv[:-1], hrv)\n",
    "        if (self.verbosity > 1):\n",
    "            print(rvG1D)\n",
    "            print(rvG1D.parameters)\n",
    "\n",
    "        if (self.showPlots):\n",
    "            hrv, brv = np.histogram(xm, bins = self.RVbins, range=(self.RVmin, self.RVmax))\n",
    "            plt.step(brv[:-1],hrv)\n",
    "            xf = np.linspace(self.RVmin, self.RVmax, self.RVbins*10)\n",
    "            plt.plot(xf,rvG1D(xf), color='red')\n",
    "            plt.xlabel(r'RV (km s$^{-1}$)', fontsize = 16)\n",
    "            plt.show()\n",
    "            \n",
    "        #membership calculation\n",
    "        Fc = models.Gaussian1D()\n",
    "        Fc.parameters = rvG1D.parameters[0:3]\n",
    "        PRV = Fc(x)/rvG1D(x)\n",
    "\n",
    "        self.RVmembers = np.where(np.logical_and(PRV > self.minRVmembership, self.catalog['radial_velocity'].mask == False))\n",
    "        membersRVAll = np.where(PRV > self.minRVmembership)\n",
    "        self.members = np.intersect1d(self.members, membersRVAll)\n",
    "\n",
    "    def getParallaxMembers(self):\n",
    "        if (self.verbosity > 0):\n",
    "            print(\"Finding parallax members ... \")\n",
    "            \n",
    "        x = self.dist.to(u.parsec).value\n",
    "        ind = np.where(self.dist.to(u.parsec).value < self.dmax)\n",
    "        mem = np.intersect1d(self.members, ind)                                                                      \n",
    "        xm = x[mem]\n",
    "        \n",
    "        #1D histogram (use the members here)\n",
    "        hpa, bpa = np.histogram(xm, bins = self.dbins, range=(self.dmin, self.dmax))\n",
    "\n",
    "        #fit\n",
    "        dguess = bpa[np.argmax(hpa)]\n",
    "        if (self.distance != None):\n",
    "            dguess = self.distance\n",
    "        p_init = models.Gaussian1D(np.max(hpa), dguess, 10)\\\n",
    "                + models.Polynomial1D(degree=self.PaPolyD)\n",
    "        fit_p = fitting.LevMarLSQFitter()\n",
    "        pa1D = fit_p(p_init, bpa[:-1], hpa)\n",
    "        if (self.verbosity > 1):\n",
    "            print(pa1D)\n",
    "            print(pa1D.parameters)\n",
    "\n",
    "        if (self.showPlots):\n",
    "            hpa, bpa = np.histogram(xm, bins = self.dbins, range=(self.dmin, self.dmax))\n",
    "            plt.step(bpa[:-1],hpa)\n",
    "            xf = np.linspace(self.dmin, self.dmax, self.dbins*10)\n",
    "            plt.plot(xf,pa1D(xf), color='red')\n",
    "            plt.xlabel('distance (pc)', fontsize = 16)\n",
    "            plt.show()\n",
    "            \n",
    "        #membership calculation\n",
    "        Fc = models.Gaussian1D()\n",
    "        Fc.parameters = pa1D.parameters[0:3]\n",
    "        Ppa = Fc(x)/pa1D(x)\n",
    "\n",
    "        self.PAmembers = np.where(np.logical_and(Ppa > self.minPamembership, self.catalog['parallax'].mask == False))\n",
    "        membersPaAll = np.where(Ppa > self.minPamembership)\n",
    "        self.members = np.intersect1d(self.members, membersPaAll)\n",
    "        \n",
    "    def getPMMembers(self):\n",
    "        if (self.verbosity > 0):\n",
    "            print(\"finding proper-motion members ...\")\n",
    "        \n",
    "        x = self.catalog['pmra']*np.cos(self.catalog['dec']*np.pi/180.)\n",
    "        y = self.catalog['pmdec']\n",
    "        ind = np.where(self.dist.to(u.parsec).value < self.dmax)\n",
    "        mem = np.intersect1d(self.members, ind)                                                                      \n",
    "        xm = x[mem]\n",
    "        ym = y[mem]\n",
    "        \n",
    "        #1D histograms (use the members here)          \n",
    "        pmRAbins = np.linspace(self.PMxmin, self.PMxmax, self.PMxbins)\n",
    "        pmDecbins = np.linspace(self.PMymin, self.PMymax, self.PMybins)\n",
    "        hx1D, x1D = np.histogram(xm, bins=pmRAbins)\n",
    "        hy1D, y1D = np.histogram(ym, bins=pmDecbins)\n",
    "\n",
    "        #2D histogram\n",
    "        h2D, x2D, y2D = np.histogram2d(xm, ym, bins=[self.PMxbins, self.PMybins], \\\n",
    "                                       range=[[self.PMxmin, self.PMxmax], [self.PMymin, self.PMymax]])\n",
    "        \n",
    "        #fit\n",
    "        PMxguess = x1D[np.argmax(hx1D)]\n",
    "        PMyguess = y1D[np.argmax(hy1D)]\n",
    "        if (self.PMmean[0] != None):\n",
    "            PMxguess = self.PMmean[0]\n",
    "        if (self.PMmean[1] != None):\n",
    "            PMyguess = self.PMmean[1]\n",
    "        p_init = models.Gaussian2D(np.max(h2D.flatten()), PMxguess, PMyguess, 1, 1)\\\n",
    "                + models.Gaussian2D(np.max(h2D.flatten()), 0, 0, 5, 5)\n",
    "        fit_p = fitting.LevMarLSQFitter()\n",
    "        xf, yf = np.meshgrid(x2D[:-1], y2D[:-1], indexing='ij')\n",
    "        pmG2D = fit_p(p_init, xf, yf, h2D)\n",
    "        if (self.verbosity > 1):\n",
    "            print(pmG2D)\n",
    "            print(pmG2D.parameters)\n",
    "            \n",
    "        if (self.showPlots):\n",
    "            f = plt.figure(figsize=(8, 8)) \n",
    "            gs = gridspec.GridSpec(2, 2, height_ratios = [1, 3], width_ratios = [3, 1]) \n",
    "            ax1 = plt.subplot(gs[0])\n",
    "            ax2 = plt.subplot(gs[2])\n",
    "            ax3 = plt.subplot(gs[3])\n",
    "\n",
    "            #histograms\n",
    "            hx1D, x1D = np.histogram(xm, bins=pmRAbins)\n",
    "            hy1D, y1D = np.histogram(ym, bins=pmDecbins)\n",
    "            ax1.step(x1D[:-1], hx1D)\n",
    "            ax1.plot(x2D[:-1], np.sum(pmG2D(xf, yf), axis=1), color='red')\n",
    "            ax3.step(hy1D, y1D[:-1])\n",
    "            ax3.plot(np.sum(pmG2D(xf, yf), axis=0), y2D[:-1], color='red')\n",
    "\n",
    "            #heatmap\n",
    "            h2D, x2D, y2D, im = ax2.hist2d(xm, ym, bins=[self.PMxbins, self.PMybins],\\\n",
    "                                           range=[[self.PMxmin, self.PMxmax], [self.PMymin, self.PMymax]], \\\n",
    "                                           norm = mpl.colors.LogNorm(), cmap = cm.Blues)\n",
    "#             ax2.contourf(x2D[:-1], y2D[:-1], pmG2D(xf, yf).T, cmap=cm.Reds, bins = 20, \\\n",
    "#                          norm=mpl.colors.LogNorm(), alpha = 0.3)\n",
    "\n",
    "            ax1.set_xlim(self.PMxmin, self.PMxmax)\n",
    "            ax2.set_xlim(self.PMxmin, self.PMxmax)\n",
    "            ax2.set_ylim(self.PMymin, self.PMymax)\n",
    "            ax3.set_ylim(self.PMymin, self.PMymax)\n",
    "            ax1.set_yscale(\"log\")\n",
    "            ax1.set_ylim(1, 2*max(hx1D))\n",
    "            ax3.set_xscale(\"log\")\n",
    "            ax3.set_xlim(1, 2*max(hy1D))\n",
    "            ax2.set_xlabel(r'$\\mu_\\alpha \\cos(\\delta)$ (mas yr$^{-1}$)', fontsize=16)\n",
    "            ax2.set_ylabel(r'$\\mu_\\delta$ (mas yr$^{-1}$)', fontsize=16)\n",
    "            plt.setp(ax1.get_yticklabels()[0], visible=False)\n",
    "            plt.setp(ax1.get_xticklabels(), visible=False)\n",
    "            plt.setp(ax3.get_yticklabels(), visible=False)\n",
    "            plt.setp(ax3.get_xticklabels()[0], visible=False)\n",
    "            f.subplots_adjust(hspace=0., wspace=0.)\n",
    "            plt.show()\n",
    "\n",
    "        #membership calculation\n",
    "        Fc = models.Gaussian2D()\n",
    "        Fc.parameters = pmG2D.parameters[0:6]\n",
    "        PPM = Fc(x,y)/pmG2D(x,y)\n",
    "\n",
    "        self.PMmembers = np.where(np.logical_and(PPM > self.minPMmembership, self.catalog['pmra'].mask == False))\n",
    "        membersPMAll = np.where(PPM > self.minPMmembership)\n",
    "        self.members = np.intersect1d(self.members, membersPMAll)\n",
    "        \n",
    "    def plotCMD(self):\n",
    "        f = plt.figure(figsize=(5,6))\n",
    "        plt.scatter(self.catalog['bp_rp'], self.catalog['phot_rp_mean_mag'], s = 1,  color='C0', alpha = 0.3, label='All')\n",
    "        plt.scatter(self.catalog['bp_rp'][self.members], self.catalog['phot_rp_mean_mag'][self.members], s = 5, color='red',  label='Members')\n",
    "        plt.legend()\n",
    "        plt.xlim(self.CMDxmin, self.CMDxmax)\n",
    "        plt.ylim(self.CMDymin, self.CMDymax)\n",
    "        plt.xlabel('BP - RP (mag)', fontsize=16)\n",
    "        plt.ylabel('RP (mag)', fontsize=16)\n",
    "        plt.show()\n",
    "        \n",
    "    def runAll(self):\n",
    "        self.getGaiaData()\n",
    "        self.getRVMembers()\n",
    "        self.getParallaxMembers()\n",
    "        self.getPMMembers()\n",
    "        if (self.showPlots):\n",
    "            self.plotCMD()\n",
    "        if (self.verbosity > 0):\n",
    "            print(\"Done.\")"
   ]
  },
  {
   "cell_type": "markdown",
   "metadata": {},
   "source": [
    "*Test this with M67*"
   ]
  },
  {
   "cell_type": "code",
   "execution_count": null,
   "metadata": {},
   "outputs": [],
   "source": [
    "#M67\n",
    "GM = GaiaClusterMembers()\n",
    "GM.RA = 132.825\n",
    "GM.Dec = 11.8167\n",
    "GM.showPlots = True\n",
    "GM.runAll()\n"
   ]
  },
  {
   "cell_type": "markdown",
   "metadata": {},
   "source": [
    "*Try using this Class for the open cluster [Pleiades](https://en.wikipedia.org/wiki/Pleiades).*"
   ]
  },
  {
   "cell_type": "code",
   "execution_count": null,
   "metadata": {},
   "outputs": [],
   "source": [
    "#The Pleiades\n",
    "GM = GaiaClusterMembers()\n",
    "GM.RA = 56.85\n",
    "GM.Dec = 24.1167\n",
    "GM.showPlots = True\n",
    "GM.CMDxmin, GM.CMDxmax, GM.CMDymin, GM.CMDymax = -0.5, 3.5, 18, 0\n",
    "GM.runAll()"
   ]
  },
  {
   "cell_type": "markdown",
   "metadata": {},
   "source": [
    "*Try using this Class for the open cluster <a href=\"https://en.wikipedia.org/wiki/Hyades_(star_cluster)\">Hyades</a>.  This cluster is close, but much more spread out on the sky.  If your code doesn't work, see if you can make it work.*"
   ]
  },
  {
   "cell_type": "code",
   "execution_count": null,
   "metadata": {},
   "outputs": [],
   "source": [
    "#the Hyades\n",
    "GM = GaiaClusterMembers()\n",
    "GM.RA = 66.75\n",
    "GM.Dec = 15.867\n",
    "GM.radius = 2\n",
    "GM.RVmean = 39.1 #km/s\n",
    "GM.distance = 49 #parsecs\n",
    "GM.dmax = 100. #parsecs\n",
    "GM.PMxmin, GM.PMxmax, GM.PMymin, GM.PMymax, GM.PMxbins, GM.PMybins= 75, 125, -50, 0, 50, 50\n",
    "GM.CMDxmin, GM.CMDxmax, GM.CMDymin, GM.CMDymax = -0.5, 3.5, 18, 0\n",
    "GM.showPlots = True\n",
    "GM.runAll()\n"
   ]
  },
  {
   "cell_type": "markdown",
   "metadata": {},
   "source": [
    "*Try using this Class for the open cluster [NGC 188](https://en.wikipedia.org/wiki/NGC_188).  This cluster is much farther away.  If your code doesn't work, see if you can make it work.*"
   ]
  },
  {
   "cell_type": "code",
   "execution_count": null,
   "metadata": {},
   "outputs": [],
   "source": [
    "#NGC 188\n",
    "GM = GaiaClusterMembers()\n",
    "GM.RA = 12.108\n",
    "GM.Dec = 85.255\n",
    "GM.RVmean = -42.4 #km/s\n",
    "GM.distance = 1700 #parsecs\n",
    "GM.showPlots = True\n",
    "GM.runAll()\n",
    "\n"
   ]
  }
 ],
 "metadata": {
  "anaconda-cloud": {},
  "kernelspec": {
   "display_name": "Python 3 (ipykernel)",
   "language": "python",
   "name": "python3"
  },
  "language_info": {
   "codemirror_mode": {
    "name": "ipython",
    "version": 3
   },
   "file_extension": ".py",
   "mimetype": "text/x-python",
   "name": "python",
   "nbconvert_exporter": "python",
   "pygments_lexer": "ipython3",
   "version": "3.10.4"
  }
 },
 "nbformat": 4,
 "nbformat_minor": 4
}
